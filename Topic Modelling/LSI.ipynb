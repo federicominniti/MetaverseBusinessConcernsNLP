{
 "cells": [
  {
   "cell_type": "code",
   "execution_count": 3,
   "metadata": {
    "collapsed": true,
    "pycharm": {
     "name": "#%%\n"
    }
   },
   "outputs": [],
   "source": [
    "# Terminal / Anaconda Navigator: conda install -c conda-forge gensim\n",
    "import pickle\n",
    "from gensim import matutils, models, corpora\n",
    "import scipy.sparse\n",
    "import pandas as pd\n",
    "from gensim.models import LdaMulticore, CoherenceModel"
   ]
  },
  {
   "cell_type": "code",
   "execution_count": 4,
   "outputs": [
    {
     "data": {
      "text/plain": "                    Datetime             Tweet Id  \\\n0  2022-06-17 23:59:41+00:00  1537948125628747777   \n1  2022-06-17 23:59:27+00:00  1537948068431007744   \n2  2022-06-17 23:59:02+00:00  1537947961983832066   \n\n                                                Text         Username  \n0  @BitMartExchange To the Moon 💯💵💎\\n@galuka156 @...      cozyhomes88  \n1  THIS!!!....@metazooxyz with @MrSweMusic1...RIG...           TTJP_1  \n2  In #Mars4 #game demo you can free your imagina...  Dubai_community  ",
      "text/html": "<div>\n<style scoped>\n    .dataframe tbody tr th:only-of-type {\n        vertical-align: middle;\n    }\n\n    .dataframe tbody tr th {\n        vertical-align: top;\n    }\n\n    .dataframe thead th {\n        text-align: right;\n    }\n</style>\n<table border=\"1\" class=\"dataframe\">\n  <thead>\n    <tr style=\"text-align: right;\">\n      <th></th>\n      <th>Datetime</th>\n      <th>Tweet Id</th>\n      <th>Text</th>\n      <th>Username</th>\n    </tr>\n  </thead>\n  <tbody>\n    <tr>\n      <th>0</th>\n      <td>2022-06-17 23:59:41+00:00</td>\n      <td>1537948125628747777</td>\n      <td>@BitMartExchange To the Moon 💯💵💎\\n@galuka156 @...</td>\n      <td>cozyhomes88</td>\n    </tr>\n    <tr>\n      <th>1</th>\n      <td>2022-06-17 23:59:27+00:00</td>\n      <td>1537948068431007744</td>\n      <td>THIS!!!....@metazooxyz with @MrSweMusic1...RIG...</td>\n      <td>TTJP_1</td>\n    </tr>\n    <tr>\n      <th>2</th>\n      <td>2022-06-17 23:59:02+00:00</td>\n      <td>1537947961983832066</td>\n      <td>In #Mars4 #game demo you can free your imagina...</td>\n      <td>Dubai_community</td>\n    </tr>\n  </tbody>\n</table>\n</div>"
     },
     "execution_count": 4,
     "metadata": {},
     "output_type": "execute_result"
    }
   ],
   "source": [
    "f_data = pd.read_csv('../data/tweets_final.csv')\n",
    "f_data = f_data.iloc[0:100,:]\n",
    "f_data.head(3)"
   ],
   "metadata": {
    "collapsed": false,
    "pycharm": {
     "name": "#%%\n"
    }
   }
  },
  {
   "cell_type": "code",
   "execution_count": 5,
   "outputs": [
    {
     "name": "stderr",
     "output_type": "stream",
     "text": [
      "/usr/local/lib/python3.9/site-packages/sklearn/utils/deprecation.py:87: FutureWarning: Function get_feature_names is deprecated; get_feature_names is deprecated in 1.0 and will be removed in 1.2. Please use get_feature_names_out instead.\n",
      "  warnings.warn(msg, category=FutureWarning)\n"
     ]
    }
   ],
   "source": [
    "# We are going to create a document-term matrix using CountVectorizer, and exclude common English stop words\n",
    "from sklearn.feature_extraction.text import CountVectorizer\n",
    "\n",
    "# Vedi pickle\n",
    "cv = CountVectorizer(stop_words='english')\n",
    "data_cv = cv.fit_transform(f_data.Text)\n",
    "data_dtm = pd.DataFrame(data_cv.toarray(), columns=cv.get_feature_names())\n",
    "data_dtm.index = f_data.index\n",
    "data_dtm = data_dtm.iloc[0:10,:]"
   ],
   "metadata": {
    "collapsed": false,
    "pycharm": {
     "name": "#%%\n"
    }
   }
  },
  {
   "cell_type": "code",
   "execution_count": 6,
   "outputs": [
    {
     "data": {
      "text/plain": "            0  1  2  3  4  5  6  7  8  9\n00667       0  0  0  0  0  0  0  0  0  0\n01          0  0  0  0  0  0  0  0  0  0\n037         0  0  0  0  0  0  0  0  0  0\n039bkt0av4  0  0  0  0  0  0  0  0  0  0\n043         0  0  0  0  0  0  0  0  0  0",
      "text/html": "<div>\n<style scoped>\n    .dataframe tbody tr th:only-of-type {\n        vertical-align: middle;\n    }\n\n    .dataframe tbody tr th {\n        vertical-align: top;\n    }\n\n    .dataframe thead th {\n        text-align: right;\n    }\n</style>\n<table border=\"1\" class=\"dataframe\">\n  <thead>\n    <tr style=\"text-align: right;\">\n      <th></th>\n      <th>0</th>\n      <th>1</th>\n      <th>2</th>\n      <th>3</th>\n      <th>4</th>\n      <th>5</th>\n      <th>6</th>\n      <th>7</th>\n      <th>8</th>\n      <th>9</th>\n    </tr>\n  </thead>\n  <tbody>\n    <tr>\n      <th>00667</th>\n      <td>0</td>\n      <td>0</td>\n      <td>0</td>\n      <td>0</td>\n      <td>0</td>\n      <td>0</td>\n      <td>0</td>\n      <td>0</td>\n      <td>0</td>\n      <td>0</td>\n    </tr>\n    <tr>\n      <th>01</th>\n      <td>0</td>\n      <td>0</td>\n      <td>0</td>\n      <td>0</td>\n      <td>0</td>\n      <td>0</td>\n      <td>0</td>\n      <td>0</td>\n      <td>0</td>\n      <td>0</td>\n    </tr>\n    <tr>\n      <th>037</th>\n      <td>0</td>\n      <td>0</td>\n      <td>0</td>\n      <td>0</td>\n      <td>0</td>\n      <td>0</td>\n      <td>0</td>\n      <td>0</td>\n      <td>0</td>\n      <td>0</td>\n    </tr>\n    <tr>\n      <th>039bkt0av4</th>\n      <td>0</td>\n      <td>0</td>\n      <td>0</td>\n      <td>0</td>\n      <td>0</td>\n      <td>0</td>\n      <td>0</td>\n      <td>0</td>\n      <td>0</td>\n      <td>0</td>\n    </tr>\n    <tr>\n      <th>043</th>\n      <td>0</td>\n      <td>0</td>\n      <td>0</td>\n      <td>0</td>\n      <td>0</td>\n      <td>0</td>\n      <td>0</td>\n      <td>0</td>\n      <td>0</td>\n      <td>0</td>\n    </tr>\n  </tbody>\n</table>\n</div>"
     },
     "execution_count": 6,
     "metadata": {},
     "output_type": "execute_result"
    }
   ],
   "source": [
    "# One of the required inputs is a term-document matrix\n",
    "tdm = data_dtm.transpose()\n",
    "tdm.head()"
   ],
   "metadata": {
    "collapsed": false,
    "pycharm": {
     "name": "#%%\n"
    }
   }
  },
  {
   "cell_type": "code",
   "execution_count": 7,
   "outputs": [],
   "source": [
    "# We're going to put the term-document matrix into a new gensim format, from df --> sparse matrix --> gensim corpus\n",
    "sparse_counts = scipy.sparse.csr_matrix(data_dtm)\n",
    "corpus = matutils.Sparse2Corpus(sparse_counts)"
   ],
   "metadata": {
    "collapsed": false,
    "pycharm": {
     "name": "#%%\n"
    }
   }
  },
  {
   "cell_type": "code",
   "execution_count": 8,
   "outputs": [
    {
     "name": "stderr",
     "output_type": "stream",
     "text": [
      "/usr/local/lib/python3.9/site-packages/sklearn/base.py:329: UserWarning: Trying to unpickle estimator CountVectorizer from version 0.18.2 when using version 1.0.2. This might lead to breaking code or invalid results. Use at your own risk. For more info please refer to:\n",
      "https://scikit-learn.org/stable/modules/model_persistence.html#security-maintainability-limitations\n",
      "  warnings.warn(\n"
     ]
    }
   ],
   "source": [
    "# Gensim also requires dictionary of the all terms and their respective location in the term-document matrix\n",
    "cv = pickle.load(open(\"../data/cv_stop.pkl\", \"rb\"))\n",
    "id2word = dict((v, k) for k, v in cv.vocabulary_.items())"
   ],
   "metadata": {
    "collapsed": false,
    "pycharm": {
     "name": "#%%\n"
    }
   }
  },
  {
   "cell_type": "code",
   "execution_count": 11,
   "outputs": [
    {
     "data": {
      "text/plain": "[(0,\n  '-0.544*\"aah\" + -0.453*\"aaaahhhhh\" + -0.450*\"aaaaauuugghhhhhh\" + -0.374*\"abcs\" + -0.242*\"aaah\" + -0.195*\"aaaaahhhhhhh\" + -0.184*\"abject\" + -0.104*\"ability\" + -0.100*\"abc\" + -0.072*\"aaaaah\"'),\n (1,\n  '-0.656*\"aah\" + 0.559*\"ability\" + 0.338*\"abcs\" + 0.217*\"aaaahhhhh\" + 0.176*\"aaaaahhhhhhh\" + -0.146*\"aaah\" + 0.141*\"abc\" + 0.112*\"aaaaauuugghhhhhh\" + 0.106*\"aaaaah\" + 0.019*\"abject\"'),\n (2,\n  '-0.778*\"abc\" + -0.347*\"ability\" + 0.316*\"aaaaauuugghhhhhh\" + -0.262*\"aah\" + 0.219*\"abcs\" + 0.182*\"aaaahhhhh\" + -0.126*\"aaaaahhhhhhh\" + -0.074*\"aaah\" + -0.050*\"aaaaah\" + -0.024*\"abject\"')]"
     },
     "execution_count": 11,
     "metadata": {},
     "output_type": "execute_result"
    }
   ],
   "source": [
    "# Now that we have the corpus (term-document matrix) and id2word (dictionary of location: term),\n",
    "# we need to specify two other parameters as well - the number of topics and the number of passes # Now that we have the corpus (term-document matrix) and id2word (dictionary of location: term),\n",
    "# we need to specify two other parameters as well - the number of topics and the number of passes\n",
    "lsi = models.LsiModel(corpus, 3, id2word = id2word)\n",
    "lsi.print_topics()"
   ],
   "metadata": {
    "collapsed": false,
    "pycharm": {
     "name": "#%%\n"
    }
   }
  },
  {
   "cell_type": "code",
   "execution_count": 12,
   "outputs": [],
   "source": [
    "# Let's create a function to pull out nouns from a string of text\n",
    "from nltk import word_tokenize, pos_tag\n",
    "\n",
    "def nouns(text):\n",
    "    '''Given a string of text, tokenize the text and pull out only the nouns.'''\n",
    "    is_noun = lambda pos: pos[:2] == 'NN'\n",
    "    tokenized = word_tokenize(text)\n",
    "    all_nouns = [word for (word, pos) in pos_tag(tokenized) if is_noun(pos)]\n",
    "    return ' '.join(all_nouns)"
   ],
   "metadata": {
    "collapsed": false,
    "pycharm": {
     "name": "#%%\n"
    }
   }
  },
  {
   "cell_type": "code",
   "execution_count": 13,
   "outputs": [
    {
     "data": {
      "text/plain": "                                                 Text\n0   BitMartExchange Moon 💯💵💎 @ galuka156 @ hoangye...\n1   THIS metazooxyz @ MrSweMusic1 NOW DCLMETATIGER...\n2   Mars4 game demo imagination buildings rules PL...\n3   PROJECT project @ ProjectSeedGame https Projec...\n4   @ verasaw project level NFTGaming List https /...\n..                                                ...\n95  NFT👍🥰 show NFT NodeJS DEFI BLOCKHAIN cryptocur...\n96  Blockchain Keys Unlock Murky Metaverse Alison ...\n97  Más subas tasa Recesión Mayor inflación / lo q...\n98       METAME EU5 facescans https //t.co/QCznV0OFwN\n99  LEOsLounge_ Drink fam Crofam LHRC Metaverse ht...\n\n[100 rows x 1 columns]",
      "text/html": "<div>\n<style scoped>\n    .dataframe tbody tr th:only-of-type {\n        vertical-align: middle;\n    }\n\n    .dataframe tbody tr th {\n        vertical-align: top;\n    }\n\n    .dataframe thead th {\n        text-align: right;\n    }\n</style>\n<table border=\"1\" class=\"dataframe\">\n  <thead>\n    <tr style=\"text-align: right;\">\n      <th></th>\n      <th>Text</th>\n    </tr>\n  </thead>\n  <tbody>\n    <tr>\n      <th>0</th>\n      <td>BitMartExchange Moon 💯💵💎 @ galuka156 @ hoangye...</td>\n    </tr>\n    <tr>\n      <th>1</th>\n      <td>THIS metazooxyz @ MrSweMusic1 NOW DCLMETATIGER...</td>\n    </tr>\n    <tr>\n      <th>2</th>\n      <td>Mars4 game demo imagination buildings rules PL...</td>\n    </tr>\n    <tr>\n      <th>3</th>\n      <td>PROJECT project @ ProjectSeedGame https Projec...</td>\n    </tr>\n    <tr>\n      <th>4</th>\n      <td>@ verasaw project level NFTGaming List https /...</td>\n    </tr>\n    <tr>\n      <th>...</th>\n      <td>...</td>\n    </tr>\n    <tr>\n      <th>95</th>\n      <td>NFT👍🥰 show NFT NodeJS DEFI BLOCKHAIN cryptocur...</td>\n    </tr>\n    <tr>\n      <th>96</th>\n      <td>Blockchain Keys Unlock Murky Metaverse Alison ...</td>\n    </tr>\n    <tr>\n      <th>97</th>\n      <td>Más subas tasa Recesión Mayor inflación / lo q...</td>\n    </tr>\n    <tr>\n      <th>98</th>\n      <td>METAME EU5 facescans https //t.co/QCznV0OFwN</td>\n    </tr>\n    <tr>\n      <th>99</th>\n      <td>LEOsLounge_ Drink fam Crofam LHRC Metaverse ht...</td>\n    </tr>\n  </tbody>\n</table>\n<p>100 rows × 1 columns</p>\n</div>"
     },
     "execution_count": 13,
     "metadata": {},
     "output_type": "execute_result"
    }
   ],
   "source": [
    "# Apply the nouns function to the transcripts to filter only on nouns\n",
    "data_nouns = pd.DataFrame(f_data.Text.apply(nouns))\n",
    "data_nouns"
   ],
   "metadata": {
    "collapsed": false,
    "pycharm": {
     "name": "#%%\n"
    }
   }
  },
  {
   "cell_type": "code",
   "execution_count": 14,
   "outputs": [
    {
     "name": "stderr",
     "output_type": "stream",
     "text": [
      "/usr/local/lib/python3.9/site-packages/sklearn/utils/deprecation.py:87: FutureWarning: Function get_feature_names is deprecated; get_feature_names is deprecated in 1.0 and will be removed in 1.2. Please use get_feature_names_out instead.\n",
      "  warnings.warn(msg, category=FutureWarning)\n"
     ]
    },
    {
     "data": {
      "text/plain": "    01  043  0jggwas0wy  2421  2kbhcq8xhw  2qejf2scii  2wqubowap3  4pvzxjwgaw  \\\n0    0    0           0     0           0           0           0           0   \n1    0    0           0     0           0           0           0           0   \n2    0    0           0     0           0           0           0           0   \n3    0    0           0     0           0           0           0           0   \n4    0    0           0     0           0           0           0           0   \n..  ..  ...         ...   ...         ...         ...         ...         ...   \n95   0    0           0     0           0           0           0           0   \n96   0    0           0     0           0           0           0           0   \n97   0    0           0     0           0           0           0           0   \n98   0    0           0     0           0           0           0           0   \n99   0    0           0     0           0           0           0           0   \n\n    670億円のweb3ゲームファンドをローンチ  6yzvmgmjbk  ...  zl7npcn7qt  zwfzskn4ay  \\\n0                        0           0  ...           0           0   \n1                        0           0  ...           0           0   \n2                        0           0  ...           0           0   \n3                        0           0  ...           0           0   \n4                        0           1  ...           0           0   \n..                     ...         ...  ...         ...         ...   \n95                       0           0  ...           0           0   \n96                       0           0  ...           0           0   \n97                       0           0  ...           0           0   \n98                       0           0  ...           0           0   \n99                       0           0  ...           0           0   \n\n    zxmgysbojb  édition  ótimo  こうゆうmr  メタバース  的な映像技術が進化していくと思います  私は今後  複合現実  \n0            0        0      0       0      0                   0     0     0  \n1            0        0      0       0      0                   0     0     0  \n2            0        0      0       0      0                   0     0     0  \n3            0        0      0       0      0                   0     0     0  \n4            0        0      0       0      0                   0     0     0  \n..         ...      ...    ...     ...    ...                 ...   ...   ...  \n95           0        0      0       0      0                   0     0     0  \n96           0        0      0       0      0                   0     0     0  \n97           0        0      0       0      0                   0     0     0  \n98           0        0      0       0      0                   0     0     0  \n99           0        0      0       0      0                   0     0     0  \n\n[100 rows x 672 columns]",
      "text/html": "<div>\n<style scoped>\n    .dataframe tbody tr th:only-of-type {\n        vertical-align: middle;\n    }\n\n    .dataframe tbody tr th {\n        vertical-align: top;\n    }\n\n    .dataframe thead th {\n        text-align: right;\n    }\n</style>\n<table border=\"1\" class=\"dataframe\">\n  <thead>\n    <tr style=\"text-align: right;\">\n      <th></th>\n      <th>01</th>\n      <th>043</th>\n      <th>0jggwas0wy</th>\n      <th>2421</th>\n      <th>2kbhcq8xhw</th>\n      <th>2qejf2scii</th>\n      <th>2wqubowap3</th>\n      <th>4pvzxjwgaw</th>\n      <th>670億円のweb3ゲームファンドをローンチ</th>\n      <th>6yzvmgmjbk</th>\n      <th>...</th>\n      <th>zl7npcn7qt</th>\n      <th>zwfzskn4ay</th>\n      <th>zxmgysbojb</th>\n      <th>édition</th>\n      <th>ótimo</th>\n      <th>こうゆうmr</th>\n      <th>メタバース</th>\n      <th>的な映像技術が進化していくと思います</th>\n      <th>私は今後</th>\n      <th>複合現実</th>\n    </tr>\n  </thead>\n  <tbody>\n    <tr>\n      <th>0</th>\n      <td>0</td>\n      <td>0</td>\n      <td>0</td>\n      <td>0</td>\n      <td>0</td>\n      <td>0</td>\n      <td>0</td>\n      <td>0</td>\n      <td>0</td>\n      <td>0</td>\n      <td>...</td>\n      <td>0</td>\n      <td>0</td>\n      <td>0</td>\n      <td>0</td>\n      <td>0</td>\n      <td>0</td>\n      <td>0</td>\n      <td>0</td>\n      <td>0</td>\n      <td>0</td>\n    </tr>\n    <tr>\n      <th>1</th>\n      <td>0</td>\n      <td>0</td>\n      <td>0</td>\n      <td>0</td>\n      <td>0</td>\n      <td>0</td>\n      <td>0</td>\n      <td>0</td>\n      <td>0</td>\n      <td>0</td>\n      <td>...</td>\n      <td>0</td>\n      <td>0</td>\n      <td>0</td>\n      <td>0</td>\n      <td>0</td>\n      <td>0</td>\n      <td>0</td>\n      <td>0</td>\n      <td>0</td>\n      <td>0</td>\n    </tr>\n    <tr>\n      <th>2</th>\n      <td>0</td>\n      <td>0</td>\n      <td>0</td>\n      <td>0</td>\n      <td>0</td>\n      <td>0</td>\n      <td>0</td>\n      <td>0</td>\n      <td>0</td>\n      <td>0</td>\n      <td>...</td>\n      <td>0</td>\n      <td>0</td>\n      <td>0</td>\n      <td>0</td>\n      <td>0</td>\n      <td>0</td>\n      <td>0</td>\n      <td>0</td>\n      <td>0</td>\n      <td>0</td>\n    </tr>\n    <tr>\n      <th>3</th>\n      <td>0</td>\n      <td>0</td>\n      <td>0</td>\n      <td>0</td>\n      <td>0</td>\n      <td>0</td>\n      <td>0</td>\n      <td>0</td>\n      <td>0</td>\n      <td>0</td>\n      <td>...</td>\n      <td>0</td>\n      <td>0</td>\n      <td>0</td>\n      <td>0</td>\n      <td>0</td>\n      <td>0</td>\n      <td>0</td>\n      <td>0</td>\n      <td>0</td>\n      <td>0</td>\n    </tr>\n    <tr>\n      <th>4</th>\n      <td>0</td>\n      <td>0</td>\n      <td>0</td>\n      <td>0</td>\n      <td>0</td>\n      <td>0</td>\n      <td>0</td>\n      <td>0</td>\n      <td>0</td>\n      <td>1</td>\n      <td>...</td>\n      <td>0</td>\n      <td>0</td>\n      <td>0</td>\n      <td>0</td>\n      <td>0</td>\n      <td>0</td>\n      <td>0</td>\n      <td>0</td>\n      <td>0</td>\n      <td>0</td>\n    </tr>\n    <tr>\n      <th>...</th>\n      <td>...</td>\n      <td>...</td>\n      <td>...</td>\n      <td>...</td>\n      <td>...</td>\n      <td>...</td>\n      <td>...</td>\n      <td>...</td>\n      <td>...</td>\n      <td>...</td>\n      <td>...</td>\n      <td>...</td>\n      <td>...</td>\n      <td>...</td>\n      <td>...</td>\n      <td>...</td>\n      <td>...</td>\n      <td>...</td>\n      <td>...</td>\n      <td>...</td>\n      <td>...</td>\n    </tr>\n    <tr>\n      <th>95</th>\n      <td>0</td>\n      <td>0</td>\n      <td>0</td>\n      <td>0</td>\n      <td>0</td>\n      <td>0</td>\n      <td>0</td>\n      <td>0</td>\n      <td>0</td>\n      <td>0</td>\n      <td>...</td>\n      <td>0</td>\n      <td>0</td>\n      <td>0</td>\n      <td>0</td>\n      <td>0</td>\n      <td>0</td>\n      <td>0</td>\n      <td>0</td>\n      <td>0</td>\n      <td>0</td>\n    </tr>\n    <tr>\n      <th>96</th>\n      <td>0</td>\n      <td>0</td>\n      <td>0</td>\n      <td>0</td>\n      <td>0</td>\n      <td>0</td>\n      <td>0</td>\n      <td>0</td>\n      <td>0</td>\n      <td>0</td>\n      <td>...</td>\n      <td>0</td>\n      <td>0</td>\n      <td>0</td>\n      <td>0</td>\n      <td>0</td>\n      <td>0</td>\n      <td>0</td>\n      <td>0</td>\n      <td>0</td>\n      <td>0</td>\n    </tr>\n    <tr>\n      <th>97</th>\n      <td>0</td>\n      <td>0</td>\n      <td>0</td>\n      <td>0</td>\n      <td>0</td>\n      <td>0</td>\n      <td>0</td>\n      <td>0</td>\n      <td>0</td>\n      <td>0</td>\n      <td>...</td>\n      <td>0</td>\n      <td>0</td>\n      <td>0</td>\n      <td>0</td>\n      <td>0</td>\n      <td>0</td>\n      <td>0</td>\n      <td>0</td>\n      <td>0</td>\n      <td>0</td>\n    </tr>\n    <tr>\n      <th>98</th>\n      <td>0</td>\n      <td>0</td>\n      <td>0</td>\n      <td>0</td>\n      <td>0</td>\n      <td>0</td>\n      <td>0</td>\n      <td>0</td>\n      <td>0</td>\n      <td>0</td>\n      <td>...</td>\n      <td>0</td>\n      <td>0</td>\n      <td>0</td>\n      <td>0</td>\n      <td>0</td>\n      <td>0</td>\n      <td>0</td>\n      <td>0</td>\n      <td>0</td>\n      <td>0</td>\n    </tr>\n    <tr>\n      <th>99</th>\n      <td>0</td>\n      <td>0</td>\n      <td>0</td>\n      <td>0</td>\n      <td>0</td>\n      <td>0</td>\n      <td>0</td>\n      <td>0</td>\n      <td>0</td>\n      <td>0</td>\n      <td>...</td>\n      <td>0</td>\n      <td>0</td>\n      <td>0</td>\n      <td>0</td>\n      <td>0</td>\n      <td>0</td>\n      <td>0</td>\n      <td>0</td>\n      <td>0</td>\n      <td>0</td>\n    </tr>\n  </tbody>\n</table>\n<p>100 rows × 672 columns</p>\n</div>"
     },
     "execution_count": 14,
     "metadata": {},
     "output_type": "execute_result"
    }
   ],
   "source": [
    "# Create a new document-term matrix using only nouns\n",
    "from sklearn.feature_extraction import text\n",
    "from sklearn.feature_extraction.text import CountVectorizer\n",
    "\n",
    "# Re-add the additional stop words since we are recreating the document-term matrix\n",
    "add_stop_words = ['like', 'im', 'know', 'just', 'dont', 'thats', 'right', 'people',\n",
    "                  'youre', 'got', 'gonna', 'time', 'think', 'yeah', 'said']\n",
    "stop_words = text.ENGLISH_STOP_WORDS.union(add_stop_words)\n",
    "\n",
    "# Recreate a document-term matrix with only nouns\n",
    "cvn = CountVectorizer(stop_words=stop_words)\n",
    "data_cvn = cvn.fit_transform(data_nouns.Text)\n",
    "data_dtmn = pd.DataFrame(data_cvn.toarray(), columns=cvn.get_feature_names())\n",
    "data_dtmn.index = data_nouns.index\n",
    "data_dtmn"
   ],
   "metadata": {
    "collapsed": false,
    "pycharm": {
     "name": "#%%\n"
    }
   }
  },
  {
   "cell_type": "code",
   "execution_count": 16,
   "outputs": [],
   "source": [
    "# Create the gensim corpus\n",
    "corpusn = matutils.Sparse2Corpus(scipy.sparse.csr_matrix(data_dtmn.transpose()))\n",
    "\n",
    "# Create the vocabulary dictionary\n",
    "id2wordn = dict((v, k) for k, v in cvn.vocabulary_.items())"
   ],
   "metadata": {
    "collapsed": false,
    "pycharm": {
     "name": "#%%\n"
    }
   }
  },
  {
   "cell_type": "code",
   "execution_count": 17,
   "outputs": [
    {
     "data": {
      "text/plain": "[(0,\n  '0.673*\"https\" + 0.598*\"metaverse\" + 0.214*\"nft\" + 0.178*\"nfts\" + 0.110*\"nftcommunity\" + 0.093*\"bitcoin\" + 0.062*\"crypto\" + 0.058*\"project\" + 0.054*\"gold\" + 0.053*\"ethereum\"'),\n (1,\n  '-0.523*\"https\" + 0.289*\"metaverse\" + 0.268*\"nfts\" + 0.252*\"bitcoin\" + 0.242*\"nft\" + 0.222*\"gold\" + 0.202*\"cryptocurrencies\" + 0.202*\"ethereum\" + 0.200*\"othereconomy\" + 0.200*\"otraeconomia\"'),\n (2,\n  '-0.580*\"metaverse\" + 0.381*\"nft\" + 0.254*\"https\" + 0.245*\"nftcommunity\" + 0.195*\"nfts\" + -0.159*\"title\" + -0.159*\"news\" + 0.152*\"gold\" + -0.151*\"btc\" + 0.143*\"ethereum\"')]"
     },
     "execution_count": 17,
     "metadata": {},
     "output_type": "execute_result"
    }
   ],
   "source": [
    "# Let's try topics = 3\n",
    "lsin = models.LsiModel(corpusn, 3, id2word = id2wordn)\n",
    "lsin.print_topics()"
   ],
   "metadata": {
    "collapsed": false,
    "pycharm": {
     "name": "#%%\n"
    }
   }
  },
  {
   "cell_type": "code",
   "execution_count": 18,
   "outputs": [],
   "source": [
    "# Let's create a function to pull out nouns from a string of text\n",
    "def nouns_adj(text):\n",
    "    '''Given a string of text, tokenize the text and pull out only the nouns and adjectives.'''\n",
    "    is_noun_adj = lambda pos: pos[:2] == 'NN' or pos[:2] == 'JJ'\n",
    "    tokenized = word_tokenize(text)\n",
    "    nouns_adj = [word for (word, pos) in pos_tag(tokenized) if is_noun_adj(pos)]\n",
    "    return ' '.join(nouns_adj)"
   ],
   "metadata": {
    "collapsed": false,
    "pycharm": {
     "name": "#%%\n"
    }
   }
  },
  {
   "cell_type": "code",
   "execution_count": 19,
   "outputs": [
    {
     "data": {
      "text/plain": "                                                 Text\n0   @ BitMartExchange Moon 💯💵💎 @ galuka156 @ hoang...\n1   THIS .... @ metazooxyz @ MrSweMusic1 NOW 🔥🔥🔥🔥🎶...\n2   Mars4 game demo imagination craziest buildings...\n3   PROJECT big project potential 🔥🔥🔥💚👏 @ ProjectS...\n4   @ verasaw project next level NFTGaming metaver...\n..                                                ...\n95  NFT👍🥰 show NFT java NodeJS metaverse DEFI BLOC...\n96  Blockchain Keys Unlock Murky Metaverse Alison ...\n97  Más subas tasa Recesión Mayor inflación / lo q...\n98  METAME metahuman unrealengine EU5 metaverse fa...\n99  @ LEOsLounge_ Drink fam 🔥🔥🔥 Crofam LHRC Metave...\n\n[100 rows x 1 columns]",
      "text/html": "<div>\n<style scoped>\n    .dataframe tbody tr th:only-of-type {\n        vertical-align: middle;\n    }\n\n    .dataframe tbody tr th {\n        vertical-align: top;\n    }\n\n    .dataframe thead th {\n        text-align: right;\n    }\n</style>\n<table border=\"1\" class=\"dataframe\">\n  <thead>\n    <tr style=\"text-align: right;\">\n      <th></th>\n      <th>Text</th>\n    </tr>\n  </thead>\n  <tbody>\n    <tr>\n      <th>0</th>\n      <td>@ BitMartExchange Moon 💯💵💎 @ galuka156 @ hoang...</td>\n    </tr>\n    <tr>\n      <th>1</th>\n      <td>THIS .... @ metazooxyz @ MrSweMusic1 NOW 🔥🔥🔥🔥🎶...</td>\n    </tr>\n    <tr>\n      <th>2</th>\n      <td>Mars4 game demo imagination craziest buildings...</td>\n    </tr>\n    <tr>\n      <th>3</th>\n      <td>PROJECT big project potential 🔥🔥🔥💚👏 @ ProjectS...</td>\n    </tr>\n    <tr>\n      <th>4</th>\n      <td>@ verasaw project next level NFTGaming metaver...</td>\n    </tr>\n    <tr>\n      <th>...</th>\n      <td>...</td>\n    </tr>\n    <tr>\n      <th>95</th>\n      <td>NFT👍🥰 show NFT java NodeJS metaverse DEFI BLOC...</td>\n    </tr>\n    <tr>\n      <th>96</th>\n      <td>Blockchain Keys Unlock Murky Metaverse Alison ...</td>\n    </tr>\n    <tr>\n      <th>97</th>\n      <td>Más subas tasa Recesión Mayor inflación / lo q...</td>\n    </tr>\n    <tr>\n      <th>98</th>\n      <td>METAME metahuman unrealengine EU5 metaverse fa...</td>\n    </tr>\n    <tr>\n      <th>99</th>\n      <td>@ LEOsLounge_ Drink fam 🔥🔥🔥 Crofam LHRC Metave...</td>\n    </tr>\n  </tbody>\n</table>\n<p>100 rows × 1 columns</p>\n</div>"
     },
     "execution_count": 19,
     "metadata": {},
     "output_type": "execute_result"
    }
   ],
   "source": [
    "# Apply the nouns function to the transcripts to filter only on nouns\n",
    "data_nouns_adj = pd.DataFrame(f_data.Text.apply(nouns_adj))\n",
    "data_nouns_adj"
   ],
   "metadata": {
    "collapsed": false,
    "pycharm": {
     "name": "#%%\n"
    }
   }
  },
  {
   "cell_type": "code",
   "execution_count": 22,
   "outputs": [
    {
     "name": "stderr",
     "output_type": "stream",
     "text": [
      "/usr/local/lib/python3.9/site-packages/sklearn/utils/deprecation.py:87: FutureWarning: Function get_feature_names is deprecated; get_feature_names is deprecated in 1.0 and will be removed in 1.2. Please use get_feature_names_out instead.\n",
      "  warnings.warn(msg, category=FutureWarning)\n"
     ]
    },
    {
     "data": {
      "text/plain": "    01  039bkt0av4  043  0jggwas0wy  10  11  15  2421  2kbhcq8xhw  2qejf2scii  \\\n0    0           0    0           0   0   0   0     0           0           0   \n1    0           0    0           0   0   0   0     0           0           0   \n2    0           0    0           0   0   0   0     0           0           0   \n3    0           0    0           0   0   0   0     0           0           0   \n4    0           0    0           0   0   0   0     0           0           0   \n..  ..         ...  ...         ...  ..  ..  ..   ...         ...         ...   \n95   0           0    0           0   0   0   0     0           0           0   \n96   0           0    0           0   0   0   0     0           0           0   \n97   0           0    0           0   0   0   0     0           0           0   \n98   0           0    0           0   0   0   0     0           0           0   \n99   0           0    0           0   0   0   0     0           0           0   \n\n    ...  zl7npcn7qt  zwfzskn4ay  zxmgysbojb  édition  ótimo  こうゆうmr  メタバース  \\\n0   ...           0           0           0        0      0       0      0   \n1   ...           0           0           0        0      0       0      0   \n2   ...           0           0           0        0      0       0      0   \n3   ...           0           0           0        0      0       0      0   \n4   ...           0           0           0        0      0       0      0   \n..  ...         ...         ...         ...      ...    ...     ...    ...   \n95  ...           0           0           0        0      0       0      0   \n96  ...           0           0           0        0      0       0      0   \n97  ...           0           0           0        0      0       0      0   \n98  ...           0           0           0        0      0       0      0   \n99  ...           0           0           0        0      0       0      0   \n\n    的な映像技術が進化していくと思います  私は今後  複合現実  \n0                    0     0     0  \n1                    0     0     0  \n2                    0     0     0  \n3                    0     0     0  \n4                    0     0     0  \n..                 ...   ...   ...  \n95                   0     0     0  \n96                   0     0     0  \n97                   0     0     0  \n98                   0     0     0  \n99                   0     0     0  \n\n[100 rows x 796 columns]",
      "text/html": "<div>\n<style scoped>\n    .dataframe tbody tr th:only-of-type {\n        vertical-align: middle;\n    }\n\n    .dataframe tbody tr th {\n        vertical-align: top;\n    }\n\n    .dataframe thead th {\n        text-align: right;\n    }\n</style>\n<table border=\"1\" class=\"dataframe\">\n  <thead>\n    <tr style=\"text-align: right;\">\n      <th></th>\n      <th>01</th>\n      <th>039bkt0av4</th>\n      <th>043</th>\n      <th>0jggwas0wy</th>\n      <th>10</th>\n      <th>11</th>\n      <th>15</th>\n      <th>2421</th>\n      <th>2kbhcq8xhw</th>\n      <th>2qejf2scii</th>\n      <th>...</th>\n      <th>zl7npcn7qt</th>\n      <th>zwfzskn4ay</th>\n      <th>zxmgysbojb</th>\n      <th>édition</th>\n      <th>ótimo</th>\n      <th>こうゆうmr</th>\n      <th>メタバース</th>\n      <th>的な映像技術が進化していくと思います</th>\n      <th>私は今後</th>\n      <th>複合現実</th>\n    </tr>\n  </thead>\n  <tbody>\n    <tr>\n      <th>0</th>\n      <td>0</td>\n      <td>0</td>\n      <td>0</td>\n      <td>0</td>\n      <td>0</td>\n      <td>0</td>\n      <td>0</td>\n      <td>0</td>\n      <td>0</td>\n      <td>0</td>\n      <td>...</td>\n      <td>0</td>\n      <td>0</td>\n      <td>0</td>\n      <td>0</td>\n      <td>0</td>\n      <td>0</td>\n      <td>0</td>\n      <td>0</td>\n      <td>0</td>\n      <td>0</td>\n    </tr>\n    <tr>\n      <th>1</th>\n      <td>0</td>\n      <td>0</td>\n      <td>0</td>\n      <td>0</td>\n      <td>0</td>\n      <td>0</td>\n      <td>0</td>\n      <td>0</td>\n      <td>0</td>\n      <td>0</td>\n      <td>...</td>\n      <td>0</td>\n      <td>0</td>\n      <td>0</td>\n      <td>0</td>\n      <td>0</td>\n      <td>0</td>\n      <td>0</td>\n      <td>0</td>\n      <td>0</td>\n      <td>0</td>\n    </tr>\n    <tr>\n      <th>2</th>\n      <td>0</td>\n      <td>0</td>\n      <td>0</td>\n      <td>0</td>\n      <td>0</td>\n      <td>0</td>\n      <td>0</td>\n      <td>0</td>\n      <td>0</td>\n      <td>0</td>\n      <td>...</td>\n      <td>0</td>\n      <td>0</td>\n      <td>0</td>\n      <td>0</td>\n      <td>0</td>\n      <td>0</td>\n      <td>0</td>\n      <td>0</td>\n      <td>0</td>\n      <td>0</td>\n    </tr>\n    <tr>\n      <th>3</th>\n      <td>0</td>\n      <td>0</td>\n      <td>0</td>\n      <td>0</td>\n      <td>0</td>\n      <td>0</td>\n      <td>0</td>\n      <td>0</td>\n      <td>0</td>\n      <td>0</td>\n      <td>...</td>\n      <td>0</td>\n      <td>0</td>\n      <td>0</td>\n      <td>0</td>\n      <td>0</td>\n      <td>0</td>\n      <td>0</td>\n      <td>0</td>\n      <td>0</td>\n      <td>0</td>\n    </tr>\n    <tr>\n      <th>4</th>\n      <td>0</td>\n      <td>0</td>\n      <td>0</td>\n      <td>0</td>\n      <td>0</td>\n      <td>0</td>\n      <td>0</td>\n      <td>0</td>\n      <td>0</td>\n      <td>0</td>\n      <td>...</td>\n      <td>0</td>\n      <td>0</td>\n      <td>0</td>\n      <td>0</td>\n      <td>0</td>\n      <td>0</td>\n      <td>0</td>\n      <td>0</td>\n      <td>0</td>\n      <td>0</td>\n    </tr>\n    <tr>\n      <th>...</th>\n      <td>...</td>\n      <td>...</td>\n      <td>...</td>\n      <td>...</td>\n      <td>...</td>\n      <td>...</td>\n      <td>...</td>\n      <td>...</td>\n      <td>...</td>\n      <td>...</td>\n      <td>...</td>\n      <td>...</td>\n      <td>...</td>\n      <td>...</td>\n      <td>...</td>\n      <td>...</td>\n      <td>...</td>\n      <td>...</td>\n      <td>...</td>\n      <td>...</td>\n      <td>...</td>\n    </tr>\n    <tr>\n      <th>95</th>\n      <td>0</td>\n      <td>0</td>\n      <td>0</td>\n      <td>0</td>\n      <td>0</td>\n      <td>0</td>\n      <td>0</td>\n      <td>0</td>\n      <td>0</td>\n      <td>0</td>\n      <td>...</td>\n      <td>0</td>\n      <td>0</td>\n      <td>0</td>\n      <td>0</td>\n      <td>0</td>\n      <td>0</td>\n      <td>0</td>\n      <td>0</td>\n      <td>0</td>\n      <td>0</td>\n    </tr>\n    <tr>\n      <th>96</th>\n      <td>0</td>\n      <td>0</td>\n      <td>0</td>\n      <td>0</td>\n      <td>0</td>\n      <td>0</td>\n      <td>0</td>\n      <td>0</td>\n      <td>0</td>\n      <td>0</td>\n      <td>...</td>\n      <td>0</td>\n      <td>0</td>\n      <td>0</td>\n      <td>0</td>\n      <td>0</td>\n      <td>0</td>\n      <td>0</td>\n      <td>0</td>\n      <td>0</td>\n      <td>0</td>\n    </tr>\n    <tr>\n      <th>97</th>\n      <td>0</td>\n      <td>0</td>\n      <td>0</td>\n      <td>0</td>\n      <td>0</td>\n      <td>0</td>\n      <td>0</td>\n      <td>0</td>\n      <td>0</td>\n      <td>0</td>\n      <td>...</td>\n      <td>0</td>\n      <td>0</td>\n      <td>0</td>\n      <td>0</td>\n      <td>0</td>\n      <td>0</td>\n      <td>0</td>\n      <td>0</td>\n      <td>0</td>\n      <td>0</td>\n    </tr>\n    <tr>\n      <th>98</th>\n      <td>0</td>\n      <td>0</td>\n      <td>0</td>\n      <td>0</td>\n      <td>0</td>\n      <td>0</td>\n      <td>0</td>\n      <td>0</td>\n      <td>0</td>\n      <td>0</td>\n      <td>...</td>\n      <td>0</td>\n      <td>0</td>\n      <td>0</td>\n      <td>0</td>\n      <td>0</td>\n      <td>0</td>\n      <td>0</td>\n      <td>0</td>\n      <td>0</td>\n      <td>0</td>\n    </tr>\n    <tr>\n      <th>99</th>\n      <td>0</td>\n      <td>0</td>\n      <td>0</td>\n      <td>0</td>\n      <td>0</td>\n      <td>0</td>\n      <td>0</td>\n      <td>0</td>\n      <td>0</td>\n      <td>0</td>\n      <td>...</td>\n      <td>0</td>\n      <td>0</td>\n      <td>0</td>\n      <td>0</td>\n      <td>0</td>\n      <td>0</td>\n      <td>0</td>\n      <td>0</td>\n      <td>0</td>\n      <td>0</td>\n    </tr>\n  </tbody>\n</table>\n<p>100 rows × 796 columns</p>\n</div>"
     },
     "execution_count": 22,
     "metadata": {},
     "output_type": "execute_result"
    }
   ],
   "source": [
    "# Create a new document-term matrix using only nouns and adjectives, also remove common words with max_df\n",
    "cvna = CountVectorizer(stop_words=stop_words, max_df=.8)\n",
    "data_cvna = cvna.fit_transform(data_nouns_adj.Text)\n",
    "data_dtmna = pd.DataFrame(data_cvna.toarray(), columns=cvna.get_feature_names())\n",
    "data_dtmna.index = data_nouns_adj.index\n",
    "data_dtmna"
   ],
   "metadata": {
    "collapsed": false,
    "pycharm": {
     "name": "#%%\n"
    }
   }
  },
  {
   "cell_type": "code",
   "execution_count": 23,
   "outputs": [],
   "source": [
    "# Create the gensim corpus\n",
    "corpusna = matutils.Sparse2Corpus(scipy.sparse.csr_matrix(data_dtmna.transpose()))\n",
    "\n",
    "# Create the vocabulary dictionary\n",
    "id2wordna = dict((v, k) for k, v in cvna.vocabulary_.items())"
   ],
   "metadata": {
    "collapsed": false,
    "pycharm": {
     "name": "#%%\n"
    }
   }
  },
  {
   "cell_type": "code",
   "execution_count": 24,
   "outputs": [
    {
     "data": {
      "text/plain": "[(0,\n  '0.819*\"https\" + 0.323*\"nft\" + 0.220*\"nfts\" + 0.142*\"nftcommunity\" + 0.117*\"crypto\" + 0.080*\"project\" + 0.079*\"bitcoin\" + 0.070*\"mintable\" + 0.066*\"store\" + 0.062*\"cryptocurrencies\"'),\n (1,\n  '-0.369*\"nft\" + 0.364*\"https\" + -0.317*\"nfts\" + -0.269*\"nftcommunity\" + -0.250*\"gold\" + -0.233*\"cryptocurrencies\" + -0.229*\"ethereum\" + -0.222*\"othereconomy\" + -0.222*\"otraeconomia\" + -0.214*\"bitcoin\"'),\n (2,\n  '0.400*\"mintable\" + 0.354*\"store\" + 0.279*\"crypto\" + 0.226*\"nftcommmunity\" + 0.224*\"nftnyc\" + 0.217*\"nftartist\" + -0.194*\"gold\" + 0.192*\"flow\" + 0.174*\"gasless\" + -0.169*\"ethereum\"')]"
     },
     "execution_count": 24,
     "metadata": {},
     "output_type": "execute_result"
    }
   ],
   "source": [
    "# Let's try 3 topics\n",
    "ldana = models.LsiModel(corpus=corpusna, num_topics=3, id2word=id2wordna)\n",
    "ldana.print_topics()"
   ],
   "metadata": {
    "collapsed": false,
    "pycharm": {
     "name": "#%%\n"
    }
   }
  },
  {
   "cell_type": "code",
   "execution_count": 25,
   "outputs": [],
   "source": [
    "from gensim import corpora\n",
    "word2id = dict((k, v) for k, v in cvna.vocabulary_.items())\n",
    "d = corpora.Dictionary()\n",
    "d.id2token = id2word\n",
    "d.token2id = word2id"
   ],
   "metadata": {
    "collapsed": false,
    "pycharm": {
     "name": "#%%\n"
    }
   }
  },
  {
   "cell_type": "code",
   "execution_count": 29,
   "outputs": [],
   "source": [
    "# supporting function\n",
    "def compute_coherence_values(corpus, dictionary, k):\n",
    "    lsi_model = models.LsiModel(corpus=corpus, num_topics=k, id2word=dictionary)\n",
    "    coherence_model_lda = CoherenceModel(model=lsi_model, corpus=corpus,dictionary=dictionary, coherence='u_mass')\n",
    "    return coherence_model_lda.get_coherence()"
   ],
   "metadata": {
    "collapsed": false,
    "pycharm": {
     "name": "#%%\n"
    }
   }
  },
  {
   "cell_type": "code",
   "execution_count": 31,
   "outputs": [
    {
     "data": {
      "text/plain": "-14.03260592496433"
     },
     "execution_count": 31,
     "metadata": {},
     "output_type": "execute_result"
    }
   ],
   "source": [
    "compute_coherence_values(corpusna,d,2)"
   ],
   "metadata": {
    "collapsed": false,
    "pycharm": {
     "name": "#%%\n"
    }
   }
  },
  {
   "cell_type": "code",
   "execution_count": 34,
   "outputs": [],
   "source": [
    "import numpy as np\n",
    "from gensim import models\n",
    "# Topics range\n",
    "min_topics = 2\n",
    "max_topics = 10\n",
    "step_size = 1\n",
    "topics_range = range(min_topics, max_topics, step_size)\n",
    "# Alpha parameter\n",
    "# Validation sets\n",
    "model_results = {\n",
    "                 'Topics': [],\n",
    "                 'Coherence': []\n",
    "                }\n",
    "\n",
    "# Can take a long time to run\n",
    "if 1 == 1:\n",
    "        # iterate through number of topics\n",
    "    for k in topics_range:\n",
    "\n",
    "                    # get the coherence score for the given parameters\n",
    "        cv = compute_coherence_values(corpus=corpusna, dictionary=d,\n",
    "                                                  k=k)\n",
    "                    # Save the model results\n",
    "        model_results['Topics'].append(k)\n",
    "        model_results['Coherence'].append(cv)"
   ],
   "metadata": {
    "collapsed": false,
    "pycharm": {
     "name": "#%%\n"
    }
   }
  },
  {
   "cell_type": "code",
   "execution_count": 35,
   "outputs": [
    {
     "data": {
      "text/plain": "{'Topics': [2, 3, 4, 5, 6, 7, 8, 9],\n 'Coherence': [-15.570722621949521,\n  -9.6549094887679,\n  -12.856685415171091,\n  -13.262111859593864,\n  -11.5295119816114,\n  -11.49279093294388,\n  -13.002235746065931,\n  -12.699554583133216]}"
     },
     "execution_count": 35,
     "metadata": {},
     "output_type": "execute_result"
    }
   ],
   "source": [
    "model_results"
   ],
   "metadata": {
    "collapsed": false,
    "pycharm": {
     "name": "#%%\n"
    }
   }
  },
  {
   "cell_type": "code",
   "execution_count": 36,
   "outputs": [
    {
     "data": {
      "text/plain": "<Figure size 432x288 with 1 Axes>",
      "image/png": "[encoded data removed]"
     },
     "metadata": {
      "needs_background": "light"
     },
     "output_type": "display_data"
    }
   ],
   "source": [
    "import matplotlib.pyplot as plt\n",
    "def plot_graph(model_results):\n",
    "    plt.plot(model_results['Topics'], model_results['Coherence'])\n",
    "    plt.xlabel(\"Number of Topics\")\n",
    "    plt.ylabel(\"Coherence score\")\n",
    "    plt.legend((\"coherence_values\"), loc='best')\n",
    "    plt.show()\n",
    "\n",
    "plot_graph(model_results)"
   ],
   "metadata": {
    "collapsed": false,
    "pycharm": {
     "name": "#%%\n"
    }
   }
  },
  {
   "cell_type": "code",
   "execution_count": null,
   "outputs": [],
   "source": [],
   "metadata": {
    "collapsed": false,
    "pycharm": {
     "name": "#%%\n"
    }
   }
  }
 ],
 "metadata": {
  "kernelspec": {
   "display_name": "Python 3",
   "language": "python",
   "name": "python3"
  },
  "language_info": {
   "codemirror_mode": {
    "name": "ipython",
    "version": 2
   },
   "file_extension": ".py",
   "mimetype": "text/x-python",
   "name": "python",
   "nbconvert_exporter": "python",
   "pygments_lexer": "ipython2",
   "version": "2.7.6"
  }
 },
 "nbformat": 4,
 "nbformat_minor": 0
}