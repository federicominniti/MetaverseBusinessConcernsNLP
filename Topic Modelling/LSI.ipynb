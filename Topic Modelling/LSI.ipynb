{
 "cells": [
  {
   "cell_type": "code",
   "execution_count": null,
   "outputs": [],
   "source": [
    "# Perform an analysis using LDA as topic modelling algorithm and determine parameters via an optimization approach"
   ],
   "metadata": {
    "collapsed": false,
    "pycharm": {
     "name": "#%%\n"
    }
   }
  },
  {
   "cell_type": "code",
   "execution_count": 257,
   "outputs": [],
   "source": [
    "import pickle\n",
    "from gensim import matutils, models\n",
    "import scipy.sparse\n",
    "import pandas as pd\n",
    "from gensim.models import CoherenceModel"
   ],
   "metadata": {
    "collapsed": false,
    "pycharm": {
     "name": "#%%\n"
    }
   }
  },
  {
   "cell_type": "code",
   "execution_count": 258,
   "outputs": [
    {
     "data": {
      "text/plain": "                    Datetime             Tweet Id  \\\n0  2021-10-27 23:39:35+00:00  1453506696094142469   \n1  2021-10-27 23:32:41+00:00  1453504957991292933   \n2  2021-10-27 23:31:03+00:00  1453504546345455619   \n\n                                        OriginalText        Username  \\\n0  @1goonrich Buy Dogus and make it 700k mc #NFTG...          aacryp   \n1  💧 SupreSpace Metaverse 2nd Round Airdrop 💧\\n\\n...   AirdropStario   \n2  @Elite_Portraits is now LIVE hand-crafting the...  DeployStarShip   \n\n                                        Text_Cleaned  \\\n0  buy dogus and make it  mc kishu hoge froge dog...   \n1  suprespace metaverse  round airdrop task up to...   \n2  is now live hand crafting the artwork for the ...   \n\n                                              tokens  \\\n0  ['buy', 'dogus', 'make', 'kishu', 'hoge', 'fro...   \n1  ['suprespace', 'round', 'airdrop', 'task', 'sa...   \n2  ['live', 'hand', 'crafting', 'artwork', 'plane...   \n\n                                                Text  Subjectivity  Polarity  \\\n0  buy dogus make kishu hoge froge doge dogus thi...      0.427273 -0.131818   \n1  suprespace round airdrop task sapce referral s...      0.400000 -0.200000   \n2  live hand crafting artwork planet game claim p...      0.450000 -0.131818   \n\n   NumberOfWords  MeanWordLength P&SSentiment  SIA Positive Sentiment  \\\n0             29            5.69     Negative                0.000001   \n1             10            6.60     Negative                0.000001   \n2             14            5.93     Negative                0.198001   \n\n   SIA Neutral Sentiment  SIA Negative Sentiment  Class  \n0               1.000001                0.000001      1  \n1               1.000001                0.000001      1  \n2               0.802001                0.000001      0  ",
      "text/html": "<div>\n<style scoped>\n    .dataframe tbody tr th:only-of-type {\n        vertical-align: middle;\n    }\n\n    .dataframe tbody tr th {\n        vertical-align: top;\n    }\n\n    .dataframe thead th {\n        text-align: right;\n    }\n</style>\n<table border=\"1\" class=\"dataframe\">\n  <thead>\n    <tr style=\"text-align: right;\">\n      <th></th>\n      <th>Datetime</th>\n      <th>Tweet Id</th>\n      <th>OriginalText</th>\n      <th>Username</th>\n      <th>Text_Cleaned</th>\n      <th>tokens</th>\n      <th>Text</th>\n      <th>Subjectivity</th>\n      <th>Polarity</th>\n      <th>NumberOfWords</th>\n      <th>MeanWordLength</th>\n      <th>P&amp;SSentiment</th>\n      <th>SIA Positive Sentiment</th>\n      <th>SIA Neutral Sentiment</th>\n      <th>SIA Negative Sentiment</th>\n      <th>Class</th>\n    </tr>\n  </thead>\n  <tbody>\n    <tr>\n      <th>0</th>\n      <td>2021-10-27 23:39:35+00:00</td>\n      <td>1453506696094142469</td>\n      <td>@1goonrich Buy Dogus and make it 700k mc #NFTG...</td>\n      <td>aacryp</td>\n      <td>buy dogus and make it  mc kishu hoge froge dog...</td>\n      <td>['buy', 'dogus', 'make', 'kishu', 'hoge', 'fro...</td>\n      <td>buy dogus make kishu hoge froge doge dogus thi...</td>\n      <td>0.427273</td>\n      <td>-0.131818</td>\n      <td>29</td>\n      <td>5.69</td>\n      <td>Negative</td>\n      <td>0.000001</td>\n      <td>1.000001</td>\n      <td>0.000001</td>\n      <td>1</td>\n    </tr>\n    <tr>\n      <th>1</th>\n      <td>2021-10-27 23:32:41+00:00</td>\n      <td>1453504957991292933</td>\n      <td>💧 SupreSpace Metaverse 2nd Round Airdrop 💧\\n\\n...</td>\n      <td>AirdropStario</td>\n      <td>suprespace metaverse  round airdrop task up to...</td>\n      <td>['suprespace', 'round', 'airdrop', 'task', 'sa...</td>\n      <td>suprespace round airdrop task sapce referral s...</td>\n      <td>0.400000</td>\n      <td>-0.200000</td>\n      <td>10</td>\n      <td>6.60</td>\n      <td>Negative</td>\n      <td>0.000001</td>\n      <td>1.000001</td>\n      <td>0.000001</td>\n      <td>1</td>\n    </tr>\n    <tr>\n      <th>2</th>\n      <td>2021-10-27 23:31:03+00:00</td>\n      <td>1453504546345455619</td>\n      <td>@Elite_Portraits is now LIVE hand-crafting the...</td>\n      <td>DeployStarShip</td>\n      <td>is now live hand crafting the artwork for the ...</td>\n      <td>['live', 'hand', 'crafting', 'artwork', 'plane...</td>\n      <td>live hand crafting artwork planet game claim p...</td>\n      <td>0.450000</td>\n      <td>-0.131818</td>\n      <td>14</td>\n      <td>5.93</td>\n      <td>Negative</td>\n      <td>0.198001</td>\n      <td>0.802001</td>\n      <td>0.000001</td>\n      <td>0</td>\n    </tr>\n  </tbody>\n</table>\n</div>"
     },
     "execution_count": 258,
     "metadata": {},
     "output_type": "execute_result"
    }
   ],
   "source": [
    "# Set the class of tweets specifying the correct file\n",
    "f_data = pd.read_csv('../data/negativeTweets.csv')\n",
    "f_data.head(3)"
   ],
   "metadata": {
    "collapsed": false,
    "pycharm": {
     "name": "#%%\n"
    }
   }
  },
  {
   "cell_type": "code",
   "execution_count": 259,
   "outputs": [],
   "source": [
    "# Set the proper range of dates to analyze\n",
    "f_data = f_data.loc[f_data['Datetime'] >= '2022-05-14']\n",
    "f_data = f_data.loc[f_data['Datetime'] <= '2022-05-18']"
   ],
   "metadata": {
    "collapsed": false,
    "pycharm": {
     "name": "#%%\n"
    }
   }
  },
  {
   "cell_type": "code",
   "execution_count": 262,
   "outputs": [],
   "source": [
    "# Create a document-term matrix using CountVectorizer, and exclude common English stop words\n",
    "from sklearn.feature_extraction.text import CountVectorizer\n",
    "cv = CountVectorizer(stop_words='english')\n",
    "data_cv = cv.fit_transform(f_data.OriginalText)\n",
    "data_dtm = pd.DataFrame(data_cv.toarray(), columns=cv.get_feature_names())\n",
    "data_dtm.index = f_data.index\n",
    "tdm = data_dtm.transpose()"
   ],
   "metadata": {
    "collapsed": false,
    "pycharm": {
     "name": "#%%\n"
    }
   }
  },
  {
   "cell_type": "code",
   "execution_count": 264,
   "outputs": [],
   "source": [
    "# Transofrm the term-document matrix into a new gensim format, df -> sparse matrix -> gensim corpus\n",
    "sparse_counts = scipy.sparse.csr_matrix(data_dtm)\n",
    "corpus = matutils.Sparse2Corpus(sparse_counts)"
   ],
   "metadata": {
    "collapsed": false,
    "pycharm": {
     "name": "#%%\n"
    }
   }
  },
  {
   "cell_type": "code",
   "execution_count": 265,
   "outputs": [
    {
     "name": "stderr",
     "output_type": "stream",
     "text": [
      "/usr/local/lib/python3.9/site-packages/sklearn/base.py:310: UserWarning: Trying to unpickle estimator CountVectorizer from version 0.18.2 when using version 0.24.2. This might lead to breaking code or invalid results. Use at your own risk.\n",
      "  warnings.warn(\n"
     ]
    }
   ],
   "source": [
    "# Gensim  requires dictionary of the all terms and their respective location in the term-document matrix\n",
    "cv = pickle.load(open(\"../data/cv_stop.pkl\", \"rb\"))\n",
    "id2word = dict((v, k) for k, v in cv.vocabulary_.items())"
   ],
   "metadata": {
    "collapsed": false,
    "pycharm": {
     "name": "#%%\n"
    }
   }
  },
  {
   "cell_type": "code",
   "execution_count": 266,
   "outputs": [
    {
     "data": {
      "text/plain": "[(0,\n  '0.156*\"acknowledge\" + 0.120*\"airs\" + 0.101*\"april\" + 0.096*\"appreciate\" + 0.094*\"awards\" + 0.088*\"advanced\" + 0.088*\"attacked\" + 0.088*\"arabs\" + 0.087*\"anyways\" + 0.087*\"aside\"'),\n (1,\n  '0.284*\"acknowledge\" + -0.192*\"automatic\" + -0.158*\"aaaaauuugghhhhhh\" + 0.153*\"arabs\" + 0.152*\"advanced\" + -0.148*\"baa\" + 0.144*\"aside\" + -0.135*\"aircrafts\" + -0.124*\"aaaaah\" + -0.116*\"assistant\"'),\n (2,\n  '-0.182*\"added\" + 0.177*\"acknowledge\" + -0.157*\"aaaaah\" + -0.148*\"aaaahhhhh\" + -0.145*\"arguing\" + -0.117*\"amazed\" + 0.117*\"april\" + -0.116*\"audiences\" + 0.115*\"auditioning\" + 0.114*\"awards\"')]"
     },
     "execution_count": 266,
     "metadata": {},
     "output_type": "execute_result"
    }
   ],
   "source": [
    "lsi = models.LsiModel(corpus, 3, id2word = id2word)\n",
    "lsi.print_topics()"
   ],
   "metadata": {
    "collapsed": false,
    "pycharm": {
     "name": "#%%\n"
    }
   }
  },
  {
   "cell_type": "code",
   "execution_count": 267,
   "outputs": [],
   "source": [
    "# Function to pull out nouns from a string of text\n",
    "from nltk import word_tokenize, pos_tag\n",
    "\n",
    "def nouns(text):\n",
    "    '''Given a string of text, tokenize the text and pull out only the nouns.'''\n",
    "    is_noun = lambda pos: pos[:2] == 'NN'\n",
    "    tokenized = word_tokenize(text)\n",
    "    all_nouns = [word for (word, pos) in pos_tag(tokenized) if is_noun(pos)]\n",
    "    return ' '.join(all_nouns)"
   ],
   "metadata": {
    "collapsed": false,
    "pycharm": {
     "name": "#%%\n"
    }
   }
  },
  {
   "cell_type": "code",
   "execution_count": 268,
   "outputs": [
    {
     "data": {
      "text/plain": "                                                    Text\n21418  events tomorrow battle game mode launch lox xe...\n21419                            return multiverse alien\n21420  De Wen Hua Cun Liu Wei Shi Yao Bu Ru Chuan Ton...\n21421  gamers example games gta cyberpunk life people...\n21422                                              wedge\n...                                                  ...\n21875                                                wtf\n21876                                   mars information\n21877  term partnership shape children families persp...\n21878                                    building source\n21879  asset allocation decisions advantage term oppo...\n\n[462 rows x 1 columns]",
      "text/html": "<div>\n<style scoped>\n    .dataframe tbody tr th:only-of-type {\n        vertical-align: middle;\n    }\n\n    .dataframe tbody tr th {\n        vertical-align: top;\n    }\n\n    .dataframe thead th {\n        text-align: right;\n    }\n</style>\n<table border=\"1\" class=\"dataframe\">\n  <thead>\n    <tr style=\"text-align: right;\">\n      <th></th>\n      <th>Text</th>\n    </tr>\n  </thead>\n  <tbody>\n    <tr>\n      <th>21418</th>\n      <td>events tomorrow battle game mode launch lox xe...</td>\n    </tr>\n    <tr>\n      <th>21419</th>\n      <td>return multiverse alien</td>\n    </tr>\n    <tr>\n      <th>21420</th>\n      <td>De Wen Hua Cun Liu Wei Shi Yao Bu Ru Chuan Ton...</td>\n    </tr>\n    <tr>\n      <th>21421</th>\n      <td>gamers example games gta cyberpunk life people...</td>\n    </tr>\n    <tr>\n      <th>21422</th>\n      <td>wedge</td>\n    </tr>\n    <tr>\n      <th>...</th>\n      <td>...</td>\n    </tr>\n    <tr>\n      <th>21875</th>\n      <td>wtf</td>\n    </tr>\n    <tr>\n      <th>21876</th>\n      <td>mars information</td>\n    </tr>\n    <tr>\n      <th>21877</th>\n      <td>term partnership shape children families persp...</td>\n    </tr>\n    <tr>\n      <th>21878</th>\n      <td>building source</td>\n    </tr>\n    <tr>\n      <th>21879</th>\n      <td>asset allocation decisions advantage term oppo...</td>\n    </tr>\n  </tbody>\n</table>\n<p>462 rows × 1 columns</p>\n</div>"
     },
     "execution_count": 268,
     "metadata": {},
     "output_type": "execute_result"
    }
   ],
   "source": [
    "data_nouns = pd.DataFrame(f_data.Text.apply(nouns))"
   ],
   "metadata": {
    "collapsed": false,
    "pycharm": {
     "name": "#%%\n"
    }
   }
  },
  {
   "cell_type": "code",
   "execution_count": 269,
   "outputs": [
    {
     "data": {
      "text/plain": "       abbath  ability  abode  abounds  access  account  accounts  act  \\\n21418       0        0      0        0       0        0         0    0   \n21419       0        0      0        0       0        0         0    0   \n21420       0        0      0        0       0        0         0    0   \n21421       0        0      0        0       0        0         0    0   \n21422       0        0      0        0       0        0         0    0   \n...       ...      ...    ...      ...     ...      ...       ...  ...   \n21875       0        0      0        0       0        0         0    0   \n21876       0        0      0        0       0        0         0    0   \n21877       0        0      0        0       0        0         0    0   \n21878       0        0      0        0       0        0         0    0   \n21879       0        0      0        0       0        0         0    0   \n\n       activities  acts  ...  zhuan  zi  zieneshisu  ziyade  znga  zombie  \\\n21418           0     0  ...      0   0           0       0     0       0   \n21419           0     0  ...      0   0           0       0     0       0   \n21420           0     0  ...      3   1           0       0     0       0   \n21421           0     0  ...      0   0           0       0     0       0   \n21422           0     0  ...      0   0           0       0     0       0   \n...           ...   ...  ...    ...  ..         ...     ...   ...     ...   \n21875           0     0  ...      0   0           0       0     0       0   \n21876           0     0  ...      0   0           0       0     0       0   \n21877           0     0  ...      0   0           0       0     0       0   \n21878           0     0  ...      0   0           0       0     0       0   \n21879           0     0  ...      0   0           0       0     0       0   \n\n       zoo  zuck  zuckerbergartnet  zuo  \n21418    0     0                 0    0  \n21419    0     0                 0    0  \n21420    0     0                 0    1  \n21421    0     0                 0    0  \n21422    0     0                 0    0  \n...    ...   ...               ...  ...  \n21875    0     0                 0    0  \n21876    0     0                 0    0  \n21877    0     0                 0    0  \n21878    0     0                 0    0  \n21879    0     0                 0    0  \n\n[462 rows x 1509 columns]",
      "text/html": "<div>\n<style scoped>\n    .dataframe tbody tr th:only-of-type {\n        vertical-align: middle;\n    }\n\n    .dataframe tbody tr th {\n        vertical-align: top;\n    }\n\n    .dataframe thead th {\n        text-align: right;\n    }\n</style>\n<table border=\"1\" class=\"dataframe\">\n  <thead>\n    <tr style=\"text-align: right;\">\n      <th></th>\n      <th>abbath</th>\n      <th>ability</th>\n      <th>abode</th>\n      <th>abounds</th>\n      <th>access</th>\n      <th>account</th>\n      <th>accounts</th>\n      <th>act</th>\n      <th>activities</th>\n      <th>acts</th>\n      <th>...</th>\n      <th>zhuan</th>\n      <th>zi</th>\n      <th>zieneshisu</th>\n      <th>ziyade</th>\n      <th>znga</th>\n      <th>zombie</th>\n      <th>zoo</th>\n      <th>zuck</th>\n      <th>zuckerbergartnet</th>\n      <th>zuo</th>\n    </tr>\n  </thead>\n  <tbody>\n    <tr>\n      <th>21418</th>\n      <td>0</td>\n      <td>0</td>\n      <td>0</td>\n      <td>0</td>\n      <td>0</td>\n      <td>0</td>\n      <td>0</td>\n      <td>0</td>\n      <td>0</td>\n      <td>0</td>\n      <td>...</td>\n      <td>0</td>\n      <td>0</td>\n      <td>0</td>\n      <td>0</td>\n      <td>0</td>\n      <td>0</td>\n      <td>0</td>\n      <td>0</td>\n      <td>0</td>\n      <td>0</td>\n    </tr>\n    <tr>\n      <th>21419</th>\n      <td>0</td>\n      <td>0</td>\n      <td>0</td>\n      <td>0</td>\n      <td>0</td>\n      <td>0</td>\n      <td>0</td>\n      <td>0</td>\n      <td>0</td>\n      <td>0</td>\n      <td>...</td>\n      <td>0</td>\n      <td>0</td>\n      <td>0</td>\n      <td>0</td>\n      <td>0</td>\n      <td>0</td>\n      <td>0</td>\n      <td>0</td>\n      <td>0</td>\n      <td>0</td>\n    </tr>\n    <tr>\n      <th>21420</th>\n      <td>0</td>\n      <td>0</td>\n      <td>0</td>\n      <td>0</td>\n      <td>0</td>\n      <td>0</td>\n      <td>0</td>\n      <td>0</td>\n      <td>0</td>\n      <td>0</td>\n      <td>...</td>\n      <td>3</td>\n      <td>1</td>\n      <td>0</td>\n      <td>0</td>\n      <td>0</td>\n      <td>0</td>\n      <td>0</td>\n      <td>0</td>\n      <td>0</td>\n      <td>1</td>\n    </tr>\n    <tr>\n      <th>21421</th>\n      <td>0</td>\n      <td>0</td>\n      <td>0</td>\n      <td>0</td>\n      <td>0</td>\n      <td>0</td>\n      <td>0</td>\n      <td>0</td>\n      <td>0</td>\n      <td>0</td>\n      <td>...</td>\n      <td>0</td>\n      <td>0</td>\n      <td>0</td>\n      <td>0</td>\n      <td>0</td>\n      <td>0</td>\n      <td>0</td>\n      <td>0</td>\n      <td>0</td>\n      <td>0</td>\n    </tr>\n    <tr>\n      <th>21422</th>\n      <td>0</td>\n      <td>0</td>\n      <td>0</td>\n      <td>0</td>\n      <td>0</td>\n      <td>0</td>\n      <td>0</td>\n      <td>0</td>\n      <td>0</td>\n      <td>0</td>\n      <td>...</td>\n      <td>0</td>\n      <td>0</td>\n      <td>0</td>\n      <td>0</td>\n      <td>0</td>\n      <td>0</td>\n      <td>0</td>\n      <td>0</td>\n      <td>0</td>\n      <td>0</td>\n    </tr>\n    <tr>\n      <th>...</th>\n      <td>...</td>\n      <td>...</td>\n      <td>...</td>\n      <td>...</td>\n      <td>...</td>\n      <td>...</td>\n      <td>...</td>\n      <td>...</td>\n      <td>...</td>\n      <td>...</td>\n      <td>...</td>\n      <td>...</td>\n      <td>...</td>\n      <td>...</td>\n      <td>...</td>\n      <td>...</td>\n      <td>...</td>\n      <td>...</td>\n      <td>...</td>\n      <td>...</td>\n      <td>...</td>\n    </tr>\n    <tr>\n      <th>21875</th>\n      <td>0</td>\n      <td>0</td>\n      <td>0</td>\n      <td>0</td>\n      <td>0</td>\n      <td>0</td>\n      <td>0</td>\n      <td>0</td>\n      <td>0</td>\n      <td>0</td>\n      <td>...</td>\n      <td>0</td>\n      <td>0</td>\n      <td>0</td>\n      <td>0</td>\n      <td>0</td>\n      <td>0</td>\n      <td>0</td>\n      <td>0</td>\n      <td>0</td>\n      <td>0</td>\n    </tr>\n    <tr>\n      <th>21876</th>\n      <td>0</td>\n      <td>0</td>\n      <td>0</td>\n      <td>0</td>\n      <td>0</td>\n      <td>0</td>\n      <td>0</td>\n      <td>0</td>\n      <td>0</td>\n      <td>0</td>\n      <td>...</td>\n      <td>0</td>\n      <td>0</td>\n      <td>0</td>\n      <td>0</td>\n      <td>0</td>\n      <td>0</td>\n      <td>0</td>\n      <td>0</td>\n      <td>0</td>\n      <td>0</td>\n    </tr>\n    <tr>\n      <th>21877</th>\n      <td>0</td>\n      <td>0</td>\n      <td>0</td>\n      <td>0</td>\n      <td>0</td>\n      <td>0</td>\n      <td>0</td>\n      <td>0</td>\n      <td>0</td>\n      <td>0</td>\n      <td>...</td>\n      <td>0</td>\n      <td>0</td>\n      <td>0</td>\n      <td>0</td>\n      <td>0</td>\n      <td>0</td>\n      <td>0</td>\n      <td>0</td>\n      <td>0</td>\n      <td>0</td>\n    </tr>\n    <tr>\n      <th>21878</th>\n      <td>0</td>\n      <td>0</td>\n      <td>0</td>\n      <td>0</td>\n      <td>0</td>\n      <td>0</td>\n      <td>0</td>\n      <td>0</td>\n      <td>0</td>\n      <td>0</td>\n      <td>...</td>\n      <td>0</td>\n      <td>0</td>\n      <td>0</td>\n      <td>0</td>\n      <td>0</td>\n      <td>0</td>\n      <td>0</td>\n      <td>0</td>\n      <td>0</td>\n      <td>0</td>\n    </tr>\n    <tr>\n      <th>21879</th>\n      <td>0</td>\n      <td>0</td>\n      <td>0</td>\n      <td>0</td>\n      <td>0</td>\n      <td>0</td>\n      <td>0</td>\n      <td>0</td>\n      <td>0</td>\n      <td>0</td>\n      <td>...</td>\n      <td>0</td>\n      <td>0</td>\n      <td>0</td>\n      <td>0</td>\n      <td>0</td>\n      <td>0</td>\n      <td>0</td>\n      <td>0</td>\n      <td>0</td>\n      <td>0</td>\n    </tr>\n  </tbody>\n</table>\n<p>462 rows × 1509 columns</p>\n</div>"
     },
     "execution_count": 269,
     "metadata": {},
     "output_type": "execute_result"
    }
   ],
   "source": [
    "# Create a new document-term matrix using only nouns\n",
    "from sklearn.feature_extraction import text\n",
    "from sklearn.feature_extraction.text import CountVectorizer\n",
    "\n",
    "# Re-add the additional stop words\n",
    "add_stop_words = ['like', 'im', 'know', 'just', 'dont', 'thats', 'right', 'people',\n",
    "                  'youre', 'got', 'gonna', 'time', 'think', 'yeah', 'said']\n",
    "stop_words = text.ENGLISH_STOP_WORDS.union(add_stop_words)\n",
    "\n",
    "# Recreate a document-term matrix with only nouns\n",
    "cvn = CountVectorizer(stop_words=stop_words)\n",
    "data_cvn = cvn.fit_transform(data_nouns.Text)\n",
    "data_dtmn = pd.DataFrame(data_cvn.toarray(), columns=cvn.get_feature_names())\n",
    "data_dtmn.index = data_nouns.index\n",
    "data_dtmn"
   ],
   "metadata": {
    "collapsed": false,
    "pycharm": {
     "name": "#%%\n"
    }
   }
  },
  {
   "cell_type": "code",
   "execution_count": 270,
   "outputs": [],
   "source": [
    "corpusn = matutils.Sparse2Corpus(scipy.sparse.csr_matrix(data_dtmn.transpose()))\n",
    "id2wordn = dict((v, k) for k, v in cvn.vocabulary_.items())"
   ],
   "metadata": {
    "collapsed": false,
    "pycharm": {
     "name": "#%%\n"
    }
   }
  },
  {
   "cell_type": "code",
   "execution_count": null,
   "outputs": [],
   "source": [
    "lsin = models.LsiModel(corpusn, 3, id2word = id2wordn)\n",
    "lsin.print_topics()"
   ],
   "metadata": {
    "collapsed": false,
    "pycharm": {
     "name": "#%%\n"
    }
   }
  },
  {
   "cell_type": "code",
   "execution_count": 272,
   "outputs": [],
   "source": [
    "# Function to pull out nouns from a string of text\n",
    "def nouns_adj(text):\n",
    "    is_noun_adj = lambda pos: pos[:2] == 'NN' or pos[:2] == 'JJ'\n",
    "    tokenized = word_tokenize(text)\n",
    "    nouns_adj = [word for (word, pos) in pos_tag(tokenized) if is_noun_adj(pos)]\n",
    "    return ' '.join(nouns_adj)"
   ],
   "metadata": {
    "collapsed": false,
    "pycharm": {
     "name": "#%%\n"
    }
   }
  },
  {
   "cell_type": "code",
   "execution_count": 273,
   "outputs": [
    {
     "data": {
      "text/plain": "                                                    Text\n21418  events tomorrow battle game mode launch lox sn...\n21419                      alien return multiverse alien\n21420  De Wen Hua Cun Liu Wei Shi Yao Bu Ru Chuan Ton...\n21421  tbh gamers example games gta cyberpunk livevir...\n21422                                     ultimate wedge\n...                                                  ...\n21875                                                wtf\n21876                       unstoppable mars information\n21877  enteringlong term partnership shape future fun...\n21878                      info military building source\n21879  tactical asset allocation decisions advantage ...\n\n[462 rows x 1 columns]",
      "text/html": "<div>\n<style scoped>\n    .dataframe tbody tr th:only-of-type {\n        vertical-align: middle;\n    }\n\n    .dataframe tbody tr th {\n        vertical-align: top;\n    }\n\n    .dataframe thead th {\n        text-align: right;\n    }\n</style>\n<table border=\"1\" class=\"dataframe\">\n  <thead>\n    <tr style=\"text-align: right;\">\n      <th></th>\n      <th>Text</th>\n    </tr>\n  </thead>\n  <tbody>\n    <tr>\n      <th>21418</th>\n      <td>events tomorrow battle game mode launch lox sn...</td>\n    </tr>\n    <tr>\n      <th>21419</th>\n      <td>alien return multiverse alien</td>\n    </tr>\n    <tr>\n      <th>21420</th>\n      <td>De Wen Hua Cun Liu Wei Shi Yao Bu Ru Chuan Ton...</td>\n    </tr>\n    <tr>\n      <th>21421</th>\n      <td>tbh gamers example games gta cyberpunk livevir...</td>\n    </tr>\n    <tr>\n      <th>21422</th>\n      <td>ultimate wedge</td>\n    </tr>\n    <tr>\n      <th>...</th>\n      <td>...</td>\n    </tr>\n    <tr>\n      <th>21875</th>\n      <td>wtf</td>\n    </tr>\n    <tr>\n      <th>21876</th>\n      <td>unstoppable mars information</td>\n    </tr>\n    <tr>\n      <th>21877</th>\n      <td>enteringlong term partnership shape future fun...</td>\n    </tr>\n    <tr>\n      <th>21878</th>\n      <td>info military building source</td>\n    </tr>\n    <tr>\n      <th>21879</th>\n      <td>tactical asset allocation decisions advantage ...</td>\n    </tr>\n  </tbody>\n</table>\n<p>462 rows × 1 columns</p>\n</div>"
     },
     "execution_count": 273,
     "metadata": {},
     "output_type": "execute_result"
    }
   ],
   "source": [
    "data_nouns_adj = pd.DataFrame(f_data.Text.apply(nouns_adj))"
   ],
   "metadata": {
    "collapsed": false,
    "pycharm": {
     "name": "#%%\n"
    }
   }
  },
  {
   "cell_type": "code",
   "execution_count": 274,
   "outputs": [
    {
     "data": {
      "text/plain": "       aaa  abbath  ability  abode  abounds  absolute  access  accessible  \\\n21418    0       0        0      0        0         0       0           0   \n21419    0       0        0      0        0         0       0           0   \n21420    0       0        0      0        0         0       0           0   \n21421    0       0        0      0        0         0       0           0   \n21422    0       0        0      0        0         0       0           0   \n...    ...     ...      ...    ...      ...       ...     ...         ...   \n21875    0       0        0      0        0         0       0           0   \n21876    0       0        0      0        0         0       0           0   \n21877    0       0        0      0        0         0       0           0   \n21878    0       0        0      0        0         0       0           0   \n21879    0       0        0      0        0         0       0           0   \n\n       account  accounts  ...  zhuan  zi  zieneshisu  ziyade  znga  zombie  \\\n21418        0         0  ...      0   0           0       0     0       0   \n21419        0         0  ...      0   0           0       0     0       0   \n21420        0         0  ...      3   1           0       0     0       0   \n21421        0         0  ...      0   0           0       0     0       0   \n21422        0         0  ...      0   0           0       0     0       0   \n...        ...       ...  ...    ...  ..         ...     ...   ...     ...   \n21875        0         0  ...      0   0           0       0     0       0   \n21876        0         0  ...      0   0           0       0     0       0   \n21877        0         0  ...      0   0           0       0     0       0   \n21878        0         0  ...      0   0           0       0     0       0   \n21879        0         0  ...      0   0           0       0     0       0   \n\n       zoo  zuck  zuckerbergartnet  zuo  \n21418    0     0                 0    0  \n21419    0     0                 0    0  \n21420    0     0                 0    1  \n21421    0     0                 0    0  \n21422    0     0                 0    0  \n...    ...   ...               ...  ...  \n21875    0     0                 0    0  \n21876    0     0                 0    0  \n21877    0     0                 0    0  \n21878    0     0                 0    0  \n21879    0     0                 0    0  \n\n[462 rows x 1907 columns]",
      "text/html": "<div>\n<style scoped>\n    .dataframe tbody tr th:only-of-type {\n        vertical-align: middle;\n    }\n\n    .dataframe tbody tr th {\n        vertical-align: top;\n    }\n\n    .dataframe thead th {\n        text-align: right;\n    }\n</style>\n<table border=\"1\" class=\"dataframe\">\n  <thead>\n    <tr style=\"text-align: right;\">\n      <th></th>\n      <th>aaa</th>\n      <th>abbath</th>\n      <th>ability</th>\n      <th>abode</th>\n      <th>abounds</th>\n      <th>absolute</th>\n      <th>access</th>\n      <th>accessible</th>\n      <th>account</th>\n      <th>accounts</th>\n      <th>...</th>\n      <th>zhuan</th>\n      <th>zi</th>\n      <th>zieneshisu</th>\n      <th>ziyade</th>\n      <th>znga</th>\n      <th>zombie</th>\n      <th>zoo</th>\n      <th>zuck</th>\n      <th>zuckerbergartnet</th>\n      <th>zuo</th>\n    </tr>\n  </thead>\n  <tbody>\n    <tr>\n      <th>21418</th>\n      <td>0</td>\n      <td>0</td>\n      <td>0</td>\n      <td>0</td>\n      <td>0</td>\n      <td>0</td>\n      <td>0</td>\n      <td>0</td>\n      <td>0</td>\n      <td>0</td>\n      <td>...</td>\n      <td>0</td>\n      <td>0</td>\n      <td>0</td>\n      <td>0</td>\n      <td>0</td>\n      <td>0</td>\n      <td>0</td>\n      <td>0</td>\n      <td>0</td>\n      <td>0</td>\n    </tr>\n    <tr>\n      <th>21419</th>\n      <td>0</td>\n      <td>0</td>\n      <td>0</td>\n      <td>0</td>\n      <td>0</td>\n      <td>0</td>\n      <td>0</td>\n      <td>0</td>\n      <td>0</td>\n      <td>0</td>\n      <td>...</td>\n      <td>0</td>\n      <td>0</td>\n      <td>0</td>\n      <td>0</td>\n      <td>0</td>\n      <td>0</td>\n      <td>0</td>\n      <td>0</td>\n      <td>0</td>\n      <td>0</td>\n    </tr>\n    <tr>\n      <th>21420</th>\n      <td>0</td>\n      <td>0</td>\n      <td>0</td>\n      <td>0</td>\n      <td>0</td>\n      <td>0</td>\n      <td>0</td>\n      <td>0</td>\n      <td>0</td>\n      <td>0</td>\n      <td>...</td>\n      <td>3</td>\n      <td>1</td>\n      <td>0</td>\n      <td>0</td>\n      <td>0</td>\n      <td>0</td>\n      <td>0</td>\n      <td>0</td>\n      <td>0</td>\n      <td>1</td>\n    </tr>\n    <tr>\n      <th>21421</th>\n      <td>0</td>\n      <td>0</td>\n      <td>0</td>\n      <td>0</td>\n      <td>0</td>\n      <td>0</td>\n      <td>0</td>\n      <td>0</td>\n      <td>0</td>\n      <td>0</td>\n      <td>...</td>\n      <td>0</td>\n      <td>0</td>\n      <td>0</td>\n      <td>0</td>\n      <td>0</td>\n      <td>0</td>\n      <td>0</td>\n      <td>0</td>\n      <td>0</td>\n      <td>0</td>\n    </tr>\n    <tr>\n      <th>21422</th>\n      <td>0</td>\n      <td>0</td>\n      <td>0</td>\n      <td>0</td>\n      <td>0</td>\n      <td>0</td>\n      <td>0</td>\n      <td>0</td>\n      <td>0</td>\n      <td>0</td>\n      <td>...</td>\n      <td>0</td>\n      <td>0</td>\n      <td>0</td>\n      <td>0</td>\n      <td>0</td>\n      <td>0</td>\n      <td>0</td>\n      <td>0</td>\n      <td>0</td>\n      <td>0</td>\n    </tr>\n    <tr>\n      <th>...</th>\n      <td>...</td>\n      <td>...</td>\n      <td>...</td>\n      <td>...</td>\n      <td>...</td>\n      <td>...</td>\n      <td>...</td>\n      <td>...</td>\n      <td>...</td>\n      <td>...</td>\n      <td>...</td>\n      <td>...</td>\n      <td>...</td>\n      <td>...</td>\n      <td>...</td>\n      <td>...</td>\n      <td>...</td>\n      <td>...</td>\n      <td>...</td>\n      <td>...</td>\n      <td>...</td>\n    </tr>\n    <tr>\n      <th>21875</th>\n      <td>0</td>\n      <td>0</td>\n      <td>0</td>\n      <td>0</td>\n      <td>0</td>\n      <td>0</td>\n      <td>0</td>\n      <td>0</td>\n      <td>0</td>\n      <td>0</td>\n      <td>...</td>\n      <td>0</td>\n      <td>0</td>\n      <td>0</td>\n      <td>0</td>\n      <td>0</td>\n      <td>0</td>\n      <td>0</td>\n      <td>0</td>\n      <td>0</td>\n      <td>0</td>\n    </tr>\n    <tr>\n      <th>21876</th>\n      <td>0</td>\n      <td>0</td>\n      <td>0</td>\n      <td>0</td>\n      <td>0</td>\n      <td>0</td>\n      <td>0</td>\n      <td>0</td>\n      <td>0</td>\n      <td>0</td>\n      <td>...</td>\n      <td>0</td>\n      <td>0</td>\n      <td>0</td>\n      <td>0</td>\n      <td>0</td>\n      <td>0</td>\n      <td>0</td>\n      <td>0</td>\n      <td>0</td>\n      <td>0</td>\n    </tr>\n    <tr>\n      <th>21877</th>\n      <td>0</td>\n      <td>0</td>\n      <td>0</td>\n      <td>0</td>\n      <td>0</td>\n      <td>0</td>\n      <td>0</td>\n      <td>0</td>\n      <td>0</td>\n      <td>0</td>\n      <td>...</td>\n      <td>0</td>\n      <td>0</td>\n      <td>0</td>\n      <td>0</td>\n      <td>0</td>\n      <td>0</td>\n      <td>0</td>\n      <td>0</td>\n      <td>0</td>\n      <td>0</td>\n    </tr>\n    <tr>\n      <th>21878</th>\n      <td>0</td>\n      <td>0</td>\n      <td>0</td>\n      <td>0</td>\n      <td>0</td>\n      <td>0</td>\n      <td>0</td>\n      <td>0</td>\n      <td>0</td>\n      <td>0</td>\n      <td>...</td>\n      <td>0</td>\n      <td>0</td>\n      <td>0</td>\n      <td>0</td>\n      <td>0</td>\n      <td>0</td>\n      <td>0</td>\n      <td>0</td>\n      <td>0</td>\n      <td>0</td>\n    </tr>\n    <tr>\n      <th>21879</th>\n      <td>0</td>\n      <td>0</td>\n      <td>0</td>\n      <td>0</td>\n      <td>0</td>\n      <td>0</td>\n      <td>0</td>\n      <td>0</td>\n      <td>0</td>\n      <td>0</td>\n      <td>...</td>\n      <td>0</td>\n      <td>0</td>\n      <td>0</td>\n      <td>0</td>\n      <td>0</td>\n      <td>0</td>\n      <td>0</td>\n      <td>0</td>\n      <td>0</td>\n      <td>0</td>\n    </tr>\n  </tbody>\n</table>\n<p>462 rows × 1907 columns</p>\n</div>"
     },
     "execution_count": 274,
     "metadata": {},
     "output_type": "execute_result"
    }
   ],
   "source": [
    "# Create a new document-term matrix using only nouns and adjectives and remove common words with max_df\n",
    "cvna = CountVectorizer(stop_words=stop_words, max_df=.8)\n",
    "data_cvna = cvna.fit_transform(data_nouns_adj.Text)\n",
    "data_dtmna = pd.DataFrame(data_cvna.toarray(), columns=cvna.get_feature_names())\n",
    "data_dtmna.index = data_nouns_adj.index\n",
    "data_dtmna"
   ],
   "metadata": {
    "collapsed": false,
    "pycharm": {
     "name": "#%%\n"
    }
   }
  },
  {
   "cell_type": "code",
   "execution_count": 275,
   "outputs": [],
   "source": [
    "corpusna = matutils.Sparse2Corpus(scipy.sparse.csr_matrix(data_dtmna.transpose()))\n",
    "id2wordna = dict((v, k) for k, v in cvna.vocabulary_.items())"
   ],
   "metadata": {
    "collapsed": false,
    "pycharm": {
     "name": "#%%\n"
    }
   }
  },
  {
   "cell_type": "code",
   "execution_count": 289,
   "outputs": [
    {
     "data": {
      "text/plain": "[(0,\n  '0.429*\"shi\" + 0.419*\"yi\" + 0.229*\"hua\" + 0.226*\"yu\" + 0.206*\"di\" + 0.181*\"yuan\" + 0.181*\"zhou\" + 0.143*\"xiang\" + 0.141*\"wei\" + 0.138*\"ge\"'),\n (1,\n  '-0.276*\"hua\" + -0.257*\"wei\" + 0.252*\"yu\" + 0.202*\"yuan\" + 0.202*\"zhou\" + -0.196*\"wen\" + -0.193*\"qian\" + -0.193*\"zhuan\" + 0.158*\"shi\" + 0.149*\"ge\"'),\n (2,\n  '0.810*\"game\" + 0.199*\"join\" + 0.150*\"market\" + 0.135*\"moon\" + 0.131*\"nation\" + 0.128*\"new\" + 0.127*\"play\" + 0.091*\"shill\" + 0.087*\"players\" + 0.086*\"sign\"')]"
     },
     "execution_count": 289,
     "metadata": {},
     "output_type": "execute_result"
    }
   ],
   "source": [
    "lsina = models.LsiModel(corpus=corpusna, num_topics=3, id2word=id2wordna)\n",
    "lsina.print_topics()"
   ],
   "metadata": {
    "collapsed": false,
    "pycharm": {
     "name": "#%%\n"
    }
   }
  },
  {
   "cell_type": "code",
   "execution_count": 293,
   "outputs": [
    {
     "ename": "ValueError",
     "evalue": "We need at least 1 word to plot a word cloud, got 0.",
     "output_type": "error",
     "traceback": [
      "\u001B[0;31m---------------------------------------------------------------------------\u001B[0m",
      "\u001B[0;31mValueError\u001B[0m                                Traceback (most recent call last)",
      "\u001B[0;32m/var/folders/mz/c9vb3s9n2hn8zbzc6grlnzwc0000gn/T/ipykernel_71904/3923092936.py\u001B[0m in \u001B[0;36m<module>\u001B[0;34m\u001B[0m\n\u001B[1;32m      9\u001B[0m     \u001B[0mplt\u001B[0m\u001B[0;34m.\u001B[0m\u001B[0mtitle\u001B[0m\u001B[0;34m(\u001B[0m\u001B[0;34m\"Topic\"\u001B[0m \u001B[0;34m+\u001B[0m \u001B[0;34m\" \"\u001B[0m\u001B[0;34m+\u001B[0m \u001B[0mstr\u001B[0m\u001B[0;34m(\u001B[0m\u001B[0mtopic\u001B[0m\u001B[0;34m)\u001B[0m\u001B[0;34m)\u001B[0m\u001B[0;34m\u001B[0m\u001B[0;34m\u001B[0m\u001B[0m\n\u001B[1;32m     10\u001B[0m     \u001B[0mplt\u001B[0m\u001B[0;34m.\u001B[0m\u001B[0mshow\u001B[0m\u001B[0;34m(\u001B[0m\u001B[0;34m)\u001B[0m\u001B[0;34m\u001B[0m\u001B[0;34m\u001B[0m\u001B[0m\n\u001B[0;32m---> 11\u001B[0;31m \u001B[0mcreate_wordcloud\u001B[0m\u001B[0;34m(\u001B[0m\u001B[0mldana\u001B[0m\u001B[0;34m,\u001B[0m\u001B[0;36m3\u001B[0m\u001B[0;34m)\u001B[0m\u001B[0;34m\u001B[0m\u001B[0;34m\u001B[0m\u001B[0m\n\u001B[0m",
      "\u001B[0;32m/var/folders/mz/c9vb3s9n2hn8zbzc6grlnzwc0000gn/T/ipykernel_71904/3923092936.py\u001B[0m in \u001B[0;36mcreate_wordcloud\u001B[0;34m(model, topic)\u001B[0m\n\u001B[1;32m      4\u001B[0m     \u001B[0mtext\u001B[0m \u001B[0;34m=\u001B[0m \u001B[0;34m{\u001B[0m\u001B[0mword\u001B[0m\u001B[0;34m:\u001B[0m \u001B[0mvalue\u001B[0m \u001B[0;32mfor\u001B[0m \u001B[0mword\u001B[0m\u001B[0;34m,\u001B[0m \u001B[0mvalue\u001B[0m \u001B[0;32min\u001B[0m \u001B[0mmodel\u001B[0m\u001B[0;34m.\u001B[0m\u001B[0mshow_topic\u001B[0m\u001B[0;34m(\u001B[0m\u001B[0mtopic\u001B[0m\u001B[0;34m)\u001B[0m\u001B[0;34m}\u001B[0m\u001B[0;34m\u001B[0m\u001B[0;34m\u001B[0m\u001B[0m\n\u001B[1;32m      5\u001B[0m     \u001B[0mwc\u001B[0m \u001B[0;34m=\u001B[0m \u001B[0mWordCloud\u001B[0m\u001B[0;34m(\u001B[0m\u001B[0mbackground_color\u001B[0m\u001B[0;34m=\u001B[0m\u001B[0;34m\"white\"\u001B[0m\u001B[0;34m,\u001B[0m \u001B[0mmax_words\u001B[0m\u001B[0;34m=\u001B[0m\u001B[0;36m1000\u001B[0m\u001B[0;34m)\u001B[0m\u001B[0;34m\u001B[0m\u001B[0;34m\u001B[0m\u001B[0m\n\u001B[0;32m----> 6\u001B[0;31m     \u001B[0mwc\u001B[0m\u001B[0;34m.\u001B[0m\u001B[0mgenerate_from_frequencies\u001B[0m\u001B[0;34m(\u001B[0m\u001B[0mtext\u001B[0m\u001B[0;34m)\u001B[0m\u001B[0;34m\u001B[0m\u001B[0;34m\u001B[0m\u001B[0m\n\u001B[0m\u001B[1;32m      7\u001B[0m     \u001B[0mplt\u001B[0m\u001B[0;34m.\u001B[0m\u001B[0mimshow\u001B[0m\u001B[0;34m(\u001B[0m\u001B[0mwc\u001B[0m\u001B[0;34m,\u001B[0m \u001B[0minterpolation\u001B[0m\u001B[0;34m=\u001B[0m\u001B[0;34m\"bilinear\"\u001B[0m\u001B[0;34m)\u001B[0m\u001B[0;34m\u001B[0m\u001B[0;34m\u001B[0m\u001B[0m\n\u001B[1;32m      8\u001B[0m     \u001B[0mplt\u001B[0m\u001B[0;34m.\u001B[0m\u001B[0maxis\u001B[0m\u001B[0;34m(\u001B[0m\u001B[0;34m\"off\"\u001B[0m\u001B[0;34m)\u001B[0m\u001B[0;34m\u001B[0m\u001B[0;34m\u001B[0m\u001B[0m\n",
      "\u001B[0;32m/usr/local/lib/python3.9/site-packages/wordcloud/wordcloud.py\u001B[0m in \u001B[0;36mgenerate_from_frequencies\u001B[0;34m(self, frequencies, max_font_size)\u001B[0m\n\u001B[1;32m    401\u001B[0m         \u001B[0mfrequencies\u001B[0m \u001B[0;34m=\u001B[0m \u001B[0msorted\u001B[0m\u001B[0;34m(\u001B[0m\u001B[0mfrequencies\u001B[0m\u001B[0;34m.\u001B[0m\u001B[0mitems\u001B[0m\u001B[0;34m(\u001B[0m\u001B[0;34m)\u001B[0m\u001B[0;34m,\u001B[0m \u001B[0mkey\u001B[0m\u001B[0;34m=\u001B[0m\u001B[0mitemgetter\u001B[0m\u001B[0;34m(\u001B[0m\u001B[0;36m1\u001B[0m\u001B[0;34m)\u001B[0m\u001B[0;34m,\u001B[0m \u001B[0mreverse\u001B[0m\u001B[0;34m=\u001B[0m\u001B[0;32mTrue\u001B[0m\u001B[0;34m)\u001B[0m\u001B[0;34m\u001B[0m\u001B[0;34m\u001B[0m\u001B[0m\n\u001B[1;32m    402\u001B[0m         \u001B[0;32mif\u001B[0m \u001B[0mlen\u001B[0m\u001B[0;34m(\u001B[0m\u001B[0mfrequencies\u001B[0m\u001B[0;34m)\u001B[0m \u001B[0;34m<=\u001B[0m \u001B[0;36m0\u001B[0m\u001B[0;34m:\u001B[0m\u001B[0;34m\u001B[0m\u001B[0;34m\u001B[0m\u001B[0m\n\u001B[0;32m--> 403\u001B[0;31m             raise ValueError(\"We need at least 1 word to plot a word cloud, \"\n\u001B[0m\u001B[1;32m    404\u001B[0m                              \"got %d.\" % len(frequencies))\n\u001B[1;32m    405\u001B[0m         \u001B[0mfrequencies\u001B[0m \u001B[0;34m=\u001B[0m \u001B[0mfrequencies\u001B[0m\u001B[0;34m[\u001B[0m\u001B[0;34m:\u001B[0m\u001B[0mself\u001B[0m\u001B[0;34m.\u001B[0m\u001B[0mmax_words\u001B[0m\u001B[0;34m]\u001B[0m\u001B[0;34m\u001B[0m\u001B[0;34m\u001B[0m\u001B[0m\n",
      "\u001B[0;31mValueError\u001B[0m: We need at least 1 word to plot a word cloud, got 0."
     ]
    }
   ],
   "source": [
    "from wordcloud import WordCloud\n",
    "def create_wordcloud(model, topic):\n",
    "    text = {word: value for word, value in model.show_topic(topic)}\n",
    "    wc = WordCloud(background_color=\"white\", max_words=1000)\n",
    "    wc.generate_from_frequencies(text)\n",
    "    plt.imshow(wc, interpolation=\"bilinear\")\n",
    "    plt.axis(\"off\")\n",
    "    plt.title(\"Topic\" + \" \"+ str(topic))\n",
    "    plt.show()\n",
    "create_wordcloud(lsina,3)"
   ],
   "metadata": {
    "collapsed": false,
    "pycharm": {
     "name": "#%%\n"
    }
   }
  },
  {
   "cell_type": "code",
   "execution_count": 278,
   "outputs": [],
   "source": [
    "from gensim import corpora\n",
    "word2id = dict((k, v) for k, v in cvna.vocabulary_.items())\n",
    "d = corpora.Dictionary()\n",
    "d.id2token = id2word\n",
    "d.token2id = word2id"
   ],
   "metadata": {
    "collapsed": false,
    "pycharm": {
     "name": "#%%\n"
    }
   }
  },
  {
   "cell_type": "code",
   "execution_count": 279,
   "outputs": [],
   "source": [
    "def compute_coherence_values(corpus, dictionary, k):\n",
    "    lsi_model = models.LsiModel(corpus=corpus, num_topics=k, id2word=dictionary)\n",
    "    coherence_model_lda = CoherenceModel(model=lsi_model, corpus=corpus,dictionary=dictionary, coherence='u_mass')\n",
    "    return coherence_model_lda.get_coherence()"
   ],
   "metadata": {
    "collapsed": false,
    "pycharm": {
     "name": "#%%\n"
    }
   }
  },
  {
   "cell_type": "code",
   "execution_count": 281,
   "outputs": [],
   "source": [
    "from gensim import models\n",
    "\n",
    "# Topics range\n",
    "min_topics = 2\n",
    "max_topics = 10\n",
    "step_size = 1\n",
    "topics_range = range(min_topics, max_topics, step_size)\n",
    "\n",
    "model_results = {\n",
    "                 'Topics': [],\n",
    "                 'Coherence': []\n",
    "                }\n",
    "\n",
    "if 1 == 1:\n",
    "    # iterate through number of topics\n",
    "    for k in topics_range:\n",
    "        # get the coherence score for the given parameters\n",
    "        cv = compute_coherence_values(corpus=corpusna, dictionary=d,\n",
    "                                                  k=k)\n",
    "        # save the  results\n",
    "        model_results['Topics'].append(k)\n",
    "        model_results['Coherence'].append(cv)"
   ],
   "metadata": {
    "collapsed": false,
    "pycharm": {
     "name": "#%%\n"
    }
   }
  },
  {
   "cell_type": "code",
   "execution_count": 119,
   "outputs": [
    {
     "data": {
      "text/plain": "<Figure size 432x288 with 1 Axes>",
      "image/png": "[encoded data removed]"
     },
     "metadata": {
      "needs_background": "light"
     },
     "output_type": "display_data"
    }
   ],
   "source": [
    "import matplotlib.pyplot as plt\n",
    "plt.plot(model_results['Topics'], model_results['Coherence'])\n",
    "plt.xlabel(\"Number of Topics\")\n",
    "plt.ylabel(\"Coherence score\")\n",
    "plt.legend(\"coherence_values\", loc='best')\n",
    "plt.show()"
   ],
   "metadata": {
    "collapsed": false,
    "pycharm": {
     "name": "#%%\n"
    }
   }
  },
  {
   "cell_type": "code",
   "execution_count": 255,
   "outputs": [],
   "source": [
    "results = pd.DataFrame(model_results)"
   ],
   "metadata": {
    "collapsed": false,
    "pycharm": {
     "name": "#%%\n"
    }
   }
  },
  {
   "cell_type": "code",
   "execution_count": 256,
   "outputs": [],
   "source": [
    "results.to_csv(\"../data/resultsLSI062022.csv\",index=False)"
   ],
   "metadata": {
    "collapsed": false,
    "pycharm": {
     "name": "#%%\n"
    }
   }
  }
 ],
 "metadata": {
  "kernelspec": {
   "display_name": "Python 3",
   "language": "python",
   "name": "python3"
  },
  "language_info": {
   "codemirror_mode": {
    "name": "ipython",
    "version": 2
   },
   "file_extension": ".py",
   "mimetype": "text/x-python",
   "name": "python",
   "nbconvert_exporter": "python",
   "pygments_lexer": "ipython2",
   "version": "2.7.6"
  }
 },
 "nbformat": 4,
 "nbformat_minor": 0
}