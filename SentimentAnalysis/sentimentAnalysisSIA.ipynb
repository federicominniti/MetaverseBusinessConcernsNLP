{
 "cells": [
  {
   "cell_type": "code",
   "execution_count": null,
   "outputs": [],
   "source": [
    "import nltk\n",
    "import seaborn as sns\n",
    "sns.set_style('darkgrid')\n",
    "import plotly.offline as pyo\n",
    "pyo.init_notebook_mode()\n",
    "nltk.download('vader_lexicon')\n",
    "import numpy as np # linear algebra\n",
    "import pandas as pd # data processing, CSV file I/O (e.g. pd.read_csv)\n",
    "import re\n",
    "import nltk\n",
    "import matplotlib.pyplot as plt\n",
    "import seaborn as sns\n",
    "sns.set_style('darkgrid')\n",
    "import plotly.express as ex\n",
    "import plotly.graph_objs as go\n",
    "import plotly.offline as pyo\n",
    "from plotly.subplots import make_subplots\n",
    "pyo.init_notebook_mode()\n",
    "nltk.download('vader_lexicon')\n",
    "from nltk.sentiment.vader import SentimentIntensityAnalyzer as SIA\n",
    "from wordcloud import WordCloud,STOPWORDS"
   ],
   "metadata": {
    "collapsed": false,
    "pycharm": {
     "name": "#%%\n"
    }
   }
  },
  {
   "cell_type": "code",
   "execution_count": null,
   "outputs": [],
   "source": [
    "f_data = pd.read_csv('../tweets_final.csv')\n",
    "f_data.head(3)"
   ],
   "metadata": {
    "collapsed": false,
    "pycharm": {
     "name": "#%%\n"
    }
   }
  },
  {
   "cell_type": "code",
   "execution_count": null,
   "outputs": [],
   "source": [
    "#Remove twitter handlers\n",
    "f_data.Text = f_data.Text.apply(lambda x:re.sub('@[^\\s]+','',x))\n",
    "#remove hashtags\n",
    "f_data.Text = f_data.Text.apply(lambda x:re.sub(r'\\B#\\S+','',x))\n",
    "# Remove URLS\n",
    "f_data.Text = f_data.Text.apply(lambda x:re.sub(r\"http\\S+\", \"\", x))\n",
    "# Remove all the special characters\n",
    "f_data.Text = f_data.Text.apply(lambda x:' '.join(re.findall(r'\\w+', x)))\n",
    "#remove all single characters\n",
    "f_data.Text = f_data.Text.apply(lambda x:re.sub(r'\\s+[a-zA-Z]\\s+', '', x))\n",
    "# Substituting multiple spaces with single space\n",
    "f_data.Text = f_data.Text.apply(lambda x:re.sub(r'\\s+', ' ', x, flags=re.I))"
   ],
   "metadata": {
    "collapsed": false,
    "pycharm": {
     "name": "#%%\n"
    }
   }
  },
  {
   "cell_type": "code",
   "execution_count": null,
   "outputs": [],
   "source": [
    "sid = SIA()\n",
    "f_data['sentiment'] = f_data['Text'].apply(lambda x: sid.polarity_scores(' '.join(re.findall(r'\\w+',x.lower()))))\n",
    "f_data['Positive Sentiment'] = f_data['sentiment'].apply(lambda x: x['pos']+1*(10**-6))\n",
    "f_data['Neutral Sentiment'] = f_data['sentiment'].apply(lambda x: x['neu']+1*(10**-6))\n",
    "f_data['Negative Sentiment'] = f_data['sentiment'].apply(lambda x: x['neg']+1*(10**-6))\n",
    "\n",
    "f_data.drop(columns=['sentiment'],inplace=True)"
   ],
   "metadata": {
    "collapsed": false,
    "pycharm": {
     "name": "#%%\n"
    }
   }
  },
  {
   "cell_type": "code",
   "execution_count": null,
   "outputs": [],
   "source": [
    "f_data"
   ],
   "metadata": {
    "collapsed": false,
    "pycharm": {
     "name": "#%%\n"
    }
   }
  },
  {
   "cell_type": "code",
   "execution_count": null,
   "outputs": [],
   "source": [
    "#Number of Words\n",
    "f_data['Number_Of_Words'] = f_data.Text.apply(lambda x:len(x.split(' ')))\n",
    "#Average Word Length\n",
    "f_data['Mean_Word_Length'] = f_data.Text.apply(lambda x:np.round(np.mean([len(w) for w in x.split(' ')]),2))"
   ],
   "metadata": {
    "collapsed": false,
    "pycharm": {
     "name": "#%%\n"
    }
   }
  },
  {
   "cell_type": "code",
   "execution_count": null,
   "outputs": [],
   "source": [
    "plt.title('Distribution Of Sentiments Across Our Tweets',fontsize=19,fontweight='bold')\n",
    "sns.kdeplot(f_data['Negative Sentiment'])\n",
    "sns.kdeplot(f_data['Positive Sentiment'])\n",
    "sns.kdeplot(f_data['Neutral Sentiment'])\n",
    "plt.legend(title='Sentiment', loc='upper left', labels=['Negative', 'Positive', 'Neutral'])\n",
    "plt.show()"
   ],
   "metadata": {
    "collapsed": false,
    "pycharm": {
     "name": "#%%\n"
    }
   }
  },
  {
   "cell_type": "code",
   "execution_count": null,
   "outputs": [],
   "source": [
    "#Sorting And Feature Engineering\n",
    "f_data = f_data.sort_values(by='Datetime')\n",
    "ft_data=f_data.copy()\n",
    "ft_data['date'] = pd.to_datetime(f_data['Datetime']).dt.date\n",
    "ft_data['year']         = pd.DatetimeIndex(ft_data['date']).year\n",
    "ft_data['month']        = pd.DatetimeIndex(ft_data['date']).month\n",
    "ft_data['day']          = pd.DatetimeIndex(ft_data['date']).day\n",
    "ft_data['day_of_year']  = pd.DatetimeIndex(ft_data['date']).dayofyear\n",
    "ft_data['quarter']      = pd.DatetimeIndex(ft_data['date']).quarter\n",
    "ft_data['season']       = ft_data.month % 12 // 3 + 1"
   ],
   "metadata": {
    "collapsed": false,
    "pycharm": {
     "name": "#%%\n"
    }
   }
  },
  {
   "cell_type": "code",
   "execution_count": null,
   "outputs": [],
   "source": [
    "fig = make_subplots(rows=1, cols=2)\n",
    "fig.add_trace(go.Scatter(x=ft_data['date'], y=ft_data['Positive Sentiment'],name='Positive Sentiments'),row=1, col=1)\n",
    "fig.add_trace(go.Scatter(x=ft_data['date'], y=ft_data['Negative Sentiment'],name='Negative Sentiments'),row=1, col=2)\n",
    "fig.update_layout(height=600, width=900, title_text=\"Distribution Of Daily Sentiments\")\n",
    "fig.show()"
   ],
   "metadata": {
    "collapsed": false,
    "pycharm": {
     "name": "#%%\n"
    }
   }
  },
  {
   "cell_type": "code",
   "execution_count": null,
   "outputs": [],
   "source": [
    "b_date_mean = ft_data.groupby(by='date').mean().reset_index()\n",
    "b_date_std = ft_data.groupby(by='date').std().reset_index()\n",
    "\n",
    "\n",
    "fig = make_subplots(rows=2, cols=1,shared_xaxes=True,subplot_titles=('Daily Average Positive Sentiment',  'Daily Average Negative Sentiment'))\n",
    "\n",
    "fig.add_trace(\n",
    "    go.Scatter(x=b_date_mean['date'], y=b_date_mean['Positive Sentiment'],name='Positive Sentiment Mean'),\n",
    "    row=1, col=1\n",
    ")\n",
    "\n",
    "\n",
    "#positive mean\n",
    "fig.add_shape(type=\"line\",\n",
    "    x0=b_date_mean['date'].values[0], y0=b_date_mean['Positive Sentiment'].mean(), x1=b_date_mean['date'].values[-1], y1=b_date_mean['Positive Sentiment'].mean(),\n",
    "    line=dict(\n",
    "        color=\"Red\",\n",
    "        width=2,\n",
    "        dash=\"dashdot\",\n",
    "    ),\n",
    "        name='Mean'\n",
    ")\n",
    "fig.add_trace(\n",
    "    go.Scatter(x=b_date_mean['date'], y=b_date_mean['Negative Sentiment'],name='Negative Sentiment Mean'),\n",
    "    row=2, col=1\n",
    ")\n",
    "\n",
    "#negative mean\n",
    "fig.add_shape(type=\"line\",\n",
    "    x0=b_date_mean['date'].values[0], y0=b_date_mean['Negative Sentiment'].mean(), x1=b_date_mean['date'].values[-1], y1=b_date_mean['Negative Sentiment'].mean(),\n",
    "    line=dict(\n",
    "        color=\"Red\",\n",
    "        width=2,\n",
    "        dash=\"dashdot\",\n",
    "    ),\n",
    "        name='Mean',\n",
    "        xref='x2',\n",
    "        yref='y2'\n",
    ")\n",
    "\n",
    "\n",
    "fig['layout']['xaxis2']['title'] = 'Date'\n",
    "fig.update_layout(height=700, width=900, title_text=\"Sentiment Average Change With Time\")\n",
    "fig.show()"
   ],
   "metadata": {
    "collapsed": false,
    "pycharm": {
     "name": "#%%\n"
    }
   }
  },
  {
   "cell_type": "code",
   "execution_count": null,
   "outputs": [],
   "source": [
    "fig = make_subplots(rows=2, cols=1,shared_xaxes=True,subplot_titles=('Daily Deviation in Positive Sentiment',  'Daily Deviation in Negative Sentiment'))\n",
    "\n",
    "fig.add_trace(\n",
    "    go.Scatter(x=b_date_std['date'], y=b_date_std['Positive Sentiment'],name='Positive Sentiment SD'),\n",
    "    row=1, col=1\n",
    ")\n",
    "\n",
    "#negative mean\n",
    "fig.add_shape(type=\"line\",\n",
    "    x0=b_date_std['date'].values[0], y0=b_date_std['Negative Sentiment'].mean(), x1=b_date_std['date'].values[-1], y1=b_date_std['Negative Sentiment'].mean(),\n",
    "    line=dict(\n",
    "        color=\"Red\",\n",
    "        width=2,\n",
    "        dash=\"dashdot\",\n",
    "    ),\n",
    "        name='Mean',\n",
    "        xref='x2',\n",
    "        yref='y2'\n",
    ")\n",
    "\n",
    "#negative mean\n",
    "fig.add_shape(type=\"line\",\n",
    "    x0=b_date_std['date'].values[0], y0=b_date_std['Positive Sentiment'].mean(), x1=b_date_std['date'].values[-1], y1=b_date_std['Positive Sentiment'].mean(),\n",
    "    line=dict(\n",
    "        color=\"Red\",\n",
    "        width=2,\n",
    "        dash=\"dashdot\",\n",
    "    ),\n",
    "        name='Mean',\n",
    "        xref='x1',\n",
    "        yref='y1'\n",
    ")\n",
    "\n",
    "\n",
    "fig.add_trace(\n",
    "    go.Scatter(x=b_date_std['date'], y=b_date_std['Negative Sentiment'],name='Negative Sentiment SD'),\n",
    "    row=2, col=1\n",
    ")\n",
    "\n",
    "fig['layout']['xaxis2']['title'] = 'Date'\n",
    "fig.update_layout(height=700, width=900, title_text=\"Sentiment Deviation Change With Time\")\n",
    "fig.show()\n"
   ],
   "metadata": {
    "collapsed": false,
    "pycharm": {
     "name": "#%%\n"
    }
   }
  },
  {
   "cell_type": "code",
   "execution_count": null,
   "outputs": [],
   "source": [
    "#Da aggiornare con notizie metaverso\n",
    "import datetime\n",
    "b_date_count = ft_data.groupby(by='date').count().reset_index()\n",
    "b_date_count = b_date_count.rename(columns={'id':'Tweets Per Day'})\n",
    "fig = ex.line(b_date_count,x='date',y='Tweets Per Day')\n",
    "\n",
    "fig.add_shape(type=\"line\",\n",
    "    x0=b_date_count['date'].values[0], y0=b_date_count['Negative Sentiment'].mean(), x1=b_date_count['date'].values[-1], y1=b_date_count['Negative Sentiment'].mean(),\n",
    "    line=dict(\n",
    "        color=\"Red\",\n",
    "        width=2,\n",
    "        dash=\"dashdot\",\n",
    "    ),\n",
    "        name='Mean',\n",
    ")\n",
    "\n",
    "fig.update_traces(mode=\"markers+lines\")\n",
    "fig.update_layout(hovermode=\"x unified\")\n",
    "\n",
    "\n",
    "###annots\n",
    "b_date_count.date = pd.to_datetime(b_date_count.date)\n",
    "b_date_count_dt = b_date_count.set_index('date')\n",
    "fig.add_annotation(x=datetime.datetime(2021,2,19), y=b_date_count_dt.loc[pd.Timestamp('2021-02-19'),'year'],\n",
    "            text=r\"Israeli study finds Pfizer vaccine 85% effective after first shot\",\n",
    "            showarrow=True,\n",
    "            arrowhead=3,\n",
    "            yshift=5,bordercolor=\"#c7c7c7\")\n",
    "\n",
    "fig.add_annotation(x=datetime.datetime(2021,1,29), y=b_date_count_dt.loc[pd.Timestamp('2021-01-29'),'year'],\n",
    "            text=r\"vaccine found to be effective against variant discovered in U.K.\",\n",
    "            showarrow=True,\n",
    "            arrowhead=3,\n",
    "            yshift=5,ay=-160,bordercolor=\"#c7c7c7\")\n",
    "fig.add_annotation(x=datetime.datetime(2021,1,8), y=b_date_count_dt.loc[pd.Timestamp('2021-01-8'),'year'],\n",
    "            text=r\"Commission proposes to purchase up to 300 million additional doses of BioNTech-Pfizer vaccine\",\n",
    "            showarrow=True,\n",
    "            arrowhead=3,\n",
    "            yshift=5,ay=-30,bordercolor=\"#c7c7c7\")\n",
    "\n",
    "fig.add_annotation(x=datetime.datetime(2021,1,20), y=b_date_count_dt.loc[pd.Timestamp('2021-01-20'),'year'],\n",
    "            text=r\"The presidency of Joe Biden began\",\n",
    "            showarrow=True,\n",
    "            arrowhead=3,\n",
    "            yshift=3,ay=120,bordercolor=\"#c7c7c7\")\n",
    "\n",
    "fig.update_layout(title='<b>Daily Tweet Count<b>',width=1200)\n",
    "fig.show()"
   ],
   "metadata": {
    "collapsed": false,
    "pycharm": {
     "name": "#%%\n"
    }
   }
  },
  {
   "cell_type": "code",
   "execution_count": null,
   "outputs": [],
   "source": [
    "plt.subplot(2,1,1)\n",
    "plt.title('Selecting A Cut-Off For Most Positive/Negative Tweets',fontsize=19,fontweight='bold')\n",
    "\n",
    "ax0 = sns.kdeplot(f_data['Negative Sentiment'],bw=0.1)\n",
    "\n",
    "kde_x, kde_y = ax0.lines[0].get_data()\n",
    "ax0.fill_between(kde_x, kde_y, where=(kde_x>0.25) ,\n",
    "                interpolate=True, color='tab:blue',alpha=0.6)\n",
    "\n",
    "plt.annotate('Cut-Off For Most Negative Tweets', xy=(0.25, 0.5), xytext=(0.4, 2),\n",
    "            arrowprops=dict(facecolor='red', shrink=0.05),fontsize=16,fontweight='bold')\n",
    "\n",
    "ax0.axvline(f_data['Negative Sentiment'].mean(), color='r', linestyle='--')\n",
    "ax0.axvline(f_data['Negative Sentiment'].median(), color='tab:orange', linestyle='-')\n",
    "plt.legend({'PDF':f_data['Negative Sentiment'],r'Mean: {:.2f}'.format(f_data['Negative Sentiment'].mean()):f_data['Negative Sentiment'].mean(),\n",
    "            r'Median: {:.2f}'.format(f_data['Negative Sentiment'].median()):f_data['Negative Sentiment'].median()})\n",
    "\n",
    "plt.subplot(2,1,2)\n",
    "\n",
    "ax1 = sns.kdeplot(f_data['Positive Sentiment'],bw=0.1,color='green')\n",
    "\n",
    "plt.annotate('Cut-Off For Most Positive Tweets', xy=(0.4, 0.43), xytext=(0.4, 2),\n",
    "            arrowprops=dict(facecolor='red', shrink=0.05),fontsize=16,fontweight='bold')\n",
    "kde_x, kde_y = ax1.lines[0].get_data()\n",
    "ax1.fill_between(kde_x, kde_y, where=(kde_x>0.4) ,\n",
    "                interpolate=True, color='tab:green',alpha=0.6)\n",
    "ax1.set_xlabel('Sentiment Strength',fontsize=18)\n",
    "\n",
    "\n",
    "ax1.axvline(f_data['Positive Sentiment'].mean(), color='r', linestyle='--')\n",
    "ax1.axvline(f_data['Positive Sentiment'].median(), color='tab:orange', linestyle='-')\n",
    "plt.legend({'PDF':f_data['Positive Sentiment'],r'Mean: {:.2f}'.format(f_data['Positive Sentiment'].mean()):f_data['Positive Sentiment'].mean(),\n",
    "            r'Median: {:.2f}'.format(f_data['Positive Sentiment'].median()):f_data['Positive Sentiment'].median()})\n",
    "\n",
    "plt.show()"
   ],
   "metadata": {
    "collapsed": false,
    "pycharm": {
     "name": "#%%\n"
    }
   }
  },
  {
   "cell_type": "code",
   "execution_count": null,
   "outputs": [],
   "source": [
    "Most_Positive = f_data[f_data['Positive Sentiment'].between(0.4,1)]\n",
    "Most_Negative = f_data[f_data['Negative Sentiment'].between(0.25,1)]"
   ],
   "metadata": {
    "collapsed": false,
    "pycharm": {
     "name": "#%%\n"
    }
   }
  },
  {
   "cell_type": "code",
   "execution_count": null,
   "outputs": [],
   "source": [
    "Most_Negative"
   ],
   "metadata": {
    "collapsed": false,
    "pycharm": {
     "name": "#%%\n"
    }
   }
  },
  {
   "cell_type": "code",
   "execution_count": null,
   "outputs": [],
   "source": [
    "Most_Positive_text = ' '.join(Most_Positive.text)\n",
    "Most_Negative_text = ' '.join(Most_Negative.text)\n",
    "\n",
    "\n",
    "pwc = WordCloud(width=600,height=400,collocations = False,background_color='white').generate(Most_Positive_text)\n",
    "nwc = WordCloud(width=600,height=400,collocations = False,background_color='white').generate(Most_Negative_text)\n",
    "\n",
    "plt.subplot(1,2,1)\n",
    "plt.title('Common Words Among Most Positive Tweets',fontsize=16,fontweight='bold')\n",
    "plt.imshow(pwc)\n",
    "plt.axis('off')\n",
    "plt.subplot(1,2,2)\n",
    "plt.title('Common Words Among Most Negative Tweets',fontsize=16,fontweight='bold')\n",
    "plt.imshow(nwc)\n",
    "plt.axis('off')\n",
    "\n",
    "plt.show()"
   ],
   "metadata": {
    "collapsed": false,
    "pycharm": {
     "name": "#%%\n"
    }
   }
  },
  {
   "cell_type": "code",
   "execution_count": null,
   "outputs": [],
   "source": [
    "l_t = Most_Positive_text\n",
    "\n",
    "w1_dict = dict()\n",
    "for word in l_t.split():\n",
    "    w= word.strip()\n",
    "    if w in STOPWORDS:\n",
    "        continue\n",
    "    else:\n",
    "        w1_dict[w] = w1_dict.get(w,0)+1\n",
    "w1_dict = {k: v for k, v in sorted(w1_dict.items(), key=lambda item: item[1],reverse=True)}\n",
    "\n",
    "l_t = Most_Negative_text\n",
    "w2_dict = dict()\n",
    "for word in l_t.split():\n",
    "    w= word.strip()\n",
    "    if w in STOPWORDS:\n",
    "        continue\n",
    "    else:\n",
    "        w2_dict[w] = w2_dict.get(w,0)+1\n",
    "w2_dict = {k: v for k, v in sorted(w2_dict.items(), key=lambda item: item[1],reverse=True)}\n",
    "\n",
    "top_10_pos = list(w1_dict.keys())[:10]\n",
    "top_10_neg = list(w2_dict.keys())[:10]\n",
    "\n",
    "plt.subplot(1,2,1)\n",
    "w_c = WordCloud(width=600,height=400,collocations = False,colormap='nipy_spectral',background_color='white').generate(' '.join(top_10_pos))\n",
    "plt.title('Top 10 Words In Most Positive Tweets',fontsize=19,fontweight='bold')\n",
    "plt.imshow(w_c)\n",
    "plt.axis('off')\n",
    "plt.subplot(1,2,2)\n",
    "w_c = WordCloud(width=600,height=400,collocations = False,colormap='nipy_spectral',background_color='white').generate(' '.join(top_10_neg))\n",
    "plt.title('Top 10 Words In Most Negative Tweets',fontsize=19,fontweight='bold')\n",
    "plt.imshow(w_c)\n",
    "plt.axis('off')\n",
    "plt.show()"
   ],
   "metadata": {
    "collapsed": false,
    "pycharm": {
     "name": "#%%\n"
    }
   }
  },
  {
   "cell_type": "code",
   "execution_count": 11,
   "outputs": [
    {
     "name": "stderr",
     "output_type": "stream",
     "text": [
      "/usr/local/lib/python3.9/site-packages/seaborn/distributions.py:1699: FutureWarning:\n",
      "\n",
      "The `bw` parameter is deprecated in favor of `bw_method` and `bw_adjust`. Using 0.1 for `bw_method`, but please see the docs for the new parameters and update your code.\n",
      "\n",
      "/usr/local/lib/python3.9/site-packages/seaborn/distributions.py:1699: FutureWarning:\n",
      "\n",
      "The `bw` parameter is deprecated in favor of `bw_method` and `bw_adjust`. Using 0.1 for `bw_method`, but please see the docs for the new parameters and update your code.\n",
      "\n",
      "/usr/local/lib/python3.9/site-packages/seaborn/distributions.py:1699: FutureWarning:\n",
      "\n",
      "The `bw` parameter is deprecated in favor of `bw_method` and `bw_adjust`. Using 0.1 for `bw_method`, but please see the docs for the new parameters and update your code.\n",
      "\n"
     ]
    },
    {
     "data": {
      "text/plain": "<Figure size 432x288 with 1 Axes>",
      "image/png": "[encoded data removed]"
     },
     "metadata": {
      "needs_background": "light"
     },
     "output_type": "display_data"
    }
   ],
   "source": [
    "plt.title('Distribution Of Sentiments Across Our Tweets',fontsize=19,fontweight='bold')\n",
    "sns.kdeplot(f_data['Negative Sentiment'])\n",
    "sns.kdeplot(f_data['Positive Sentiment'])\n",
    "sns.kdeplot(f_data['Neutral Sentiment'])\n",
    "plt.legend(title='Sentiment', loc='upper left', labels=['Negative', 'Positive', 'Neutral'])\n",
    "plt.show()"
   ],
   "metadata": {
    "collapsed": false,
    "pycharm": {
     "name": "#%%\n"
    }
   }
  },
  {
   "cell_type": "code",
   "execution_count": null,
   "outputs": [],
   "source": [
    "#Sorting And Feature Engineering\n",
    "f_data = f_data.sort_values(by='Datetime')\n",
    "ft_data=f_data.copy()\n",
    "ft_data['date'] = pd.to_datetime(f_data['Datetime']).dt.date\n",
    "ft_data['year']         = pd.DatetimeIndex(ft_data['date']).year\n",
    "ft_data['month']        = pd.DatetimeIndex(ft_data['date']).month\n",
    "ft_data['day']          = pd.DatetimeIndex(ft_data['date']).day\n",
    "ft_data['day_of_year']  = pd.DatetimeIndex(ft_data['date']).dayofyear\n",
    "ft_data['quarter']      = pd.DatetimeIndex(ft_data['date']).quarter\n",
    "ft_data['season']       = ft_data.month % 12 // 3 + 1"
   ],
   "metadata": {
    "collapsed": false,
    "pycharm": {
     "name": "#%%\n",
     "is_executing": true
    }
   }
  },
  {
   "cell_type": "code",
   "execution_count": 14,
   "outputs": [],
   "source": [
    "fig = make_subplots(rows=1, cols=2)\n",
    "fig.add_trace(go.Scatter(x=ft_data['date'], y=ft_data['Positive Sentiment'],name='Positive Sentiments'),row=1, col=1)\n",
    "fig.add_trace(go.Scatter(x=ft_data['date'], y=ft_data['Negative Sentiment'],name='Negative Sentiments'),row=1, col=2)\n",
    "fig.update_layout(height=600, width=900, title_text=\"Distribution Of Daily Sentiments\")\n",
    "fig.show()"
   ],
   "metadata": {
    "collapsed": false,
    "pycharm": {
     "name": "#%%\n"
    }
   }
  },
  {
   "cell_type": "code",
   "execution_count": 19,
   "outputs": [
    {
     "data": {
      "application/vnd.plotly.v1+json": {
       "data": [
        {
         "name": "Positive Sentiment Mean",
         "x": [
          "2020-12-12",
          "2020-12-13",
          "2020-12-14",
          "2020-12-15",
          "2020-12-16",
          "2020-12-17",
          "2020-12-18",
          "2020-12-19",
          "2020-12-20",
          "2020-12-21",
          "2020-12-22",
          "2020-12-23",
          "2020-12-24",
          "2020-12-25",
          "2020-12-26",
          "2020-12-27",
          "2020-12-28",
          "2020-12-29",
          "2020-12-30",
          "2020-12-31",
          "2021-01-01",
          "2021-01-02",
          "2021-01-03",
          "2021-01-04",
          "2021-01-05",
          "2021-01-06",
          "2021-01-07",
          "2021-01-08",
          "2021-01-09",
          "2021-01-10",
          "2021-01-11",
          "2021-01-12",
          "2021-01-13",
          "2021-01-14",
          "2021-01-15",
          "2021-01-16",
          "2021-01-17",
          "2021-01-18",
          "2021-01-19",
          "2021-01-20",
          "2021-01-21",
          "2021-01-22",
          "2021-01-23",
          "2021-01-24",
          "2021-01-25",
          "2021-01-26",
          "2021-01-27",
          "2021-01-28",
          "2021-01-29",
          "2021-01-30",
          "2021-01-31",
          "2021-02-01",
          "2021-02-02",
          "2021-02-03",
          "2021-02-04",
          "2021-02-05",
          "2021-02-06",
          "2021-02-07",
          "2021-02-08",
          "2021-02-09",
          "2021-02-10",
          "2021-02-11",
          "2021-02-12",
          "2021-02-13",
          "2021-02-14",
          "2021-02-15",
          "2021-02-16",
          "2021-02-17",
          "2021-02-18",
          "2021-02-19",
          "2021-02-20",
          "2021-02-21",
          "2021-02-22",
          "2021-02-23",
          "2021-02-24",
          "2021-02-25",
          "2021-02-26",
          "2021-02-27",
          "2021-02-28",
          "2021-03-01",
          "2021-03-02",
          "2021-03-03",
          "2021-03-04",
          "2021-03-05",
          "2021-03-06",
          "2021-03-07",
          "2021-03-08",
          "2021-03-09",
          "2021-03-10",
          "2021-03-11",
          "2021-03-12",
          "2021-03-13",
          "2021-03-14",
          "2021-03-15",
          "2021-03-16",
          "2021-03-17",
          "2021-03-18",
          "2021-03-19",
          "2021-03-20",
          "2021-03-21",
          "2021-03-22",
          "2021-03-23",
          "2021-03-24",
          "2021-03-25",
          "2021-03-26",
          "2021-03-27",
          "2021-03-28",
          "2021-03-29",
          "2021-03-30",
          "2021-03-31",
          "2021-04-01",
          "2021-04-02",
          "2021-04-03",
          "2021-04-04",
          "2021-04-05",
          "2021-04-06",
          "2021-04-07",
          "2021-04-08",
          "2021-04-09",
          "2021-04-10",
          "2021-04-11",
          "2021-04-12",
          "2021-04-13",
          "2021-04-14",
          "2021-04-15",
          "2021-04-16",
          "2021-04-17",
          "2021-04-18",
          "2021-04-19",
          "2021-04-20",
          "2021-04-21"
         ],
         "y": [
          0.11982639682539682,
          0.08614385714285713,
          0.10248275182481752,
          0.10141433333333333,
          0.11130655555555556,
          0.11162689928057554,
          0.10409921428571427,
          0.12394645454545454,
          0.0878245294117647,
          0.12566766666666665,
          0.1080901719745223,
          0.12490343902439024,
          0.08638696491228069,
          0.08690099999999999,
          0.1049797234042553,
          0.11050947457627118,
          0.08596326415094338,
          0.06594217647058824,
          0.10895427102803738,
          0.1279871111111111,
          0.10859047368421051,
          0.1193142530120482,
          0.12512600000000001,
          0.08848711111111111,
          0.11391090990990992,
          0.1116527857142857,
          0.10257994736842106,
          0.14868671428571428,
          0.10141276470588234,
          0.12730608474576272,
          0.11959239784946236,
          0.13795383018867924,
          0.13703703603603604,
          0.11778401886792453,
          0.1022982972972973,
          0.07587696899224806,
          0.07996059595959595,
          0.12128887878787878,
          0.081121,
          0.11116446153846152,
          0.12226996551724137,
          0.1270933076923077,
          0.10249330769230769,
          0.08256703773584906,
          0.08409190909090909,
          0.11184715384615385,
          0.12072010112359549,
          0.144926,
          0.12240724999999998,
          0.09959004109589041,
          0.08880099999999999,
          0.09580745161290322,
          0.13260477358490566,
          0.10278478378378378,
          0.11847926086956523,
          0.07498671428571428,
          0.10051382051282051,
          0.08834582758620689,
          0.07736942105263157,
          0.0805152857142857,
          0.06295554545454546,
          0.19336463636363635,
          0.09663988888888889,
          0.09817491304347825,
          0.13038809677419355,
          0.06783970967741935,
          0.08561463636363636,
          0.10929190909090909,
          0.09873569387755102,
          0.11282517582417582,
          0.08259074358974358,
          0.14424544444444443,
          0.12451382051282052,
          0.09645338095238094,
          0.12099036170212767,
          0.12671839130434784,
          0.146026641025641,
          0.14303548275862069,
          0.07370099999999999,
          0.13470831707317074,
          0.0781870465116279,
          0.1228946170212766,
          0.08141563414634147,
          0.09826929268292682,
          0.15739230434782608,
          0.058556555555555556,
          0.1426295714285714,
          0.1249797234042553,
          0.1518928918918919,
          0.1003060847457627,
          0.155751,
          0.1219057619047619,
          0.1323253243243243,
          0.07841609433962264,
          0.10748937209302324,
          0.0998733404255319,
          0.08513893103448275,
          0.12889573684210526,
          0.08241766666666667,
          0.07663736363636363,
          0.15358923529411764,
          0.17780745161290323,
          0.09029511764705882,
          0.097501,
          0.09355655555555556,
          0.08613143478260869,
          0.159501,
          0.11213143478260869,
          0.11841766666666666,
          0.1441480588235294,
          0.12716379069767442,
          0.18753946153846152,
          0.09620100000000001,
          0.05615484615384615,
          0.1521588947368421,
          0.12457242857142857,
          0.093901,
          0.136451,
          0.12470099999999999,
          0.0771914761904762,
          0.08517747058823529,
          0.17772827272727273,
          0.12273433333333332,
          0.08914385714285714,
          0.079001,
          0.074126,
          0.088401,
          0.09086766666666665,
          0.11640099999999999,
          0.08450099999999999,
          0.027834333333333336
         ],
         "type": "scatter",
         "xaxis": "x",
         "yaxis": "y"
        },
        {
         "name": "Negative Sentiment Mean",
         "x": [
          "2020-12-12",
          "2020-12-13",
          "2020-12-14",
          "2020-12-15",
          "2020-12-16",
          "2020-12-17",
          "2020-12-18",
          "2020-12-19",
          "2020-12-20",
          "2020-12-21",
          "2020-12-22",
          "2020-12-23",
          "2020-12-24",
          "2020-12-25",
          "2020-12-26",
          "2020-12-27",
          "2020-12-28",
          "2020-12-29",
          "2020-12-30",
          "2020-12-31",
          "2021-01-01",
          "2021-01-02",
          "2021-01-03",
          "2021-01-04",
          "2021-01-05",
          "2021-01-06",
          "2021-01-07",
          "2021-01-08",
          "2021-01-09",
          "2021-01-10",
          "2021-01-11",
          "2021-01-12",
          "2021-01-13",
          "2021-01-14",
          "2021-01-15",
          "2021-01-16",
          "2021-01-17",
          "2021-01-18",
          "2021-01-19",
          "2021-01-20",
          "2021-01-21",
          "2021-01-22",
          "2021-01-23",
          "2021-01-24",
          "2021-01-25",
          "2021-01-26",
          "2021-01-27",
          "2021-01-28",
          "2021-01-29",
          "2021-01-30",
          "2021-01-31",
          "2021-02-01",
          "2021-02-02",
          "2021-02-03",
          "2021-02-04",
          "2021-02-05",
          "2021-02-06",
          "2021-02-07",
          "2021-02-08",
          "2021-02-09",
          "2021-02-10",
          "2021-02-11",
          "2021-02-12",
          "2021-02-13",
          "2021-02-14",
          "2021-02-15",
          "2021-02-16",
          "2021-02-17",
          "2021-02-18",
          "2021-02-19",
          "2021-02-20",
          "2021-02-21",
          "2021-02-22",
          "2021-02-23",
          "2021-02-24",
          "2021-02-25",
          "2021-02-26",
          "2021-02-27",
          "2021-02-28",
          "2021-03-01",
          "2021-03-02",
          "2021-03-03",
          "2021-03-04",
          "2021-03-05",
          "2021-03-06",
          "2021-03-07",
          "2021-03-08",
          "2021-03-09",
          "2021-03-10",
          "2021-03-11",
          "2021-03-12",
          "2021-03-13",
          "2021-03-14",
          "2021-03-15",
          "2021-03-16",
          "2021-03-17",
          "2021-03-18",
          "2021-03-19",
          "2021-03-20",
          "2021-03-21",
          "2021-03-22",
          "2021-03-23",
          "2021-03-24",
          "2021-03-25",
          "2021-03-26",
          "2021-03-27",
          "2021-03-28",
          "2021-03-29",
          "2021-03-30",
          "2021-03-31",
          "2021-04-01",
          "2021-04-02",
          "2021-04-03",
          "2021-04-04",
          "2021-04-05",
          "2021-04-06",
          "2021-04-07",
          "2021-04-08",
          "2021-04-09",
          "2021-04-10",
          "2021-04-11",
          "2021-04-12",
          "2021-04-13",
          "2021-04-14",
          "2021-04-15",
          "2021-04-16",
          "2021-04-17",
          "2021-04-18",
          "2021-04-19",
          "2021-04-20",
          "2021-04-21"
         ],
         "y": [
          0.04706449206349206,
          0.0448479387755102,
          0.025942605839416058,
          0.036281,
          0.05957044444444445,
          0.05933193525179856,
          0.05175992857142857,
          0.048801,
          0.05385394117647059,
          0.0510402156862745,
          0.03731947133757962,
          0.042846528455284555,
          0.039509771929824564,
          0.035551,
          0.03002227659574468,
          0.024323033898305087,
          0.0710953396226415,
          0.06069511764705882,
          0.05264585981308411,
          0.049487111111111114,
          0.09548521052631578,
          0.04676003614457832,
          0.04266171428571429,
          0.05870933333333333,
          0.043145144144144144,
          0.04495635714285714,
          0.041737842105263157,
          0.048948619047619046,
          0.03377158823529412,
          0.04740777966101695,
          0.04743110752688172,
          0.03421798113207547,
          0.049964963963963965,
          0.03877458490566038,
          0.06389964864864865,
          0.08808627131782945,
          0.08246564646464646,
          0.08498584848484848,
          0.053071,
          0.061626,
          0.045738931034482753,
          0.06506253846153846,
          0.07117023076923076,
          0.05337835849056604,
          0.04706593506493506,
          0.05284715384615384,
          0.033102123595505614,
          0.032026,
          0.03839683333333333,
          0.06550784931506849,
          0.045001,
          0.05071067741935484,
          0.031001,
          0.029676675675675675,
          0.03852273913043478,
          0.04438671428571428,
          0.05212920512820513,
          0.016276862068965517,
          0.041343105263157896,
          0.028058142857142858,
          0.0396600909090909,
          0.029879787878787877,
          0.039917666666666664,
          0.01891404347826087,
          0.07713003225806452,
          0.0656784193548387,
          0.051410090909090905,
          0.06483736363636362,
          0.07626630612244897,
          0.05126473626373626,
          0.037770230769230764,
          0.05086766666666666,
          0.06984715384615384,
          0.042262904761904765,
          0.03521376595744681,
          0.04803360869565217,
          0.02337279487179487,
          0.034552724137931035,
          0.044751,
          0.031074170731707318,
          0.02969867441860465,
          0.03327759574468085,
          0.03241563414634146,
          0.03370831707317073,
          0.009566217391304348,
          0.04814914814814814,
          0.01594385714285714,
          0.021235042553191488,
          0.028676675675675677,
          0.031085745762711864,
          0.040001,
          0.07847719047619048,
          0.044217216216216215,
          0.0739632641509434,
          0.0506056511627907,
          0.03123504255319149,
          0.038725137931034485,
          0.06839573684210527,
          0.026806555555555552,
          0.04913736363636363,
          0.03773629411764706,
          0.04503325806451613,
          0.0691774705882353,
          0.08050099999999999,
          0.010223222222222224,
          0.03404447826086956,
          0.0869385,
          0.033696652173913044,
          0.024834333333333333,
          0.014795117647058823,
          0.03343123255813953,
          0.02669330769230769,
          0.084851,
          0.03677023076923077,
          0.012843105263157894,
          0.028179571428571425,
          0.04106766666666666,
          0.034076,
          0.027801,
          0.04238195238095238,
          0.026648058823529414,
          0.020046454545454548,
          0.03576766666666666,
          0.04821528571428572,
          0.09712221212121211,
          0.040813499999999996,
          0.06946766666666666,
          0.05366766666666667,
          0.03133433333333333,
          0.021046454545454545,
          1.0E-6
         ],
         "type": "scatter",
         "xaxis": "x2",
         "yaxis": "y2"
        }
       ],
       "layout": {
        "template": {
         "data": {
          "histogram2dcontour": [
           {
            "type": "histogram2dcontour",
            "colorbar": {
             "outlinewidth": 0,
             "ticks": ""
            },
            "colorscale": [
             [
              0.0,
              "#0d0887"
             ],
             [
              0.1111111111111111,
              "#46039f"
             ],
             [
              0.2222222222222222,
              "#7201a8"
             ],
             [
              0.3333333333333333,
              "#9c179e"
             ],
             [
              0.4444444444444444,
              "#bd3786"
             ],
             [
              0.5555555555555556,
              "#d8576b"
             ],
             [
              0.6666666666666666,
              "#ed7953"
             ],
             [
              0.7777777777777778,
              "#fb9f3a"
             ],
             [
              0.8888888888888888,
              "#fdca26"
             ],
             [
              1.0,
              "#f0f921"
             ]
            ]
           }
          ],
          "choropleth": [
           {
            "type": "choropleth",
            "colorbar": {
             "outlinewidth": 0,
             "ticks": ""
            }
           }
          ],
          "histogram2d": [
           {
            "type": "histogram2d",
            "colorbar": {
             "outlinewidth": 0,
             "ticks": ""
            },
            "colorscale": [
             [
              0.0,
              "#0d0887"
             ],
             [
              0.1111111111111111,
              "#46039f"
             ],
             [
              0.2222222222222222,
              "#7201a8"
             ],
             [
              0.3333333333333333,
              "#9c179e"
             ],
             [
              0.4444444444444444,
              "#bd3786"
             ],
             [
              0.5555555555555556,
              "#d8576b"
             ],
             [
              0.6666666666666666,
              "#ed7953"
             ],
             [
              0.7777777777777778,
              "#fb9f3a"
             ],
             [
              0.8888888888888888,
              "#fdca26"
             ],
             [
              1.0,
              "#f0f921"
             ]
            ]
           }
          ],
          "heatmap": [
           {
            "type": "heatmap",
            "colorbar": {
             "outlinewidth": 0,
             "ticks": ""
            },
            "colorscale": [
             [
              0.0,
              "#0d0887"
             ],
             [
              0.1111111111111111,
              "#46039f"
             ],
             [
              0.2222222222222222,
              "#7201a8"
             ],
             [
              0.3333333333333333,
              "#9c179e"
             ],
             [
              0.4444444444444444,
              "#bd3786"
             ],
             [
              0.5555555555555556,
              "#d8576b"
             ],
             [
              0.6666666666666666,
              "#ed7953"
             ],
             [
              0.7777777777777778,
              "#fb9f3a"
             ],
             [
              0.8888888888888888,
              "#fdca26"
             ],
             [
              1.0,
              "#f0f921"
             ]
            ]
           }
          ],
          "heatmapgl": [
           {
            "type": "heatmapgl",
            "colorbar": {
             "outlinewidth": 0,
             "ticks": ""
            },
            "colorscale": [
             [
              0.0,
              "#0d0887"
             ],
             [
              0.1111111111111111,
              "#46039f"
             ],
             [
              0.2222222222222222,
              "#7201a8"
             ],
             [
              0.3333333333333333,
              "#9c179e"
             ],
             [
              0.4444444444444444,
              "#bd3786"
             ],
             [
              0.5555555555555556,
              "#d8576b"
             ],
             [
              0.6666666666666666,
              "#ed7953"
             ],
             [
              0.7777777777777778,
              "#fb9f3a"
             ],
             [
              0.8888888888888888,
              "#fdca26"
             ],
             [
              1.0,
              "#f0f921"
             ]
            ]
           }
          ],
          "contourcarpet": [
           {
            "type": "contourcarpet",
            "colorbar": {
             "outlinewidth": 0,
             "ticks": ""
            }
           }
          ],
          "contour": [
           {
            "type": "contour",
            "colorbar": {
             "outlinewidth": 0,
             "ticks": ""
            },
            "colorscale": [
             [
              0.0,
              "#0d0887"
             ],
             [
              0.1111111111111111,
              "#46039f"
             ],
             [
              0.2222222222222222,
              "#7201a8"
             ],
             [
              0.3333333333333333,
              "#9c179e"
             ],
             [
              0.4444444444444444,
              "#bd3786"
             ],
             [
              0.5555555555555556,
              "#d8576b"
             ],
             [
              0.6666666666666666,
              "#ed7953"
             ],
             [
              0.7777777777777778,
              "#fb9f3a"
             ],
             [
              0.8888888888888888,
              "#fdca26"
             ],
             [
              1.0,
              "#f0f921"
             ]
            ]
           }
          ],
          "surface": [
           {
            "type": "surface",
            "colorbar": {
             "outlinewidth": 0,
             "ticks": ""
            },
            "colorscale": [
             [
              0.0,
              "#0d0887"
             ],
             [
              0.1111111111111111,
              "#46039f"
             ],
             [
              0.2222222222222222,
              "#7201a8"
             ],
             [
              0.3333333333333333,
              "#9c179e"
             ],
             [
              0.4444444444444444,
              "#bd3786"
             ],
             [
              0.5555555555555556,
              "#d8576b"
             ],
             [
              0.6666666666666666,
              "#ed7953"
             ],
             [
              0.7777777777777778,
              "#fb9f3a"
             ],
             [
              0.8888888888888888,
              "#fdca26"
             ],
             [
              1.0,
              "#f0f921"
             ]
            ]
           }
          ],
          "mesh3d": [
           {
            "type": "mesh3d",
            "colorbar": {
             "outlinewidth": 0,
             "ticks": ""
            }
           }
          ],
          "scatter": [
           {
            "marker": {
             "line": {
              "color": "#283442"
             }
            },
            "type": "scatter"
           }
          ],
          "parcoords": [
           {
            "type": "parcoords",
            "line": {
             "colorbar": {
              "outlinewidth": 0,
              "ticks": ""
             }
            }
           }
          ],
          "scatterpolargl": [
           {
            "type": "scatterpolargl",
            "marker": {
             "colorbar": {
              "outlinewidth": 0,
              "ticks": ""
             }
            }
           }
          ],
          "bar": [
           {
            "error_x": {
             "color": "#f2f5fa"
            },
            "error_y": {
             "color": "#f2f5fa"
            },
            "marker": {
             "line": {
              "color": "rgb(17,17,17)",
              "width": 0.5
             },
             "pattern": {
              "fillmode": "overlay",
              "size": 10,
              "solidity": 0.2
             }
            },
            "type": "bar"
           }
          ],
          "scattergeo": [
           {
            "type": "scattergeo",
            "marker": {
             "colorbar": {
              "outlinewidth": 0,
              "ticks": ""
             }
            }
           }
          ],
          "scatterpolar": [
           {
            "type": "scatterpolar",
            "marker": {
             "colorbar": {
              "outlinewidth": 0,
              "ticks": ""
             }
            }
           }
          ],
          "histogram": [
           {
            "marker": {
             "pattern": {
              "fillmode": "overlay",
              "size": 10,
              "solidity": 0.2
             }
            },
            "type": "histogram"
           }
          ],
          "scattergl": [
           {
            "marker": {
             "line": {
              "color": "#283442"
             }
            },
            "type": "scattergl"
           }
          ],
          "scatter3d": [
           {
            "type": "scatter3d",
            "line": {
             "colorbar": {
              "outlinewidth": 0,
              "ticks": ""
             }
            },
            "marker": {
             "colorbar": {
              "outlinewidth": 0,
              "ticks": ""
             }
            }
           }
          ],
          "scattermapbox": [
           {
            "type": "scattermapbox",
            "marker": {
             "colorbar": {
              "outlinewidth": 0,
              "ticks": ""
             }
            }
           }
          ],
          "scatterternary": [
           {
            "type": "scatterternary",
            "marker": {
             "colorbar": {
              "outlinewidth": 0,
              "ticks": ""
             }
            }
           }
          ],
          "scattercarpet": [
           {
            "type": "scattercarpet",
            "marker": {
             "colorbar": {
              "outlinewidth": 0,
              "ticks": ""
             }
            }
           }
          ],
          "carpet": [
           {
            "aaxis": {
             "endlinecolor": "#A2B1C6",
             "gridcolor": "#506784",
             "linecolor": "#506784",
             "minorgridcolor": "#506784",
             "startlinecolor": "#A2B1C6"
            },
            "baxis": {
             "endlinecolor": "#A2B1C6",
             "gridcolor": "#506784",
             "linecolor": "#506784",
             "minorgridcolor": "#506784",
             "startlinecolor": "#A2B1C6"
            },
            "type": "carpet"
           }
          ],
          "table": [
           {
            "cells": {
             "fill": {
              "color": "#506784"
             },
             "line": {
              "color": "rgb(17,17,17)"
             }
            },
            "header": {
             "fill": {
              "color": "#2a3f5f"
             },
             "line": {
              "color": "rgb(17,17,17)"
             }
            },
            "type": "table"
           }
          ],
          "barpolar": [
           {
            "marker": {
             "line": {
              "color": "rgb(17,17,17)",
              "width": 0.5
             },
             "pattern": {
              "fillmode": "overlay",
              "size": 10,
              "solidity": 0.2
             }
            },
            "type": "barpolar"
           }
          ],
          "pie": [
           {
            "automargin": true,
            "type": "pie"
           }
          ]
         },
         "layout": {
          "autotypenumbers": "strict",
          "colorway": [
           "#636efa",
           "#EF553B",
           "#00cc96",
           "#ab63fa",
           "#FFA15A",
           "#19d3f3",
           "#FF6692",
           "#B6E880",
           "#FF97FF",
           "#FECB52"
          ],
          "font": {
           "color": "#f2f5fa"
          },
          "hovermode": "closest",
          "hoverlabel": {
           "align": "left"
          },
          "paper_bgcolor": "rgb(17,17,17)",
          "plot_bgcolor": "rgb(17,17,17)",
          "polar": {
           "bgcolor": "rgb(17,17,17)",
           "angularaxis": {
            "gridcolor": "#506784",
            "linecolor": "#506784",
            "ticks": ""
           },
           "radialaxis": {
            "gridcolor": "#506784",
            "linecolor": "#506784",
            "ticks": ""
           }
          },
          "ternary": {
           "bgcolor": "rgb(17,17,17)",
           "aaxis": {
            "gridcolor": "#506784",
            "linecolor": "#506784",
            "ticks": ""
           },
           "baxis": {
            "gridcolor": "#506784",
            "linecolor": "#506784",
            "ticks": ""
           },
           "caxis": {
            "gridcolor": "#506784",
            "linecolor": "#506784",
            "ticks": ""
           }
          },
          "coloraxis": {
           "colorbar": {
            "outlinewidth": 0,
            "ticks": ""
           }
          },
          "colorscale": {
           "sequential": [
            [
             0.0,
             "#0d0887"
            ],
            [
             0.1111111111111111,
             "#46039f"
            ],
            [
             0.2222222222222222,
             "#7201a8"
            ],
            [
             0.3333333333333333,
             "#9c179e"
            ],
            [
             0.4444444444444444,
             "#bd3786"
            ],
            [
             0.5555555555555556,
             "#d8576b"
            ],
            [
             0.6666666666666666,
             "#ed7953"
            ],
            [
             0.7777777777777778,
             "#fb9f3a"
            ],
            [
             0.8888888888888888,
             "#fdca26"
            ],
            [
             1.0,
             "#f0f921"
            ]
           ],
           "sequentialminus": [
            [
             0.0,
             "#0d0887"
            ],
            [
             0.1111111111111111,
             "#46039f"
            ],
            [
             0.2222222222222222,
             "#7201a8"
            ],
            [
             0.3333333333333333,
             "#9c179e"
            ],
            [
             0.4444444444444444,
             "#bd3786"
            ],
            [
             0.5555555555555556,
             "#d8576b"
            ],
            [
             0.6666666666666666,
             "#ed7953"
            ],
            [
             0.7777777777777778,
             "#fb9f3a"
            ],
            [
             0.8888888888888888,
             "#fdca26"
            ],
            [
             1.0,
             "#f0f921"
            ]
           ],
           "diverging": [
            [
             0,
             "#8e0152"
            ],
            [
             0.1,
             "#c51b7d"
            ],
            [
             0.2,
             "#de77ae"
            ],
            [
             0.3,
             "#f1b6da"
            ],
            [
             0.4,
             "#fde0ef"
            ],
            [
             0.5,
             "#f7f7f7"
            ],
            [
             0.6,
             "#e6f5d0"
            ],
            [
             0.7,
             "#b8e186"
            ],
            [
             0.8,
             "#7fbc41"
            ],
            [
             0.9,
             "#4d9221"
            ],
            [
             1,
             "#276419"
            ]
           ]
          },
          "xaxis": {
           "gridcolor": "#283442",
           "linecolor": "#506784",
           "ticks": "",
           "title": {
            "standoff": 15
           },
           "zerolinecolor": "#283442",
           "automargin": true,
           "zerolinewidth": 2
          },
          "yaxis": {
           "gridcolor": "#283442",
           "linecolor": "#506784",
           "ticks": "",
           "title": {
            "standoff": 15
           },
           "zerolinecolor": "#283442",
           "automargin": true,
           "zerolinewidth": 2
          },
          "scene": {
           "xaxis": {
            "backgroundcolor": "rgb(17,17,17)",
            "gridcolor": "#506784",
            "linecolor": "#506784",
            "showbackground": true,
            "ticks": "",
            "zerolinecolor": "#C8D4E3",
            "gridwidth": 2
           },
           "yaxis": {
            "backgroundcolor": "rgb(17,17,17)",
            "gridcolor": "#506784",
            "linecolor": "#506784",
            "showbackground": true,
            "ticks": "",
            "zerolinecolor": "#C8D4E3",
            "gridwidth": 2
           },
           "zaxis": {
            "backgroundcolor": "rgb(17,17,17)",
            "gridcolor": "#506784",
            "linecolor": "#506784",
            "showbackground": true,
            "ticks": "",
            "zerolinecolor": "#C8D4E3",
            "gridwidth": 2
           }
          },
          "shapedefaults": {
           "line": {
            "color": "#f2f5fa"
           }
          },
          "annotationdefaults": {
           "arrowcolor": "#f2f5fa",
           "arrowhead": 0,
           "arrowwidth": 1
          },
          "geo": {
           "bgcolor": "rgb(17,17,17)",
           "landcolor": "rgb(17,17,17)",
           "subunitcolor": "#506784",
           "showland": true,
           "showlakes": true,
           "lakecolor": "rgb(17,17,17)"
          },
          "title": {
           "x": 0.05
          },
          "updatemenudefaults": {
           "bgcolor": "#506784",
           "borderwidth": 0
          },
          "sliderdefaults": {
           "bgcolor": "#C8D4E3",
           "borderwidth": 1,
           "bordercolor": "rgb(17,17,17)",
           "tickwidth": 0
          },
          "mapbox": {
           "style": "dark"
          }
         }
        },
        "xaxis": {
         "anchor": "y",
         "domain": [
          0.0,
          1.0
         ],
         "matches": "x2",
         "showticklabels": false
        },
        "yaxis": {
         "anchor": "x",
         "domain": [
          0.625,
          1.0
         ]
        },
        "xaxis2": {
         "anchor": "y2",
         "domain": [
          0.0,
          1.0
         ],
         "title": {
          "text": "Date"
         }
        },
        "yaxis2": {
         "anchor": "x2",
         "domain": [
          0.0,
          0.375
         ]
        },
        "annotations": [
         {
          "font": {
           "size": 16
          },
          "showarrow": false,
          "text": "Daily Average Positive Sentiment",
          "x": 0.5,
          "xanchor": "center",
          "xref": "paper",
          "y": 1.0,
          "yanchor": "bottom",
          "yref": "paper"
         },
         {
          "font": {
           "size": 16
          },
          "showarrow": false,
          "text": "Daily Average Negative Sentiment",
          "x": 0.5,
          "xanchor": "center",
          "xref": "paper",
          "y": 0.375,
          "yanchor": "bottom",
          "yref": "paper"
         }
        ],
        "shapes": [
         {
          "line": {
           "color": "Red",
           "dash": "dashdot",
           "width": 2
          },
          "name": "Mean",
          "type": "line",
          "x0": "2020-12-12",
          "x1": "2021-04-21",
          "y0": 0.10895826783928751,
          "y1": 0.10895826783928751
         },
         {
          "line": {
           "color": "Red",
           "dash": "dashdot",
           "width": 2
          },
          "name": "Mean",
          "type": "line",
          "x0": "2020-12-12",
          "x1": "2021-04-21",
          "xref": "x2",
          "y0": 0.044875794517378866,
          "y1": 0.044875794517378866,
          "yref": "y2"
         }
        ],
        "title": {
         "text": "Sentiment Average Change With Time"
        },
        "height": 700,
        "width": 900
       },
       "config": {
        "plotlyServerURL": "https://plot.ly"
       }
      },
      "text/html": "<div>                            <div id=\"65d270ea-270d-4fb7-b7a7-fab87ee10db9\" class=\"plotly-graph-div\" style=\"height:700px; width:900px;\"></div>            <script type=\"text/javascript\">                require([\"plotly\"], function(Plotly) {                    window.PLOTLYENV=window.PLOTLYENV || {};                                    if (document.getElementById(\"65d270ea-270d-4fb7-b7a7-fab87ee10db9\")) {                    Plotly.newPlot(                        \"65d270ea-270d-4fb7-b7a7-fab87ee10db9\",                        [{\"name\":\"Positive Sentiment Mean\",\"x\":[\"2020-12-12\",\"2020-12-13\",\"2020-12-14\",\"2020-12-15\",\"2020-12-16\",\"2020-12-17\",\"2020-12-18\",\"2020-12-19\",\"2020-12-20\",\"2020-12-21\",\"2020-12-22\",\"2020-12-23\",\"2020-12-24\",\"2020-12-25\",\"2020-12-26\",\"2020-12-27\",\"2020-12-28\",\"2020-12-29\",\"2020-12-30\",\"2020-12-31\",\"2021-01-01\",\"2021-01-02\",\"2021-01-03\",\"2021-01-04\",\"2021-01-05\",\"2021-01-06\",\"2021-01-07\",\"2021-01-08\",\"2021-01-09\",\"2021-01-10\",\"2021-01-11\",\"2021-01-12\",\"2021-01-13\",\"2021-01-14\",\"2021-01-15\",\"2021-01-16\",\"2021-01-17\",\"2021-01-18\",\"2021-01-19\",\"2021-01-20\",\"2021-01-21\",\"2021-01-22\",\"2021-01-23\",\"2021-01-24\",\"2021-01-25\",\"2021-01-26\",\"2021-01-27\",\"2021-01-28\",\"2021-01-29\",\"2021-01-30\",\"2021-01-31\",\"2021-02-01\",\"2021-02-02\",\"2021-02-03\",\"2021-02-04\",\"2021-02-05\",\"2021-02-06\",\"2021-02-07\",\"2021-02-08\",\"2021-02-09\",\"2021-02-10\",\"2021-02-11\",\"2021-02-12\",\"2021-02-13\",\"2021-02-14\",\"2021-02-15\",\"2021-02-16\",\"2021-02-17\",\"2021-02-18\",\"2021-02-19\",\"2021-02-20\",\"2021-02-21\",\"2021-02-22\",\"2021-02-23\",\"2021-02-24\",\"2021-02-25\",\"2021-02-26\",\"2021-02-27\",\"2021-02-28\",\"2021-03-01\",\"2021-03-02\",\"2021-03-03\",\"2021-03-04\",\"2021-03-05\",\"2021-03-06\",\"2021-03-07\",\"2021-03-08\",\"2021-03-09\",\"2021-03-10\",\"2021-03-11\",\"2021-03-12\",\"2021-03-13\",\"2021-03-14\",\"2021-03-15\",\"2021-03-16\",\"2021-03-17\",\"2021-03-18\",\"2021-03-19\",\"2021-03-20\",\"2021-03-21\",\"2021-03-22\",\"2021-03-23\",\"2021-03-24\",\"2021-03-25\",\"2021-03-26\",\"2021-03-27\",\"2021-03-28\",\"2021-03-29\",\"2021-03-30\",\"2021-03-31\",\"2021-04-01\",\"2021-04-02\",\"2021-04-03\",\"2021-04-04\",\"2021-04-05\",\"2021-04-06\",\"2021-04-07\",\"2021-04-08\",\"2021-04-09\",\"2021-04-10\",\"2021-04-11\",\"2021-04-12\",\"2021-04-13\",\"2021-04-14\",\"2021-04-15\",\"2021-04-16\",\"2021-04-17\",\"2021-04-18\",\"2021-04-19\",\"2021-04-20\",\"2021-04-21\"],\"y\":[0.11982639682539682,0.08614385714285713,0.10248275182481752,0.10141433333333333,0.11130655555555556,0.11162689928057554,0.10409921428571427,0.12394645454545454,0.0878245294117647,0.12566766666666665,0.1080901719745223,0.12490343902439024,0.08638696491228069,0.08690099999999999,0.1049797234042553,0.11050947457627118,0.08596326415094338,0.06594217647058824,0.10895427102803738,0.1279871111111111,0.10859047368421051,0.1193142530120482,0.12512600000000001,0.08848711111111111,0.11391090990990992,0.1116527857142857,0.10257994736842106,0.14868671428571428,0.10141276470588234,0.12730608474576272,0.11959239784946236,0.13795383018867924,0.13703703603603604,0.11778401886792453,0.1022982972972973,0.07587696899224806,0.07996059595959595,0.12128887878787878,0.081121,0.11116446153846152,0.12226996551724137,0.1270933076923077,0.10249330769230769,0.08256703773584906,0.08409190909090909,0.11184715384615385,0.12072010112359549,0.144926,0.12240724999999998,0.09959004109589041,0.08880099999999999,0.09580745161290322,0.13260477358490566,0.10278478378378378,0.11847926086956523,0.07498671428571428,0.10051382051282051,0.08834582758620689,0.07736942105263157,0.0805152857142857,0.06295554545454546,0.19336463636363635,0.09663988888888889,0.09817491304347825,0.13038809677419355,0.06783970967741935,0.08561463636363636,0.10929190909090909,0.09873569387755102,0.11282517582417582,0.08259074358974358,0.14424544444444443,0.12451382051282052,0.09645338095238094,0.12099036170212767,0.12671839130434784,0.146026641025641,0.14303548275862069,0.07370099999999999,0.13470831707317074,0.0781870465116279,0.1228946170212766,0.08141563414634147,0.09826929268292682,0.15739230434782608,0.058556555555555556,0.1426295714285714,0.1249797234042553,0.1518928918918919,0.1003060847457627,0.155751,0.1219057619047619,0.1323253243243243,0.07841609433962264,0.10748937209302324,0.0998733404255319,0.08513893103448275,0.12889573684210526,0.08241766666666667,0.07663736363636363,0.15358923529411764,0.17780745161290323,0.09029511764705882,0.097501,0.09355655555555556,0.08613143478260869,0.159501,0.11213143478260869,0.11841766666666666,0.1441480588235294,0.12716379069767442,0.18753946153846152,0.09620100000000001,0.05615484615384615,0.1521588947368421,0.12457242857142857,0.093901,0.136451,0.12470099999999999,0.0771914761904762,0.08517747058823529,0.17772827272727273,0.12273433333333332,0.08914385714285714,0.079001,0.074126,0.088401,0.09086766666666665,0.11640099999999999,0.08450099999999999,0.027834333333333336],\"type\":\"scatter\",\"xaxis\":\"x\",\"yaxis\":\"y\"},{\"name\":\"Negative Sentiment Mean\",\"x\":[\"2020-12-12\",\"2020-12-13\",\"2020-12-14\",\"2020-12-15\",\"2020-12-16\",\"2020-12-17\",\"2020-12-18\",\"2020-12-19\",\"2020-12-20\",\"2020-12-21\",\"2020-12-22\",\"2020-12-23\",\"2020-12-24\",\"2020-12-25\",\"2020-12-26\",\"2020-12-27\",\"2020-12-28\",\"2020-12-29\",\"2020-12-30\",\"2020-12-31\",\"2021-01-01\",\"2021-01-02\",\"2021-01-03\",\"2021-01-04\",\"2021-01-05\",\"2021-01-06\",\"2021-01-07\",\"2021-01-08\",\"2021-01-09\",\"2021-01-10\",\"2021-01-11\",\"2021-01-12\",\"2021-01-13\",\"2021-01-14\",\"2021-01-15\",\"2021-01-16\",\"2021-01-17\",\"2021-01-18\",\"2021-01-19\",\"2021-01-20\",\"2021-01-21\",\"2021-01-22\",\"2021-01-23\",\"2021-01-24\",\"2021-01-25\",\"2021-01-26\",\"2021-01-27\",\"2021-01-28\",\"2021-01-29\",\"2021-01-30\",\"2021-01-31\",\"2021-02-01\",\"2021-02-02\",\"2021-02-03\",\"2021-02-04\",\"2021-02-05\",\"2021-02-06\",\"2021-02-07\",\"2021-02-08\",\"2021-02-09\",\"2021-02-10\",\"2021-02-11\",\"2021-02-12\",\"2021-02-13\",\"2021-02-14\",\"2021-02-15\",\"2021-02-16\",\"2021-02-17\",\"2021-02-18\",\"2021-02-19\",\"2021-02-20\",\"2021-02-21\",\"2021-02-22\",\"2021-02-23\",\"2021-02-24\",\"2021-02-25\",\"2021-02-26\",\"2021-02-27\",\"2021-02-28\",\"2021-03-01\",\"2021-03-02\",\"2021-03-03\",\"2021-03-04\",\"2021-03-05\",\"2021-03-06\",\"2021-03-07\",\"2021-03-08\",\"2021-03-09\",\"2021-03-10\",\"2021-03-11\",\"2021-03-12\",\"2021-03-13\",\"2021-03-14\",\"2021-03-15\",\"2021-03-16\",\"2021-03-17\",\"2021-03-18\",\"2021-03-19\",\"2021-03-20\",\"2021-03-21\",\"2021-03-22\",\"2021-03-23\",\"2021-03-24\",\"2021-03-25\",\"2021-03-26\",\"2021-03-27\",\"2021-03-28\",\"2021-03-29\",\"2021-03-30\",\"2021-03-31\",\"2021-04-01\",\"2021-04-02\",\"2021-04-03\",\"2021-04-04\",\"2021-04-05\",\"2021-04-06\",\"2021-04-07\",\"2021-04-08\",\"2021-04-09\",\"2021-04-10\",\"2021-04-11\",\"2021-04-12\",\"2021-04-13\",\"2021-04-14\",\"2021-04-15\",\"2021-04-16\",\"2021-04-17\",\"2021-04-18\",\"2021-04-19\",\"2021-04-20\",\"2021-04-21\"],\"y\":[0.04706449206349206,0.0448479387755102,0.025942605839416058,0.036281,0.05957044444444445,0.05933193525179856,0.05175992857142857,0.048801,0.05385394117647059,0.0510402156862745,0.03731947133757962,0.042846528455284555,0.039509771929824564,0.035551,0.03002227659574468,0.024323033898305087,0.0710953396226415,0.06069511764705882,0.05264585981308411,0.049487111111111114,0.09548521052631578,0.04676003614457832,0.04266171428571429,0.05870933333333333,0.043145144144144144,0.04495635714285714,0.041737842105263157,0.048948619047619046,0.03377158823529412,0.04740777966101695,0.04743110752688172,0.03421798113207547,0.049964963963963965,0.03877458490566038,0.06389964864864865,0.08808627131782945,0.08246564646464646,0.08498584848484848,0.053071,0.061626,0.045738931034482753,0.06506253846153846,0.07117023076923076,0.05337835849056604,0.04706593506493506,0.05284715384615384,0.033102123595505614,0.032026,0.03839683333333333,0.06550784931506849,0.045001,0.05071067741935484,0.031001,0.029676675675675675,0.03852273913043478,0.04438671428571428,0.05212920512820513,0.016276862068965517,0.041343105263157896,0.028058142857142858,0.0396600909090909,0.029879787878787877,0.039917666666666664,0.01891404347826087,0.07713003225806452,0.0656784193548387,0.051410090909090905,0.06483736363636362,0.07626630612244897,0.05126473626373626,0.037770230769230764,0.05086766666666666,0.06984715384615384,0.042262904761904765,0.03521376595744681,0.04803360869565217,0.02337279487179487,0.034552724137931035,0.044751,0.031074170731707318,0.02969867441860465,0.03327759574468085,0.03241563414634146,0.03370831707317073,0.009566217391304348,0.04814914814814814,0.01594385714285714,0.021235042553191488,0.028676675675675677,0.031085745762711864,0.040001,0.07847719047619048,0.044217216216216215,0.0739632641509434,0.0506056511627907,0.03123504255319149,0.038725137931034485,0.06839573684210527,0.026806555555555552,0.04913736363636363,0.03773629411764706,0.04503325806451613,0.0691774705882353,0.08050099999999999,0.010223222222222224,0.03404447826086956,0.0869385,0.033696652173913044,0.024834333333333333,0.014795117647058823,0.03343123255813953,0.02669330769230769,0.084851,0.03677023076923077,0.012843105263157894,0.028179571428571425,0.04106766666666666,0.034076,0.027801,0.04238195238095238,0.026648058823529414,0.020046454545454548,0.03576766666666666,0.04821528571428572,0.09712221212121211,0.040813499999999996,0.06946766666666666,0.05366766666666667,0.03133433333333333,0.021046454545454545,1e-06],\"type\":\"scatter\",\"xaxis\":\"x2\",\"yaxis\":\"y2\"}],                        {\"template\":{\"data\":{\"histogram2dcontour\":[{\"type\":\"histogram2dcontour\",\"colorbar\":{\"outlinewidth\":0,\"ticks\":\"\"},\"colorscale\":[[0.0,\"#0d0887\"],[0.1111111111111111,\"#46039f\"],[0.2222222222222222,\"#7201a8\"],[0.3333333333333333,\"#9c179e\"],[0.4444444444444444,\"#bd3786\"],[0.5555555555555556,\"#d8576b\"],[0.6666666666666666,\"#ed7953\"],[0.7777777777777778,\"#fb9f3a\"],[0.8888888888888888,\"#fdca26\"],[1.0,\"#f0f921\"]]}],\"choropleth\":[{\"type\":\"choropleth\",\"colorbar\":{\"outlinewidth\":0,\"ticks\":\"\"}}],\"histogram2d\":[{\"type\":\"histogram2d\",\"colorbar\":{\"outlinewidth\":0,\"ticks\":\"\"},\"colorscale\":[[0.0,\"#0d0887\"],[0.1111111111111111,\"#46039f\"],[0.2222222222222222,\"#7201a8\"],[0.3333333333333333,\"#9c179e\"],[0.4444444444444444,\"#bd3786\"],[0.5555555555555556,\"#d8576b\"],[0.6666666666666666,\"#ed7953\"],[0.7777777777777778,\"#fb9f3a\"],[0.8888888888888888,\"#fdca26\"],[1.0,\"#f0f921\"]]}],\"heatmap\":[{\"type\":\"heatmap\",\"colorbar\":{\"outlinewidth\":0,\"ticks\":\"\"},\"colorscale\":[[0.0,\"#0d0887\"],[0.1111111111111111,\"#46039f\"],[0.2222222222222222,\"#7201a8\"],[0.3333333333333333,\"#9c179e\"],[0.4444444444444444,\"#bd3786\"],[0.5555555555555556,\"#d8576b\"],[0.6666666666666666,\"#ed7953\"],[0.7777777777777778,\"#fb9f3a\"],[0.8888888888888888,\"#fdca26\"],[1.0,\"#f0f921\"]]}],\"heatmapgl\":[{\"type\":\"heatmapgl\",\"colorbar\":{\"outlinewidth\":0,\"ticks\":\"\"},\"colorscale\":[[0.0,\"#0d0887\"],[0.1111111111111111,\"#46039f\"],[0.2222222222222222,\"#7201a8\"],[0.3333333333333333,\"#9c179e\"],[0.4444444444444444,\"#bd3786\"],[0.5555555555555556,\"#d8576b\"],[0.6666666666666666,\"#ed7953\"],[0.7777777777777778,\"#fb9f3a\"],[0.8888888888888888,\"#fdca26\"],[1.0,\"#f0f921\"]]}],\"contourcarpet\":[{\"type\":\"contourcarpet\",\"colorbar\":{\"outlinewidth\":0,\"ticks\":\"\"}}],\"contour\":[{\"type\":\"contour\",\"colorbar\":{\"outlinewidth\":0,\"ticks\":\"\"},\"colorscale\":[[0.0,\"#0d0887\"],[0.1111111111111111,\"#46039f\"],[0.2222222222222222,\"#7201a8\"],[0.3333333333333333,\"#9c179e\"],[0.4444444444444444,\"#bd3786\"],[0.5555555555555556,\"#d8576b\"],[0.6666666666666666,\"#ed7953\"],[0.7777777777777778,\"#fb9f3a\"],[0.8888888888888888,\"#fdca26\"],[1.0,\"#f0f921\"]]}],\"surface\":[{\"type\":\"surface\",\"colorbar\":{\"outlinewidth\":0,\"ticks\":\"\"},\"colorscale\":[[0.0,\"#0d0887\"],[0.1111111111111111,\"#46039f\"],[0.2222222222222222,\"#7201a8\"],[0.3333333333333333,\"#9c179e\"],[0.4444444444444444,\"#bd3786\"],[0.5555555555555556,\"#d8576b\"],[0.6666666666666666,\"#ed7953\"],[0.7777777777777778,\"#fb9f3a\"],[0.8888888888888888,\"#fdca26\"],[1.0,\"#f0f921\"]]}],\"mesh3d\":[{\"type\":\"mesh3d\",\"colorbar\":{\"outlinewidth\":0,\"ticks\":\"\"}}],\"scatter\":[{\"marker\":{\"line\":{\"color\":\"#283442\"}},\"type\":\"scatter\"}],\"parcoords\":[{\"type\":\"parcoords\",\"line\":{\"colorbar\":{\"outlinewidth\":0,\"ticks\":\"\"}}}],\"scatterpolargl\":[{\"type\":\"scatterpolargl\",\"marker\":{\"colorbar\":{\"outlinewidth\":0,\"ticks\":\"\"}}}],\"bar\":[{\"error_x\":{\"color\":\"#f2f5fa\"},\"error_y\":{\"color\":\"#f2f5fa\"},\"marker\":{\"line\":{\"color\":\"rgb(17,17,17)\",\"width\":0.5},\"pattern\":{\"fillmode\":\"overlay\",\"size\":10,\"solidity\":0.2}},\"type\":\"bar\"}],\"scattergeo\":[{\"type\":\"scattergeo\",\"marker\":{\"colorbar\":{\"outlinewidth\":0,\"ticks\":\"\"}}}],\"scatterpolar\":[{\"type\":\"scatterpolar\",\"marker\":{\"colorbar\":{\"outlinewidth\":0,\"ticks\":\"\"}}}],\"histogram\":[{\"marker\":{\"pattern\":{\"fillmode\":\"overlay\",\"size\":10,\"solidity\":0.2}},\"type\":\"histogram\"}],\"scattergl\":[{\"marker\":{\"line\":{\"color\":\"#283442\"}},\"type\":\"scattergl\"}],\"scatter3d\":[{\"type\":\"scatter3d\",\"line\":{\"colorbar\":{\"outlinewidth\":0,\"ticks\":\"\"}},\"marker\":{\"colorbar\":{\"outlinewidth\":0,\"ticks\":\"\"}}}],\"scattermapbox\":[{\"type\":\"scattermapbox\",\"marker\":{\"colorbar\":{\"outlinewidth\":0,\"ticks\":\"\"}}}],\"scatterternary\":[{\"type\":\"scatterternary\",\"marker\":{\"colorbar\":{\"outlinewidth\":0,\"ticks\":\"\"}}}],\"scattercarpet\":[{\"type\":\"scattercarpet\",\"marker\":{\"colorbar\":{\"outlinewidth\":0,\"ticks\":\"\"}}}],\"carpet\":[{\"aaxis\":{\"endlinecolor\":\"#A2B1C6\",\"gridcolor\":\"#506784\",\"linecolor\":\"#506784\",\"minorgridcolor\":\"#506784\",\"startlinecolor\":\"#A2B1C6\"},\"baxis\":{\"endlinecolor\":\"#A2B1C6\",\"gridcolor\":\"#506784\",\"linecolor\":\"#506784\",\"minorgridcolor\":\"#506784\",\"startlinecolor\":\"#A2B1C6\"},\"type\":\"carpet\"}],\"table\":[{\"cells\":{\"fill\":{\"color\":\"#506784\"},\"line\":{\"color\":\"rgb(17,17,17)\"}},\"header\":{\"fill\":{\"color\":\"#2a3f5f\"},\"line\":{\"color\":\"rgb(17,17,17)\"}},\"type\":\"table\"}],\"barpolar\":[{\"marker\":{\"line\":{\"color\":\"rgb(17,17,17)\",\"width\":0.5},\"pattern\":{\"fillmode\":\"overlay\",\"size\":10,\"solidity\":0.2}},\"type\":\"barpolar\"}],\"pie\":[{\"automargin\":true,\"type\":\"pie\"}]},\"layout\":{\"autotypenumbers\":\"strict\",\"colorway\":[\"#636efa\",\"#EF553B\",\"#00cc96\",\"#ab63fa\",\"#FFA15A\",\"#19d3f3\",\"#FF6692\",\"#B6E880\",\"#FF97FF\",\"#FECB52\"],\"font\":{\"color\":\"#f2f5fa\"},\"hovermode\":\"closest\",\"hoverlabel\":{\"align\":\"left\"},\"paper_bgcolor\":\"rgb(17,17,17)\",\"plot_bgcolor\":\"rgb(17,17,17)\",\"polar\":{\"bgcolor\":\"rgb(17,17,17)\",\"angularaxis\":{\"gridcolor\":\"#506784\",\"linecolor\":\"#506784\",\"ticks\":\"\"},\"radialaxis\":{\"gridcolor\":\"#506784\",\"linecolor\":\"#506784\",\"ticks\":\"\"}},\"ternary\":{\"bgcolor\":\"rgb(17,17,17)\",\"aaxis\":{\"gridcolor\":\"#506784\",\"linecolor\":\"#506784\",\"ticks\":\"\"},\"baxis\":{\"gridcolor\":\"#506784\",\"linecolor\":\"#506784\",\"ticks\":\"\"},\"caxis\":{\"gridcolor\":\"#506784\",\"linecolor\":\"#506784\",\"ticks\":\"\"}},\"coloraxis\":{\"colorbar\":{\"outlinewidth\":0,\"ticks\":\"\"}},\"colorscale\":{\"sequential\":[[0.0,\"#0d0887\"],[0.1111111111111111,\"#46039f\"],[0.2222222222222222,\"#7201a8\"],[0.3333333333333333,\"#9c179e\"],[0.4444444444444444,\"#bd3786\"],[0.5555555555555556,\"#d8576b\"],[0.6666666666666666,\"#ed7953\"],[0.7777777777777778,\"#fb9f3a\"],[0.8888888888888888,\"#fdca26\"],[1.0,\"#f0f921\"]],\"sequentialminus\":[[0.0,\"#0d0887\"],[0.1111111111111111,\"#46039f\"],[0.2222222222222222,\"#7201a8\"],[0.3333333333333333,\"#9c179e\"],[0.4444444444444444,\"#bd3786\"],[0.5555555555555556,\"#d8576b\"],[0.6666666666666666,\"#ed7953\"],[0.7777777777777778,\"#fb9f3a\"],[0.8888888888888888,\"#fdca26\"],[1.0,\"#f0f921\"]],\"diverging\":[[0,\"#8e0152\"],[0.1,\"#c51b7d\"],[0.2,\"#de77ae\"],[0.3,\"#f1b6da\"],[0.4,\"#fde0ef\"],[0.5,\"#f7f7f7\"],[0.6,\"#e6f5d0\"],[0.7,\"#b8e186\"],[0.8,\"#7fbc41\"],[0.9,\"#4d9221\"],[1,\"#276419\"]]},\"xaxis\":{\"gridcolor\":\"#283442\",\"linecolor\":\"#506784\",\"ticks\":\"\",\"title\":{\"standoff\":15},\"zerolinecolor\":\"#283442\",\"automargin\":true,\"zerolinewidth\":2},\"yaxis\":{\"gridcolor\":\"#283442\",\"linecolor\":\"#506784\",\"ticks\":\"\",\"title\":{\"standoff\":15},\"zerolinecolor\":\"#283442\",\"automargin\":true,\"zerolinewidth\":2},\"scene\":{\"xaxis\":{\"backgroundcolor\":\"rgb(17,17,17)\",\"gridcolor\":\"#506784\",\"linecolor\":\"#506784\",\"showbackground\":true,\"ticks\":\"\",\"zerolinecolor\":\"#C8D4E3\",\"gridwidth\":2},\"yaxis\":{\"backgroundcolor\":\"rgb(17,17,17)\",\"gridcolor\":\"#506784\",\"linecolor\":\"#506784\",\"showbackground\":true,\"ticks\":\"\",\"zerolinecolor\":\"#C8D4E3\",\"gridwidth\":2},\"zaxis\":{\"backgroundcolor\":\"rgb(17,17,17)\",\"gridcolor\":\"#506784\",\"linecolor\":\"#506784\",\"showbackground\":true,\"ticks\":\"\",\"zerolinecolor\":\"#C8D4E3\",\"gridwidth\":2}},\"shapedefaults\":{\"line\":{\"color\":\"#f2f5fa\"}},\"annotationdefaults\":{\"arrowcolor\":\"#f2f5fa\",\"arrowhead\":0,\"arrowwidth\":1},\"geo\":{\"bgcolor\":\"rgb(17,17,17)\",\"landcolor\":\"rgb(17,17,17)\",\"subunitcolor\":\"#506784\",\"showland\":true,\"showlakes\":true,\"lakecolor\":\"rgb(17,17,17)\"},\"title\":{\"x\":0.05},\"updatemenudefaults\":{\"bgcolor\":\"#506784\",\"borderwidth\":0},\"sliderdefaults\":{\"bgcolor\":\"#C8D4E3\",\"borderwidth\":1,\"bordercolor\":\"rgb(17,17,17)\",\"tickwidth\":0},\"mapbox\":{\"style\":\"dark\"}}},\"xaxis\":{\"anchor\":\"y\",\"domain\":[0.0,1.0],\"matches\":\"x2\",\"showticklabels\":false},\"yaxis\":{\"anchor\":\"x\",\"domain\":[0.625,1.0]},\"xaxis2\":{\"anchor\":\"y2\",\"domain\":[0.0,1.0],\"title\":{\"text\":\"Date\"}},\"yaxis2\":{\"anchor\":\"x2\",\"domain\":[0.0,0.375]},\"annotations\":[{\"font\":{\"size\":16},\"showarrow\":false,\"text\":\"Daily Average Positive Sentiment\",\"x\":0.5,\"xanchor\":\"center\",\"xref\":\"paper\",\"y\":1.0,\"yanchor\":\"bottom\",\"yref\":\"paper\"},{\"font\":{\"size\":16},\"showarrow\":false,\"text\":\"Daily Average Negative Sentiment\",\"x\":0.5,\"xanchor\":\"center\",\"xref\":\"paper\",\"y\":0.375,\"yanchor\":\"bottom\",\"yref\":\"paper\"}],\"shapes\":[{\"line\":{\"color\":\"Red\",\"dash\":\"dashdot\",\"width\":2},\"name\":\"Mean\",\"type\":\"line\",\"x0\":\"2020-12-12\",\"x1\":\"2021-04-21\",\"y0\":0.10895826783928751,\"y1\":0.10895826783928751},{\"line\":{\"color\":\"Red\",\"dash\":\"dashdot\",\"width\":2},\"name\":\"Mean\",\"type\":\"line\",\"x0\":\"2020-12-12\",\"x1\":\"2021-04-21\",\"xref\":\"x2\",\"y0\":0.044875794517378866,\"y1\":0.044875794517378866,\"yref\":\"y2\"}],\"title\":{\"text\":\"Sentiment Average Change With Time\"},\"height\":700,\"width\":900},                        {\"responsive\": true}                    ).then(function(){\n                            \nvar gd = document.getElementById('65d270ea-270d-4fb7-b7a7-fab87ee10db9');\nvar x = new MutationObserver(function (mutations, observer) {{\n        var display = window.getComputedStyle(gd).display;\n        if (!display || display === 'none') {{\n            console.log([gd, 'removed!']);\n            Plotly.purge(gd);\n            observer.disconnect();\n        }}\n}});\n\n// Listen for the removal of the full notebook cells\nvar notebookContainer = gd.closest('#notebook-container');\nif (notebookContainer) {{\n    x.observe(notebookContainer, {childList: true});\n}}\n\n// Listen for the clearing of the current output cell\nvar outputEl = gd.closest('.output');\nif (outputEl) {{\n    x.observe(outputEl, {childList: true});\n}}\n\n                        })                };                });            </script>        </div>"
     },
     "metadata": {},
     "output_type": "display_data"
    }
   ],
   "source": [
    "b_date_mean = ft_data.groupby(by='date').mean().reset_index()\n",
    "b_date_std = ft_data.groupby(by='date').std().reset_index()\n",
    "\n",
    "\n",
    "fig = make_subplots(rows=2, cols=1,shared_xaxes=True,subplot_titles=('Daily Average Positive Sentiment',  'Daily Average Negative Sentiment'))\n",
    "\n",
    "fig.add_trace(\n",
    "    go.Scatter(x=b_date_mean['date'], y=b_date_mean['Positive Sentiment'],name='Positive Sentiment Mean'),\n",
    "    row=1, col=1\n",
    ")\n",
    "\n",
    "\n",
    "#positive mean\n",
    "fig.add_shape(type=\"line\",\n",
    "    x0=b_date_mean['date'].values[0], y0=b_date_mean['Positive Sentiment'].mean(), x1=b_date_mean['date'].values[-1], y1=b_date_mean['Positive Sentiment'].mean(),\n",
    "    line=dict(\n",
    "        color=\"Red\",\n",
    "        width=2,\n",
    "        dash=\"dashdot\",\n",
    "    ),\n",
    "        name='Mean'\n",
    ")\n",
    "fig.add_trace(\n",
    "    go.Scatter(x=b_date_mean['date'], y=b_date_mean['Negative Sentiment'],name='Negative Sentiment Mean'),\n",
    "    row=2, col=1\n",
    ")\n",
    "\n",
    "#negative mean\n",
    "fig.add_shape(type=\"line\",\n",
    "    x0=b_date_mean['date'].values[0], y0=b_date_mean['Negative Sentiment'].mean(), x1=b_date_mean['date'].values[-1], y1=b_date_mean['Negative Sentiment'].mean(),\n",
    "    line=dict(\n",
    "        color=\"Red\",\n",
    "        width=2,\n",
    "        dash=\"dashdot\",\n",
    "    ),\n",
    "        name='Mean',\n",
    "        xref='x2',\n",
    "        yref='y2'\n",
    ")\n",
    "\n",
    "\n",
    "fig['layout']['xaxis2']['title'] = 'Date'\n",
    "fig.update_layout(height=700, width=900, title_text=\"Sentiment Average Change With Time\")\n",
    "fig.show()"
   ],
   "metadata": {
    "collapsed": false,
    "pycharm": {
     "name": "#%%\n"
    }
   }
  },
  {
   "cell_type": "code",
   "execution_count": 20,
   "outputs": [
    {
     "data": {
      "application/vnd.plotly.v1+json": {
       "data": [
        {
         "name": "Positive Sentiment SD",
         "x": [
          "2020-12-12",
          "2020-12-13",
          "2020-12-14",
          "2020-12-15",
          "2020-12-16",
          "2020-12-17",
          "2020-12-18",
          "2020-12-19",
          "2020-12-20",
          "2020-12-21",
          "2020-12-22",
          "2020-12-23",
          "2020-12-24",
          "2020-12-25",
          "2020-12-26",
          "2020-12-27",
          "2020-12-28",
          "2020-12-29",
          "2020-12-30",
          "2020-12-31",
          "2021-01-01",
          "2021-01-02",
          "2021-01-03",
          "2021-01-04",
          "2021-01-05",
          "2021-01-06",
          "2021-01-07",
          "2021-01-08",
          "2021-01-09",
          "2021-01-10",
          "2021-01-11",
          "2021-01-12",
          "2021-01-13",
          "2021-01-14",
          "2021-01-15",
          "2021-01-16",
          "2021-01-17",
          "2021-01-18",
          "2021-01-19",
          "2021-01-20",
          "2021-01-21",
          "2021-01-22",
          "2021-01-23",
          "2021-01-24",
          "2021-01-25",
          "2021-01-26",
          "2021-01-27",
          "2021-01-28",
          "2021-01-29",
          "2021-01-30",
          "2021-01-31",
          "2021-02-01",
          "2021-02-02",
          "2021-02-03",
          "2021-02-04",
          "2021-02-05",
          "2021-02-06",
          "2021-02-07",
          "2021-02-08",
          "2021-02-09",
          "2021-02-10",
          "2021-02-11",
          "2021-02-12",
          "2021-02-13",
          "2021-02-14",
          "2021-02-15",
          "2021-02-16",
          "2021-02-17",
          "2021-02-18",
          "2021-02-19",
          "2021-02-20",
          "2021-02-21",
          "2021-02-22",
          "2021-02-23",
          "2021-02-24",
          "2021-02-25",
          "2021-02-26",
          "2021-02-27",
          "2021-02-28",
          "2021-03-01",
          "2021-03-02",
          "2021-03-03",
          "2021-03-04",
          "2021-03-05",
          "2021-03-06",
          "2021-03-07",
          "2021-03-08",
          "2021-03-09",
          "2021-03-10",
          "2021-03-11",
          "2021-03-12",
          "2021-03-13",
          "2021-03-14",
          "2021-03-15",
          "2021-03-16",
          "2021-03-17",
          "2021-03-18",
          "2021-03-19",
          "2021-03-20",
          "2021-03-21",
          "2021-03-22",
          "2021-03-23",
          "2021-03-24",
          "2021-03-25",
          "2021-03-26",
          "2021-03-27",
          "2021-03-28",
          "2021-03-29",
          "2021-03-30",
          "2021-03-31",
          "2021-04-01",
          "2021-04-02",
          "2021-04-03",
          "2021-04-04",
          "2021-04-05",
          "2021-04-06",
          "2021-04-07",
          "2021-04-08",
          "2021-04-09",
          "2021-04-10",
          "2021-04-11",
          "2021-04-12",
          "2021-04-13",
          "2021-04-14",
          "2021-04-15",
          "2021-04-16",
          "2021-04-17",
          "2021-04-18",
          "2021-04-19",
          "2021-04-20",
          "2021-04-21"
         ],
         "y": [
          0.1551586638170788,
          0.13110670872295183,
          0.16254877558433767,
          0.1519424205081917,
          0.15699157154240329,
          0.17002950610866047,
          0.1514041759704368,
          0.15937497394070008,
          0.16537058710633715,
          0.15716216845895034,
          0.15261961999573748,
          0.1748107367484245,
          0.13289363028157025,
          0.14204130854555425,
          0.16439130006623012,
          0.1632818984922063,
          0.15185215003976107,
          0.1076685116613086,
          0.16015584292250562,
          0.17685750554944107,
          0.15555901218186183,
          0.17445272807958845,
          0.1753948338101004,
          0.13664160926250332,
          0.1604328548050582,
          0.13763803618837167,
          0.15031258657946955,
          0.16854101281493336,
          0.15338475380887565,
          0.16706774860366386,
          0.14654545492775028,
          0.1773360212153334,
          0.17464800589278412,
          0.14115179297931651,
          0.15184764381254395,
          0.1265399521737069,
          0.1372215487920768,
          0.18165375052991634,
          0.13502916108542756,
          0.14125430558448065,
          0.16297973012908748,
          0.16324336922568658,
          0.15349818026984505,
          0.12011220866563486,
          0.12434588662891545,
          0.1466787057995902,
          0.18192312242238515,
          0.17920476761006443,
          0.1617364053100958,
          0.13651168403559602,
          0.12238475226190104,
          0.15353987958721316,
          0.15797253164622316,
          0.14893028479704765,
          0.1474834595606903,
          0.16080850911738115,
          0.11801848021989733,
          0.14093065059050167,
          0.10846457163582147,
          0.13581483316472845,
          0.11472575075298089,
          0.23396498378253877,
          0.15143827649343342,
          0.16514667094707414,
          0.16459985366930613,
          0.12093444416272082,
          0.13604859185088566,
          0.15992448133615983,
          0.1493580395545946,
          0.1584448444802441,
          0.12551655750468646,
          0.16457592273304847,
          0.18424167078150824,
          0.1469171331689502,
          0.16476066021483074,
          0.17386336217043494,
          0.17981714914380975,
          0.2176464175082769,
          0.11471798195843311,
          0.20312720692984962,
          0.11468326066542982,
          0.17122540877610948,
          0.1221973763240758,
          0.1290329462560326,
          0.1772468076723514,
          0.09616025619659543,
          0.1662531885079971,
          0.1482601253029843,
          0.17370037801145202,
          0.14998370649866904,
          0.24061166268953427,
          0.21303471659847012,
          0.16404251719431595,
          0.12660909463661157,
          0.2013666842559593,
          0.17593620595585907,
          0.13797663470362628,
          0.178001486400366,
          0.126300859628338,
          0.10044593212960533,
          0.17290672168210247,
          0.21751787962599592,
          0.14804043962615718,
          0.1800911673887106,
          0.1350547919379273,
          0.1257321483254368,
          0.14976069800407135,
          0.15174688984316975,
          0.1311036485635189,
          0.16608106079153054,
          0.14883949985412562,
          0.18905305726578045,
          0.14902935069448925,
          0.1155139574206267,
          0.19839306191886816,
          0.16671297769285068,
          0.13894487867620317,
          0.1800196499245967,
          0.16749362910115023,
          0.11794219730343294,
          0.15771027047013997,
          0.2198298436817899,
          0.13852173571092666,
          0.14208044182100485,
          0.11130560408173523,
          0.111981205220254,
          0.12754707814315913,
          0.1450742995190822,
          0.14247195212692612,
          0.13314179695061237,
          0.06817746450746512
         ],
         "type": "scatter",
         "xaxis": "x",
         "yaxis": "y"
        },
        {
         "name": "Negative Sentiment SD",
         "x": [
          "2020-12-12",
          "2020-12-13",
          "2020-12-14",
          "2020-12-15",
          "2020-12-16",
          "2020-12-17",
          "2020-12-18",
          "2020-12-19",
          "2020-12-20",
          "2020-12-21",
          "2020-12-22",
          "2020-12-23",
          "2020-12-24",
          "2020-12-25",
          "2020-12-26",
          "2020-12-27",
          "2020-12-28",
          "2020-12-29",
          "2020-12-30",
          "2020-12-31",
          "2021-01-01",
          "2021-01-02",
          "2021-01-03",
          "2021-01-04",
          "2021-01-05",
          "2021-01-06",
          "2021-01-07",
          "2021-01-08",
          "2021-01-09",
          "2021-01-10",
          "2021-01-11",
          "2021-01-12",
          "2021-01-13",
          "2021-01-14",
          "2021-01-15",
          "2021-01-16",
          "2021-01-17",
          "2021-01-18",
          "2021-01-19",
          "2021-01-20",
          "2021-01-21",
          "2021-01-22",
          "2021-01-23",
          "2021-01-24",
          "2021-01-25",
          "2021-01-26",
          "2021-01-27",
          "2021-01-28",
          "2021-01-29",
          "2021-01-30",
          "2021-01-31",
          "2021-02-01",
          "2021-02-02",
          "2021-02-03",
          "2021-02-04",
          "2021-02-05",
          "2021-02-06",
          "2021-02-07",
          "2021-02-08",
          "2021-02-09",
          "2021-02-10",
          "2021-02-11",
          "2021-02-12",
          "2021-02-13",
          "2021-02-14",
          "2021-02-15",
          "2021-02-16",
          "2021-02-17",
          "2021-02-18",
          "2021-02-19",
          "2021-02-20",
          "2021-02-21",
          "2021-02-22",
          "2021-02-23",
          "2021-02-24",
          "2021-02-25",
          "2021-02-26",
          "2021-02-27",
          "2021-02-28",
          "2021-03-01",
          "2021-03-02",
          "2021-03-03",
          "2021-03-04",
          "2021-03-05",
          "2021-03-06",
          "2021-03-07",
          "2021-03-08",
          "2021-03-09",
          "2021-03-10",
          "2021-03-11",
          "2021-03-12",
          "2021-03-13",
          "2021-03-14",
          "2021-03-15",
          "2021-03-16",
          "2021-03-17",
          "2021-03-18",
          "2021-03-19",
          "2021-03-20",
          "2021-03-21",
          "2021-03-22",
          "2021-03-23",
          "2021-03-24",
          "2021-03-25",
          "2021-03-26",
          "2021-03-27",
          "2021-03-28",
          "2021-03-29",
          "2021-03-30",
          "2021-03-31",
          "2021-04-01",
          "2021-04-02",
          "2021-04-03",
          "2021-04-04",
          "2021-04-05",
          "2021-04-06",
          "2021-04-07",
          "2021-04-08",
          "2021-04-09",
          "2021-04-10",
          "2021-04-11",
          "2021-04-12",
          "2021-04-13",
          "2021-04-14",
          "2021-04-15",
          "2021-04-16",
          "2021-04-17",
          "2021-04-18",
          "2021-04-19",
          "2021-04-20",
          "2021-04-21"
         ],
         "y": [
          0.09656568431699122,
          0.0944641263977988,
          0.07855569085081855,
          0.09850814159109664,
          0.13275971526367478,
          0.11673327633623341,
          0.10698970612568162,
          0.1062162239892386,
          0.10829041449647046,
          0.0956857399153141,
          0.10672802951815281,
          0.0965157790990017,
          0.09184849448995565,
          0.08092286609117509,
          0.08623539305717913,
          0.0836147653760709,
          0.13479061599255218,
          0.12556273555567388,
          0.11107886475395455,
          0.10352790915205391,
          0.11723470395693462,
          0.1058949767759393,
          0.09193698964472931,
          0.11995191965187141,
          0.08210346541759997,
          0.10018167176899107,
          0.08856370489405581,
          0.10421440963764138,
          0.07325613866238743,
          0.10188507328736407,
          0.11406495078124322,
          0.0832874545765883,
          0.09929761765227235,
          0.08694840101148855,
          0.11132380544171751,
          0.12978666576153394,
          0.125812162639333,
          0.13060091794049447,
          0.1076451573410987,
          0.13172442457314518,
          0.10010799867376949,
          0.117902088208166,
          0.1139660817456735,
          0.10084398201317152,
          0.09269337364358866,
          0.1212234780227478,
          0.08309825030208906,
          0.07467159746754069,
          0.08876123847795474,
          0.11063141045929537,
          0.09439279633531364,
          0.09161957343580651,
          0.09827571106135731,
          0.08780630642184789,
          0.07887809072823039,
          0.08200818143298977,
          0.10869662743210899,
          0.04923841165458132,
          0.08447909586809817,
          0.061763278094741726,
          0.08157232293444741,
          0.0828540726125448,
          0.07964721320566447,
          0.052436032929724145,
          0.09936489720066602,
          0.1115208163219687,
          0.12021846744753241,
          0.11214025008994624,
          0.12870084425878944,
          0.09980623841166054,
          0.08378338660167267,
          0.12668009099517358,
          0.11756734653661244,
          0.08188184811020038,
          0.08340275031441799,
          0.12108215820209918,
          0.07910080843732191,
          0.08533613629427729,
          0.10014188652056358,
          0.07943594597029181,
          0.05895903940700047,
          0.08353955119729856,
          0.07321337842558424,
          0.0949795356649102,
          0.045873171092556446,
          0.19369140874948948,
          0.053960193856290056,
          0.0528024261489521,
          0.08214284781676033,
          0.08344754456741553,
          0.0852503937212587,
          0.16680755949525158,
          0.08979456032000527,
          0.13084929121000102,
          0.08194601577661435,
          0.06299006573364235,
          0.11639737863755603,
          0.18531485835816636,
          0.07806108210678697,
          0.10938716537168311,
          0.08080140593718667,
          0.10573882411267484,
          0.11804095998971763,
          0.16295827686865125,
          0.03609994943495558,
          0.1023472157372635,
          0.105240340015921,
          0.05484228194858474,
          0.05405928039755477,
          0.05742637787590664,
          0.09596071999063863,
          0.08195402088037863,
          0.13462590467858077,
          0.06999661163960468,
          0.05597743906441707,
          0.0888811330941827,
          0.08105593357562475,
          0.10125833615572419,
          0.10251141143152898,
          0.09878637365065902,
          0.07542126786960573,
          0.05231268376901421,
          0.07017548610857435,
          0.11059240715112642,
          0.16399061664767547,
          0.11416158257261447,
          0.10783444100409972,
          0.08065948413517397,
          0.07084557317218373,
          0.07327474538808244,
          0.0
         ],
         "type": "scatter",
         "xaxis": "x2",
         "yaxis": "y2"
        }
       ],
       "layout": {
        "template": {
         "data": {
          "histogram2dcontour": [
           {
            "type": "histogram2dcontour",
            "colorbar": {
             "outlinewidth": 0,
             "ticks": ""
            },
            "colorscale": [
             [
              0.0,
              "#0d0887"
             ],
             [
              0.1111111111111111,
              "#46039f"
             ],
             [
              0.2222222222222222,
              "#7201a8"
             ],
             [
              0.3333333333333333,
              "#9c179e"
             ],
             [
              0.4444444444444444,
              "#bd3786"
             ],
             [
              0.5555555555555556,
              "#d8576b"
             ],
             [
              0.6666666666666666,
              "#ed7953"
             ],
             [
              0.7777777777777778,
              "#fb9f3a"
             ],
             [
              0.8888888888888888,
              "#fdca26"
             ],
             [
              1.0,
              "#f0f921"
             ]
            ]
           }
          ],
          "choropleth": [
           {
            "type": "choropleth",
            "colorbar": {
             "outlinewidth": 0,
             "ticks": ""
            }
           }
          ],
          "histogram2d": [
           {
            "type": "histogram2d",
            "colorbar": {
             "outlinewidth": 0,
             "ticks": ""
            },
            "colorscale": [
             [
              0.0,
              "#0d0887"
             ],
             [
              0.1111111111111111,
              "#46039f"
             ],
             [
              0.2222222222222222,
              "#7201a8"
             ],
             [
              0.3333333333333333,
              "#9c179e"
             ],
             [
              0.4444444444444444,
              "#bd3786"
             ],
             [
              0.5555555555555556,
              "#d8576b"
             ],
             [
              0.6666666666666666,
              "#ed7953"
             ],
             [
              0.7777777777777778,
              "#fb9f3a"
             ],
             [
              0.8888888888888888,
              "#fdca26"
             ],
             [
              1.0,
              "#f0f921"
             ]
            ]
           }
          ],
          "heatmap": [
           {
            "type": "heatmap",
            "colorbar": {
             "outlinewidth": 0,
             "ticks": ""
            },
            "colorscale": [
             [
              0.0,
              "#0d0887"
             ],
             [
              0.1111111111111111,
              "#46039f"
             ],
             [
              0.2222222222222222,
              "#7201a8"
             ],
             [
              0.3333333333333333,
              "#9c179e"
             ],
             [
              0.4444444444444444,
              "#bd3786"
             ],
             [
              0.5555555555555556,
              "#d8576b"
             ],
             [
              0.6666666666666666,
              "#ed7953"
             ],
             [
              0.7777777777777778,
              "#fb9f3a"
             ],
             [
              0.8888888888888888,
              "#fdca26"
             ],
             [
              1.0,
              "#f0f921"
             ]
            ]
           }
          ],
          "heatmapgl": [
           {
            "type": "heatmapgl",
            "colorbar": {
             "outlinewidth": 0,
             "ticks": ""
            },
            "colorscale": [
             [
              0.0,
              "#0d0887"
             ],
             [
              0.1111111111111111,
              "#46039f"
             ],
             [
              0.2222222222222222,
              "#7201a8"
             ],
             [
              0.3333333333333333,
              "#9c179e"
             ],
             [
              0.4444444444444444,
              "#bd3786"
             ],
             [
              0.5555555555555556,
              "#d8576b"
             ],
             [
              0.6666666666666666,
              "#ed7953"
             ],
             [
              0.7777777777777778,
              "#fb9f3a"
             ],
             [
              0.8888888888888888,
              "#fdca26"
             ],
             [
              1.0,
              "#f0f921"
             ]
            ]
           }
          ],
          "contourcarpet": [
           {
            "type": "contourcarpet",
            "colorbar": {
             "outlinewidth": 0,
             "ticks": ""
            }
           }
          ],
          "contour": [
           {
            "type": "contour",
            "colorbar": {
             "outlinewidth": 0,
             "ticks": ""
            },
            "colorscale": [
             [
              0.0,
              "#0d0887"
             ],
             [
              0.1111111111111111,
              "#46039f"
             ],
             [
              0.2222222222222222,
              "#7201a8"
             ],
             [
              0.3333333333333333,
              "#9c179e"
             ],
             [
              0.4444444444444444,
              "#bd3786"
             ],
             [
              0.5555555555555556,
              "#d8576b"
             ],
             [
              0.6666666666666666,
              "#ed7953"
             ],
             [
              0.7777777777777778,
              "#fb9f3a"
             ],
             [
              0.8888888888888888,
              "#fdca26"
             ],
             [
              1.0,
              "#f0f921"
             ]
            ]
           }
          ],
          "surface": [
           {
            "type": "surface",
            "colorbar": {
             "outlinewidth": 0,
             "ticks": ""
            },
            "colorscale": [
             [
              0.0,
              "#0d0887"
             ],
             [
              0.1111111111111111,
              "#46039f"
             ],
             [
              0.2222222222222222,
              "#7201a8"
             ],
             [
              0.3333333333333333,
              "#9c179e"
             ],
             [
              0.4444444444444444,
              "#bd3786"
             ],
             [
              0.5555555555555556,
              "#d8576b"
             ],
             [
              0.6666666666666666,
              "#ed7953"
             ],
             [
              0.7777777777777778,
              "#fb9f3a"
             ],
             [
              0.8888888888888888,
              "#fdca26"
             ],
             [
              1.0,
              "#f0f921"
             ]
            ]
           }
          ],
          "mesh3d": [
           {
            "type": "mesh3d",
            "colorbar": {
             "outlinewidth": 0,
             "ticks": ""
            }
           }
          ],
          "scatter": [
           {
            "marker": {
             "line": {
              "color": "#283442"
             }
            },
            "type": "scatter"
           }
          ],
          "parcoords": [
           {
            "type": "parcoords",
            "line": {
             "colorbar": {
              "outlinewidth": 0,
              "ticks": ""
             }
            }
           }
          ],
          "scatterpolargl": [
           {
            "type": "scatterpolargl",
            "marker": {
             "colorbar": {
              "outlinewidth": 0,
              "ticks": ""
             }
            }
           }
          ],
          "bar": [
           {
            "error_x": {
             "color": "#f2f5fa"
            },
            "error_y": {
             "color": "#f2f5fa"
            },
            "marker": {
             "line": {
              "color": "rgb(17,17,17)",
              "width": 0.5
             },
             "pattern": {
              "fillmode": "overlay",
              "size": 10,
              "solidity": 0.2
             }
            },
            "type": "bar"
           }
          ],
          "scattergeo": [
           {
            "type": "scattergeo",
            "marker": {
             "colorbar": {
              "outlinewidth": 0,
              "ticks": ""
             }
            }
           }
          ],
          "scatterpolar": [
           {
            "type": "scatterpolar",
            "marker": {
             "colorbar": {
              "outlinewidth": 0,
              "ticks": ""
             }
            }
           }
          ],
          "histogram": [
           {
            "marker": {
             "pattern": {
              "fillmode": "overlay",
              "size": 10,
              "solidity": 0.2
             }
            },
            "type": "histogram"
           }
          ],
          "scattergl": [
           {
            "marker": {
             "line": {
              "color": "#283442"
             }
            },
            "type": "scattergl"
           }
          ],
          "scatter3d": [
           {
            "type": "scatter3d",
            "line": {
             "colorbar": {
              "outlinewidth": 0,
              "ticks": ""
             }
            },
            "marker": {
             "colorbar": {
              "outlinewidth": 0,
              "ticks": ""
             }
            }
           }
          ],
          "scattermapbox": [
           {
            "type": "scattermapbox",
            "marker": {
             "colorbar": {
              "outlinewidth": 0,
              "ticks": ""
             }
            }
           }
          ],
          "scatterternary": [
           {
            "type": "scatterternary",
            "marker": {
             "colorbar": {
              "outlinewidth": 0,
              "ticks": ""
             }
            }
           }
          ],
          "scattercarpet": [
           {
            "type": "scattercarpet",
            "marker": {
             "colorbar": {
              "outlinewidth": 0,
              "ticks": ""
             }
            }
           }
          ],
          "carpet": [
           {
            "aaxis": {
             "endlinecolor": "#A2B1C6",
             "gridcolor": "#506784",
             "linecolor": "#506784",
             "minorgridcolor": "#506784",
             "startlinecolor": "#A2B1C6"
            },
            "baxis": {
             "endlinecolor": "#A2B1C6",
             "gridcolor": "#506784",
             "linecolor": "#506784",
             "minorgridcolor": "#506784",
             "startlinecolor": "#A2B1C6"
            },
            "type": "carpet"
           }
          ],
          "table": [
           {
            "cells": {
             "fill": {
              "color": "#506784"
             },
             "line": {
              "color": "rgb(17,17,17)"
             }
            },
            "header": {
             "fill": {
              "color": "#2a3f5f"
             },
             "line": {
              "color": "rgb(17,17,17)"
             }
            },
            "type": "table"
           }
          ],
          "barpolar": [
           {
            "marker": {
             "line": {
              "color": "rgb(17,17,17)",
              "width": 0.5
             },
             "pattern": {
              "fillmode": "overlay",
              "size": 10,
              "solidity": 0.2
             }
            },
            "type": "barpolar"
           }
          ],
          "pie": [
           {
            "automargin": true,
            "type": "pie"
           }
          ]
         },
         "layout": {
          "autotypenumbers": "strict",
          "colorway": [
           "#636efa",
           "#EF553B",
           "#00cc96",
           "#ab63fa",
           "#FFA15A",
           "#19d3f3",
           "#FF6692",
           "#B6E880",
           "#FF97FF",
           "#FECB52"
          ],
          "font": {
           "color": "#f2f5fa"
          },
          "hovermode": "closest",
          "hoverlabel": {
           "align": "left"
          },
          "paper_bgcolor": "rgb(17,17,17)",
          "plot_bgcolor": "rgb(17,17,17)",
          "polar": {
           "bgcolor": "rgb(17,17,17)",
           "angularaxis": {
            "gridcolor": "#506784",
            "linecolor": "#506784",
            "ticks": ""
           },
           "radialaxis": {
            "gridcolor": "#506784",
            "linecolor": "#506784",
            "ticks": ""
           }
          },
          "ternary": {
           "bgcolor": "rgb(17,17,17)",
           "aaxis": {
            "gridcolor": "#506784",
            "linecolor": "#506784",
            "ticks": ""
           },
           "baxis": {
            "gridcolor": "#506784",
            "linecolor": "#506784",
            "ticks": ""
           },
           "caxis": {
            "gridcolor": "#506784",
            "linecolor": "#506784",
            "ticks": ""
           }
          },
          "coloraxis": {
           "colorbar": {
            "outlinewidth": 0,
            "ticks": ""
           }
          },
          "colorscale": {
           "sequential": [
            [
             0.0,
             "#0d0887"
            ],
            [
             0.1111111111111111,
             "#46039f"
            ],
            [
             0.2222222222222222,
             "#7201a8"
            ],
            [
             0.3333333333333333,
             "#9c179e"
            ],
            [
             0.4444444444444444,
             "#bd3786"
            ],
            [
             0.5555555555555556,
             "#d8576b"
            ],
            [
             0.6666666666666666,
             "#ed7953"
            ],
            [
             0.7777777777777778,
             "#fb9f3a"
            ],
            [
             0.8888888888888888,
             "#fdca26"
            ],
            [
             1.0,
             "#f0f921"
            ]
           ],
           "sequentialminus": [
            [
             0.0,
             "#0d0887"
            ],
            [
             0.1111111111111111,
             "#46039f"
            ],
            [
             0.2222222222222222,
             "#7201a8"
            ],
            [
             0.3333333333333333,
             "#9c179e"
            ],
            [
             0.4444444444444444,
             "#bd3786"
            ],
            [
             0.5555555555555556,
             "#d8576b"
            ],
            [
             0.6666666666666666,
             "#ed7953"
            ],
            [
             0.7777777777777778,
             "#fb9f3a"
            ],
            [
             0.8888888888888888,
             "#fdca26"
            ],
            [
             1.0,
             "#f0f921"
            ]
           ],
           "diverging": [
            [
             0,
             "#8e0152"
            ],
            [
             0.1,
             "#c51b7d"
            ],
            [
             0.2,
             "#de77ae"
            ],
            [
             0.3,
             "#f1b6da"
            ],
            [
             0.4,
             "#fde0ef"
            ],
            [
             0.5,
             "#f7f7f7"
            ],
            [
             0.6,
             "#e6f5d0"
            ],
            [
             0.7,
             "#b8e186"
            ],
            [
             0.8,
             "#7fbc41"
            ],
            [
             0.9,
             "#4d9221"
            ],
            [
             1,
             "#276419"
            ]
           ]
          },
          "xaxis": {
           "gridcolor": "#283442",
           "linecolor": "#506784",
           "ticks": "",
           "title": {
            "standoff": 15
           },
           "zerolinecolor": "#283442",
           "automargin": true,
           "zerolinewidth": 2
          },
          "yaxis": {
           "gridcolor": "#283442",
           "linecolor": "#506784",
           "ticks": "",
           "title": {
            "standoff": 15
           },
           "zerolinecolor": "#283442",
           "automargin": true,
           "zerolinewidth": 2
          },
          "scene": {
           "xaxis": {
            "backgroundcolor": "rgb(17,17,17)",
            "gridcolor": "#506784",
            "linecolor": "#506784",
            "showbackground": true,
            "ticks": "",
            "zerolinecolor": "#C8D4E3",
            "gridwidth": 2
           },
           "yaxis": {
            "backgroundcolor": "rgb(17,17,17)",
            "gridcolor": "#506784",
            "linecolor": "#506784",
            "showbackground": true,
            "ticks": "",
            "zerolinecolor": "#C8D4E3",
            "gridwidth": 2
           },
           "zaxis": {
            "backgroundcolor": "rgb(17,17,17)",
            "gridcolor": "#506784",
            "linecolor": "#506784",
            "showbackground": true,
            "ticks": "",
            "zerolinecolor": "#C8D4E3",
            "gridwidth": 2
           }
          },
          "shapedefaults": {
           "line": {
            "color": "#f2f5fa"
           }
          },
          "annotationdefaults": {
           "arrowcolor": "#f2f5fa",
           "arrowhead": 0,
           "arrowwidth": 1
          },
          "geo": {
           "bgcolor": "rgb(17,17,17)",
           "landcolor": "rgb(17,17,17)",
           "subunitcolor": "#506784",
           "showland": true,
           "showlakes": true,
           "lakecolor": "rgb(17,17,17)"
          },
          "title": {
           "x": 0.05
          },
          "updatemenudefaults": {
           "bgcolor": "#506784",
           "borderwidth": 0
          },
          "sliderdefaults": {
           "bgcolor": "#C8D4E3",
           "borderwidth": 1,
           "bordercolor": "rgb(17,17,17)",
           "tickwidth": 0
          },
          "mapbox": {
           "style": "dark"
          }
         }
        },
        "xaxis": {
         "anchor": "y",
         "domain": [
          0.0,
          1.0
         ],
         "matches": "x2",
         "showticklabels": false
        },
        "yaxis": {
         "anchor": "x",
         "domain": [
          0.625,
          1.0
         ]
        },
        "xaxis2": {
         "anchor": "y2",
         "domain": [
          0.0,
          1.0
         ],
         "title": {
          "text": "Date"
         }
        },
        "yaxis2": {
         "anchor": "x2",
         "domain": [
          0.0,
          0.375
         ]
        },
        "annotations": [
         {
          "font": {
           "size": 16
          },
          "showarrow": false,
          "text": "Daily Deviation in Positive Sentiment",
          "x": 0.5,
          "xanchor": "center",
          "xref": "paper",
          "y": 1.0,
          "yanchor": "bottom",
          "yref": "paper"
         },
         {
          "font": {
           "size": 16
          },
          "showarrow": false,
          "text": "Daily Deviation in Negative Sentiment",
          "x": 0.5,
          "xanchor": "center",
          "xref": "paper",
          "y": 0.375,
          "yanchor": "bottom",
          "yref": "paper"
         }
        ],
        "shapes": [
         {
          "line": {
           "color": "Red",
           "dash": "dashdot",
           "width": 2
          },
          "name": "Mean",
          "type": "line",
          "x0": "2020-12-12",
          "x1": "2021-04-21",
          "xref": "x2",
          "y0": 0.09592578947034576,
          "y1": 0.09592578947034576,
          "yref": "y2"
         },
         {
          "line": {
           "color": "Red",
           "dash": "dashdot",
           "width": 2
          },
          "name": "Mean",
          "type": "line",
          "x0": "2020-12-12",
          "x1": "2021-04-21",
          "xref": "x",
          "y0": 0.15340118723122784,
          "y1": 0.15340118723122784,
          "yref": "y"
         }
        ],
        "title": {
         "text": "Sentiment Deviation Change With Time"
        },
        "height": 700,
        "width": 900
       },
       "config": {
        "plotlyServerURL": "https://plot.ly"
       }
      },
      "text/html": "<div>                            <div id=\"3bec2b9f-4b43-4adb-8f51-1fae26420609\" class=\"plotly-graph-div\" style=\"height:700px; width:900px;\"></div>            <script type=\"text/javascript\">                require([\"plotly\"], function(Plotly) {                    window.PLOTLYENV=window.PLOTLYENV || {};                                    if (document.getElementById(\"3bec2b9f-4b43-4adb-8f51-1fae26420609\")) {                    Plotly.newPlot(                        \"3bec2b9f-4b43-4adb-8f51-1fae26420609\",                        [{\"name\":\"Positive Sentiment SD\",\"x\":[\"2020-12-12\",\"2020-12-13\",\"2020-12-14\",\"2020-12-15\",\"2020-12-16\",\"2020-12-17\",\"2020-12-18\",\"2020-12-19\",\"2020-12-20\",\"2020-12-21\",\"2020-12-22\",\"2020-12-23\",\"2020-12-24\",\"2020-12-25\",\"2020-12-26\",\"2020-12-27\",\"2020-12-28\",\"2020-12-29\",\"2020-12-30\",\"2020-12-31\",\"2021-01-01\",\"2021-01-02\",\"2021-01-03\",\"2021-01-04\",\"2021-01-05\",\"2021-01-06\",\"2021-01-07\",\"2021-01-08\",\"2021-01-09\",\"2021-01-10\",\"2021-01-11\",\"2021-01-12\",\"2021-01-13\",\"2021-01-14\",\"2021-01-15\",\"2021-01-16\",\"2021-01-17\",\"2021-01-18\",\"2021-01-19\",\"2021-01-20\",\"2021-01-21\",\"2021-01-22\",\"2021-01-23\",\"2021-01-24\",\"2021-01-25\",\"2021-01-26\",\"2021-01-27\",\"2021-01-28\",\"2021-01-29\",\"2021-01-30\",\"2021-01-31\",\"2021-02-01\",\"2021-02-02\",\"2021-02-03\",\"2021-02-04\",\"2021-02-05\",\"2021-02-06\",\"2021-02-07\",\"2021-02-08\",\"2021-02-09\",\"2021-02-10\",\"2021-02-11\",\"2021-02-12\",\"2021-02-13\",\"2021-02-14\",\"2021-02-15\",\"2021-02-16\",\"2021-02-17\",\"2021-02-18\",\"2021-02-19\",\"2021-02-20\",\"2021-02-21\",\"2021-02-22\",\"2021-02-23\",\"2021-02-24\",\"2021-02-25\",\"2021-02-26\",\"2021-02-27\",\"2021-02-28\",\"2021-03-01\",\"2021-03-02\",\"2021-03-03\",\"2021-03-04\",\"2021-03-05\",\"2021-03-06\",\"2021-03-07\",\"2021-03-08\",\"2021-03-09\",\"2021-03-10\",\"2021-03-11\",\"2021-03-12\",\"2021-03-13\",\"2021-03-14\",\"2021-03-15\",\"2021-03-16\",\"2021-03-17\",\"2021-03-18\",\"2021-03-19\",\"2021-03-20\",\"2021-03-21\",\"2021-03-22\",\"2021-03-23\",\"2021-03-24\",\"2021-03-25\",\"2021-03-26\",\"2021-03-27\",\"2021-03-28\",\"2021-03-29\",\"2021-03-30\",\"2021-03-31\",\"2021-04-01\",\"2021-04-02\",\"2021-04-03\",\"2021-04-04\",\"2021-04-05\",\"2021-04-06\",\"2021-04-07\",\"2021-04-08\",\"2021-04-09\",\"2021-04-10\",\"2021-04-11\",\"2021-04-12\",\"2021-04-13\",\"2021-04-14\",\"2021-04-15\",\"2021-04-16\",\"2021-04-17\",\"2021-04-18\",\"2021-04-19\",\"2021-04-20\",\"2021-04-21\"],\"y\":[0.1551586638170788,0.13110670872295183,0.16254877558433767,0.1519424205081917,0.15699157154240329,0.17002950610866047,0.1514041759704368,0.15937497394070008,0.16537058710633715,0.15716216845895034,0.15261961999573748,0.1748107367484245,0.13289363028157025,0.14204130854555425,0.16439130006623012,0.1632818984922063,0.15185215003976107,0.1076685116613086,0.16015584292250562,0.17685750554944107,0.15555901218186183,0.17445272807958845,0.1753948338101004,0.13664160926250332,0.1604328548050582,0.13763803618837167,0.15031258657946955,0.16854101281493336,0.15338475380887565,0.16706774860366386,0.14654545492775028,0.1773360212153334,0.17464800589278412,0.14115179297931651,0.15184764381254395,0.1265399521737069,0.1372215487920768,0.18165375052991634,0.13502916108542756,0.14125430558448065,0.16297973012908748,0.16324336922568658,0.15349818026984505,0.12011220866563486,0.12434588662891545,0.1466787057995902,0.18192312242238515,0.17920476761006443,0.1617364053100958,0.13651168403559602,0.12238475226190104,0.15353987958721316,0.15797253164622316,0.14893028479704765,0.1474834595606903,0.16080850911738115,0.11801848021989733,0.14093065059050167,0.10846457163582147,0.13581483316472845,0.11472575075298089,0.23396498378253877,0.15143827649343342,0.16514667094707414,0.16459985366930613,0.12093444416272082,0.13604859185088566,0.15992448133615983,0.1493580395545946,0.1584448444802441,0.12551655750468646,0.16457592273304847,0.18424167078150824,0.1469171331689502,0.16476066021483074,0.17386336217043494,0.17981714914380975,0.2176464175082769,0.11471798195843311,0.20312720692984962,0.11468326066542982,0.17122540877610948,0.1221973763240758,0.1290329462560326,0.1772468076723514,0.09616025619659543,0.1662531885079971,0.1482601253029843,0.17370037801145202,0.14998370649866904,0.24061166268953427,0.21303471659847012,0.16404251719431595,0.12660909463661157,0.2013666842559593,0.17593620595585907,0.13797663470362628,0.178001486400366,0.126300859628338,0.10044593212960533,0.17290672168210247,0.21751787962599592,0.14804043962615718,0.1800911673887106,0.1350547919379273,0.1257321483254368,0.14976069800407135,0.15174688984316975,0.1311036485635189,0.16608106079153054,0.14883949985412562,0.18905305726578045,0.14902935069448925,0.1155139574206267,0.19839306191886816,0.16671297769285068,0.13894487867620317,0.1800196499245967,0.16749362910115023,0.11794219730343294,0.15771027047013997,0.2198298436817899,0.13852173571092666,0.14208044182100485,0.11130560408173523,0.111981205220254,0.12754707814315913,0.1450742995190822,0.14247195212692612,0.13314179695061237,0.06817746450746512],\"type\":\"scatter\",\"xaxis\":\"x\",\"yaxis\":\"y\"},{\"name\":\"Negative Sentiment SD\",\"x\":[\"2020-12-12\",\"2020-12-13\",\"2020-12-14\",\"2020-12-15\",\"2020-12-16\",\"2020-12-17\",\"2020-12-18\",\"2020-12-19\",\"2020-12-20\",\"2020-12-21\",\"2020-12-22\",\"2020-12-23\",\"2020-12-24\",\"2020-12-25\",\"2020-12-26\",\"2020-12-27\",\"2020-12-28\",\"2020-12-29\",\"2020-12-30\",\"2020-12-31\",\"2021-01-01\",\"2021-01-02\",\"2021-01-03\",\"2021-01-04\",\"2021-01-05\",\"2021-01-06\",\"2021-01-07\",\"2021-01-08\",\"2021-01-09\",\"2021-01-10\",\"2021-01-11\",\"2021-01-12\",\"2021-01-13\",\"2021-01-14\",\"2021-01-15\",\"2021-01-16\",\"2021-01-17\",\"2021-01-18\",\"2021-01-19\",\"2021-01-20\",\"2021-01-21\",\"2021-01-22\",\"2021-01-23\",\"2021-01-24\",\"2021-01-25\",\"2021-01-26\",\"2021-01-27\",\"2021-01-28\",\"2021-01-29\",\"2021-01-30\",\"2021-01-31\",\"2021-02-01\",\"2021-02-02\",\"2021-02-03\",\"2021-02-04\",\"2021-02-05\",\"2021-02-06\",\"2021-02-07\",\"2021-02-08\",\"2021-02-09\",\"2021-02-10\",\"2021-02-11\",\"2021-02-12\",\"2021-02-13\",\"2021-02-14\",\"2021-02-15\",\"2021-02-16\",\"2021-02-17\",\"2021-02-18\",\"2021-02-19\",\"2021-02-20\",\"2021-02-21\",\"2021-02-22\",\"2021-02-23\",\"2021-02-24\",\"2021-02-25\",\"2021-02-26\",\"2021-02-27\",\"2021-02-28\",\"2021-03-01\",\"2021-03-02\",\"2021-03-03\",\"2021-03-04\",\"2021-03-05\",\"2021-03-06\",\"2021-03-07\",\"2021-03-08\",\"2021-03-09\",\"2021-03-10\",\"2021-03-11\",\"2021-03-12\",\"2021-03-13\",\"2021-03-14\",\"2021-03-15\",\"2021-03-16\",\"2021-03-17\",\"2021-03-18\",\"2021-03-19\",\"2021-03-20\",\"2021-03-21\",\"2021-03-22\",\"2021-03-23\",\"2021-03-24\",\"2021-03-25\",\"2021-03-26\",\"2021-03-27\",\"2021-03-28\",\"2021-03-29\",\"2021-03-30\",\"2021-03-31\",\"2021-04-01\",\"2021-04-02\",\"2021-04-03\",\"2021-04-04\",\"2021-04-05\",\"2021-04-06\",\"2021-04-07\",\"2021-04-08\",\"2021-04-09\",\"2021-04-10\",\"2021-04-11\",\"2021-04-12\",\"2021-04-13\",\"2021-04-14\",\"2021-04-15\",\"2021-04-16\",\"2021-04-17\",\"2021-04-18\",\"2021-04-19\",\"2021-04-20\",\"2021-04-21\"],\"y\":[0.09656568431699122,0.0944641263977988,0.07855569085081855,0.09850814159109664,0.13275971526367478,0.11673327633623341,0.10698970612568162,0.1062162239892386,0.10829041449647046,0.0956857399153141,0.10672802951815281,0.0965157790990017,0.09184849448995565,0.08092286609117509,0.08623539305717913,0.0836147653760709,0.13479061599255218,0.12556273555567388,0.11107886475395455,0.10352790915205391,0.11723470395693462,0.1058949767759393,0.09193698964472931,0.11995191965187141,0.08210346541759997,0.10018167176899107,0.08856370489405581,0.10421440963764138,0.07325613866238743,0.10188507328736407,0.11406495078124322,0.0832874545765883,0.09929761765227235,0.08694840101148855,0.11132380544171751,0.12978666576153394,0.125812162639333,0.13060091794049447,0.1076451573410987,0.13172442457314518,0.10010799867376949,0.117902088208166,0.1139660817456735,0.10084398201317152,0.09269337364358866,0.1212234780227478,0.08309825030208906,0.07467159746754069,0.08876123847795474,0.11063141045929537,0.09439279633531364,0.09161957343580651,0.09827571106135731,0.08780630642184789,0.07887809072823039,0.08200818143298977,0.10869662743210899,0.04923841165458132,0.08447909586809817,0.061763278094741726,0.08157232293444741,0.0828540726125448,0.07964721320566447,0.052436032929724145,0.09936489720066602,0.1115208163219687,0.12021846744753241,0.11214025008994624,0.12870084425878944,0.09980623841166054,0.08378338660167267,0.12668009099517358,0.11756734653661244,0.08188184811020038,0.08340275031441799,0.12108215820209918,0.07910080843732191,0.08533613629427729,0.10014188652056358,0.07943594597029181,0.05895903940700047,0.08353955119729856,0.07321337842558424,0.0949795356649102,0.045873171092556446,0.19369140874948948,0.053960193856290056,0.0528024261489521,0.08214284781676033,0.08344754456741553,0.0852503937212587,0.16680755949525158,0.08979456032000527,0.13084929121000102,0.08194601577661435,0.06299006573364235,0.11639737863755603,0.18531485835816636,0.07806108210678697,0.10938716537168311,0.08080140593718667,0.10573882411267484,0.11804095998971763,0.16295827686865125,0.03609994943495558,0.1023472157372635,0.105240340015921,0.05484228194858474,0.05405928039755477,0.05742637787590664,0.09596071999063863,0.08195402088037863,0.13462590467858077,0.06999661163960468,0.05597743906441707,0.0888811330941827,0.08105593357562475,0.10125833615572419,0.10251141143152898,0.09878637365065902,0.07542126786960573,0.05231268376901421,0.07017548610857435,0.11059240715112642,0.16399061664767547,0.11416158257261447,0.10783444100409972,0.08065948413517397,0.07084557317218373,0.07327474538808244,0.0],\"type\":\"scatter\",\"xaxis\":\"x2\",\"yaxis\":\"y2\"}],                        {\"template\":{\"data\":{\"histogram2dcontour\":[{\"type\":\"histogram2dcontour\",\"colorbar\":{\"outlinewidth\":0,\"ticks\":\"\"},\"colorscale\":[[0.0,\"#0d0887\"],[0.1111111111111111,\"#46039f\"],[0.2222222222222222,\"#7201a8\"],[0.3333333333333333,\"#9c179e\"],[0.4444444444444444,\"#bd3786\"],[0.5555555555555556,\"#d8576b\"],[0.6666666666666666,\"#ed7953\"],[0.7777777777777778,\"#fb9f3a\"],[0.8888888888888888,\"#fdca26\"],[1.0,\"#f0f921\"]]}],\"choropleth\":[{\"type\":\"choropleth\",\"colorbar\":{\"outlinewidth\":0,\"ticks\":\"\"}}],\"histogram2d\":[{\"type\":\"histogram2d\",\"colorbar\":{\"outlinewidth\":0,\"ticks\":\"\"},\"colorscale\":[[0.0,\"#0d0887\"],[0.1111111111111111,\"#46039f\"],[0.2222222222222222,\"#7201a8\"],[0.3333333333333333,\"#9c179e\"],[0.4444444444444444,\"#bd3786\"],[0.5555555555555556,\"#d8576b\"],[0.6666666666666666,\"#ed7953\"],[0.7777777777777778,\"#fb9f3a\"],[0.8888888888888888,\"#fdca26\"],[1.0,\"#f0f921\"]]}],\"heatmap\":[{\"type\":\"heatmap\",\"colorbar\":{\"outlinewidth\":0,\"ticks\":\"\"},\"colorscale\":[[0.0,\"#0d0887\"],[0.1111111111111111,\"#46039f\"],[0.2222222222222222,\"#7201a8\"],[0.3333333333333333,\"#9c179e\"],[0.4444444444444444,\"#bd3786\"],[0.5555555555555556,\"#d8576b\"],[0.6666666666666666,\"#ed7953\"],[0.7777777777777778,\"#fb9f3a\"],[0.8888888888888888,\"#fdca26\"],[1.0,\"#f0f921\"]]}],\"heatmapgl\":[{\"type\":\"heatmapgl\",\"colorbar\":{\"outlinewidth\":0,\"ticks\":\"\"},\"colorscale\":[[0.0,\"#0d0887\"],[0.1111111111111111,\"#46039f\"],[0.2222222222222222,\"#7201a8\"],[0.3333333333333333,\"#9c179e\"],[0.4444444444444444,\"#bd3786\"],[0.5555555555555556,\"#d8576b\"],[0.6666666666666666,\"#ed7953\"],[0.7777777777777778,\"#fb9f3a\"],[0.8888888888888888,\"#fdca26\"],[1.0,\"#f0f921\"]]}],\"contourcarpet\":[{\"type\":\"contourcarpet\",\"colorbar\":{\"outlinewidth\":0,\"ticks\":\"\"}}],\"contour\":[{\"type\":\"contour\",\"colorbar\":{\"outlinewidth\":0,\"ticks\":\"\"},\"colorscale\":[[0.0,\"#0d0887\"],[0.1111111111111111,\"#46039f\"],[0.2222222222222222,\"#7201a8\"],[0.3333333333333333,\"#9c179e\"],[0.4444444444444444,\"#bd3786\"],[0.5555555555555556,\"#d8576b\"],[0.6666666666666666,\"#ed7953\"],[0.7777777777777778,\"#fb9f3a\"],[0.8888888888888888,\"#fdca26\"],[1.0,\"#f0f921\"]]}],\"surface\":[{\"type\":\"surface\",\"colorbar\":{\"outlinewidth\":0,\"ticks\":\"\"},\"colorscale\":[[0.0,\"#0d0887\"],[0.1111111111111111,\"#46039f\"],[0.2222222222222222,\"#7201a8\"],[0.3333333333333333,\"#9c179e\"],[0.4444444444444444,\"#bd3786\"],[0.5555555555555556,\"#d8576b\"],[0.6666666666666666,\"#ed7953\"],[0.7777777777777778,\"#fb9f3a\"],[0.8888888888888888,\"#fdca26\"],[1.0,\"#f0f921\"]]}],\"mesh3d\":[{\"type\":\"mesh3d\",\"colorbar\":{\"outlinewidth\":0,\"ticks\":\"\"}}],\"scatter\":[{\"marker\":{\"line\":{\"color\":\"#283442\"}},\"type\":\"scatter\"}],\"parcoords\":[{\"type\":\"parcoords\",\"line\":{\"colorbar\":{\"outlinewidth\":0,\"ticks\":\"\"}}}],\"scatterpolargl\":[{\"type\":\"scatterpolargl\",\"marker\":{\"colorbar\":{\"outlinewidth\":0,\"ticks\":\"\"}}}],\"bar\":[{\"error_x\":{\"color\":\"#f2f5fa\"},\"error_y\":{\"color\":\"#f2f5fa\"},\"marker\":{\"line\":{\"color\":\"rgb(17,17,17)\",\"width\":0.5},\"pattern\":{\"fillmode\":\"overlay\",\"size\":10,\"solidity\":0.2}},\"type\":\"bar\"}],\"scattergeo\":[{\"type\":\"scattergeo\",\"marker\":{\"colorbar\":{\"outlinewidth\":0,\"ticks\":\"\"}}}],\"scatterpolar\":[{\"type\":\"scatterpolar\",\"marker\":{\"colorbar\":{\"outlinewidth\":0,\"ticks\":\"\"}}}],\"histogram\":[{\"marker\":{\"pattern\":{\"fillmode\":\"overlay\",\"size\":10,\"solidity\":0.2}},\"type\":\"histogram\"}],\"scattergl\":[{\"marker\":{\"line\":{\"color\":\"#283442\"}},\"type\":\"scattergl\"}],\"scatter3d\":[{\"type\":\"scatter3d\",\"line\":{\"colorbar\":{\"outlinewidth\":0,\"ticks\":\"\"}},\"marker\":{\"colorbar\":{\"outlinewidth\":0,\"ticks\":\"\"}}}],\"scattermapbox\":[{\"type\":\"scattermapbox\",\"marker\":{\"colorbar\":{\"outlinewidth\":0,\"ticks\":\"\"}}}],\"scatterternary\":[{\"type\":\"scatterternary\",\"marker\":{\"colorbar\":{\"outlinewidth\":0,\"ticks\":\"\"}}}],\"scattercarpet\":[{\"type\":\"scattercarpet\",\"marker\":{\"colorbar\":{\"outlinewidth\":0,\"ticks\":\"\"}}}],\"carpet\":[{\"aaxis\":{\"endlinecolor\":\"#A2B1C6\",\"gridcolor\":\"#506784\",\"linecolor\":\"#506784\",\"minorgridcolor\":\"#506784\",\"startlinecolor\":\"#A2B1C6\"},\"baxis\":{\"endlinecolor\":\"#A2B1C6\",\"gridcolor\":\"#506784\",\"linecolor\":\"#506784\",\"minorgridcolor\":\"#506784\",\"startlinecolor\":\"#A2B1C6\"},\"type\":\"carpet\"}],\"table\":[{\"cells\":{\"fill\":{\"color\":\"#506784\"},\"line\":{\"color\":\"rgb(17,17,17)\"}},\"header\":{\"fill\":{\"color\":\"#2a3f5f\"},\"line\":{\"color\":\"rgb(17,17,17)\"}},\"type\":\"table\"}],\"barpolar\":[{\"marker\":{\"line\":{\"color\":\"rgb(17,17,17)\",\"width\":0.5},\"pattern\":{\"fillmode\":\"overlay\",\"size\":10,\"solidity\":0.2}},\"type\":\"barpolar\"}],\"pie\":[{\"automargin\":true,\"type\":\"pie\"}]},\"layout\":{\"autotypenumbers\":\"strict\",\"colorway\":[\"#636efa\",\"#EF553B\",\"#00cc96\",\"#ab63fa\",\"#FFA15A\",\"#19d3f3\",\"#FF6692\",\"#B6E880\",\"#FF97FF\",\"#FECB52\"],\"font\":{\"color\":\"#f2f5fa\"},\"hovermode\":\"closest\",\"hoverlabel\":{\"align\":\"left\"},\"paper_bgcolor\":\"rgb(17,17,17)\",\"plot_bgcolor\":\"rgb(17,17,17)\",\"polar\":{\"bgcolor\":\"rgb(17,17,17)\",\"angularaxis\":{\"gridcolor\":\"#506784\",\"linecolor\":\"#506784\",\"ticks\":\"\"},\"radialaxis\":{\"gridcolor\":\"#506784\",\"linecolor\":\"#506784\",\"ticks\":\"\"}},\"ternary\":{\"bgcolor\":\"rgb(17,17,17)\",\"aaxis\":{\"gridcolor\":\"#506784\",\"linecolor\":\"#506784\",\"ticks\":\"\"},\"baxis\":{\"gridcolor\":\"#506784\",\"linecolor\":\"#506784\",\"ticks\":\"\"},\"caxis\":{\"gridcolor\":\"#506784\",\"linecolor\":\"#506784\",\"ticks\":\"\"}},\"coloraxis\":{\"colorbar\":{\"outlinewidth\":0,\"ticks\":\"\"}},\"colorscale\":{\"sequential\":[[0.0,\"#0d0887\"],[0.1111111111111111,\"#46039f\"],[0.2222222222222222,\"#7201a8\"],[0.3333333333333333,\"#9c179e\"],[0.4444444444444444,\"#bd3786\"],[0.5555555555555556,\"#d8576b\"],[0.6666666666666666,\"#ed7953\"],[0.7777777777777778,\"#fb9f3a\"],[0.8888888888888888,\"#fdca26\"],[1.0,\"#f0f921\"]],\"sequentialminus\":[[0.0,\"#0d0887\"],[0.1111111111111111,\"#46039f\"],[0.2222222222222222,\"#7201a8\"],[0.3333333333333333,\"#9c179e\"],[0.4444444444444444,\"#bd3786\"],[0.5555555555555556,\"#d8576b\"],[0.6666666666666666,\"#ed7953\"],[0.7777777777777778,\"#fb9f3a\"],[0.8888888888888888,\"#fdca26\"],[1.0,\"#f0f921\"]],\"diverging\":[[0,\"#8e0152\"],[0.1,\"#c51b7d\"],[0.2,\"#de77ae\"],[0.3,\"#f1b6da\"],[0.4,\"#fde0ef\"],[0.5,\"#f7f7f7\"],[0.6,\"#e6f5d0\"],[0.7,\"#b8e186\"],[0.8,\"#7fbc41\"],[0.9,\"#4d9221\"],[1,\"#276419\"]]},\"xaxis\":{\"gridcolor\":\"#283442\",\"linecolor\":\"#506784\",\"ticks\":\"\",\"title\":{\"standoff\":15},\"zerolinecolor\":\"#283442\",\"automargin\":true,\"zerolinewidth\":2},\"yaxis\":{\"gridcolor\":\"#283442\",\"linecolor\":\"#506784\",\"ticks\":\"\",\"title\":{\"standoff\":15},\"zerolinecolor\":\"#283442\",\"automargin\":true,\"zerolinewidth\":2},\"scene\":{\"xaxis\":{\"backgroundcolor\":\"rgb(17,17,17)\",\"gridcolor\":\"#506784\",\"linecolor\":\"#506784\",\"showbackground\":true,\"ticks\":\"\",\"zerolinecolor\":\"#C8D4E3\",\"gridwidth\":2},\"yaxis\":{\"backgroundcolor\":\"rgb(17,17,17)\",\"gridcolor\":\"#506784\",\"linecolor\":\"#506784\",\"showbackground\":true,\"ticks\":\"\",\"zerolinecolor\":\"#C8D4E3\",\"gridwidth\":2},\"zaxis\":{\"backgroundcolor\":\"rgb(17,17,17)\",\"gridcolor\":\"#506784\",\"linecolor\":\"#506784\",\"showbackground\":true,\"ticks\":\"\",\"zerolinecolor\":\"#C8D4E3\",\"gridwidth\":2}},\"shapedefaults\":{\"line\":{\"color\":\"#f2f5fa\"}},\"annotationdefaults\":{\"arrowcolor\":\"#f2f5fa\",\"arrowhead\":0,\"arrowwidth\":1},\"geo\":{\"bgcolor\":\"rgb(17,17,17)\",\"landcolor\":\"rgb(17,17,17)\",\"subunitcolor\":\"#506784\",\"showland\":true,\"showlakes\":true,\"lakecolor\":\"rgb(17,17,17)\"},\"title\":{\"x\":0.05},\"updatemenudefaults\":{\"bgcolor\":\"#506784\",\"borderwidth\":0},\"sliderdefaults\":{\"bgcolor\":\"#C8D4E3\",\"borderwidth\":1,\"bordercolor\":\"rgb(17,17,17)\",\"tickwidth\":0},\"mapbox\":{\"style\":\"dark\"}}},\"xaxis\":{\"anchor\":\"y\",\"domain\":[0.0,1.0],\"matches\":\"x2\",\"showticklabels\":false},\"yaxis\":{\"anchor\":\"x\",\"domain\":[0.625,1.0]},\"xaxis2\":{\"anchor\":\"y2\",\"domain\":[0.0,1.0],\"title\":{\"text\":\"Date\"}},\"yaxis2\":{\"anchor\":\"x2\",\"domain\":[0.0,0.375]},\"annotations\":[{\"font\":{\"size\":16},\"showarrow\":false,\"text\":\"Daily Deviation in Positive Sentiment\",\"x\":0.5,\"xanchor\":\"center\",\"xref\":\"paper\",\"y\":1.0,\"yanchor\":\"bottom\",\"yref\":\"paper\"},{\"font\":{\"size\":16},\"showarrow\":false,\"text\":\"Daily Deviation in Negative Sentiment\",\"x\":0.5,\"xanchor\":\"center\",\"xref\":\"paper\",\"y\":0.375,\"yanchor\":\"bottom\",\"yref\":\"paper\"}],\"shapes\":[{\"line\":{\"color\":\"Red\",\"dash\":\"dashdot\",\"width\":2},\"name\":\"Mean\",\"type\":\"line\",\"x0\":\"2020-12-12\",\"x1\":\"2021-04-21\",\"xref\":\"x2\",\"y0\":0.09592578947034576,\"y1\":0.09592578947034576,\"yref\":\"y2\"},{\"line\":{\"color\":\"Red\",\"dash\":\"dashdot\",\"width\":2},\"name\":\"Mean\",\"type\":\"line\",\"x0\":\"2020-12-12\",\"x1\":\"2021-04-21\",\"xref\":\"x\",\"y0\":0.15340118723122784,\"y1\":0.15340118723122784,\"yref\":\"y\"}],\"title\":{\"text\":\"Sentiment Deviation Change With Time\"},\"height\":700,\"width\":900},                        {\"responsive\": true}                    ).then(function(){\n                            \nvar gd = document.getElementById('3bec2b9f-4b43-4adb-8f51-1fae26420609');\nvar x = new MutationObserver(function (mutations, observer) {{\n        var display = window.getComputedStyle(gd).display;\n        if (!display || display === 'none') {{\n            console.log([gd, 'removed!']);\n            Plotly.purge(gd);\n            observer.disconnect();\n        }}\n}});\n\n// Listen for the removal of the full notebook cells\nvar notebookContainer = gd.closest('#notebook-container');\nif (notebookContainer) {{\n    x.observe(notebookContainer, {childList: true});\n}}\n\n// Listen for the clearing of the current output cell\nvar outputEl = gd.closest('.output');\nif (outputEl) {{\n    x.observe(outputEl, {childList: true});\n}}\n\n                        })                };                });            </script>        </div>"
     },
     "metadata": {},
     "output_type": "display_data"
    }
   ],
   "source": [
    "fig = make_subplots(rows=2, cols=1,shared_xaxes=True,subplot_titles=('Daily Deviation in Positive Sentiment',  'Daily Deviation in Negative Sentiment'))\n",
    "\n",
    "fig.add_trace(\n",
    "    go.Scatter(x=b_date_std['date'], y=b_date_std['Positive Sentiment'],name='Positive Sentiment SD'),\n",
    "    row=1, col=1\n",
    ")\n",
    "\n",
    "#negative mean\n",
    "fig.add_shape(type=\"line\",\n",
    "    x0=b_date_std['date'].values[0], y0=b_date_std['Negative Sentiment'].mean(), x1=b_date_std['date'].values[-1], y1=b_date_std['Negative Sentiment'].mean(),\n",
    "    line=dict(\n",
    "        color=\"Red\",\n",
    "        width=2,\n",
    "        dash=\"dashdot\",\n",
    "    ),\n",
    "        name='Mean',\n",
    "        xref='x2',\n",
    "        yref='y2'\n",
    ")\n",
    "\n",
    "#negative mean\n",
    "fig.add_shape(type=\"line\",\n",
    "    x0=b_date_std['date'].values[0], y0=b_date_std['Positive Sentiment'].mean(), x1=b_date_std['date'].values[-1], y1=b_date_std['Positive Sentiment'].mean(),\n",
    "    line=dict(\n",
    "        color=\"Red\",\n",
    "        width=2,\n",
    "        dash=\"dashdot\",\n",
    "    ),\n",
    "        name='Mean',\n",
    "        xref='x1',\n",
    "        yref='y1'\n",
    ")\n",
    "\n",
    "\n",
    "fig.add_trace(\n",
    "    go.Scatter(x=b_date_std['date'], y=b_date_std['Negative Sentiment'],name='Negative Sentiment SD'),\n",
    "    row=2, col=1\n",
    ")\n",
    "\n",
    "fig['layout']['xaxis2']['title'] = 'Date'\n",
    "fig.update_layout(height=700, width=900, title_text=\"Sentiment Deviation Change With Time\")\n",
    "fig.show()\n"
   ],
   "metadata": {
    "collapsed": false,
    "pycharm": {
     "name": "#%%\n"
    }
   }
  },
  {
   "cell_type": "code",
   "execution_count": 21,
   "outputs": [
    {
     "data": {
      "application/vnd.plotly.v1+json": {
       "data": [
        {
         "hovertemplate": "date=%{x}<br>Tweets Per Day=%{y}<extra></extra>",
         "legendgroup": "",
         "line": {
          "color": "#636efa",
          "dash": "solid"
         },
         "marker": {
          "symbol": "circle"
         },
         "mode": "markers+lines",
         "name": "",
         "orientation": "v",
         "showlegend": false,
         "x": [
          "2020-12-12",
          "2020-12-13",
          "2020-12-14",
          "2020-12-15",
          "2020-12-16",
          "2020-12-17",
          "2020-12-18",
          "2020-12-19",
          "2020-12-20",
          "2020-12-21",
          "2020-12-22",
          "2020-12-23",
          "2020-12-24",
          "2020-12-25",
          "2020-12-26",
          "2020-12-27",
          "2020-12-28",
          "2020-12-29",
          "2020-12-30",
          "2020-12-31",
          "2021-01-01",
          "2021-01-02",
          "2021-01-03",
          "2021-01-04",
          "2021-01-05",
          "2021-01-06",
          "2021-01-07",
          "2021-01-08",
          "2021-01-09",
          "2021-01-10",
          "2021-01-11",
          "2021-01-12",
          "2021-01-13",
          "2021-01-14",
          "2021-01-15",
          "2021-01-16",
          "2021-01-17",
          "2021-01-18",
          "2021-01-19",
          "2021-01-20",
          "2021-01-21",
          "2021-01-22",
          "2021-01-23",
          "2021-01-24",
          "2021-01-25",
          "2021-01-26",
          "2021-01-27",
          "2021-01-28",
          "2021-01-29",
          "2021-01-30",
          "2021-01-31",
          "2021-02-01",
          "2021-02-02",
          "2021-02-03",
          "2021-02-04",
          "2021-02-05",
          "2021-02-06",
          "2021-02-07",
          "2021-02-08",
          "2021-02-09",
          "2021-02-10",
          "2021-02-11",
          "2021-02-12",
          "2021-02-13",
          "2021-02-14",
          "2021-02-15",
          "2021-02-16",
          "2021-02-17",
          "2021-02-18",
          "2021-02-19",
          "2021-02-20",
          "2021-02-21",
          "2021-02-22",
          "2021-02-23",
          "2021-02-24",
          "2021-02-25",
          "2021-02-26",
          "2021-02-27",
          "2021-02-28",
          "2021-03-01",
          "2021-03-02",
          "2021-03-03",
          "2021-03-04",
          "2021-03-05",
          "2021-03-06",
          "2021-03-07",
          "2021-03-08",
          "2021-03-09",
          "2021-03-10",
          "2021-03-11",
          "2021-03-12",
          "2021-03-13",
          "2021-03-14",
          "2021-03-15",
          "2021-03-16",
          "2021-03-17",
          "2021-03-18",
          "2021-03-19",
          "2021-03-20",
          "2021-03-21",
          "2021-03-22",
          "2021-03-23",
          "2021-03-24",
          "2021-03-25",
          "2021-03-26",
          "2021-03-27",
          "2021-03-28",
          "2021-03-29",
          "2021-03-30",
          "2021-03-31",
          "2021-04-01",
          "2021-04-02",
          "2021-04-03",
          "2021-04-04",
          "2021-04-05",
          "2021-04-06",
          "2021-04-07",
          "2021-04-08",
          "2021-04-09",
          "2021-04-10",
          "2021-04-11",
          "2021-04-12",
          "2021-04-13",
          "2021-04-14",
          "2021-04-15",
          "2021-04-16",
          "2021-04-17",
          "2021-04-18",
          "2021-04-19",
          "2021-04-20",
          "2021-04-21"
         ],
         "xaxis": "x",
         "y": [
          63,
          98,
          137,
          150,
          144,
          139,
          112,
          110,
          68,
          102,
          157,
          123,
          114,
          40,
          47,
          59,
          53,
          85,
          107,
          72,
          95,
          83,
          56,
          72,
          111,
          112,
          76,
          210,
          170,
          118,
          93,
          106,
          111,
          106,
          148,
          129,
          99,
          66,
          100,
          104,
          145,
          65,
          65,
          53,
          77,
          91,
          89,
          80,
          96,
          73,
          30,
          31,
          53,
          37,
          69,
          70,
          39,
          29,
          38,
          35,
          44,
          33,
          36,
          23,
          31,
          31,
          44,
          55,
          49,
          91,
          39,
          45,
          39,
          42,
          94,
          92,
          78,
          29,
          40,
          41,
          43,
          47,
          41,
          41,
          23,
          27,
          35,
          47,
          37,
          59,
          28,
          21,
          37,
          53,
          43,
          47,
          29,
          38,
          36,
          22,
          34,
          31,
          51,
          36,
          36,
          23,
          16,
          23,
          24,
          102,
          86,
          26,
          20,
          13,
          19,
          28,
          30,
          40,
          20,
          21,
          17,
          22,
          30,
          56,
          33,
          32,
          15,
          15,
          15,
          22,
          6
         ],
         "yaxis": "y",
         "type": "scatter"
        }
       ],
       "layout": {
        "template": {
         "data": {
          "histogram2dcontour": [
           {
            "type": "histogram2dcontour",
            "colorbar": {
             "outlinewidth": 0,
             "ticks": ""
            },
            "colorscale": [
             [
              0.0,
              "#0d0887"
             ],
             [
              0.1111111111111111,
              "#46039f"
             ],
             [
              0.2222222222222222,
              "#7201a8"
             ],
             [
              0.3333333333333333,
              "#9c179e"
             ],
             [
              0.4444444444444444,
              "#bd3786"
             ],
             [
              0.5555555555555556,
              "#d8576b"
             ],
             [
              0.6666666666666666,
              "#ed7953"
             ],
             [
              0.7777777777777778,
              "#fb9f3a"
             ],
             [
              0.8888888888888888,
              "#fdca26"
             ],
             [
              1.0,
              "#f0f921"
             ]
            ]
           }
          ],
          "choropleth": [
           {
            "type": "choropleth",
            "colorbar": {
             "outlinewidth": 0,
             "ticks": ""
            }
           }
          ],
          "histogram2d": [
           {
            "type": "histogram2d",
            "colorbar": {
             "outlinewidth": 0,
             "ticks": ""
            },
            "colorscale": [
             [
              0.0,
              "#0d0887"
             ],
             [
              0.1111111111111111,
              "#46039f"
             ],
             [
              0.2222222222222222,
              "#7201a8"
             ],
             [
              0.3333333333333333,
              "#9c179e"
             ],
             [
              0.4444444444444444,
              "#bd3786"
             ],
             [
              0.5555555555555556,
              "#d8576b"
             ],
             [
              0.6666666666666666,
              "#ed7953"
             ],
             [
              0.7777777777777778,
              "#fb9f3a"
             ],
             [
              0.8888888888888888,
              "#fdca26"
             ],
             [
              1.0,
              "#f0f921"
             ]
            ]
           }
          ],
          "heatmap": [
           {
            "type": "heatmap",
            "colorbar": {
             "outlinewidth": 0,
             "ticks": ""
            },
            "colorscale": [
             [
              0.0,
              "#0d0887"
             ],
             [
              0.1111111111111111,
              "#46039f"
             ],
             [
              0.2222222222222222,
              "#7201a8"
             ],
             [
              0.3333333333333333,
              "#9c179e"
             ],
             [
              0.4444444444444444,
              "#bd3786"
             ],
             [
              0.5555555555555556,
              "#d8576b"
             ],
             [
              0.6666666666666666,
              "#ed7953"
             ],
             [
              0.7777777777777778,
              "#fb9f3a"
             ],
             [
              0.8888888888888888,
              "#fdca26"
             ],
             [
              1.0,
              "#f0f921"
             ]
            ]
           }
          ],
          "heatmapgl": [
           {
            "type": "heatmapgl",
            "colorbar": {
             "outlinewidth": 0,
             "ticks": ""
            },
            "colorscale": [
             [
              0.0,
              "#0d0887"
             ],
             [
              0.1111111111111111,
              "#46039f"
             ],
             [
              0.2222222222222222,
              "#7201a8"
             ],
             [
              0.3333333333333333,
              "#9c179e"
             ],
             [
              0.4444444444444444,
              "#bd3786"
             ],
             [
              0.5555555555555556,
              "#d8576b"
             ],
             [
              0.6666666666666666,
              "#ed7953"
             ],
             [
              0.7777777777777778,
              "#fb9f3a"
             ],
             [
              0.8888888888888888,
              "#fdca26"
             ],
             [
              1.0,
              "#f0f921"
             ]
            ]
           }
          ],
          "contourcarpet": [
           {
            "type": "contourcarpet",
            "colorbar": {
             "outlinewidth": 0,
             "ticks": ""
            }
           }
          ],
          "contour": [
           {
            "type": "contour",
            "colorbar": {
             "outlinewidth": 0,
             "ticks": ""
            },
            "colorscale": [
             [
              0.0,
              "#0d0887"
             ],
             [
              0.1111111111111111,
              "#46039f"
             ],
             [
              0.2222222222222222,
              "#7201a8"
             ],
             [
              0.3333333333333333,
              "#9c179e"
             ],
             [
              0.4444444444444444,
              "#bd3786"
             ],
             [
              0.5555555555555556,
              "#d8576b"
             ],
             [
              0.6666666666666666,
              "#ed7953"
             ],
             [
              0.7777777777777778,
              "#fb9f3a"
             ],
             [
              0.8888888888888888,
              "#fdca26"
             ],
             [
              1.0,
              "#f0f921"
             ]
            ]
           }
          ],
          "surface": [
           {
            "type": "surface",
            "colorbar": {
             "outlinewidth": 0,
             "ticks": ""
            },
            "colorscale": [
             [
              0.0,
              "#0d0887"
             ],
             [
              0.1111111111111111,
              "#46039f"
             ],
             [
              0.2222222222222222,
              "#7201a8"
             ],
             [
              0.3333333333333333,
              "#9c179e"
             ],
             [
              0.4444444444444444,
              "#bd3786"
             ],
             [
              0.5555555555555556,
              "#d8576b"
             ],
             [
              0.6666666666666666,
              "#ed7953"
             ],
             [
              0.7777777777777778,
              "#fb9f3a"
             ],
             [
              0.8888888888888888,
              "#fdca26"
             ],
             [
              1.0,
              "#f0f921"
             ]
            ]
           }
          ],
          "mesh3d": [
           {
            "type": "mesh3d",
            "colorbar": {
             "outlinewidth": 0,
             "ticks": ""
            }
           }
          ],
          "scatter": [
           {
            "marker": {
             "line": {
              "color": "#283442"
             }
            },
            "type": "scatter"
           }
          ],
          "parcoords": [
           {
            "type": "parcoords",
            "line": {
             "colorbar": {
              "outlinewidth": 0,
              "ticks": ""
             }
            }
           }
          ],
          "scatterpolargl": [
           {
            "type": "scatterpolargl",
            "marker": {
             "colorbar": {
              "outlinewidth": 0,
              "ticks": ""
             }
            }
           }
          ],
          "bar": [
           {
            "error_x": {
             "color": "#f2f5fa"
            },
            "error_y": {
             "color": "#f2f5fa"
            },
            "marker": {
             "line": {
              "color": "rgb(17,17,17)",
              "width": 0.5
             },
             "pattern": {
              "fillmode": "overlay",
              "size": 10,
              "solidity": 0.2
             }
            },
            "type": "bar"
           }
          ],
          "scattergeo": [
           {
            "type": "scattergeo",
            "marker": {
             "colorbar": {
              "outlinewidth": 0,
              "ticks": ""
             }
            }
           }
          ],
          "scatterpolar": [
           {
            "type": "scatterpolar",
            "marker": {
             "colorbar": {
              "outlinewidth": 0,
              "ticks": ""
             }
            }
           }
          ],
          "histogram": [
           {
            "marker": {
             "pattern": {
              "fillmode": "overlay",
              "size": 10,
              "solidity": 0.2
             }
            },
            "type": "histogram"
           }
          ],
          "scattergl": [
           {
            "marker": {
             "line": {
              "color": "#283442"
             }
            },
            "type": "scattergl"
           }
          ],
          "scatter3d": [
           {
            "type": "scatter3d",
            "line": {
             "colorbar": {
              "outlinewidth": 0,
              "ticks": ""
             }
            },
            "marker": {
             "colorbar": {
              "outlinewidth": 0,
              "ticks": ""
             }
            }
           }
          ],
          "scattermapbox": [
           {
            "type": "scattermapbox",
            "marker": {
             "colorbar": {
              "outlinewidth": 0,
              "ticks": ""
             }
            }
           }
          ],
          "scatterternary": [
           {
            "type": "scatterternary",
            "marker": {
             "colorbar": {
              "outlinewidth": 0,
              "ticks": ""
             }
            }
           }
          ],
          "scattercarpet": [
           {
            "type": "scattercarpet",
            "marker": {
             "colorbar": {
              "outlinewidth": 0,
              "ticks": ""
             }
            }
           }
          ],
          "carpet": [
           {
            "aaxis": {
             "endlinecolor": "#A2B1C6",
             "gridcolor": "#506784",
             "linecolor": "#506784",
             "minorgridcolor": "#506784",
             "startlinecolor": "#A2B1C6"
            },
            "baxis": {
             "endlinecolor": "#A2B1C6",
             "gridcolor": "#506784",
             "linecolor": "#506784",
             "minorgridcolor": "#506784",
             "startlinecolor": "#A2B1C6"
            },
            "type": "carpet"
           }
          ],
          "table": [
           {
            "cells": {
             "fill": {
              "color": "#506784"
             },
             "line": {
              "color": "rgb(17,17,17)"
             }
            },
            "header": {
             "fill": {
              "color": "#2a3f5f"
             },
             "line": {
              "color": "rgb(17,17,17)"
             }
            },
            "type": "table"
           }
          ],
          "barpolar": [
           {
            "marker": {
             "line": {
              "color": "rgb(17,17,17)",
              "width": 0.5
             },
             "pattern": {
              "fillmode": "overlay",
              "size": 10,
              "solidity": 0.2
             }
            },
            "type": "barpolar"
           }
          ],
          "pie": [
           {
            "automargin": true,
            "type": "pie"
           }
          ]
         },
         "layout": {
          "autotypenumbers": "strict",
          "colorway": [
           "#636efa",
           "#EF553B",
           "#00cc96",
           "#ab63fa",
           "#FFA15A",
           "#19d3f3",
           "#FF6692",
           "#B6E880",
           "#FF97FF",
           "#FECB52"
          ],
          "font": {
           "color": "#f2f5fa"
          },
          "hovermode": "closest",
          "hoverlabel": {
           "align": "left"
          },
          "paper_bgcolor": "rgb(17,17,17)",
          "plot_bgcolor": "rgb(17,17,17)",
          "polar": {
           "bgcolor": "rgb(17,17,17)",
           "angularaxis": {
            "gridcolor": "#506784",
            "linecolor": "#506784",
            "ticks": ""
           },
           "radialaxis": {
            "gridcolor": "#506784",
            "linecolor": "#506784",
            "ticks": ""
           }
          },
          "ternary": {
           "bgcolor": "rgb(17,17,17)",
           "aaxis": {
            "gridcolor": "#506784",
            "linecolor": "#506784",
            "ticks": ""
           },
           "baxis": {
            "gridcolor": "#506784",
            "linecolor": "#506784",
            "ticks": ""
           },
           "caxis": {
            "gridcolor": "#506784",
            "linecolor": "#506784",
            "ticks": ""
           }
          },
          "coloraxis": {
           "colorbar": {
            "outlinewidth": 0,
            "ticks": ""
           }
          },
          "colorscale": {
           "sequential": [
            [
             0.0,
             "#0d0887"
            ],
            [
             0.1111111111111111,
             "#46039f"
            ],
            [
             0.2222222222222222,
             "#7201a8"
            ],
            [
             0.3333333333333333,
             "#9c179e"
            ],
            [
             0.4444444444444444,
             "#bd3786"
            ],
            [
             0.5555555555555556,
             "#d8576b"
            ],
            [
             0.6666666666666666,
             "#ed7953"
            ],
            [
             0.7777777777777778,
             "#fb9f3a"
            ],
            [
             0.8888888888888888,
             "#fdca26"
            ],
            [
             1.0,
             "#f0f921"
            ]
           ],
           "sequentialminus": [
            [
             0.0,
             "#0d0887"
            ],
            [
             0.1111111111111111,
             "#46039f"
            ],
            [
             0.2222222222222222,
             "#7201a8"
            ],
            [
             0.3333333333333333,
             "#9c179e"
            ],
            [
             0.4444444444444444,
             "#bd3786"
            ],
            [
             0.5555555555555556,
             "#d8576b"
            ],
            [
             0.6666666666666666,
             "#ed7953"
            ],
            [
             0.7777777777777778,
             "#fb9f3a"
            ],
            [
             0.8888888888888888,
             "#fdca26"
            ],
            [
             1.0,
             "#f0f921"
            ]
           ],
           "diverging": [
            [
             0,
             "#8e0152"
            ],
            [
             0.1,
             "#c51b7d"
            ],
            [
             0.2,
             "#de77ae"
            ],
            [
             0.3,
             "#f1b6da"
            ],
            [
             0.4,
             "#fde0ef"
            ],
            [
             0.5,
             "#f7f7f7"
            ],
            [
             0.6,
             "#e6f5d0"
            ],
            [
             0.7,
             "#b8e186"
            ],
            [
             0.8,
             "#7fbc41"
            ],
            [
             0.9,
             "#4d9221"
            ],
            [
             1,
             "#276419"
            ]
           ]
          },
          "xaxis": {
           "gridcolor": "#283442",
           "linecolor": "#506784",
           "ticks": "",
           "title": {
            "standoff": 15
           },
           "zerolinecolor": "#283442",
           "automargin": true,
           "zerolinewidth": 2
          },
          "yaxis": {
           "gridcolor": "#283442",
           "linecolor": "#506784",
           "ticks": "",
           "title": {
            "standoff": 15
           },
           "zerolinecolor": "#283442",
           "automargin": true,
           "zerolinewidth": 2
          },
          "scene": {
           "xaxis": {
            "backgroundcolor": "rgb(17,17,17)",
            "gridcolor": "#506784",
            "linecolor": "#506784",
            "showbackground": true,
            "ticks": "",
            "zerolinecolor": "#C8D4E3",
            "gridwidth": 2
           },
           "yaxis": {
            "backgroundcolor": "rgb(17,17,17)",
            "gridcolor": "#506784",
            "linecolor": "#506784",
            "showbackground": true,
            "ticks": "",
            "zerolinecolor": "#C8D4E3",
            "gridwidth": 2
           },
           "zaxis": {
            "backgroundcolor": "rgb(17,17,17)",
            "gridcolor": "#506784",
            "linecolor": "#506784",
            "showbackground": true,
            "ticks": "",
            "zerolinecolor": "#C8D4E3",
            "gridwidth": 2
           }
          },
          "shapedefaults": {
           "line": {
            "color": "#f2f5fa"
           }
          },
          "annotationdefaults": {
           "arrowcolor": "#f2f5fa",
           "arrowhead": 0,
           "arrowwidth": 1
          },
          "geo": {
           "bgcolor": "rgb(17,17,17)",
           "landcolor": "rgb(17,17,17)",
           "subunitcolor": "#506784",
           "showland": true,
           "showlakes": true,
           "lakecolor": "rgb(17,17,17)"
          },
          "title": {
           "x": 0.05
          },
          "updatemenudefaults": {
           "bgcolor": "#506784",
           "borderwidth": 0
          },
          "sliderdefaults": {
           "bgcolor": "#C8D4E3",
           "borderwidth": 1,
           "bordercolor": "rgb(17,17,17)",
           "tickwidth": 0
          },
          "mapbox": {
           "style": "dark"
          }
         }
        },
        "xaxis": {
         "anchor": "y",
         "domain": [
          0.0,
          1.0
         ],
         "title": {
          "text": "date"
         }
        },
        "yaxis": {
         "anchor": "x",
         "domain": [
          0.0,
          1.0
         ],
         "title": {
          "text": "Tweets Per Day"
         }
        },
        "legend": {
         "tracegroupgap": 0
        },
        "margin": {
         "t": 60
        },
        "shapes": [
         {
          "line": {
           "color": "Red",
           "dash": "dashdot",
           "width": 2
          },
          "name": "Mean",
          "type": "line",
          "x0": "2020-12-12",
          "x1": "2021-04-21",
          "y0": 61.69465648854962,
          "y1": 61.69465648854962
         }
        ],
        "hovermode": "x unified",
        "annotations": [
         {
          "arrowhead": 3,
          "bordercolor": "#c7c7c7",
          "showarrow": true,
          "text": "Israeli study finds Pfizer vaccine 85% effective after first shot",
          "x": "2021-02-19T00:00:00",
          "y": 91,
          "yshift": 5
         },
         {
          "arrowhead": 3,
          "ay": -160,
          "bordercolor": "#c7c7c7",
          "showarrow": true,
          "text": "vaccine found to be effective against variant discovered in U.K.",
          "x": "2021-01-29T00:00:00",
          "y": 96,
          "yshift": 5
         },
         {
          "arrowhead": 3,
          "ay": -30,
          "bordercolor": "#c7c7c7",
          "showarrow": true,
          "text": "Commission proposes to purchase up to 300 million additional doses of BioNTech-Pfizer vaccine",
          "x": "2021-01-08T00:00:00",
          "y": 210,
          "yshift": 5
         },
         {
          "arrowhead": 3,
          "ay": 120,
          "bordercolor": "#c7c7c7",
          "showarrow": true,
          "text": "The presidency of Joe Biden began",
          "x": "2021-01-20T00:00:00",
          "y": 104,
          "yshift": 3
         }
        ],
        "title": {
         "text": "<b>Daily Tweet Count<b>"
        },
        "width": 1200
       },
       "config": {
        "plotlyServerURL": "https://plot.ly"
       }
      },
      "text/html": "<div>                            <div id=\"f5a3e556-a253-4d38-9a94-ee83278e38a7\" class=\"plotly-graph-div\" style=\"height:525px; width:1200px;\"></div>            <script type=\"text/javascript\">                require([\"plotly\"], function(Plotly) {                    window.PLOTLYENV=window.PLOTLYENV || {};                                    if (document.getElementById(\"f5a3e556-a253-4d38-9a94-ee83278e38a7\")) {                    Plotly.newPlot(                        \"f5a3e556-a253-4d38-9a94-ee83278e38a7\",                        [{\"hovertemplate\":\"date=%{x}<br>Tweets Per Day=%{y}<extra></extra>\",\"legendgroup\":\"\",\"line\":{\"color\":\"#636efa\",\"dash\":\"solid\"},\"marker\":{\"symbol\":\"circle\"},\"mode\":\"markers+lines\",\"name\":\"\",\"orientation\":\"v\",\"showlegend\":false,\"x\":[\"2020-12-12\",\"2020-12-13\",\"2020-12-14\",\"2020-12-15\",\"2020-12-16\",\"2020-12-17\",\"2020-12-18\",\"2020-12-19\",\"2020-12-20\",\"2020-12-21\",\"2020-12-22\",\"2020-12-23\",\"2020-12-24\",\"2020-12-25\",\"2020-12-26\",\"2020-12-27\",\"2020-12-28\",\"2020-12-29\",\"2020-12-30\",\"2020-12-31\",\"2021-01-01\",\"2021-01-02\",\"2021-01-03\",\"2021-01-04\",\"2021-01-05\",\"2021-01-06\",\"2021-01-07\",\"2021-01-08\",\"2021-01-09\",\"2021-01-10\",\"2021-01-11\",\"2021-01-12\",\"2021-01-13\",\"2021-01-14\",\"2021-01-15\",\"2021-01-16\",\"2021-01-17\",\"2021-01-18\",\"2021-01-19\",\"2021-01-20\",\"2021-01-21\",\"2021-01-22\",\"2021-01-23\",\"2021-01-24\",\"2021-01-25\",\"2021-01-26\",\"2021-01-27\",\"2021-01-28\",\"2021-01-29\",\"2021-01-30\",\"2021-01-31\",\"2021-02-01\",\"2021-02-02\",\"2021-02-03\",\"2021-02-04\",\"2021-02-05\",\"2021-02-06\",\"2021-02-07\",\"2021-02-08\",\"2021-02-09\",\"2021-02-10\",\"2021-02-11\",\"2021-02-12\",\"2021-02-13\",\"2021-02-14\",\"2021-02-15\",\"2021-02-16\",\"2021-02-17\",\"2021-02-18\",\"2021-02-19\",\"2021-02-20\",\"2021-02-21\",\"2021-02-22\",\"2021-02-23\",\"2021-02-24\",\"2021-02-25\",\"2021-02-26\",\"2021-02-27\",\"2021-02-28\",\"2021-03-01\",\"2021-03-02\",\"2021-03-03\",\"2021-03-04\",\"2021-03-05\",\"2021-03-06\",\"2021-03-07\",\"2021-03-08\",\"2021-03-09\",\"2021-03-10\",\"2021-03-11\",\"2021-03-12\",\"2021-03-13\",\"2021-03-14\",\"2021-03-15\",\"2021-03-16\",\"2021-03-17\",\"2021-03-18\",\"2021-03-19\",\"2021-03-20\",\"2021-03-21\",\"2021-03-22\",\"2021-03-23\",\"2021-03-24\",\"2021-03-25\",\"2021-03-26\",\"2021-03-27\",\"2021-03-28\",\"2021-03-29\",\"2021-03-30\",\"2021-03-31\",\"2021-04-01\",\"2021-04-02\",\"2021-04-03\",\"2021-04-04\",\"2021-04-05\",\"2021-04-06\",\"2021-04-07\",\"2021-04-08\",\"2021-04-09\",\"2021-04-10\",\"2021-04-11\",\"2021-04-12\",\"2021-04-13\",\"2021-04-14\",\"2021-04-15\",\"2021-04-16\",\"2021-04-17\",\"2021-04-18\",\"2021-04-19\",\"2021-04-20\",\"2021-04-21\"],\"xaxis\":\"x\",\"y\":[63,98,137,150,144,139,112,110,68,102,157,123,114,40,47,59,53,85,107,72,95,83,56,72,111,112,76,210,170,118,93,106,111,106,148,129,99,66,100,104,145,65,65,53,77,91,89,80,96,73,30,31,53,37,69,70,39,29,38,35,44,33,36,23,31,31,44,55,49,91,39,45,39,42,94,92,78,29,40,41,43,47,41,41,23,27,35,47,37,59,28,21,37,53,43,47,29,38,36,22,34,31,51,36,36,23,16,23,24,102,86,26,20,13,19,28,30,40,20,21,17,22,30,56,33,32,15,15,15,22,6],\"yaxis\":\"y\",\"type\":\"scatter\"}],                        {\"template\":{\"data\":{\"histogram2dcontour\":[{\"type\":\"histogram2dcontour\",\"colorbar\":{\"outlinewidth\":0,\"ticks\":\"\"},\"colorscale\":[[0.0,\"#0d0887\"],[0.1111111111111111,\"#46039f\"],[0.2222222222222222,\"#7201a8\"],[0.3333333333333333,\"#9c179e\"],[0.4444444444444444,\"#bd3786\"],[0.5555555555555556,\"#d8576b\"],[0.6666666666666666,\"#ed7953\"],[0.7777777777777778,\"#fb9f3a\"],[0.8888888888888888,\"#fdca26\"],[1.0,\"#f0f921\"]]}],\"choropleth\":[{\"type\":\"choropleth\",\"colorbar\":{\"outlinewidth\":0,\"ticks\":\"\"}}],\"histogram2d\":[{\"type\":\"histogram2d\",\"colorbar\":{\"outlinewidth\":0,\"ticks\":\"\"},\"colorscale\":[[0.0,\"#0d0887\"],[0.1111111111111111,\"#46039f\"],[0.2222222222222222,\"#7201a8\"],[0.3333333333333333,\"#9c179e\"],[0.4444444444444444,\"#bd3786\"],[0.5555555555555556,\"#d8576b\"],[0.6666666666666666,\"#ed7953\"],[0.7777777777777778,\"#fb9f3a\"],[0.8888888888888888,\"#fdca26\"],[1.0,\"#f0f921\"]]}],\"heatmap\":[{\"type\":\"heatmap\",\"colorbar\":{\"outlinewidth\":0,\"ticks\":\"\"},\"colorscale\":[[0.0,\"#0d0887\"],[0.1111111111111111,\"#46039f\"],[0.2222222222222222,\"#7201a8\"],[0.3333333333333333,\"#9c179e\"],[0.4444444444444444,\"#bd3786\"],[0.5555555555555556,\"#d8576b\"],[0.6666666666666666,\"#ed7953\"],[0.7777777777777778,\"#fb9f3a\"],[0.8888888888888888,\"#fdca26\"],[1.0,\"#f0f921\"]]}],\"heatmapgl\":[{\"type\":\"heatmapgl\",\"colorbar\":{\"outlinewidth\":0,\"ticks\":\"\"},\"colorscale\":[[0.0,\"#0d0887\"],[0.1111111111111111,\"#46039f\"],[0.2222222222222222,\"#7201a8\"],[0.3333333333333333,\"#9c179e\"],[0.4444444444444444,\"#bd3786\"],[0.5555555555555556,\"#d8576b\"],[0.6666666666666666,\"#ed7953\"],[0.7777777777777778,\"#fb9f3a\"],[0.8888888888888888,\"#fdca26\"],[1.0,\"#f0f921\"]]}],\"contourcarpet\":[{\"type\":\"contourcarpet\",\"colorbar\":{\"outlinewidth\":0,\"ticks\":\"\"}}],\"contour\":[{\"type\":\"contour\",\"colorbar\":{\"outlinewidth\":0,\"ticks\":\"\"},\"colorscale\":[[0.0,\"#0d0887\"],[0.1111111111111111,\"#46039f\"],[0.2222222222222222,\"#7201a8\"],[0.3333333333333333,\"#9c179e\"],[0.4444444444444444,\"#bd3786\"],[0.5555555555555556,\"#d8576b\"],[0.6666666666666666,\"#ed7953\"],[0.7777777777777778,\"#fb9f3a\"],[0.8888888888888888,\"#fdca26\"],[1.0,\"#f0f921\"]]}],\"surface\":[{\"type\":\"surface\",\"colorbar\":{\"outlinewidth\":0,\"ticks\":\"\"},\"colorscale\":[[0.0,\"#0d0887\"],[0.1111111111111111,\"#46039f\"],[0.2222222222222222,\"#7201a8\"],[0.3333333333333333,\"#9c179e\"],[0.4444444444444444,\"#bd3786\"],[0.5555555555555556,\"#d8576b\"],[0.6666666666666666,\"#ed7953\"],[0.7777777777777778,\"#fb9f3a\"],[0.8888888888888888,\"#fdca26\"],[1.0,\"#f0f921\"]]}],\"mesh3d\":[{\"type\":\"mesh3d\",\"colorbar\":{\"outlinewidth\":0,\"ticks\":\"\"}}],\"scatter\":[{\"marker\":{\"line\":{\"color\":\"#283442\"}},\"type\":\"scatter\"}],\"parcoords\":[{\"type\":\"parcoords\",\"line\":{\"colorbar\":{\"outlinewidth\":0,\"ticks\":\"\"}}}],\"scatterpolargl\":[{\"type\":\"scatterpolargl\",\"marker\":{\"colorbar\":{\"outlinewidth\":0,\"ticks\":\"\"}}}],\"bar\":[{\"error_x\":{\"color\":\"#f2f5fa\"},\"error_y\":{\"color\":\"#f2f5fa\"},\"marker\":{\"line\":{\"color\":\"rgb(17,17,17)\",\"width\":0.5},\"pattern\":{\"fillmode\":\"overlay\",\"size\":10,\"solidity\":0.2}},\"type\":\"bar\"}],\"scattergeo\":[{\"type\":\"scattergeo\",\"marker\":{\"colorbar\":{\"outlinewidth\":0,\"ticks\":\"\"}}}],\"scatterpolar\":[{\"type\":\"scatterpolar\",\"marker\":{\"colorbar\":{\"outlinewidth\":0,\"ticks\":\"\"}}}],\"histogram\":[{\"marker\":{\"pattern\":{\"fillmode\":\"overlay\",\"size\":10,\"solidity\":0.2}},\"type\":\"histogram\"}],\"scattergl\":[{\"marker\":{\"line\":{\"color\":\"#283442\"}},\"type\":\"scattergl\"}],\"scatter3d\":[{\"type\":\"scatter3d\",\"line\":{\"colorbar\":{\"outlinewidth\":0,\"ticks\":\"\"}},\"marker\":{\"colorbar\":{\"outlinewidth\":0,\"ticks\":\"\"}}}],\"scattermapbox\":[{\"type\":\"scattermapbox\",\"marker\":{\"colorbar\":{\"outlinewidth\":0,\"ticks\":\"\"}}}],\"scatterternary\":[{\"type\":\"scatterternary\",\"marker\":{\"colorbar\":{\"outlinewidth\":0,\"ticks\":\"\"}}}],\"scattercarpet\":[{\"type\":\"scattercarpet\",\"marker\":{\"colorbar\":{\"outlinewidth\":0,\"ticks\":\"\"}}}],\"carpet\":[{\"aaxis\":{\"endlinecolor\":\"#A2B1C6\",\"gridcolor\":\"#506784\",\"linecolor\":\"#506784\",\"minorgridcolor\":\"#506784\",\"startlinecolor\":\"#A2B1C6\"},\"baxis\":{\"endlinecolor\":\"#A2B1C6\",\"gridcolor\":\"#506784\",\"linecolor\":\"#506784\",\"minorgridcolor\":\"#506784\",\"startlinecolor\":\"#A2B1C6\"},\"type\":\"carpet\"}],\"table\":[{\"cells\":{\"fill\":{\"color\":\"#506784\"},\"line\":{\"color\":\"rgb(17,17,17)\"}},\"header\":{\"fill\":{\"color\":\"#2a3f5f\"},\"line\":{\"color\":\"rgb(17,17,17)\"}},\"type\":\"table\"}],\"barpolar\":[{\"marker\":{\"line\":{\"color\":\"rgb(17,17,17)\",\"width\":0.5},\"pattern\":{\"fillmode\":\"overlay\",\"size\":10,\"solidity\":0.2}},\"type\":\"barpolar\"}],\"pie\":[{\"automargin\":true,\"type\":\"pie\"}]},\"layout\":{\"autotypenumbers\":\"strict\",\"colorway\":[\"#636efa\",\"#EF553B\",\"#00cc96\",\"#ab63fa\",\"#FFA15A\",\"#19d3f3\",\"#FF6692\",\"#B6E880\",\"#FF97FF\",\"#FECB52\"],\"font\":{\"color\":\"#f2f5fa\"},\"hovermode\":\"closest\",\"hoverlabel\":{\"align\":\"left\"},\"paper_bgcolor\":\"rgb(17,17,17)\",\"plot_bgcolor\":\"rgb(17,17,17)\",\"polar\":{\"bgcolor\":\"rgb(17,17,17)\",\"angularaxis\":{\"gridcolor\":\"#506784\",\"linecolor\":\"#506784\",\"ticks\":\"\"},\"radialaxis\":{\"gridcolor\":\"#506784\",\"linecolor\":\"#506784\",\"ticks\":\"\"}},\"ternary\":{\"bgcolor\":\"rgb(17,17,17)\",\"aaxis\":{\"gridcolor\":\"#506784\",\"linecolor\":\"#506784\",\"ticks\":\"\"},\"baxis\":{\"gridcolor\":\"#506784\",\"linecolor\":\"#506784\",\"ticks\":\"\"},\"caxis\":{\"gridcolor\":\"#506784\",\"linecolor\":\"#506784\",\"ticks\":\"\"}},\"coloraxis\":{\"colorbar\":{\"outlinewidth\":0,\"ticks\":\"\"}},\"colorscale\":{\"sequential\":[[0.0,\"#0d0887\"],[0.1111111111111111,\"#46039f\"],[0.2222222222222222,\"#7201a8\"],[0.3333333333333333,\"#9c179e\"],[0.4444444444444444,\"#bd3786\"],[0.5555555555555556,\"#d8576b\"],[0.6666666666666666,\"#ed7953\"],[0.7777777777777778,\"#fb9f3a\"],[0.8888888888888888,\"#fdca26\"],[1.0,\"#f0f921\"]],\"sequentialminus\":[[0.0,\"#0d0887\"],[0.1111111111111111,\"#46039f\"],[0.2222222222222222,\"#7201a8\"],[0.3333333333333333,\"#9c179e\"],[0.4444444444444444,\"#bd3786\"],[0.5555555555555556,\"#d8576b\"],[0.6666666666666666,\"#ed7953\"],[0.7777777777777778,\"#fb9f3a\"],[0.8888888888888888,\"#fdca26\"],[1.0,\"#f0f921\"]],\"diverging\":[[0,\"#8e0152\"],[0.1,\"#c51b7d\"],[0.2,\"#de77ae\"],[0.3,\"#f1b6da\"],[0.4,\"#fde0ef\"],[0.5,\"#f7f7f7\"],[0.6,\"#e6f5d0\"],[0.7,\"#b8e186\"],[0.8,\"#7fbc41\"],[0.9,\"#4d9221\"],[1,\"#276419\"]]},\"xaxis\":{\"gridcolor\":\"#283442\",\"linecolor\":\"#506784\",\"ticks\":\"\",\"title\":{\"standoff\":15},\"zerolinecolor\":\"#283442\",\"automargin\":true,\"zerolinewidth\":2},\"yaxis\":{\"gridcolor\":\"#283442\",\"linecolor\":\"#506784\",\"ticks\":\"\",\"title\":{\"standoff\":15},\"zerolinecolor\":\"#283442\",\"automargin\":true,\"zerolinewidth\":2},\"scene\":{\"xaxis\":{\"backgroundcolor\":\"rgb(17,17,17)\",\"gridcolor\":\"#506784\",\"linecolor\":\"#506784\",\"showbackground\":true,\"ticks\":\"\",\"zerolinecolor\":\"#C8D4E3\",\"gridwidth\":2},\"yaxis\":{\"backgroundcolor\":\"rgb(17,17,17)\",\"gridcolor\":\"#506784\",\"linecolor\":\"#506784\",\"showbackground\":true,\"ticks\":\"\",\"zerolinecolor\":\"#C8D4E3\",\"gridwidth\":2},\"zaxis\":{\"backgroundcolor\":\"rgb(17,17,17)\",\"gridcolor\":\"#506784\",\"linecolor\":\"#506784\",\"showbackground\":true,\"ticks\":\"\",\"zerolinecolor\":\"#C8D4E3\",\"gridwidth\":2}},\"shapedefaults\":{\"line\":{\"color\":\"#f2f5fa\"}},\"annotationdefaults\":{\"arrowcolor\":\"#f2f5fa\",\"arrowhead\":0,\"arrowwidth\":1},\"geo\":{\"bgcolor\":\"rgb(17,17,17)\",\"landcolor\":\"rgb(17,17,17)\",\"subunitcolor\":\"#506784\",\"showland\":true,\"showlakes\":true,\"lakecolor\":\"rgb(17,17,17)\"},\"title\":{\"x\":0.05},\"updatemenudefaults\":{\"bgcolor\":\"#506784\",\"borderwidth\":0},\"sliderdefaults\":{\"bgcolor\":\"#C8D4E3\",\"borderwidth\":1,\"bordercolor\":\"rgb(17,17,17)\",\"tickwidth\":0},\"mapbox\":{\"style\":\"dark\"}}},\"xaxis\":{\"anchor\":\"y\",\"domain\":[0.0,1.0],\"title\":{\"text\":\"date\"}},\"yaxis\":{\"anchor\":\"x\",\"domain\":[0.0,1.0],\"title\":{\"text\":\"Tweets Per Day\"}},\"legend\":{\"tracegroupgap\":0},\"margin\":{\"t\":60},\"shapes\":[{\"line\":{\"color\":\"Red\",\"dash\":\"dashdot\",\"width\":2},\"name\":\"Mean\",\"type\":\"line\",\"x0\":\"2020-12-12\",\"x1\":\"2021-04-21\",\"y0\":61.69465648854962,\"y1\":61.69465648854962}],\"hovermode\":\"x unified\",\"annotations\":[{\"arrowhead\":3,\"bordercolor\":\"#c7c7c7\",\"showarrow\":true,\"text\":\"Israeli study finds Pfizer vaccine 85% effective after first shot\",\"x\":\"2021-02-19T00:00:00\",\"y\":91,\"yshift\":5},{\"arrowhead\":3,\"ay\":-160,\"bordercolor\":\"#c7c7c7\",\"showarrow\":true,\"text\":\"vaccine found to be effective against variant discovered in U.K.\",\"x\":\"2021-01-29T00:00:00\",\"y\":96,\"yshift\":5},{\"arrowhead\":3,\"ay\":-30,\"bordercolor\":\"#c7c7c7\",\"showarrow\":true,\"text\":\"Commission proposes to purchase up to 300 million additional doses of BioNTech-Pfizer vaccine\",\"x\":\"2021-01-08T00:00:00\",\"y\":210,\"yshift\":5},{\"arrowhead\":3,\"ay\":120,\"bordercolor\":\"#c7c7c7\",\"showarrow\":true,\"text\":\"The presidency of Joe Biden began\",\"x\":\"2021-01-20T00:00:00\",\"y\":104,\"yshift\":3}],\"title\":{\"text\":\"<b>Daily Tweet Count<b>\"},\"width\":1200},                        {\"responsive\": true}                    ).then(function(){\n                            \nvar gd = document.getElementById('f5a3e556-a253-4d38-9a94-ee83278e38a7');\nvar x = new MutationObserver(function (mutations, observer) {{\n        var display = window.getComputedStyle(gd).display;\n        if (!display || display === 'none') {{\n            console.log([gd, 'removed!']);\n            Plotly.purge(gd);\n            observer.disconnect();\n        }}\n}});\n\n// Listen for the removal of the full notebook cells\nvar notebookContainer = gd.closest('#notebook-container');\nif (notebookContainer) {{\n    x.observe(notebookContainer, {childList: true});\n}}\n\n// Listen for the clearing of the current output cell\nvar outputEl = gd.closest('.output');\nif (outputEl) {{\n    x.observe(outputEl, {childList: true});\n}}\n\n                        })                };                });            </script>        </div>"
     },
     "metadata": {},
     "output_type": "display_data"
    }
   ],
   "source": [
    "#Da aggiornare con notizie metaverso\n",
    "import datetime\n",
    "b_date_count = ft_data.groupby(by='date').count().reset_index()\n",
    "b_date_count = b_date_count.rename(columns={'id':'Tweets Per Day'})\n",
    "fig = ex.line(b_date_count,x='date',y='Tweets Per Day')\n",
    "\n",
    "fig.add_shape(type=\"line\",\n",
    "    x0=b_date_count['date'].values[0], y0=b_date_count['Negative Sentiment'].mean(), x1=b_date_count['date'].values[-1], y1=b_date_count['Negative Sentiment'].mean(),\n",
    "    line=dict(\n",
    "        color=\"Red\",\n",
    "        width=2,\n",
    "        dash=\"dashdot\",\n",
    "    ),\n",
    "        name='Mean',\n",
    ")\n",
    "\n",
    "fig.update_traces(mode=\"markers+lines\")\n",
    "fig.update_layout(hovermode=\"x unified\")\n",
    "\n",
    "\n",
    "###annots\n",
    "b_date_count.date = pd.to_datetime(b_date_count.date)\n",
    "b_date_count_dt = b_date_count.set_index('date')\n",
    "fig.add_annotation(x=datetime.datetime(2021,2,19), y=b_date_count_dt.loc[pd.Timestamp('2021-02-19'),'year'],\n",
    "            text=r\"Israeli study finds Pfizer vaccine 85% effective after first shot\",\n",
    "            showarrow=True,\n",
    "            arrowhead=3,\n",
    "            yshift=5,bordercolor=\"#c7c7c7\")\n",
    "\n",
    "fig.add_annotation(x=datetime.datetime(2021,1,29), y=b_date_count_dt.loc[pd.Timestamp('2021-01-29'),'year'],\n",
    "            text=r\"vaccine found to be effective against variant discovered in U.K.\",\n",
    "            showarrow=True,\n",
    "            arrowhead=3,\n",
    "            yshift=5,ay=-160,bordercolor=\"#c7c7c7\")\n",
    "fig.add_annotation(x=datetime.datetime(2021,1,8), y=b_date_count_dt.loc[pd.Timestamp('2021-01-8'),'year'],\n",
    "            text=r\"Commission proposes to purchase up to 300 million additional doses of BioNTech-Pfizer vaccine\",\n",
    "            showarrow=True,\n",
    "            arrowhead=3,\n",
    "            yshift=5,ay=-30,bordercolor=\"#c7c7c7\")\n",
    "\n",
    "fig.add_annotation(x=datetime.datetime(2021,1,20), y=b_date_count_dt.loc[pd.Timestamp('2021-01-20'),'year'],\n",
    "            text=r\"The presidency of Joe Biden began\",\n",
    "            showarrow=True,\n",
    "            arrowhead=3,\n",
    "            yshift=3,ay=120,bordercolor=\"#c7c7c7\")\n",
    "\n",
    "fig.update_layout(title='<b>Daily Tweet Count<b>',width=1200)\n",
    "fig.show()"
   ],
   "metadata": {
    "collapsed": false,
    "pycharm": {
     "name": "#%%\n"
    }
   }
  },
  {
   "cell_type": "code",
   "execution_count": 22,
   "outputs": [
    {
     "name": "stderr",
     "output_type": "stream",
     "text": [
      "/usr/local/lib/python3.9/site-packages/seaborn/distributions.py:1699: FutureWarning:\n",
      "\n",
      "The `bw` parameter is deprecated in favor of `bw_method` and `bw_adjust`. Using 0.1 for `bw_method`, but please see the docs for the new parameters and update your code.\n",
      "\n",
      "/usr/local/lib/python3.9/site-packages/seaborn/distributions.py:1699: FutureWarning:\n",
      "\n",
      "The `bw` parameter is deprecated in favor of `bw_method` and `bw_adjust`. Using 0.1 for `bw_method`, but please see the docs for the new parameters and update your code.\n",
      "\n"
     ]
    },
    {
     "data": {
      "text/plain": "<Figure size 432x288 with 2 Axes>",
      "image/png": "[encoded data removed]"
     },
     "metadata": {
      "needs_background": "light"
     },
     "output_type": "display_data"
    }
   ],
   "source": [
    "plt.subplot(2,1,1)\n",
    "plt.title('Selecting A Cut-Off For Most Positive/Negative Tweets',fontsize=19,fontweight='bold')\n",
    "\n",
    "ax0 = sns.kdeplot(f_data['Negative Sentiment'],bw=0.1)\n",
    "\n",
    "kde_x, kde_y = ax0.lines[0].get_data()\n",
    "ax0.fill_between(kde_x, kde_y, where=(kde_x>0.25) ,\n",
    "                interpolate=True, color='tab:blue',alpha=0.6)\n",
    "\n",
    "plt.annotate('Cut-Off For Most Negative Tweets', xy=(0.25, 0.5), xytext=(0.4, 2),\n",
    "            arrowprops=dict(facecolor='red', shrink=0.05),fontsize=16,fontweight='bold')\n",
    "\n",
    "ax0.axvline(f_data['Negative Sentiment'].mean(), color='r', linestyle='--')\n",
    "ax0.axvline(f_data['Negative Sentiment'].median(), color='tab:orange', linestyle='-')\n",
    "plt.legend({'PDF':f_data['Negative Sentiment'],r'Mean: {:.2f}'.format(f_data['Negative Sentiment'].mean()):f_data['Negative Sentiment'].mean(),\n",
    "            r'Median: {:.2f}'.format(f_data['Negative Sentiment'].median()):f_data['Negative Sentiment'].median()})\n",
    "\n",
    "plt.subplot(2,1,2)\n",
    "\n",
    "ax1 = sns.kdeplot(f_data['Positive Sentiment'],bw=0.1,color='green')\n",
    "\n",
    "plt.annotate('Cut-Off For Most Positive Tweets', xy=(0.4, 0.43), xytext=(0.4, 2),\n",
    "            arrowprops=dict(facecolor='red', shrink=0.05),fontsize=16,fontweight='bold')\n",
    "kde_x, kde_y = ax1.lines[0].get_data()\n",
    "ax1.fill_between(kde_x, kde_y, where=(kde_x>0.4) ,\n",
    "                interpolate=True, color='tab:green',alpha=0.6)\n",
    "ax1.set_xlabel('Sentiment Strength',fontsize=18)\n",
    "\n",
    "\n",
    "ax1.axvline(f_data['Positive Sentiment'].mean(), color='r', linestyle='--')\n",
    "ax1.axvline(f_data['Positive Sentiment'].median(), color='tab:orange', linestyle='-')\n",
    "plt.legend({'PDF':f_data['Positive Sentiment'],r'Mean: {:.2f}'.format(f_data['Positive Sentiment'].mean()):f_data['Positive Sentiment'].mean(),\n",
    "            r'Median: {:.2f}'.format(f_data['Positive Sentiment'].median()):f_data['Positive Sentiment'].median()})\n",
    "\n",
    "plt.show()"
   ],
   "metadata": {
    "collapsed": false,
    "pycharm": {
     "name": "#%%\n"
    }
   }
  },
  {
   "cell_type": "code",
   "execution_count": 23,
   "outputs": [],
   "source": [
    "Most_Positive = f_data[f_data['Positive Sentiment'].between(0.4,1)]\n",
    "Most_Negative = f_data[f_data['Negative Sentiment'].between(0.25,1)]"
   ],
   "metadata": {
    "collapsed": false,
    "pycharm": {
     "name": "#%%\n"
    }
   }
  },
  {
   "cell_type": "code",
   "execution_count": 24,
   "outputs": [
    {
     "data": {
      "text/plain": "                       id              user_name  \\\n0     1337727767551553536       Daily News Egypt   \n13    1337758104847572999          Isabel Winnwa   \n14    1337760271151063040            Andy Thomas   \n25    1337776763384958976               Alex Vie   \n60    1337902845618774018        Fares Bou-Daher   \n...                   ...                    ...   \n7972  1382797571769384963           Jape Puntila   \n7974  1382811348334211074            ÁngelaRoiué   \n7980  1382954142436577281              Thomas G.   \n8020  1383478699064893460  Mike Draco ex Machina   \n8069  1384536482879209475        Nadia A. Zawawi   \n\n                      user_location  \\\n0                             Egypt   \n13                  Berlin, Germany   \n14                           London   \n25                  Los Angeles, CA   \n60                              NaN   \n...                             ...   \n7972                       why ask?   \n7974             Santander, Spanien   \n7980  Salzburg-Austria-Europe-Earth   \n8020                Nova Albion, CA   \n8069                Dublin, Ireland   \n\n                                       user_description         user_created  \\\n0     Egypt's Only Daily Independent Newspaper in En...  2009-04-26 07:56:24   \n13    Into (EU) politics, books, sports & all things...  2020-03-30 13:47:15   \n14               Retweets not necessarily endorsements.  2009-03-07 20:39:15   \n25    Marine vet. Yogi. Krav Maga. Runner. Climber. ...  2010-01-24 04:43:57   \n60    Direct with a conservative approach in serious...  2020-06-18 22:14:51   \n...                                                 ...                  ...   \n7972  Politiikan seuraaja, yleisten asioiden päivitt...  2017-08-22 15:11:30   \n7974  Journalist, with every single letter. ❤️ Audio...  2011-06-24 17:40:46   \n7980  + Familie, reisen, Ehrlichkeit, Toleranz, Musi...  2019-02-03 08:31:13   \n8020  I'll let my tweets chirp for themselves. Lefti...  2008-04-20 15:08:17   \n8069  Wife, daughter, sister, aunt, Liverpool FC sup...  2011-07-14 10:33:41   \n\n      user_followers  user_friends  user_favourites  user_verified  \\\n0             278080           116              765           True   \n13               230           652             6098          False   \n14              1151          4301            95963          False   \n25               125           442             5401          False   \n60                18           106             3107          False   \n...              ...           ...              ...            ...   \n7972             272           513            26318          False   \n7974             349           726             3124          False   \n7980             911           988            25925          False   \n8020            1066           677           108196          False   \n8069             263           278            19140          False   \n\n                     date  ...  \\\n0     2020-12-12 11:55:28  ...   \n13    2020-12-12 13:56:01  ...   \n14    2020-12-12 14:04:37  ...   \n25    2020-12-12 15:10:09  ...   \n60    2020-12-12 23:31:10  ...   \n...                   ...  ...   \n7972  2021-04-15 20:46:46  ...   \n7974  2021-04-15 21:41:31  ...   \n7980  2021-04-16 07:08:56  ...   \n8020  2021-04-17 17:53:20  ...   \n8069  2021-04-20 15:56:35  ...   \n\n                                               hashtags               source  \\\n0              ['FDA', 'PfizerBioNTech', 'coronavirus']      Twitter Web App   \n13                                                  NaN   Twitter for iPhone   \n14                   ['CovidVaccines', 'Pfizervaccine']  Twitter for Android   \n25         ['COVIDIOTS', 'coronavirus', 'CovidVaccine']   Twitter for iPhone   \n60    ['vaccine', 'vaccination', 'Pfizervaccine', 'C...  Twitter for Android   \n...                                                 ...                  ...   \n7972                                                NaN   Twitter for iPhone   \n7974       ['AstraZeneca', 'PfizerBionTech', 'Germany']      Twitter Web App   \n7980                                 ['PfizerBioNTech']   Twitter for iPhone   \n8020                                                NaN            TweetDeck   \n8069  ['COVID19Vaccination', 'SayaTelahDivaksini', '...  Twitter for Android   \n\n     retweets  favorites  is_retweet  Positive Sentiment  Neutral Sentiment  \\\n0           1          1       False            0.000001           0.606001   \n13          0          3       False            0.117001           0.612001   \n14          0          2       False            0.165001           0.549001   \n25          0          0       False            0.179001           0.483001   \n60          0          0       False            0.000001           0.694001   \n...       ...        ...         ...                 ...                ...   \n7972        0          1       False            0.209001           0.444001   \n7974        0          0       False            0.000001           0.738001   \n7980        0          1       False            0.000001           0.435001   \n8020        0          2       False            0.000001           0.698001   \n8069        0          2       False            0.391001           0.290001   \n\n      Negative Sentiment  Number_Of_Words  Mean_Word_Length  \n0               0.394001                5              6.40  \n13              0.270001               15              4.53  \n14              0.286001               11              4.18  \n25              0.338001               10              6.10  \n60              0.306001                6              3.67  \n...                  ...              ...               ...  \n7972            0.347001               14              3.64  \n7974            0.262001               10              5.00  \n7980            0.565001                2              3.50  \n8020            0.302001               19              4.68  \n8069            0.319001                5              3.60  \n\n[472 rows x 21 columns]",
      "text/html": "<div>\n<style scoped>\n    .dataframe tbody tr th:only-of-type {\n        vertical-align: middle;\n    }\n\n    .dataframe tbody tr th {\n        vertical-align: top;\n    }\n\n    .dataframe thead th {\n        text-align: right;\n    }\n</style>\n<table border=\"1\" class=\"dataframe\">\n  <thead>\n    <tr style=\"text-align: right;\">\n      <th></th>\n      <th>id</th>\n      <th>user_name</th>\n      <th>user_location</th>\n      <th>user_description</th>\n      <th>user_created</th>\n      <th>user_followers</th>\n      <th>user_friends</th>\n      <th>user_favourites</th>\n      <th>user_verified</th>\n      <th>date</th>\n      <th>...</th>\n      <th>hashtags</th>\n      <th>source</th>\n      <th>retweets</th>\n      <th>favorites</th>\n      <th>is_retweet</th>\n      <th>Positive Sentiment</th>\n      <th>Neutral Sentiment</th>\n      <th>Negative Sentiment</th>\n      <th>Number_Of_Words</th>\n      <th>Mean_Word_Length</th>\n    </tr>\n  </thead>\n  <tbody>\n    <tr>\n      <th>0</th>\n      <td>1337727767551553536</td>\n      <td>Daily News Egypt</td>\n      <td>Egypt</td>\n      <td>Egypt's Only Daily Independent Newspaper in En...</td>\n      <td>2009-04-26 07:56:24</td>\n      <td>278080</td>\n      <td>116</td>\n      <td>765</td>\n      <td>True</td>\n      <td>2020-12-12 11:55:28</td>\n      <td>...</td>\n      <td>['FDA', 'PfizerBioNTech', 'coronavirus']</td>\n      <td>Twitter Web App</td>\n      <td>1</td>\n      <td>1</td>\n      <td>False</td>\n      <td>0.000001</td>\n      <td>0.606001</td>\n      <td>0.394001</td>\n      <td>5</td>\n      <td>6.40</td>\n    </tr>\n    <tr>\n      <th>13</th>\n      <td>1337758104847572999</td>\n      <td>Isabel Winnwa</td>\n      <td>Berlin, Germany</td>\n      <td>Into (EU) politics, books, sports &amp; all things...</td>\n      <td>2020-03-30 13:47:15</td>\n      <td>230</td>\n      <td>652</td>\n      <td>6098</td>\n      <td>False</td>\n      <td>2020-12-12 13:56:01</td>\n      <td>...</td>\n      <td>NaN</td>\n      <td>Twitter for iPhone</td>\n      <td>0</td>\n      <td>3</td>\n      <td>False</td>\n      <td>0.117001</td>\n      <td>0.612001</td>\n      <td>0.270001</td>\n      <td>15</td>\n      <td>4.53</td>\n    </tr>\n    <tr>\n      <th>14</th>\n      <td>1337760271151063040</td>\n      <td>Andy Thomas</td>\n      <td>London</td>\n      <td>Retweets not necessarily endorsements.</td>\n      <td>2009-03-07 20:39:15</td>\n      <td>1151</td>\n      <td>4301</td>\n      <td>95963</td>\n      <td>False</td>\n      <td>2020-12-12 14:04:37</td>\n      <td>...</td>\n      <td>['CovidVaccines', 'Pfizervaccine']</td>\n      <td>Twitter for Android</td>\n      <td>0</td>\n      <td>2</td>\n      <td>False</td>\n      <td>0.165001</td>\n      <td>0.549001</td>\n      <td>0.286001</td>\n      <td>11</td>\n      <td>4.18</td>\n    </tr>\n    <tr>\n      <th>25</th>\n      <td>1337776763384958976</td>\n      <td>Alex Vie</td>\n      <td>Los Angeles, CA</td>\n      <td>Marine vet. Yogi. Krav Maga. Runner. Climber. ...</td>\n      <td>2010-01-24 04:43:57</td>\n      <td>125</td>\n      <td>442</td>\n      <td>5401</td>\n      <td>False</td>\n      <td>2020-12-12 15:10:09</td>\n      <td>...</td>\n      <td>['COVIDIOTS', 'coronavirus', 'CovidVaccine']</td>\n      <td>Twitter for iPhone</td>\n      <td>0</td>\n      <td>0</td>\n      <td>False</td>\n      <td>0.179001</td>\n      <td>0.483001</td>\n      <td>0.338001</td>\n      <td>10</td>\n      <td>6.10</td>\n    </tr>\n    <tr>\n      <th>60</th>\n      <td>1337902845618774018</td>\n      <td>Fares Bou-Daher</td>\n      <td>NaN</td>\n      <td>Direct with a conservative approach in serious...</td>\n      <td>2020-06-18 22:14:51</td>\n      <td>18</td>\n      <td>106</td>\n      <td>3107</td>\n      <td>False</td>\n      <td>2020-12-12 23:31:10</td>\n      <td>...</td>\n      <td>['vaccine', 'vaccination', 'Pfizervaccine', 'C...</td>\n      <td>Twitter for Android</td>\n      <td>0</td>\n      <td>0</td>\n      <td>False</td>\n      <td>0.000001</td>\n      <td>0.694001</td>\n      <td>0.306001</td>\n      <td>6</td>\n      <td>3.67</td>\n    </tr>\n    <tr>\n      <th>...</th>\n      <td>...</td>\n      <td>...</td>\n      <td>...</td>\n      <td>...</td>\n      <td>...</td>\n      <td>...</td>\n      <td>...</td>\n      <td>...</td>\n      <td>...</td>\n      <td>...</td>\n      <td>...</td>\n      <td>...</td>\n      <td>...</td>\n      <td>...</td>\n      <td>...</td>\n      <td>...</td>\n      <td>...</td>\n      <td>...</td>\n      <td>...</td>\n      <td>...</td>\n      <td>...</td>\n    </tr>\n    <tr>\n      <th>7972</th>\n      <td>1382797571769384963</td>\n      <td>Jape Puntila</td>\n      <td>why ask?</td>\n      <td>Politiikan seuraaja, yleisten asioiden päivitt...</td>\n      <td>2017-08-22 15:11:30</td>\n      <td>272</td>\n      <td>513</td>\n      <td>26318</td>\n      <td>False</td>\n      <td>2021-04-15 20:46:46</td>\n      <td>...</td>\n      <td>NaN</td>\n      <td>Twitter for iPhone</td>\n      <td>0</td>\n      <td>1</td>\n      <td>False</td>\n      <td>0.209001</td>\n      <td>0.444001</td>\n      <td>0.347001</td>\n      <td>14</td>\n      <td>3.64</td>\n    </tr>\n    <tr>\n      <th>7974</th>\n      <td>1382811348334211074</td>\n      <td>ÁngelaRoiué</td>\n      <td>Santander, Spanien</td>\n      <td>Journalist, with every single letter. ❤️ Audio...</td>\n      <td>2011-06-24 17:40:46</td>\n      <td>349</td>\n      <td>726</td>\n      <td>3124</td>\n      <td>False</td>\n      <td>2021-04-15 21:41:31</td>\n      <td>...</td>\n      <td>['AstraZeneca', 'PfizerBionTech', 'Germany']</td>\n      <td>Twitter Web App</td>\n      <td>0</td>\n      <td>0</td>\n      <td>False</td>\n      <td>0.000001</td>\n      <td>0.738001</td>\n      <td>0.262001</td>\n      <td>10</td>\n      <td>5.00</td>\n    </tr>\n    <tr>\n      <th>7980</th>\n      <td>1382954142436577281</td>\n      <td>Thomas G.</td>\n      <td>Salzburg-Austria-Europe-Earth</td>\n      <td>+ Familie, reisen, Ehrlichkeit, Toleranz, Musi...</td>\n      <td>2019-02-03 08:31:13</td>\n      <td>911</td>\n      <td>988</td>\n      <td>25925</td>\n      <td>False</td>\n      <td>2021-04-16 07:08:56</td>\n      <td>...</td>\n      <td>['PfizerBioNTech']</td>\n      <td>Twitter for iPhone</td>\n      <td>0</td>\n      <td>1</td>\n      <td>False</td>\n      <td>0.000001</td>\n      <td>0.435001</td>\n      <td>0.565001</td>\n      <td>2</td>\n      <td>3.50</td>\n    </tr>\n    <tr>\n      <th>8020</th>\n      <td>1383478699064893460</td>\n      <td>Mike Draco ex Machina</td>\n      <td>Nova Albion, CA</td>\n      <td>I'll let my tweets chirp for themselves. Lefti...</td>\n      <td>2008-04-20 15:08:17</td>\n      <td>1066</td>\n      <td>677</td>\n      <td>108196</td>\n      <td>False</td>\n      <td>2021-04-17 17:53:20</td>\n      <td>...</td>\n      <td>NaN</td>\n      <td>TweetDeck</td>\n      <td>0</td>\n      <td>2</td>\n      <td>False</td>\n      <td>0.000001</td>\n      <td>0.698001</td>\n      <td>0.302001</td>\n      <td>19</td>\n      <td>4.68</td>\n    </tr>\n    <tr>\n      <th>8069</th>\n      <td>1384536482879209475</td>\n      <td>Nadia A. Zawawi</td>\n      <td>Dublin, Ireland</td>\n      <td>Wife, daughter, sister, aunt, Liverpool FC sup...</td>\n      <td>2011-07-14 10:33:41</td>\n      <td>263</td>\n      <td>278</td>\n      <td>19140</td>\n      <td>False</td>\n      <td>2021-04-20 15:56:35</td>\n      <td>...</td>\n      <td>['COVID19Vaccination', 'SayaTelahDivaksini', '...</td>\n      <td>Twitter for Android</td>\n      <td>0</td>\n      <td>2</td>\n      <td>False</td>\n      <td>0.391001</td>\n      <td>0.290001</td>\n      <td>0.319001</td>\n      <td>5</td>\n      <td>3.60</td>\n    </tr>\n  </tbody>\n</table>\n<p>472 rows × 21 columns</p>\n</div>"
     },
     "execution_count": 24,
     "metadata": {},
     "output_type": "execute_result"
    }
   ],
   "source": [
    "Most_Negative"
   ],
   "metadata": {
    "collapsed": false,
    "pycharm": {
     "name": "#%%\n"
    }
   }
  },
  {
   "cell_type": "code",
   "execution_count": 25,
   "outputs": [
    {
     "data": {
      "text/plain": "<Figure size 432x288 with 2 Axes>",
      "image/png": "[encoded data removed]"
     },
     "metadata": {
      "needs_background": "light"
     },
     "output_type": "display_data"
    }
   ],
   "source": [
    "Most_Positive_text = ' '.join(Most_Positive.text)\n",
    "Most_Negative_text = ' '.join(Most_Negative.text)\n",
    "\n",
    "\n",
    "pwc = WordCloud(width=600,height=400,collocations = False,background_color='white').generate(Most_Positive_text)\n",
    "nwc = WordCloud(width=600,height=400,collocations = False,background_color='white').generate(Most_Negative_text)\n",
    "\n",
    "plt.subplot(1,2,1)\n",
    "plt.title('Common Words Among Most Positive Tweets',fontsize=16,fontweight='bold')\n",
    "plt.imshow(pwc)\n",
    "plt.axis('off')\n",
    "plt.subplot(1,2,2)\n",
    "plt.title('Common Words Among Most Negative Tweets',fontsize=16,fontweight='bold')\n",
    "plt.imshow(nwc)\n",
    "plt.axis('off')\n",
    "\n",
    "plt.show()"
   ],
   "metadata": {
    "collapsed": false,
    "pycharm": {
     "name": "#%%\n"
    }
   }
  },
  {
   "cell_type": "code",
   "execution_count": 26,
   "outputs": [
    {
     "data": {
      "text/plain": "<Figure size 432x288 with 2 Axes>",
      "image/png": "[encoded data removed]"
     },
     "metadata": {
      "needs_background": "light"
     },
     "output_type": "display_data"
    }
   ],
   "source": [
    "l_t = Most_Positive_text\n",
    "\n",
    "w1_dict = dict()\n",
    "for word in l_t.split():\n",
    "    w= word.strip()\n",
    "    if w in STOPWORDS:\n",
    "        continue\n",
    "    else:\n",
    "        w1_dict[w] = w1_dict.get(w,0)+1\n",
    "w1_dict = {k: v for k, v in sorted(w1_dict.items(), key=lambda item: item[1],reverse=True)}\n",
    "\n",
    "l_t = Most_Negative_text\n",
    "w2_dict = dict()\n",
    "for word in l_t.split():\n",
    "    w= word.strip()\n",
    "    if w in STOPWORDS:\n",
    "        continue\n",
    "    else:\n",
    "        w2_dict[w] = w2_dict.get(w,0)+1\n",
    "w2_dict = {k: v for k, v in sorted(w2_dict.items(), key=lambda item: item[1],reverse=True)}\n",
    "\n",
    "top_10_pos = list(w1_dict.keys())[:10]\n",
    "top_10_neg = list(w2_dict.keys())[:10]\n",
    "\n",
    "plt.subplot(1,2,1)\n",
    "w_c = WordCloud(width=600,height=400,collocations = False,colormap='nipy_spectral',background_color='white').generate(' '.join(top_10_pos))\n",
    "plt.title('Top 10 Words In Most Positive Tweets',fontsize=19,fontweight='bold')\n",
    "plt.imshow(w_c)\n",
    "plt.axis('off')\n",
    "plt.subplot(1,2,2)\n",
    "w_c = WordCloud(width=600,height=400,collocations = False,colormap='nipy_spectral',background_color='white').generate(' '.join(top_10_neg))\n",
    "plt.title('Top 10 Words In Most Negative Tweets',fontsize=19,fontweight='bold')\n",
    "plt.imshow(w_c)\n",
    "plt.axis('off')\n",
    "plt.show()"
   ],
   "metadata": {
    "collapsed": false,
    "pycharm": {
     "name": "#%%\n"
    }
   }
  }
 ],
 "metadata": {
  "kernelspec": {
   "display_name": "Python 3",
   "language": "python",
   "name": "python3"
  },
  "language_info": {
   "codemirror_mode": {
    "name": "ipython",
    "version": 2
   },
   "file_extension": ".py",
   "mimetype": "text/x-python",
   "name": "python",
   "nbconvert_exporter": "python",
   "pygments_lexer": "ipython2",
   "version": "2.7.6"
  }
 },
 "nbformat": 4,
 "nbformat_minor": 0
}