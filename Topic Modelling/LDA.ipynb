{
 "cells": [
  {
   "cell_type": "code",
   "execution_count": 1,
   "metadata": {
    "collapsed": true,
    "pycharm": {
     "name": "#%%\n"
    }
   },
   "outputs": [],
   "source": [
    "# Terminal / Anaconda Navigator: conda install -c conda-forge gensim\n",
    "import pickle\n",
    "from gensim import matutils, models\n",
    "import scipy.sparse\n",
    "import pandas as pd\n",
    "from gensim.models import CoherenceModel"
   ]
  },
  {
   "cell_type": "code",
   "execution_count": 2,
   "outputs": [
    {
     "data": {
      "text/plain": "                    Datetime             Tweet Id  \\\n0  2022-06-17 23:59:41+00:00  1537948125628747777   \n1  2022-06-17 23:59:27+00:00  1537948068431007744   \n2  2022-06-17 23:59:02+00:00  1537947961983832066   \n\n                                                Text         Username  \n0  @BitMartExchange To the Moon 💯💵💎\\n@galuka156 @...      cozyhomes88  \n1  THIS!!!....@metazooxyz with @MrSweMusic1...RIG...           TTJP_1  \n2  In #Mars4 #game demo you can free your imagina...  Dubai_community  ",
      "text/html": "<div>\n<style scoped>\n    .dataframe tbody tr th:only-of-type {\n        vertical-align: middle;\n    }\n\n    .dataframe tbody tr th {\n        vertical-align: top;\n    }\n\n    .dataframe thead th {\n        text-align: right;\n    }\n</style>\n<table border=\"1\" class=\"dataframe\">\n  <thead>\n    <tr style=\"text-align: right;\">\n      <th></th>\n      <th>Datetime</th>\n      <th>Tweet Id</th>\n      <th>Text</th>\n      <th>Username</th>\n    </tr>\n  </thead>\n  <tbody>\n    <tr>\n      <th>0</th>\n      <td>2022-06-17 23:59:41+00:00</td>\n      <td>1537948125628747777</td>\n      <td>@BitMartExchange To the Moon 💯💵💎\\n@galuka156 @...</td>\n      <td>cozyhomes88</td>\n    </tr>\n    <tr>\n      <th>1</th>\n      <td>2022-06-17 23:59:27+00:00</td>\n      <td>1537948068431007744</td>\n      <td>THIS!!!....@metazooxyz with @MrSweMusic1...RIG...</td>\n      <td>TTJP_1</td>\n    </tr>\n    <tr>\n      <th>2</th>\n      <td>2022-06-17 23:59:02+00:00</td>\n      <td>1537947961983832066</td>\n      <td>In #Mars4 #game demo you can free your imagina...</td>\n      <td>Dubai_community</td>\n    </tr>\n  </tbody>\n</table>\n</div>"
     },
     "execution_count": 2,
     "metadata": {},
     "output_type": "execute_result"
    }
   ],
   "source": [
    "f_data = pd.read_csv('../data/tweets_final.csv')\n",
    "f_data = f_data.iloc[0:100,:]\n",
    "f_data.head(3)"
   ],
   "metadata": {
    "collapsed": false,
    "pycharm": {
     "name": "#%%\n"
    }
   }
  },
  {
   "cell_type": "code",
   "execution_count": 3,
   "outputs": [
    {
     "name": "stderr",
     "output_type": "stream",
     "text": [
      "/usr/local/lib/python3.9/site-packages/sklearn/utils/deprecation.py:87: FutureWarning: Function get_feature_names is deprecated; get_feature_names is deprecated in 1.0 and will be removed in 1.2. Please use get_feature_names_out instead.\n",
      "  warnings.warn(msg, category=FutureWarning)\n"
     ]
    }
   ],
   "source": [
    "# We are going to create a document-term matrix using CountVectorizer, and exclude common English stop words\n",
    "from sklearn.feature_extraction.text import CountVectorizer\n",
    "\n",
    "# Vedi pickle\n",
    "cv = CountVectorizer(stop_words='english')\n",
    "data_cv = cv.fit_transform(f_data.Text)\n",
    "data_dtm = pd.DataFrame(data_cv.toarray(), columns=cv.get_feature_names())\n",
    "data_dtm.index = f_data.index\n",
    "data_dtm = data_dtm.iloc[0:10,:]"
   ],
   "metadata": {
    "collapsed": false,
    "pycharm": {
     "name": "#%%\n"
    }
   }
  },
  {
   "cell_type": "code",
   "execution_count": 4,
   "outputs": [
    {
     "data": {
      "text/plain": "            0  1  2  3  4  5  6  7  8  9\n00667       0  0  0  0  0  0  0  0  0  0\n01          0  0  0  0  0  0  0  0  0  0\n037         0  0  0  0  0  0  0  0  0  0\n039bkt0av4  0  0  0  0  0  0  0  0  0  0\n043         0  0  0  0  0  0  0  0  0  0",
      "text/html": "<div>\n<style scoped>\n    .dataframe tbody tr th:only-of-type {\n        vertical-align: middle;\n    }\n\n    .dataframe tbody tr th {\n        vertical-align: top;\n    }\n\n    .dataframe thead th {\n        text-align: right;\n    }\n</style>\n<table border=\"1\" class=\"dataframe\">\n  <thead>\n    <tr style=\"text-align: right;\">\n      <th></th>\n      <th>0</th>\n      <th>1</th>\n      <th>2</th>\n      <th>3</th>\n      <th>4</th>\n      <th>5</th>\n      <th>6</th>\n      <th>7</th>\n      <th>8</th>\n      <th>9</th>\n    </tr>\n  </thead>\n  <tbody>\n    <tr>\n      <th>00667</th>\n      <td>0</td>\n      <td>0</td>\n      <td>0</td>\n      <td>0</td>\n      <td>0</td>\n      <td>0</td>\n      <td>0</td>\n      <td>0</td>\n      <td>0</td>\n      <td>0</td>\n    </tr>\n    <tr>\n      <th>01</th>\n      <td>0</td>\n      <td>0</td>\n      <td>0</td>\n      <td>0</td>\n      <td>0</td>\n      <td>0</td>\n      <td>0</td>\n      <td>0</td>\n      <td>0</td>\n      <td>0</td>\n    </tr>\n    <tr>\n      <th>037</th>\n      <td>0</td>\n      <td>0</td>\n      <td>0</td>\n      <td>0</td>\n      <td>0</td>\n      <td>0</td>\n      <td>0</td>\n      <td>0</td>\n      <td>0</td>\n      <td>0</td>\n    </tr>\n    <tr>\n      <th>039bkt0av4</th>\n      <td>0</td>\n      <td>0</td>\n      <td>0</td>\n      <td>0</td>\n      <td>0</td>\n      <td>0</td>\n      <td>0</td>\n      <td>0</td>\n      <td>0</td>\n      <td>0</td>\n    </tr>\n    <tr>\n      <th>043</th>\n      <td>0</td>\n      <td>0</td>\n      <td>0</td>\n      <td>0</td>\n      <td>0</td>\n      <td>0</td>\n      <td>0</td>\n      <td>0</td>\n      <td>0</td>\n      <td>0</td>\n    </tr>\n  </tbody>\n</table>\n</div>"
     },
     "execution_count": 4,
     "metadata": {},
     "output_type": "execute_result"
    }
   ],
   "source": [
    "# One of the required inputs is a term-document matrix\n",
    "tdm = data_dtm.transpose()\n",
    "tdm.head()"
   ],
   "metadata": {
    "collapsed": false,
    "pycharm": {
     "name": "#%%\n"
    }
   }
  },
  {
   "cell_type": "code",
   "execution_count": 5,
   "outputs": [],
   "source": [
    "# We're going to put the term-document matrix into a new gensim format, from df --> sparse matrix --> gensim corpus\n",
    "sparse_counts = scipy.sparse.csr_matrix(data_dtm)\n",
    "corpus = matutils.Sparse2Corpus(sparse_counts)"
   ],
   "metadata": {
    "collapsed": false,
    "pycharm": {
     "name": "#%%\n"
    }
   }
  },
  {
   "cell_type": "code",
   "execution_count": 6,
   "outputs": [
    {
     "name": "stderr",
     "output_type": "stream",
     "text": [
      "/usr/local/lib/python3.9/site-packages/sklearn/base.py:329: UserWarning: Trying to unpickle estimator CountVectorizer from version 0.18.2 when using version 1.0.2. This might lead to breaking code or invalid results. Use at your own risk. For more info please refer to:\n",
      "https://scikit-learn.org/stable/modules/model_persistence.html#security-maintainability-limitations\n",
      "  warnings.warn(\n"
     ]
    }
   ],
   "source": [
    "# Gensim also requires dictionary of the all terms and their respective location in the term-document matrix\n",
    "cv = pickle.load(open(\"../data/cv_stop.pkl\", \"rb\"))\n",
    "id2word = dict((v, k) for k, v in cv.vocabulary_.items())"
   ],
   "metadata": {
    "collapsed": false,
    "pycharm": {
     "name": "#%%\n"
    }
   }
  },
  {
   "cell_type": "code",
   "execution_count": 7,
   "outputs": [
    {
     "data": {
      "text/plain": "[(0,\n  '0.003*\"aaaaahhhhhhh\" + 0.002*\"ability\" + 0.002*\"aaaaauuugghhhhhh\" + 0.002*\"abject\" + 0.002*\"aah\" + 0.002*\"aaah\" + 0.001*\"abc\" + 0.001*\"aaaahhhhh\" + 0.001*\"abcs\" + 0.001*\"aaaaah\"'),\n (1,\n  '0.005*\"abc\" + 0.005*\"aah\" + 0.004*\"ability\" + 0.004*\"aaaahhhhh\" + 0.004*\"aaaaauuugghhhhhh\" + 0.004*\"abcs\" + 0.003*\"aaaaahhhhhhh\" + 0.002*\"abject\" + 0.001*\"aaaaah\" + 0.001*\"aaah\"')]"
     },
     "execution_count": 7,
     "metadata": {},
     "output_type": "execute_result"
    }
   ],
   "source": [
    "# Now that we have the corpus (term-document matrix) and id2word (dictionary of location: term),\n",
    "# we need to specify two other parameters as well - the number of topics and the number of passes\n",
    "lda = models.LdaModel(corpus=corpus, id2word=id2word, num_topics=2, passes=1)\n",
    "lda.print_topics()"
   ],
   "metadata": {
    "collapsed": false,
    "pycharm": {
     "name": "#%%\n"
    }
   }
  },
  {
   "cell_type": "code",
   "execution_count": 8,
   "outputs": [],
   "source": [
    "# Let's create a function to pull out nouns from a string of text\n",
    "from nltk import word_tokenize, pos_tag\n",
    "\n",
    "def nouns(text):\n",
    "    '''Given a string of text, tokenize the text and pull out only the nouns.'''\n",
    "    is_noun = lambda pos: pos[:2] == 'NN'\n",
    "    tokenized = word_tokenize(text)\n",
    "    all_nouns = [word for (word, pos) in pos_tag(tokenized) if is_noun(pos)]\n",
    "    return ' '.join(all_nouns)"
   ],
   "metadata": {
    "collapsed": false,
    "pycharm": {
     "name": "#%%\n"
    }
   }
  },
  {
   "cell_type": "code",
   "execution_count": 9,
   "outputs": [
    {
     "data": {
      "text/plain": "                                                 Text\n0   BitMartExchange Moon 💯💵💎 @ galuka156 @ hoangye...\n1   THIS metazooxyz @ MrSweMusic1 NOW DCLMETATIGER...\n2   Mars4 game demo imagination buildings rules PL...\n3   PROJECT project @ ProjectSeedGame https Projec...\n4   @ verasaw project level NFTGaming List https /...\n..                                                ...\n95  NFT👍🥰 show NFT NodeJS DEFI BLOCKHAIN cryptocur...\n96  Blockchain Keys Unlock Murky Metaverse Alison ...\n97  Más subas tasa Recesión Mayor inflación / lo q...\n98       METAME EU5 facescans https //t.co/QCznV0OFwN\n99  LEOsLounge_ Drink fam Crofam LHRC Metaverse ht...\n\n[100 rows x 1 columns]",
      "text/html": "<div>\n<style scoped>\n    .dataframe tbody tr th:only-of-type {\n        vertical-align: middle;\n    }\n\n    .dataframe tbody tr th {\n        vertical-align: top;\n    }\n\n    .dataframe thead th {\n        text-align: right;\n    }\n</style>\n<table border=\"1\" class=\"dataframe\">\n  <thead>\n    <tr style=\"text-align: right;\">\n      <th></th>\n      <th>Text</th>\n    </tr>\n  </thead>\n  <tbody>\n    <tr>\n      <th>0</th>\n      <td>BitMartExchange Moon 💯💵💎 @ galuka156 @ hoangye...</td>\n    </tr>\n    <tr>\n      <th>1</th>\n      <td>THIS metazooxyz @ MrSweMusic1 NOW DCLMETATIGER...</td>\n    </tr>\n    <tr>\n      <th>2</th>\n      <td>Mars4 game demo imagination buildings rules PL...</td>\n    </tr>\n    <tr>\n      <th>3</th>\n      <td>PROJECT project @ ProjectSeedGame https Projec...</td>\n    </tr>\n    <tr>\n      <th>4</th>\n      <td>@ verasaw project level NFTGaming List https /...</td>\n    </tr>\n    <tr>\n      <th>...</th>\n      <td>...</td>\n    </tr>\n    <tr>\n      <th>95</th>\n      <td>NFT👍🥰 show NFT NodeJS DEFI BLOCKHAIN cryptocur...</td>\n    </tr>\n    <tr>\n      <th>96</th>\n      <td>Blockchain Keys Unlock Murky Metaverse Alison ...</td>\n    </tr>\n    <tr>\n      <th>97</th>\n      <td>Más subas tasa Recesión Mayor inflación / lo q...</td>\n    </tr>\n    <tr>\n      <th>98</th>\n      <td>METAME EU5 facescans https //t.co/QCznV0OFwN</td>\n    </tr>\n    <tr>\n      <th>99</th>\n      <td>LEOsLounge_ Drink fam Crofam LHRC Metaverse ht...</td>\n    </tr>\n  </tbody>\n</table>\n<p>100 rows × 1 columns</p>\n</div>"
     },
     "execution_count": 9,
     "metadata": {},
     "output_type": "execute_result"
    }
   ],
   "source": [
    "# Apply the nouns function to the transcripts to filter only on nouns\n",
    "data_nouns = pd.DataFrame(f_data.Text.apply(nouns))\n",
    "data_nouns"
   ],
   "metadata": {
    "collapsed": false,
    "pycharm": {
     "name": "#%%\n"
    }
   }
  },
  {
   "cell_type": "code",
   "execution_count": 11,
   "outputs": [
    {
     "name": "stderr",
     "output_type": "stream",
     "text": [
      "/usr/local/lib/python3.9/site-packages/sklearn/utils/deprecation.py:87: FutureWarning: Function get_feature_names is deprecated; get_feature_names is deprecated in 1.0 and will be removed in 1.2. Please use get_feature_names_out instead.\n",
      "  warnings.warn(msg, category=FutureWarning)\n"
     ]
    },
    {
     "data": {
      "text/plain": "    01  043  0jggwas0wy  2421  2kbhcq8xhw  2qejf2scii  2wqubowap3  4pvzxjwgaw  \\\n0    0    0           0     0           0           0           0           0   \n1    0    0           0     0           0           0           0           0   \n2    0    0           0     0           0           0           0           0   \n3    0    0           0     0           0           0           0           0   \n4    0    0           0     0           0           0           0           0   \n..  ..  ...         ...   ...         ...         ...         ...         ...   \n95   0    0           0     0           0           0           0           0   \n96   0    0           0     0           0           0           0           0   \n97   0    0           0     0           0           0           0           0   \n98   0    0           0     0           0           0           0           0   \n99   0    0           0     0           0           0           0           0   \n\n    670億円のweb3ゲームファンドをローンチ  6yzvmgmjbk  ...  zl7npcn7qt  zwfzskn4ay  \\\n0                        0           0  ...           0           0   \n1                        0           0  ...           0           0   \n2                        0           0  ...           0           0   \n3                        0           0  ...           0           0   \n4                        0           1  ...           0           0   \n..                     ...         ...  ...         ...         ...   \n95                       0           0  ...           0           0   \n96                       0           0  ...           0           0   \n97                       0           0  ...           0           0   \n98                       0           0  ...           0           0   \n99                       0           0  ...           0           0   \n\n    zxmgysbojb  édition  ótimo  こうゆうmr  メタバース  的な映像技術が進化していくと思います  私は今後  複合現実  \n0            0        0      0       0      0                   0     0     0  \n1            0        0      0       0      0                   0     0     0  \n2            0        0      0       0      0                   0     0     0  \n3            0        0      0       0      0                   0     0     0  \n4            0        0      0       0      0                   0     0     0  \n..         ...      ...    ...     ...    ...                 ...   ...   ...  \n95           0        0      0       0      0                   0     0     0  \n96           0        0      0       0      0                   0     0     0  \n97           0        0      0       0      0                   0     0     0  \n98           0        0      0       0      0                   0     0     0  \n99           0        0      0       0      0                   0     0     0  \n\n[100 rows x 672 columns]",
      "text/html": "<div>\n<style scoped>\n    .dataframe tbody tr th:only-of-type {\n        vertical-align: middle;\n    }\n\n    .dataframe tbody tr th {\n        vertical-align: top;\n    }\n\n    .dataframe thead th {\n        text-align: right;\n    }\n</style>\n<table border=\"1\" class=\"dataframe\">\n  <thead>\n    <tr style=\"text-align: right;\">\n      <th></th>\n      <th>01</th>\n      <th>043</th>\n      <th>0jggwas0wy</th>\n      <th>2421</th>\n      <th>2kbhcq8xhw</th>\n      <th>2qejf2scii</th>\n      <th>2wqubowap3</th>\n      <th>4pvzxjwgaw</th>\n      <th>670億円のweb3ゲームファンドをローンチ</th>\n      <th>6yzvmgmjbk</th>\n      <th>...</th>\n      <th>zl7npcn7qt</th>\n      <th>zwfzskn4ay</th>\n      <th>zxmgysbojb</th>\n      <th>édition</th>\n      <th>ótimo</th>\n      <th>こうゆうmr</th>\n      <th>メタバース</th>\n      <th>的な映像技術が進化していくと思います</th>\n      <th>私は今後</th>\n      <th>複合現実</th>\n    </tr>\n  </thead>\n  <tbody>\n    <tr>\n      <th>0</th>\n      <td>0</td>\n      <td>0</td>\n      <td>0</td>\n      <td>0</td>\n      <td>0</td>\n      <td>0</td>\n      <td>0</td>\n      <td>0</td>\n      <td>0</td>\n      <td>0</td>\n      <td>...</td>\n      <td>0</td>\n      <td>0</td>\n      <td>0</td>\n      <td>0</td>\n      <td>0</td>\n      <td>0</td>\n      <td>0</td>\n      <td>0</td>\n      <td>0</td>\n      <td>0</td>\n    </tr>\n    <tr>\n      <th>1</th>\n      <td>0</td>\n      <td>0</td>\n      <td>0</td>\n      <td>0</td>\n      <td>0</td>\n      <td>0</td>\n      <td>0</td>\n      <td>0</td>\n      <td>0</td>\n      <td>0</td>\n      <td>...</td>\n      <td>0</td>\n      <td>0</td>\n      <td>0</td>\n      <td>0</td>\n      <td>0</td>\n      <td>0</td>\n      <td>0</td>\n      <td>0</td>\n      <td>0</td>\n      <td>0</td>\n    </tr>\n    <tr>\n      <th>2</th>\n      <td>0</td>\n      <td>0</td>\n      <td>0</td>\n      <td>0</td>\n      <td>0</td>\n      <td>0</td>\n      <td>0</td>\n      <td>0</td>\n      <td>0</td>\n      <td>0</td>\n      <td>...</td>\n      <td>0</td>\n      <td>0</td>\n      <td>0</td>\n      <td>0</td>\n      <td>0</td>\n      <td>0</td>\n      <td>0</td>\n      <td>0</td>\n      <td>0</td>\n      <td>0</td>\n    </tr>\n    <tr>\n      <th>3</th>\n      <td>0</td>\n      <td>0</td>\n      <td>0</td>\n      <td>0</td>\n      <td>0</td>\n      <td>0</td>\n      <td>0</td>\n      <td>0</td>\n      <td>0</td>\n      <td>0</td>\n      <td>...</td>\n      <td>0</td>\n      <td>0</td>\n      <td>0</td>\n      <td>0</td>\n      <td>0</td>\n      <td>0</td>\n      <td>0</td>\n      <td>0</td>\n      <td>0</td>\n      <td>0</td>\n    </tr>\n    <tr>\n      <th>4</th>\n      <td>0</td>\n      <td>0</td>\n      <td>0</td>\n      <td>0</td>\n      <td>0</td>\n      <td>0</td>\n      <td>0</td>\n      <td>0</td>\n      <td>0</td>\n      <td>1</td>\n      <td>...</td>\n      <td>0</td>\n      <td>0</td>\n      <td>0</td>\n      <td>0</td>\n      <td>0</td>\n      <td>0</td>\n      <td>0</td>\n      <td>0</td>\n      <td>0</td>\n      <td>0</td>\n    </tr>\n    <tr>\n      <th>...</th>\n      <td>...</td>\n      <td>...</td>\n      <td>...</td>\n      <td>...</td>\n      <td>...</td>\n      <td>...</td>\n      <td>...</td>\n      <td>...</td>\n      <td>...</td>\n      <td>...</td>\n      <td>...</td>\n      <td>...</td>\n      <td>...</td>\n      <td>...</td>\n      <td>...</td>\n      <td>...</td>\n      <td>...</td>\n      <td>...</td>\n      <td>...</td>\n      <td>...</td>\n      <td>...</td>\n    </tr>\n    <tr>\n      <th>95</th>\n      <td>0</td>\n      <td>0</td>\n      <td>0</td>\n      <td>0</td>\n      <td>0</td>\n      <td>0</td>\n      <td>0</td>\n      <td>0</td>\n      <td>0</td>\n      <td>0</td>\n      <td>...</td>\n      <td>0</td>\n      <td>0</td>\n      <td>0</td>\n      <td>0</td>\n      <td>0</td>\n      <td>0</td>\n      <td>0</td>\n      <td>0</td>\n      <td>0</td>\n      <td>0</td>\n    </tr>\n    <tr>\n      <th>96</th>\n      <td>0</td>\n      <td>0</td>\n      <td>0</td>\n      <td>0</td>\n      <td>0</td>\n      <td>0</td>\n      <td>0</td>\n      <td>0</td>\n      <td>0</td>\n      <td>0</td>\n      <td>...</td>\n      <td>0</td>\n      <td>0</td>\n      <td>0</td>\n      <td>0</td>\n      <td>0</td>\n      <td>0</td>\n      <td>0</td>\n      <td>0</td>\n      <td>0</td>\n      <td>0</td>\n    </tr>\n    <tr>\n      <th>97</th>\n      <td>0</td>\n      <td>0</td>\n      <td>0</td>\n      <td>0</td>\n      <td>0</td>\n      <td>0</td>\n      <td>0</td>\n      <td>0</td>\n      <td>0</td>\n      <td>0</td>\n      <td>...</td>\n      <td>0</td>\n      <td>0</td>\n      <td>0</td>\n      <td>0</td>\n      <td>0</td>\n      <td>0</td>\n      <td>0</td>\n      <td>0</td>\n      <td>0</td>\n      <td>0</td>\n    </tr>\n    <tr>\n      <th>98</th>\n      <td>0</td>\n      <td>0</td>\n      <td>0</td>\n      <td>0</td>\n      <td>0</td>\n      <td>0</td>\n      <td>0</td>\n      <td>0</td>\n      <td>0</td>\n      <td>0</td>\n      <td>...</td>\n      <td>0</td>\n      <td>0</td>\n      <td>0</td>\n      <td>0</td>\n      <td>0</td>\n      <td>0</td>\n      <td>0</td>\n      <td>0</td>\n      <td>0</td>\n      <td>0</td>\n    </tr>\n    <tr>\n      <th>99</th>\n      <td>0</td>\n      <td>0</td>\n      <td>0</td>\n      <td>0</td>\n      <td>0</td>\n      <td>0</td>\n      <td>0</td>\n      <td>0</td>\n      <td>0</td>\n      <td>0</td>\n      <td>...</td>\n      <td>0</td>\n      <td>0</td>\n      <td>0</td>\n      <td>0</td>\n      <td>0</td>\n      <td>0</td>\n      <td>0</td>\n      <td>0</td>\n      <td>0</td>\n      <td>0</td>\n    </tr>\n  </tbody>\n</table>\n<p>100 rows × 672 columns</p>\n</div>"
     },
     "execution_count": 11,
     "metadata": {},
     "output_type": "execute_result"
    }
   ],
   "source": [
    "# Create a new document-term matrix using only nouns\n",
    "from sklearn.feature_extraction import text\n",
    "from sklearn.feature_extraction.text import CountVectorizer\n",
    "\n",
    "# Re-add the additional stop words since we are recreating the document-term matrix\n",
    "add_stop_words = ['like', 'im', 'know', 'just', 'dont', 'thats', 'right', 'people',\n",
    "                  'youre', 'got', 'gonna', 'time', 'think', 'yeah', 'said']\n",
    "stop_words = text.ENGLISH_STOP_WORDS.union(add_stop_words)\n",
    "\n",
    "# Recreate a document-term matrix with only nouns\n",
    "cvn = CountVectorizer(stop_words=stop_words)\n",
    "data_cvn = cvn.fit_transform(data_nouns.Text)\n",
    "data_dtmn = pd.DataFrame(data_cvn.toarray(), columns=cvn.get_feature_names())\n",
    "data_dtmn.index = data_nouns.index\n",
    "data_dtmn"
   ],
   "metadata": {
    "collapsed": false,
    "pycharm": {
     "name": "#%%\n"
    }
   }
  },
  {
   "cell_type": "code",
   "execution_count": 12,
   "outputs": [],
   "source": [
    "# Create the gensim corpus\n",
    "corpusn = matutils.Sparse2Corpus(scipy.sparse.csr_matrix(data_dtmn.transpose()))\n",
    "\n",
    "# Create the vocabulary dictionary\n",
    "id2wordn = dict((v, k) for k, v in cvn.vocabulary_.items())"
   ],
   "metadata": {
    "collapsed": false,
    "pycharm": {
     "name": "#%%\n"
    }
   }
  },
  {
   "cell_type": "code",
   "execution_count": 13,
   "outputs": [
    {
     "data": {
      "text/plain": "[(0,\n  '0.063*\"metaverse\" + 0.048*\"https\" + 0.019*\"nft\" + 0.013*\"bitcoin\" + 0.012*\"nfts\" + 0.011*\"nftcommunity\" + 0.009*\"btc\" + 0.008*\"gold\" + 0.008*\"cryptocurrencies\" + 0.008*\"whaleanalytica\"'),\n (1,\n  '0.072*\"https\" + 0.040*\"metaverse\" + 0.024*\"nfts\" + 0.021*\"nft\" + 0.012*\"nftcommunity\" + 0.010*\"crypto\" + 0.009*\"store\" + 0.008*\"project\" + 0.008*\"nftnyc\" + 0.006*\"father\"'),\n (2,\n  '0.036*\"metaverse\" + 0.030*\"https\" + 0.009*\"nft\" + 0.009*\"project\" + 0.007*\"world\" + 0.007*\"vr\" + 0.007*\"black\" + 0.006*\"projectseedgame\" + 0.006*\"huobi\" + 0.006*\"projectseed\"')]"
     },
     "execution_count": 13,
     "metadata": {},
     "output_type": "execute_result"
    }
   ],
   "source": [
    "# Let's try topics = 3\n",
    "ldan = models.LdaModel(corpus=corpusn, num_topics=3, id2word=id2wordn, passes=10)\n",
    "ldan.print_topics()"
   ],
   "metadata": {
    "collapsed": false,
    "pycharm": {
     "name": "#%%\n"
    }
   }
  },
  {
   "cell_type": "code",
   "execution_count": 14,
   "outputs": [],
   "source": [
    "# Let's create a function to pull out nouns from a string of text\n",
    "def nouns_adj(text):\n",
    "    '''Given a string of text, tokenize the text and pull out only the nouns and adjectives.'''\n",
    "    is_noun_adj = lambda pos: pos[:2] == 'NN' or pos[:2] == 'JJ'\n",
    "    tokenized = word_tokenize(text)\n",
    "    nouns_adj = [word for (word, pos) in pos_tag(tokenized) if is_noun_adj(pos)]\n",
    "    return ' '.join(nouns_adj)"
   ],
   "metadata": {
    "collapsed": false,
    "pycharm": {
     "name": "#%%\n"
    }
   }
  },
  {
   "cell_type": "code",
   "execution_count": 16,
   "outputs": [
    {
     "data": {
      "text/plain": "                                                 Text\n0   @ BitMartExchange Moon 💯💵💎 @ galuka156 @ hoang...\n1   THIS .... @ metazooxyz @ MrSweMusic1 NOW 🔥🔥🔥🔥🎶...\n2   Mars4 game demo imagination craziest buildings...\n3   PROJECT big project potential 🔥🔥🔥💚👏 @ ProjectS...\n4   @ verasaw project next level NFTGaming metaver...\n..                                                ...\n95  NFT👍🥰 show NFT java NodeJS metaverse DEFI BLOC...\n96  Blockchain Keys Unlock Murky Metaverse Alison ...\n97  Más subas tasa Recesión Mayor inflación / lo q...\n98  METAME metahuman unrealengine EU5 metaverse fa...\n99  @ LEOsLounge_ Drink fam 🔥🔥🔥 Crofam LHRC Metave...\n\n[100 rows x 1 columns]",
      "text/html": "<div>\n<style scoped>\n    .dataframe tbody tr th:only-of-type {\n        vertical-align: middle;\n    }\n\n    .dataframe tbody tr th {\n        vertical-align: top;\n    }\n\n    .dataframe thead th {\n        text-align: right;\n    }\n</style>\n<table border=\"1\" class=\"dataframe\">\n  <thead>\n    <tr style=\"text-align: right;\">\n      <th></th>\n      <th>Text</th>\n    </tr>\n  </thead>\n  <tbody>\n    <tr>\n      <th>0</th>\n      <td>@ BitMartExchange Moon 💯💵💎 @ galuka156 @ hoang...</td>\n    </tr>\n    <tr>\n      <th>1</th>\n      <td>THIS .... @ metazooxyz @ MrSweMusic1 NOW 🔥🔥🔥🔥🎶...</td>\n    </tr>\n    <tr>\n      <th>2</th>\n      <td>Mars4 game demo imagination craziest buildings...</td>\n    </tr>\n    <tr>\n      <th>3</th>\n      <td>PROJECT big project potential 🔥🔥🔥💚👏 @ ProjectS...</td>\n    </tr>\n    <tr>\n      <th>4</th>\n      <td>@ verasaw project next level NFTGaming metaver...</td>\n    </tr>\n    <tr>\n      <th>...</th>\n      <td>...</td>\n    </tr>\n    <tr>\n      <th>95</th>\n      <td>NFT👍🥰 show NFT java NodeJS metaverse DEFI BLOC...</td>\n    </tr>\n    <tr>\n      <th>96</th>\n      <td>Blockchain Keys Unlock Murky Metaverse Alison ...</td>\n    </tr>\n    <tr>\n      <th>97</th>\n      <td>Más subas tasa Recesión Mayor inflación / lo q...</td>\n    </tr>\n    <tr>\n      <th>98</th>\n      <td>METAME metahuman unrealengine EU5 metaverse fa...</td>\n    </tr>\n    <tr>\n      <th>99</th>\n      <td>@ LEOsLounge_ Drink fam 🔥🔥🔥 Crofam LHRC Metave...</td>\n    </tr>\n  </tbody>\n</table>\n<p>100 rows × 1 columns</p>\n</div>"
     },
     "execution_count": 16,
     "metadata": {},
     "output_type": "execute_result"
    }
   ],
   "source": [
    "# Apply the nouns function to the transcripts to filter only on nouns\n",
    "data_nouns_adj = pd.DataFrame(f_data.Text.apply(nouns_adj))\n",
    "data_nouns_adj"
   ],
   "metadata": {
    "collapsed": false,
    "pycharm": {
     "name": "#%%\n"
    }
   }
  },
  {
   "cell_type": "code",
   "execution_count": 18,
   "outputs": [
    {
     "name": "stderr",
     "output_type": "stream",
     "text": [
      "/usr/local/lib/python3.9/site-packages/sklearn/utils/deprecation.py:87: FutureWarning: Function get_feature_names is deprecated; get_feature_names is deprecated in 1.0 and will be removed in 1.2. Please use get_feature_names_out instead.\n",
      "  warnings.warn(msg, category=FutureWarning)\n"
     ]
    },
    {
     "data": {
      "text/plain": "    01  039bkt0av4  043  0jggwas0wy  10  11  15  2421  2kbhcq8xhw  2qejf2scii  \\\n0    0           0    0           0   0   0   0     0           0           0   \n1    0           0    0           0   0   0   0     0           0           0   \n2    0           0    0           0   0   0   0     0           0           0   \n3    0           0    0           0   0   0   0     0           0           0   \n4    0           0    0           0   0   0   0     0           0           0   \n..  ..         ...  ...         ...  ..  ..  ..   ...         ...         ...   \n95   0           0    0           0   0   0   0     0           0           0   \n96   0           0    0           0   0   0   0     0           0           0   \n97   0           0    0           0   0   0   0     0           0           0   \n98   0           0    0           0   0   0   0     0           0           0   \n99   0           0    0           0   0   0   0     0           0           0   \n\n    ...  zl7npcn7qt  zwfzskn4ay  zxmgysbojb  édition  ótimo  こうゆうmr  メタバース  \\\n0   ...           0           0           0        0      0       0      0   \n1   ...           0           0           0        0      0       0      0   \n2   ...           0           0           0        0      0       0      0   \n3   ...           0           0           0        0      0       0      0   \n4   ...           0           0           0        0      0       0      0   \n..  ...         ...         ...         ...      ...    ...     ...    ...   \n95  ...           0           0           0        0      0       0      0   \n96  ...           0           0           0        0      0       0      0   \n97  ...           0           0           0        0      0       0      0   \n98  ...           0           0           0        0      0       0      0   \n99  ...           0           0           0        0      0       0      0   \n\n    的な映像技術が進化していくと思います  私は今後  複合現実  \n0                    0     0     0  \n1                    0     0     0  \n2                    0     0     0  \n3                    0     0     0  \n4                    0     0     0  \n..                 ...   ...   ...  \n95                   0     0     0  \n96                   0     0     0  \n97                   0     0     0  \n98                   0     0     0  \n99                   0     0     0  \n\n[100 rows x 796 columns]",
      "text/html": "<div>\n<style scoped>\n    .dataframe tbody tr th:only-of-type {\n        vertical-align: middle;\n    }\n\n    .dataframe tbody tr th {\n        vertical-align: top;\n    }\n\n    .dataframe thead th {\n        text-align: right;\n    }\n</style>\n<table border=\"1\" class=\"dataframe\">\n  <thead>\n    <tr style=\"text-align: right;\">\n      <th></th>\n      <th>01</th>\n      <th>039bkt0av4</th>\n      <th>043</th>\n      <th>0jggwas0wy</th>\n      <th>10</th>\n      <th>11</th>\n      <th>15</th>\n      <th>2421</th>\n      <th>2kbhcq8xhw</th>\n      <th>2qejf2scii</th>\n      <th>...</th>\n      <th>zl7npcn7qt</th>\n      <th>zwfzskn4ay</th>\n      <th>zxmgysbojb</th>\n      <th>édition</th>\n      <th>ótimo</th>\n      <th>こうゆうmr</th>\n      <th>メタバース</th>\n      <th>的な映像技術が進化していくと思います</th>\n      <th>私は今後</th>\n      <th>複合現実</th>\n    </tr>\n  </thead>\n  <tbody>\n    <tr>\n      <th>0</th>\n      <td>0</td>\n      <td>0</td>\n      <td>0</td>\n      <td>0</td>\n      <td>0</td>\n      <td>0</td>\n      <td>0</td>\n      <td>0</td>\n      <td>0</td>\n      <td>0</td>\n      <td>...</td>\n      <td>0</td>\n      <td>0</td>\n      <td>0</td>\n      <td>0</td>\n      <td>0</td>\n      <td>0</td>\n      <td>0</td>\n      <td>0</td>\n      <td>0</td>\n      <td>0</td>\n    </tr>\n    <tr>\n      <th>1</th>\n      <td>0</td>\n      <td>0</td>\n      <td>0</td>\n      <td>0</td>\n      <td>0</td>\n      <td>0</td>\n      <td>0</td>\n      <td>0</td>\n      <td>0</td>\n      <td>0</td>\n      <td>...</td>\n      <td>0</td>\n      <td>0</td>\n      <td>0</td>\n      <td>0</td>\n      <td>0</td>\n      <td>0</td>\n      <td>0</td>\n      <td>0</td>\n      <td>0</td>\n      <td>0</td>\n    </tr>\n    <tr>\n      <th>2</th>\n      <td>0</td>\n      <td>0</td>\n      <td>0</td>\n      <td>0</td>\n      <td>0</td>\n      <td>0</td>\n      <td>0</td>\n      <td>0</td>\n      <td>0</td>\n      <td>0</td>\n      <td>...</td>\n      <td>0</td>\n      <td>0</td>\n      <td>0</td>\n      <td>0</td>\n      <td>0</td>\n      <td>0</td>\n      <td>0</td>\n      <td>0</td>\n      <td>0</td>\n      <td>0</td>\n    </tr>\n    <tr>\n      <th>3</th>\n      <td>0</td>\n      <td>0</td>\n      <td>0</td>\n      <td>0</td>\n      <td>0</td>\n      <td>0</td>\n      <td>0</td>\n      <td>0</td>\n      <td>0</td>\n      <td>0</td>\n      <td>...</td>\n      <td>0</td>\n      <td>0</td>\n      <td>0</td>\n      <td>0</td>\n      <td>0</td>\n      <td>0</td>\n      <td>0</td>\n      <td>0</td>\n      <td>0</td>\n      <td>0</td>\n    </tr>\n    <tr>\n      <th>4</th>\n      <td>0</td>\n      <td>0</td>\n      <td>0</td>\n      <td>0</td>\n      <td>0</td>\n      <td>0</td>\n      <td>0</td>\n      <td>0</td>\n      <td>0</td>\n      <td>0</td>\n      <td>...</td>\n      <td>0</td>\n      <td>0</td>\n      <td>0</td>\n      <td>0</td>\n      <td>0</td>\n      <td>0</td>\n      <td>0</td>\n      <td>0</td>\n      <td>0</td>\n      <td>0</td>\n    </tr>\n    <tr>\n      <th>...</th>\n      <td>...</td>\n      <td>...</td>\n      <td>...</td>\n      <td>...</td>\n      <td>...</td>\n      <td>...</td>\n      <td>...</td>\n      <td>...</td>\n      <td>...</td>\n      <td>...</td>\n      <td>...</td>\n      <td>...</td>\n      <td>...</td>\n      <td>...</td>\n      <td>...</td>\n      <td>...</td>\n      <td>...</td>\n      <td>...</td>\n      <td>...</td>\n      <td>...</td>\n      <td>...</td>\n    </tr>\n    <tr>\n      <th>95</th>\n      <td>0</td>\n      <td>0</td>\n      <td>0</td>\n      <td>0</td>\n      <td>0</td>\n      <td>0</td>\n      <td>0</td>\n      <td>0</td>\n      <td>0</td>\n      <td>0</td>\n      <td>...</td>\n      <td>0</td>\n      <td>0</td>\n      <td>0</td>\n      <td>0</td>\n      <td>0</td>\n      <td>0</td>\n      <td>0</td>\n      <td>0</td>\n      <td>0</td>\n      <td>0</td>\n    </tr>\n    <tr>\n      <th>96</th>\n      <td>0</td>\n      <td>0</td>\n      <td>0</td>\n      <td>0</td>\n      <td>0</td>\n      <td>0</td>\n      <td>0</td>\n      <td>0</td>\n      <td>0</td>\n      <td>0</td>\n      <td>...</td>\n      <td>0</td>\n      <td>0</td>\n      <td>0</td>\n      <td>0</td>\n      <td>0</td>\n      <td>0</td>\n      <td>0</td>\n      <td>0</td>\n      <td>0</td>\n      <td>0</td>\n    </tr>\n    <tr>\n      <th>97</th>\n      <td>0</td>\n      <td>0</td>\n      <td>0</td>\n      <td>0</td>\n      <td>0</td>\n      <td>0</td>\n      <td>0</td>\n      <td>0</td>\n      <td>0</td>\n      <td>0</td>\n      <td>...</td>\n      <td>0</td>\n      <td>0</td>\n      <td>0</td>\n      <td>0</td>\n      <td>0</td>\n      <td>0</td>\n      <td>0</td>\n      <td>0</td>\n      <td>0</td>\n      <td>0</td>\n    </tr>\n    <tr>\n      <th>98</th>\n      <td>0</td>\n      <td>0</td>\n      <td>0</td>\n      <td>0</td>\n      <td>0</td>\n      <td>0</td>\n      <td>0</td>\n      <td>0</td>\n      <td>0</td>\n      <td>0</td>\n      <td>...</td>\n      <td>0</td>\n      <td>0</td>\n      <td>0</td>\n      <td>0</td>\n      <td>0</td>\n      <td>0</td>\n      <td>0</td>\n      <td>0</td>\n      <td>0</td>\n      <td>0</td>\n    </tr>\n    <tr>\n      <th>99</th>\n      <td>0</td>\n      <td>0</td>\n      <td>0</td>\n      <td>0</td>\n      <td>0</td>\n      <td>0</td>\n      <td>0</td>\n      <td>0</td>\n      <td>0</td>\n      <td>0</td>\n      <td>...</td>\n      <td>0</td>\n      <td>0</td>\n      <td>0</td>\n      <td>0</td>\n      <td>0</td>\n      <td>0</td>\n      <td>0</td>\n      <td>0</td>\n      <td>0</td>\n      <td>0</td>\n    </tr>\n  </tbody>\n</table>\n<p>100 rows × 796 columns</p>\n</div>"
     },
     "execution_count": 18,
     "metadata": {},
     "output_type": "execute_result"
    }
   ],
   "source": [
    "# Create a new document-term matrix using only nouns and adjectives, also remove common words with max_df\n",
    "cvna = CountVectorizer(stop_words=stop_words, max_df=.8)\n",
    "data_cvna = cvna.fit_transform(data_nouns_adj.Text)\n",
    "data_dtmna = pd.DataFrame(data_cvna.toarray(), columns=cvna.get_feature_names())\n",
    "data_dtmna.index = data_nouns_adj.index\n",
    "data_dtmna"
   ],
   "metadata": {
    "collapsed": false,
    "pycharm": {
     "name": "#%%\n"
    }
   }
  },
  {
   "cell_type": "code",
   "execution_count": 83,
   "outputs": [],
   "source": [
    "# Create the gensim corpus\n",
    "corpusna = matutils.Sparse2Corpus(scipy.sparse.csr_matrix(data_dtmna.transpose()))\n",
    "\n",
    "# Create the vocabulary dictionary\n",
    "id2wordna = dict((v, k) for k, v in cvna.vocabulary_.items())"
   ],
   "metadata": {
    "collapsed": false,
    "pycharm": {
     "name": "#%%\n"
    }
   }
  },
  {
   "cell_type": "code",
   "execution_count": 109,
   "outputs": [
    {
     "data": {
      "text/plain": "[(0,\n  '0.038*\"https\" + 0.014*\"crypto\" + 0.008*\"bitcoin\" + 0.008*\"nft\" + 0.008*\"btc\" + 0.008*\"nfts\" + 0.008*\"new\" + 0.008*\"title\" + 0.008*\"news\" + 0.006*\"art\"'),\n (1,\n  '0.054*\"https\" + 0.028*\"nft\" + 0.018*\"nfts\" + 0.012*\"nftcommunity\" + 0.008*\"cryptocurrencies\" + 0.008*\"defi\" + 0.007*\"gold\" + 0.007*\"bitcoin\" + 0.006*\"otherdeed\" + 0.006*\"blockhain\"'),\n (2,\n  '0.042*\"https\" + 0.016*\"nft\" + 0.012*\"mintable\" + 0.011*\"store\" + 0.011*\"nfts\" + 0.009*\"crypto\" + 0.007*\"father\" + 0.006*\"gasless\" + 0.006*\"black\" + 0.006*\"blockchain\"')]"
     },
     "execution_count": 109,
     "metadata": {},
     "output_type": "execute_result"
    }
   ],
   "source": [
    "# Let's try 3 topics\n",
    "ldana = models.LdaModel(corpus=corpusna, num_topics=3, id2word=id2wordna, passes=10)\n",
    "ldana.print_topics()"
   ],
   "metadata": {
    "collapsed": false,
    "pycharm": {
     "name": "#%%\n"
    }
   }
  },
  {
   "cell_type": "code",
   "execution_count": 100,
   "outputs": [],
   "source": [
    "from gensim import corpora\n",
    "word2id = dict((k, v) for k, v in cvna.vocabulary_.items())\n",
    "d = corpora.Dictionary()\n",
    "d.id2token = id2word\n",
    "d.token2id = word2id"
   ],
   "metadata": {
    "collapsed": false,
    "pycharm": {
     "name": "#%%\n"
    }
   }
  },
  {
   "cell_type": "code",
   "execution_count": 110,
   "outputs": [
    {
     "name": "stderr",
     "output_type": "stream",
     "text": [
      "/usr/local/lib/python3.9/site-packages/pyLDAvis/_prepare.py:246: FutureWarning: In a future version of pandas all arguments of DataFrame.drop except for the argument 'labels' will be keyword-only.\n",
      "  default_term_info = default_term_info.sort_values(\n"
     ]
    },
    {
     "data": {
      "text/plain": "PreparedData(topic_coordinates=              x         y  topics  cluster       Freq\ntopic                                                \n1     -0.097936 -0.019129       1        1  53.314832\n2      0.068809 -0.061252       2        1  26.072318\n0      0.029127  0.080381       3        1  20.612851, topic_info=             Term       Freq      Total Category  logprob  loglift\n523      mintable   4.000000   4.000000  Default  30.0000  30.0000\n522         store   4.000000   4.000000  Default  29.0000  29.0000\n58         crypto  10.000000  10.000000  Default  28.0000  28.0000\n54            new   2.000000   2.000000  Default  27.0000  27.0000\n314         title   2.000000   2.000000  Default  26.0000  26.0000\n..            ...        ...        ...      ...      ...      ...\n38        project   1.249559   6.284484   Topic3  -5.3673  -0.0360\n52           list   0.786115   1.781982   Topic3  -5.8307   0.7609\n101  nftcommunity   1.200429  10.550342   Topic3  -5.4074  -0.5942\n51      nftgaming   0.738742   2.507643   Topic3  -5.8929   0.3571\n180       virtual   0.690256   2.385590   Topic3  -5.9608   0.3391\n\n[163 rows x 6 columns], token_table=      Topic      Freq            Term\nterm                                 \n434       2  0.858718  _nftcollectors\n370       1  0.993796          access\n350       3  0.614425             age\n72        2  0.455517              ai\n72        3  0.455517              ai\n...     ...       ...             ...\n17        2  0.228489            web3\n17        3  0.228489            web3\n134       1  0.969121  whaleanalytica\n163       1  0.533622           world\n163       3  0.266811           world\n\n[160 rows x 3 columns], R=30, lambda_step=0.01, plot_opts={'xlab': 'PC1', 'ylab': 'PC2'}, topic_order=[2, 3, 1])",
      "text/html": "\n<link rel=\"stylesheet\" type=\"text/css\" href=\"https://cdn.jsdelivr.net/gh/bmabey/pyLDAvis@3.3.1/pyLDAvis/js/ldavis.v1.0.0.css\">\n\n\n<div id=\"ldavis_el4112504703638487942928\"></div>\n<script type=\"text/javascript\">\n\nvar ldavis_el4112504703638487942928_data = {\"mdsDat\": {\"x\": [-0.09793579639596905, 0.06880858276285033, 0.02912721363311867], \"y\": [-0.019128824196629014, -0.06125206952397718, 0.0803808937206062], \"topics\": [1, 2, 3], \"cluster\": [1, 1, 1], \"Freq\": [53.314831513013374, 26.07231769585266, 20.612850791133965]}, \"tinfo\": {\"Term\": [\"mintable\", \"store\", \"crypto\", \"new\", \"title\", \"news\", \"btc\", \"father\", \"bitcoin\", \"https\", \"art\", \"gasless\", \"black\", \"blockchain\", \"metacity\", \"digital\", \"demo\", \"cryptocurrencies\", \"verasaw\", \"capykanna\", \"community\", \"token\", \"tour\", \"riseup\", \"thefacelessmany\", \"nft_nyc\", \"details\", \"meta\", \"age\", \"ai\", \"cryptocurrencies\", \"gold\", \"otherdeed\", \"blockhain\", \"nodejs\", \"java\", \"que\", \"otraeconomia\", \"othereconomy\", \"whaleanalytica\", \"flow\", \"opensea\", \"kucoin\", \"lo\", \"bayc\", \"ape\", \"mayc\", \"huobi\", \"projectseedtothemoon\", \"projectseedgame\", \"vsx6adttnf\", \"shill\", \"usd\", \"projectseed\", \"defi\", \"ethereum\", \"luna\", \"access\", \"tanukiverse\", \"picture\", \"nftcommunity\", \"nft\", \"nfts\", \"https\", \"bitcoin\", \"project\", \"vr\", \"btc\", \"crypto\", \"web3\", \"event\", \"mintable\", \"father\", \"gasless\", \"black\", \"blockchain\", \"digital\", \"metacity\", \"demo\", \"store\", \"metadogworld\", \"hacker\", \"tokens\", \"influencers\", \"techies\", \"ambition\", \"fur\", \"immersys\", \"web\", \"asset\", \"nftgames\", \"cybotz_nft\", \"dog\", \"gamefi\", \"_nftcollectors\", \"greyhound\", \"industry\", \"traditional\", \"swag\", \"hacktops\", \"pic\", \"nftgiveaways\", \"game\", \"music\", \"amp\", \"https\", \"crypto\", \"nft\", \"team\", \"nfts\", \"nftartist\", \"nftcollector\", \"web3\", \"vr\", \"nftcommmunity\", \"nftnyc\", \"title\", \"new\", \"news\", \"capykanna\", \"community\", \"token\", \"tour\", \"riseup\", \"thefacelessmany\", \"nft_nyc\", \"details\", \"age\", \"meta\", \"hautecouture\", \"collections\", \"techniques\", \"hand\", \"collection\", \"generative\", \"digitalfabrication\", \"fashionandtechnology\", \"bones\", \"garments\", \"pieces\", \"gzon8v1p8c\", \"previous\", \"cmaubtb6qg\", \"network\", \"graylin\", \"animation\", \"art\", \"verasaw\", \"ai\", \"crypto\", \"btc\", \"https\", \"bitcoin\", \"nftproject\", \"world\", \"nfts\", \"nftnyc\", \"nft\", \"project\", \"list\", \"nftcommunity\", \"nftgaming\", \"virtual\"], \"Freq\": [4.0, 4.0, 10.0, 2.0, 2.0, 2.0, 5.0, 2.0, 7.0, 62.0, 2.0, 2.0, 2.0, 2.0, 2.0, 2.0, 2.0, 6.0, 2.0, 1.0, 1.0, 1.0, 1.0, 1.0, 1.0, 1.0, 1.0, 1.0, 1.0, 2.0, 5.883894960417037, 5.17102940580096, 4.481975185068114, 4.480423323613417, 4.480149200122874, 4.479748657328457, 4.476549474944709, 4.465071763146564, 4.461156957203387, 3.742755398071238, 3.066688180825645, 3.064193012065256, 3.0622867250621977, 3.0563282478724667, 2.3586405884295276, 2.3586141435751458, 2.3584469282459146, 2.354378129400697, 2.354043214994898, 2.3535802687941048, 2.353557210171077, 2.3525758480749333, 2.3522333549608665, 2.3522090063449417, 5.203942929563114, 4.478994011483904, 1.6513911791382265, 1.6513089420910636, 1.651306039607046, 1.6512921721834068, 8.029440815999646, 19.327470793560092, 12.285019022719466, 37.562173124434004, 5.1562996219103026, 3.714654515308345, 3.0572792951355385, 3.0484054339993274, 3.738848977081889, 2.3680983326005953, 2.3585464189480705, 4.154765458999614, 2.4518877287256804, 1.8891498263622644, 1.8887255867610113, 1.8884273573610226, 1.8869729567652027, 1.8867318183450108, 1.884316806815647, 3.620379694210796, 1.324317221253925, 1.3241789096813232, 1.3238297399872063, 1.3216329200891934, 1.321568180179783, 1.3213909931195569, 1.32042714913329, 1.3203425377778728, 1.3196386785435261, 1.3193923356969992, 0.7566795880608692, 0.7566770647026461, 0.7566726488257557, 0.7566658673005312, 0.7566665769950315, 0.7566594800500291, 0.7566477306633029, 0.7566346407425208, 0.7566313288348531, 0.7566210776920718, 0.7566134287624582, 1.325565968154565, 1.3224575062435249, 1.3355198277951181, 1.3292153749846751, 14.383795421259373, 3.0243965472584775, 5.297211478616125, 1.3299009398719046, 3.584730004655089, 1.3261512295524276, 1.3239636356829179, 1.3624826989580294, 1.330010548244719, 1.3258753949566686, 1.325761055287186, 2.22735002385364, 2.227359250610274, 2.2267447984927973, 1.2010956632600962, 1.20018458338542, 1.2001162555119667, 1.1993742497183169, 1.1987387256836617, 1.1987004471122198, 1.1983866127007567, 1.1982088106066977, 1.1979022079774615, 1.198000834524727, 0.6863284269715965, 0.6863269307407909, 0.6863246240516323, 0.6863238759362296, 0.6863236265644287, 0.6863198859874148, 0.6863198859874148, 0.6863192625579125, 0.6863189508431613, 0.6863186391284102, 0.6863166441540027, 0.6863127788910884, 0.6863115320320838, 0.6863094747147263, 0.6863039261921556, 0.6862999362433408, 0.6862973801823814, 1.7212459639292454, 1.3652437784171205, 1.2008819516267042, 3.8055323830798997, 2.2422849010109878, 10.093599946360742, 2.250324149129181, 1.2027897705896746, 1.2053438365747398, 2.230342236092929, 1.203002235364062, 2.2485770502919062, 1.2495593271671, 0.7861153012268013, 1.2004289677503255, 0.738741641461637, 0.6902557211214008], \"Total\": [4.0, 4.0, 10.0, 2.0, 2.0, 2.0, 5.0, 2.0, 7.0, 62.0, 2.0, 2.0, 2.0, 2.0, 2.0, 2.0, 2.0, 6.0, 2.0, 1.0, 1.0, 1.0, 1.0, 1.0, 1.0, 1.0, 1.0, 1.0, 1.0, 2.0, 6.256326855246163, 5.547434568127784, 4.843907051326803, 4.843615959967686, 4.843561201889626, 4.843473888158529, 4.842404211995969, 4.839754580060955, 4.8388716170540285, 4.127450072430773, 3.4282056755416717, 3.4275871632336705, 3.427346415735635, 3.4255413545331215, 2.7202620101556203, 2.720253158664859, 2.720213941379534, 2.719433023591525, 2.71936703948178, 2.7192727608559153, 2.7192668496014094, 2.7190743624515417, 2.7190091012259794, 2.7190004810392687, 6.122269721612671, 5.41033902903343, 2.012505847777465, 2.0124852667516637, 2.0124851500241703, 2.012481079727691, 10.550341643636775, 26.873259322468122, 18.100091263467483, 62.039568492054116, 7.6027734937508, 6.284483597139571, 4.561513826153622, 5.482991857576511, 10.568777907420266, 4.3765718864710825, 3.287881975728327, 4.572864673998285, 2.869668198286192, 2.300673262666388, 2.3008298531846774, 2.3007399691159756, 2.299965659749752, 2.301316009408623, 2.3019012001793357, 4.704670091140007, 1.7322553980777189, 1.7322483356946716, 1.732202143331051, 1.7329447224070176, 1.7329673383943969, 1.7330083386780888, 1.7322802660920802, 1.7326916449484928, 1.7334304501521132, 1.7335019900959514, 1.164526848306543, 1.164526919340907, 1.1645271372499642, 1.1645252308617438, 1.1645270601984827, 1.164524236382554, 1.1645262440146145, 1.1645288219648955, 1.1645260335746022, 1.1645244991780255, 1.164525901871752, 2.2484221056268208, 2.248369669106052, 2.4369890719077527, 2.438596204856419, 62.039568492054116, 10.568777907420266, 26.873259322468122, 2.953978306779026, 18.100091263467483, 3.147461573881393, 3.1480332587677844, 4.3765718864710825, 4.561513826153622, 3.855444598687074, 4.176832738080543, 2.6575383656868024, 2.6576563160877087, 2.6577390011629642, 1.6266426879754228, 1.626829108143728, 1.6269501887038342, 1.626799086720251, 1.627291277460372, 1.6272799821670496, 1.627425137233821, 1.6276740602064284, 1.6275372208057572, 1.6278059301896963, 1.1117240831520687, 1.1117242944954562, 1.111725610743264, 1.111725876876461, 1.1117259584085395, 1.1117266090746332, 1.111727050049668, 1.1117262532853964, 1.1117265451220009, 1.1117268079544085, 1.1117269865517998, 1.1117297549577991, 1.1117286301348934, 1.1117293452686525, 1.1117311796978122, 1.1117318109208951, 1.111731634966786, 2.8460866401958036, 2.272734015936112, 2.1953092009371606, 10.568777907420266, 5.482991857576511, 62.039568492054116, 7.6027734937508, 2.8995573423981407, 3.7479715219490055, 18.100091263467483, 4.176832738080543, 26.873259322468122, 6.284483597139571, 1.7819820363715035, 10.550341643636775, 2.5076430213579926, 2.3855898105370463], \"Category\": [\"Default\", \"Default\", \"Default\", \"Default\", \"Default\", \"Default\", \"Default\", \"Default\", \"Default\", \"Default\", \"Default\", \"Default\", \"Default\", \"Default\", \"Default\", \"Default\", \"Default\", \"Default\", \"Default\", \"Default\", \"Default\", \"Default\", \"Default\", \"Default\", \"Default\", \"Default\", \"Default\", \"Default\", \"Default\", \"Default\", \"Topic1\", \"Topic1\", \"Topic1\", \"Topic1\", \"Topic1\", \"Topic1\", \"Topic1\", \"Topic1\", \"Topic1\", \"Topic1\", \"Topic1\", \"Topic1\", \"Topic1\", \"Topic1\", \"Topic1\", \"Topic1\", \"Topic1\", \"Topic1\", \"Topic1\", \"Topic1\", \"Topic1\", \"Topic1\", \"Topic1\", \"Topic1\", \"Topic1\", \"Topic1\", \"Topic1\", \"Topic1\", \"Topic1\", \"Topic1\", \"Topic1\", \"Topic1\", \"Topic1\", \"Topic1\", \"Topic1\", \"Topic1\", \"Topic1\", \"Topic1\", \"Topic1\", \"Topic1\", \"Topic1\", \"Topic2\", \"Topic2\", \"Topic2\", \"Topic2\", \"Topic2\", \"Topic2\", \"Topic2\", \"Topic2\", \"Topic2\", \"Topic2\", \"Topic2\", \"Topic2\", \"Topic2\", \"Topic2\", \"Topic2\", \"Topic2\", \"Topic2\", \"Topic2\", \"Topic2\", \"Topic2\", \"Topic2\", \"Topic2\", \"Topic2\", \"Topic2\", \"Topic2\", \"Topic2\", \"Topic2\", \"Topic2\", \"Topic2\", \"Topic2\", \"Topic2\", \"Topic2\", \"Topic2\", \"Topic2\", \"Topic2\", \"Topic2\", \"Topic2\", \"Topic2\", \"Topic2\", \"Topic2\", \"Topic2\", \"Topic2\", \"Topic2\", \"Topic2\", \"Topic2\", \"Topic3\", \"Topic3\", \"Topic3\", \"Topic3\", \"Topic3\", \"Topic3\", \"Topic3\", \"Topic3\", \"Topic3\", \"Topic3\", \"Topic3\", \"Topic3\", \"Topic3\", \"Topic3\", \"Topic3\", \"Topic3\", \"Topic3\", \"Topic3\", \"Topic3\", \"Topic3\", \"Topic3\", \"Topic3\", \"Topic3\", \"Topic3\", \"Topic3\", \"Topic3\", \"Topic3\", \"Topic3\", \"Topic3\", \"Topic3\", \"Topic3\", \"Topic3\", \"Topic3\", \"Topic3\", \"Topic3\", \"Topic3\", \"Topic3\", \"Topic3\", \"Topic3\", \"Topic3\", \"Topic3\", \"Topic3\", \"Topic3\", \"Topic3\", \"Topic3\", \"Topic3\", \"Topic3\"], \"logprob\": [30.0, 29.0, 28.0, 27.0, 26.0, 25.0, 24.0, 23.0, 22.0, 21.0, 20.0, 19.0, 18.0, 17.0, 16.0, 15.0, 14.0, 13.0, 12.0, 11.0, 10.0, 9.0, 8.0, 7.0, 6.0, 5.0, 4.0, 3.0, 2.0, 1.0, -4.7682, -4.8973, -5.0403, -5.0407, -5.0407, -5.0408, -5.0415, -5.0441, -5.045, -5.2206, -5.4198, -5.4206, -5.4212, -5.4232, -5.6823, -5.6823, -5.6824, -5.6841, -5.6843, -5.6845, -5.6845, -5.6849, -5.685, -5.685, -4.891, -5.041, -6.0388, -6.0388, -6.0388, -6.0388, -4.4573, -3.5789, -4.032, -2.9144, -4.9002, -5.2281, -5.4229, -5.4258, -5.2216, -5.6783, -5.6823, -4.4008, -4.9282, -5.1889, -5.1892, -5.1893, -5.1901, -5.1902, -5.1915, -4.5385, -5.5442, -5.5443, -5.5445, -5.5462, -5.5462, -5.5464, -5.5471, -5.5472, -5.5477, -5.5479, -6.1039, -6.1039, -6.1039, -6.1039, -6.1039, -6.1039, -6.1039, -6.1039, -6.1039, -6.1039, -6.104, -5.5432, -5.5456, -5.5357, -5.5405, -3.159, -4.7183, -4.1579, -5.5399, -4.5484, -5.5428, -5.5444, -5.5157, -5.5399, -5.543, -5.5431, -4.7893, -4.7893, -4.7896, -5.4069, -5.4076, -5.4077, -5.4083, -5.4088, -5.4089, -5.4091, -5.4093, -5.4095, -5.4094, -5.9665, -5.9665, -5.9665, -5.9665, -5.9665, -5.9665, -5.9665, -5.9665, -5.9665, -5.9665, -5.9665, -5.9665, -5.9665, -5.9665, -5.9665, -5.9665, -5.9665, -5.047, -5.2788, -5.407, -4.2536, -4.7826, -3.2782, -4.779, -5.4055, -5.4033, -4.7879, -5.4053, -4.7798, -5.3673, -5.8307, -5.4074, -5.8929, -5.9608], \"loglift\": [30.0, 29.0, 28.0, 27.0, 26.0, 25.0, 24.0, 23.0, 22.0, 21.0, 20.0, 19.0, 18.0, 17.0, 16.0, 15.0, 14.0, 13.0, 12.0, 11.0, 10.0, 9.0, 8.0, 7.0, 6.0, 5.0, 4.0, 3.0, 2.0, 1.0, 0.5676, 0.5587, 0.5513, 0.551, 0.551, 0.5509, 0.5504, 0.5484, 0.5477, 0.5311, 0.5175, 0.5169, 0.5163, 0.5149, 0.4863, 0.4863, 0.4862, 0.4848, 0.4847, 0.4845, 0.4845, 0.4842, 0.4841, 0.484, 0.4664, 0.44, 0.4312, 0.4312, 0.4312, 0.4311, 0.3559, 0.2994, 0.2414, 0.1272, 0.2407, 0.1032, 0.2288, 0.0419, -0.4102, 0.0148, 0.2968, 1.2484, 1.187, 1.1472, 1.1469, 1.1468, 1.1464, 1.1457, 1.1441, 1.0823, 1.0758, 1.0757, 1.0754, 1.0733, 1.0733, 1.0731, 1.0728, 1.0725, 1.0716, 1.0713, 0.9132, 0.9132, 0.9132, 0.9131, 0.9131, 0.9131, 0.9131, 0.9131, 0.9131, 0.9131, 0.9131, 0.8159, 0.8136, 0.7429, 0.7375, -0.1174, 0.0931, -0.2797, 0.5462, -0.2749, 0.48, 0.4781, 0.1773, 0.1118, 0.2769, 0.1967, 1.4027, 1.4026, 1.4023, 1.276, 1.2751, 1.275, 1.2744, 1.2736, 1.2736, 1.2732, 1.2729, 1.2728, 1.2727, 1.0969, 1.0969, 1.0969, 1.0969, 1.0969, 1.0969, 1.0969, 1.0969, 1.0969, 1.0969, 1.0969, 1.0969, 1.0969, 1.0969, 1.0969, 1.0969, 1.0969, 1.0764, 1.0696, 0.976, 0.5578, 0.6851, -0.2366, 0.3618, 0.6993, 0.4448, -0.5145, 0.3345, -0.9016, -0.036, 0.7609, -0.5942, 0.3571, 0.3391]}, \"token.table\": {\"Topic\": [2, 1, 3, 2, 3, 2, 1, 2, 3, 1, 1, 3, 2, 1, 1, 3, 2, 2, 1, 3, 1, 3, 3, 3, 3, 3, 3, 1, 2, 3, 1, 2, 1, 2, 2, 3, 2, 3, 2, 1, 2, 1, 2, 3, 2, 1, 2, 2, 3, 2, 3, 2, 3, 1, 3, 2, 3, 2, 2, 3, 3, 1, 2, 3, 1, 2, 2, 2, 1, 1, 1, 3, 1, 1, 1, 3, 2, 2, 2, 1, 2, 3, 3, 3, 1, 2, 3, 3, 1, 2, 1, 2, 1, 2, 1, 2, 3, 2, 1, 3, 2, 3, 1, 2, 3, 1, 2, 3, 1, 2, 3, 1, 1, 1, 1, 1, 2, 1, 3, 3, 1, 2, 3, 1, 1, 1, 1, 3, 1, 1, 2, 2, 1, 1, 2, 3, 2, 3, 3, 3, 3, 2, 3, 2, 1, 1, 3, 1, 2, 3, 1, 2, 1, 2, 1, 2, 3, 1, 1, 3], \"Freq\": [0.8587177010979542, 0.9937960953265431, 0.6144252722557844, 0.4555166987744176, 0.4555166987744176, 0.5770312685066387, 0.41007199060201877, 0.41007199060201877, 0.8994976562215717, 0.7352256879582597, 0.35135964797305064, 0.7027192959461013, 0.5768669466278772, 0.7352232955992295, 0.6576547366707447, 0.2630618946682979, 0.869251586435961, 0.8692855458882951, 0.8258293046062815, 0.8995017744136531, 0.547146535673683, 0.36476435711578864, 0.6147631605836162, 0.8994995088110651, 0.8995022491257848, 0.899503595407024, 0.6146927141849808, 0.3784732761951245, 0.28385495714634335, 0.3784732761951245, 0.9590291777944396, 0.8587178049657924, 0.8166905783894387, 0.16333811567788772, 0.8688470208209564, 0.6143736172051398, 0.8695782006665309, 0.8995013658751251, 0.8587176442804968, 0.7393252028264501, 0.18483130070661252, 0.6082943410877645, 0.30414717054388224, 0.8995020105397163, 0.6969446855195418, 0.8750933531798634, 0.5772737931466134, 0.4447667186319936, 0.4447667186319936, 0.8587190500458322, 0.8995015617550977, 0.8693107502288614, 0.8995017226693612, 0.9013175258933178, 0.8994975138578225, 0.8587197833738286, 0.8994991773319584, 0.5772844339890659, 0.8587195895885794, 0.8995023150937446, 0.8995037664064112, 0.6125123195347006, 0.22566243351278448, 0.16118745250913177, 0.7354474196090411, 0.5771367357344916, 0.8587183029491693, 0.5770524512813222, 0.825853528348593, 0.875312745226569, 0.5611728847930554, 0.5611728847930554, 0.8757739841704174, 0.9937859322042338, 0.7352362876964437, 0.614323846260632, 0.869067955823219, 0.5772820804078305, 0.8747252073179326, 0.4103424227574267, 0.4103424227574267, 0.8994980245780435, 0.7525427527605099, 0.75251934035842, 0.7070225376091441, 0.18605856252872213, 0.07442342501148885, 0.6144675887824415, 0.6354326980817231, 0.31771634904086155, 0.6353173030906439, 0.31765865154532197, 0.5187469171988819, 0.25937345859944094, 0.7582692836136768, 0.0947836604517096, 0.0947836604517096, 0.8587178573462706, 0.797561687594958, 0.398780843797479, 0.44475634601591746, 0.44475634601591746, 0.47883171901183125, 0.23941585950591562, 0.23941585950591562, 0.3448802289155381, 0.3448802289155381, 0.3448802289155381, 0.6629800825491047, 0.22099336084970156, 0.11049668042485078, 0.8258386408825543, 0.8752512648488641, 0.8257796769457731, 0.8266390011056451, 0.8264881893969139, 0.8587185552444062, 0.9937981629475097, 0.8995014172514252, 0.8995000874257086, 0.6364882552674064, 0.1591220638168516, 0.1591220638168516, 0.7355644156545169, 0.7354907638505827, 0.7354652648805852, 0.8260359575292988, 0.6145181344305166, 0.7355444292434805, 0.21255475530223333, 0.8502190212089333, 0.8587184581270572, 0.9937961529683733, 0.33852652123582627, 0.33852652123582627, 0.33852652123582627, 0.5770449204925611, 0.8995025304233408, 0.6145223999304038, 0.752576153113458, 0.6146469676472912, 0.5772998283427735, 0.6147040579031028, 0.858716401980255, 0.7355620836643084, 0.43999869451864215, 0.43999869451864215, 0.41918354764219884, 0.41918354764219884, 0.41918354764219884, 0.6576764018119117, 0.21922546727063724, 0.7354923626907599, 0.5768907543491274, 0.45697867003679904, 0.22848933501839952, 0.22848933501839952, 0.9691213533309407, 0.5336219841286222, 0.2668109920643111], \"Term\": [\"_nftcollectors\", \"access\", \"age\", \"ai\", \"ai\", \"ambition\", \"amp\", \"amp\", \"animation\", \"ape\", \"art\", \"art\", \"asset\", \"bayc\", \"bitcoin\", \"bitcoin\", \"black\", \"blockchain\", \"blockhain\", \"bones\", \"btc\", \"btc\", \"capykanna\", \"cmaubtb6qg\", \"collection\", \"collections\", \"community\", \"crypto\", \"crypto\", \"crypto\", \"cryptocurrencies\", \"cybotz_nft\", \"defi\", \"defi\", \"demo\", \"details\", \"digital\", \"digitalfabrication\", \"dog\", \"ethereum\", \"ethereum\", \"event\", \"event\", \"fashionandtechnology\", \"father\", \"flow\", \"fur\", \"game\", \"game\", \"gamefi\", \"garments\", \"gasless\", \"generative\", \"gold\", \"graylin\", \"greyhound\", \"gzon8v1p8c\", \"hacker\", \"hacktops\", \"hand\", \"hautecouture\", \"https\", \"https\", \"https\", \"huobi\", \"immersys\", \"industry\", \"influencers\", \"java\", \"kucoin\", \"list\", \"list\", \"lo\", \"luna\", \"mayc\", \"meta\", \"metacity\", \"metadogworld\", \"mintable\", \"music\", \"music\", \"network\", \"new\", \"news\", \"nft\", \"nft\", \"nft\", \"nft_nyc\", \"nftartist\", \"nftartist\", \"nftcollector\", \"nftcollector\", \"nftcommmunity\", \"nftcommmunity\", \"nftcommunity\", \"nftcommunity\", \"nftcommunity\", \"nftgames\", \"nftgaming\", \"nftgaming\", \"nftgiveaways\", \"nftgiveaways\", \"nftnyc\", \"nftnyc\", \"nftnyc\", \"nftproject\", \"nftproject\", \"nftproject\", \"nfts\", \"nfts\", \"nfts\", \"nodejs\", \"opensea\", \"otherdeed\", \"othereconomy\", \"otraeconomia\", \"pic\", \"picture\", \"pieces\", \"previous\", \"project\", \"project\", \"project\", \"projectseed\", \"projectseedgame\", \"projectseedtothemoon\", \"que\", \"riseup\", \"shill\", \"store\", \"store\", \"swag\", \"tanukiverse\", \"team\", \"team\", \"team\", \"techies\", \"techniques\", \"thefacelessmany\", \"title\", \"token\", \"tokens\", \"tour\", \"traditional\", \"usd\", \"verasaw\", \"verasaw\", \"virtual\", \"virtual\", \"virtual\", \"vr\", \"vr\", \"vsx6adttnf\", \"web\", \"web3\", \"web3\", \"web3\", \"whaleanalytica\", \"world\", \"world\"]}, \"R\": 30, \"lambda.step\": 0.01, \"plot.opts\": {\"xlab\": \"PC1\", \"ylab\": \"PC2\"}, \"topic.order\": [2, 3, 1]};\n\nfunction LDAvis_load_lib(url, callback){\n  var s = document.createElement('script');\n  s.src = url;\n  s.async = true;\n  s.onreadystatechange = s.onload = callback;\n  s.onerror = function(){console.warn(\"failed to load library \" + url);};\n  document.getElementsByTagName(\"head\")[0].appendChild(s);\n}\n\nif(typeof(LDAvis) !== \"undefined\"){\n   // already loaded: just create the visualization\n   !function(LDAvis){\n       new LDAvis(\"#\" + \"ldavis_el4112504703638487942928\", ldavis_el4112504703638487942928_data);\n   }(LDAvis);\n}else if(typeof define === \"function\" && define.amd){\n   // require.js is available: use it to load d3/LDAvis\n   require.config({paths: {d3: \"https://d3js.org/d3.v5\"}});\n   require([\"d3\"], function(d3){\n      window.d3 = d3;\n      LDAvis_load_lib(\"https://cdn.jsdelivr.net/gh/bmabey/pyLDAvis@3.3.1/pyLDAvis/js/ldavis.v3.0.0.js\", function(){\n        new LDAvis(\"#\" + \"ldavis_el4112504703638487942928\", ldavis_el4112504703638487942928_data);\n      });\n    });\n}else{\n    // require.js not available: dynamically load d3 & LDAvis\n    LDAvis_load_lib(\"https://d3js.org/d3.v5.js\", function(){\n         LDAvis_load_lib(\"https://cdn.jsdelivr.net/gh/bmabey/pyLDAvis@3.3.1/pyLDAvis/js/ldavis.v3.0.0.js\", function(){\n                 new LDAvis(\"#\" + \"ldavis_el4112504703638487942928\", ldavis_el4112504703638487942928_data);\n            })\n         });\n}\n</script>"
     },
     "execution_count": 110,
     "metadata": {},
     "output_type": "execute_result"
    }
   ],
   "source": [
    "import pyLDAvis\n",
    "# Visualize the topics\n",
    "pyLDAvis.enable_notebook()\n",
    "LDAvis_prepared = pyLDAvis.gensim_models.prepare(ldana, corpusna, d)\n",
    "LDAvis_prepared"
   ],
   "metadata": {
    "collapsed": false,
    "pycharm": {
     "name": "#%%\n"
    }
   }
  },
  {
   "cell_type": "code",
   "execution_count": 133,
   "outputs": [],
   "source": [
    "# supporting function\n",
    "def compute_coherence_values(corpus, dictionary, k, a, b):\n",
    "    lda_model = models.LdaMulticore(corpus=corpus, num_topics=k, id2word=dictionary, passes=10,alpha=a,\n",
    "                                           eta=b)\n",
    "    coherence_model_lda = CoherenceModel(model=lda_model, corpus=corpus,dictionary=dictionary, coherence='u_mass')\n",
    "    return coherence_model_lda.get_coherence()"
   ],
   "metadata": {
    "collapsed": false,
    "pycharm": {
     "name": "#%%\n"
    }
   }
  },
  {
   "cell_type": "code",
   "execution_count": 134,
   "outputs": [
    {
     "data": {
      "text/plain": "-12.75998542540841"
     },
     "execution_count": 134,
     "metadata": {},
     "output_type": "execute_result"
    }
   ],
   "source": [
    "compute_coherence_values(corpusna,d,2,0.1,0.4)"
   ],
   "metadata": {
    "collapsed": false,
    "pycharm": {
     "name": "#%%\n"
    }
   }
  },
  {
   "cell_type": "code",
   "execution_count": 135,
   "outputs": [
    {
     "name": "stderr",
     "output_type": "stream",
     "text": [
      "Traceback (most recent call last):\n",
      "  File \"<string>\", line 1, in <module>\n",
      "Traceback (most recent call last):\n",
      "  File \"<string>\", line 1, in <module>\n",
      "  File \"/usr/local/Cellar/python@3.9/3.9.7_1/Frameworks/Python.framework/Versions/3.9/lib/python3.9/multiprocessing/spawn.py\", line 116, in spawn_main\n",
      "Traceback (most recent call last):\n",
      "  File \"<string>\", line 1, in <module>\n",
      "  File \"/usr/local/Cellar/python@3.9/3.9.7_1/Frameworks/Python.framework/Versions/3.9/lib/python3.9/multiprocessing/spawn.py\", line 116, in spawn_main\n",
      "  File \"/usr/local/Cellar/python@3.9/3.9.7_1/Frameworks/Python.framework/Versions/3.9/lib/python3.9/multiprocessing/spawn.py\", line 116, in spawn_main\n",
      "    exitcode = _main(fd, parent_sentinel)\n",
      "    exitcode = _main(fd, parent_sentinel)\n",
      "  File \"/usr/local/Cellar/python@3.9/3.9.7_1/Frameworks/Python.framework/Versions/3.9/lib/python3.9/multiprocessing/spawn.py\", line 126, in _main\n",
      "    exitcode = _main(fd, parent_sentinel)\n",
      "  File \"/usr/local/Cellar/python@3.9/3.9.7_1/Frameworks/Python.framework/Versions/3.9/lib/python3.9/multiprocessing/spawn.py\", line 126, in _main\n",
      "    self = reduction.pickle.load(from_parent)\n",
      "  File \"/usr/local/lib/python3.9/site-packages/gensim/__init__.py\", line 11, in <module>\n",
      "    self = reduction.pickle.load(from_parent)\n",
      "  File \"/usr/local/lib/python3.9/site-packages/gensim/__init__.py\", line 11, in <module>\n",
      "    from gensim import parsing, corpora, matutils, interfaces, models, similarities, utils  # noqa:F401\n",
      "  File \"/usr/local/lib/python3.9/site-packages/gensim/parsing/__init__.py\", line 4, in <module>\n",
      "    from gensim import parsing, corpora, matutils, interfaces, models, similarities, utils  # noqa:F401\n",
      "  File \"/usr/local/lib/python3.9/site-packages/gensim/parsing/__init__.py\", line 4, in <module>\n",
      "    from .preprocessing import (  # noqa:F401\n",
      "    from .preprocessing import (  # noqa:F401\n",
      "  File \"/usr/local/lib/python3.9/site-packages/gensim/parsing/preprocessing.py\", line 26, in <module>\n",
      "  File \"/usr/local/lib/python3.9/site-packages/gensim/parsing/preprocessing.py\", line 26, in <module>\n",
      "    from gensim import utils\n",
      "    from gensim import utils\n",
      "  File \"/usr/local/lib/python3.9/site-packages/gensim/utils.py\", line 37, in <module>\n",
      "  File \"/usr/local/lib/python3.9/site-packages/gensim/utils.py\", line 37, in <module>\n",
      "    from smart_open import open\n",
      "  File \"/usr/local/Cellar/python@3.9/3.9.7_1/Frameworks/Python.framework/Versions/3.9/lib/python3.9/multiprocessing/spawn.py\", line 126, in _main\n",
      "  File \"/usr/local/lib/python3.9/site-packages/smart_open/__init__.py\", line 34, in <module>\n",
      "    from smart_open import open\n",
      "  File \"/usr/local/lib/python3.9/site-packages/smart_open/__init__.py\", line 34, in <module>\n",
      "    self = reduction.pickle.load(from_parent)\n",
      "  File \"/usr/local/lib/python3.9/site-packages/gensim/__init__.py\", line 11, in <module>\n",
      "    from gensim import parsing, corpora, matutils, interfaces, models, similarities, utils  # noqa:F401\n",
      "  File \"/usr/local/lib/python3.9/site-packages/gensim/parsing/__init__.py\", line 4, in <module>\n",
      "    from .preprocessing import (  # noqa:F401\n",
      "  File \"/usr/local/lib/python3.9/site-packages/gensim/parsing/preprocessing.py\", line 26, in <module>\n",
      "    from gensim import utils\n",
      "  File \"/usr/local/lib/python3.9/site-packages/gensim/utils.py\", line 37, in <module>\n",
      "    from .smart_open_lib import open, parse_uri, smart_open, register_compressor  # noqa: E402\n",
      "  File \"/usr/local/lib/python3.9/site-packages/smart_open/smart_open_lib.py\", line 35, in <module>\n",
      "    from smart_open import open\n",
      "  File \"/usr/local/lib/python3.9/site-packages/smart_open/__init__.py\", line 34, in <module>\n",
      "    from .smart_open_lib import open, parse_uri, smart_open, register_compressor  # noqa: E402\n",
      "  File \"/usr/local/lib/python3.9/site-packages/smart_open/smart_open_lib.py\", line 35, in <module>\n",
      "    from .smart_open_lib import open, parse_uri, smart_open, register_compressor  # noqa: E402\n",
      "  File \"/usr/local/lib/python3.9/site-packages/smart_open/smart_open_lib.py\", line 35, in <module>\n",
      "    from smart_open import doctools\n",
      "    from smart_open import doctools\n",
      "  File \"/usr/local/lib/python3.9/site-packages/smart_open/doctools.py\", line 21, in <module>\n",
      "  File \"/usr/local/lib/python3.9/site-packages/smart_open/doctools.py\", line 21, in <module>\n",
      "    from . import transport\n",
      "    from . import transport\n",
      "  File \"/usr/local/lib/python3.9/site-packages/smart_open/transport.py\", line 100, in <module>\n",
      "    from smart_open import doctools\n",
      "  File \"/usr/local/lib/python3.9/site-packages/smart_open/transport.py\", line 100, in <module>\n",
      "  File \"/usr/local/lib/python3.9/site-packages/smart_open/doctools.py\", line 21, in <module>\n",
      "    from . import transport\n",
      "  File \"/usr/local/lib/python3.9/site-packages/smart_open/transport.py\", line 100, in <module>\n",
      "    register_transport('smart_open.http')\n",
      "  File \"/usr/local/lib/python3.9/site-packages/smart_open/transport.py\", line 49, in register_transport\n",
      "    register_transport('smart_open.http')\n",
      "  File \"/usr/local/lib/python3.9/site-packages/smart_open/transport.py\", line 49, in register_transport\n",
      "    register_transport('smart_open.http')\n",
      "  File \"/usr/local/lib/python3.9/site-packages/smart_open/transport.py\", line 49, in register_transport\n",
      "    submodule = importlib.import_module(submodule)\n",
      "  File \"/usr/local/Cellar/python@3.9/3.9.7_1/Frameworks/Python.framework/Versions/3.9/lib/python3.9/importlib/__init__.py\", line 127, in import_module\n",
      "    submodule = importlib.import_module(submodule)\n",
      "  File \"/usr/local/Cellar/python@3.9/3.9.7_1/Frameworks/Python.framework/Versions/3.9/lib/python3.9/importlib/__init__.py\", line 127, in import_module\n",
      "    submodule = importlib.import_module(submodule)\n",
      "  File \"/usr/local/Cellar/python@3.9/3.9.7_1/Frameworks/Python.framework/Versions/3.9/lib/python3.9/importlib/__init__.py\", line 127, in import_module\n",
      "    return _bootstrap._gcd_import(name[level:], package, level)\n",
      "  File \"/usr/local/lib/python3.9/site-packages/smart_open/http.py\", line 16, in <module>\n",
      "    return _bootstrap._gcd_import(name[level:], package, level)\n",
      "    return _bootstrap._gcd_import(name[level:], package, level)\n",
      "  File \"/usr/local/lib/python3.9/site-packages/smart_open/http.py\", line 16, in <module>\n",
      "  File \"/usr/local/lib/python3.9/site-packages/smart_open/http.py\", line 16, in <module>\n",
      "    import requests\n",
      "  File \"/usr/local/lib/python3.9/site-packages/requests/__init__.py\", line 43, in <module>\n",
      "    import requests\n",
      "  File \"/usr/local/lib/python3.9/site-packages/requests/__init__.py\", line 43, in <module>\n",
      "    import requests\n",
      "  File \"/usr/local/lib/python3.9/site-packages/requests/__init__.py\", line 43, in <module>\n",
      "    import urllib3\n",
      "    import urllib3\n",
      "  File \"/usr/local/lib/python3.9/site-packages/urllib3/__init__.py\", line 11, in <module>\n",
      "  File \"/usr/local/lib/python3.9/site-packages/urllib3/__init__.py\", line 11, in <module>\n",
      "    import urllib3\n",
      "  File \"/usr/local/lib/python3.9/site-packages/urllib3/__init__.py\", line 11, in <module>\n",
      "    from . import exceptions\n",
      "  File \"/usr/local/lib/python3.9/site-packages/urllib3/exceptions.py\", line 3, in <module>\n",
      "    from . import exceptions\n",
      "    from . import exceptions\n",
      "  File \"/usr/local/lib/python3.9/site-packages/urllib3/exceptions.py\", line 3, in <module>\n",
      "  File \"<frozen importlib._bootstrap>\", line 1007, in _find_and_load\n",
      "  File \"<frozen importlib._bootstrap>\", line 982, in _find_and_load_unlocked\n",
      "  File \"<frozen importlib._bootstrap>\", line 925, in _find_spec\n",
      "  File \"<frozen importlib._bootstrap_external>\", line 1414, in find_spec\n",
      "  File \"<frozen importlib._bootstrap_external>\", line 1386, in _get_spec\n",
      "  File \"<frozen importlib._bootstrap_external>\", line 1517, in find_spec\n",
      "  File \"<frozen importlib._bootstrap_external>\", line 1560, in _fill_cache\n",
      "KeyboardInterrupt\n",
      "    from .packages.six.moves.http_client import IncompleteRead as httplib_IncompleteRead\n",
      "  File \"/usr/local/lib/python3.9/site-packages/urllib3/packages/__init__.py\", line 3, in <module>\n",
      "    from .packages.six.moves.http_client import IncompleteRead as httplib_IncompleteRead\n",
      "  File \"/usr/local/lib/python3.9/site-packages/urllib3/packages/__init__.py\", line 3, in <module>\n",
      "    from . import ssl_match_hostname\n",
      "  File \"/usr/local/lib/python3.9/site-packages/urllib3/packages/ssl_match_hostname/__init__.py\", line 11, in <module>\n",
      "    from . import ssl_match_hostname\n",
      "  File \"<frozen importlib._bootstrap>\", line 1007, in _find_and_load\n",
      "  File \"<frozen importlib._bootstrap>\", line 986, in _find_and_load_unlocked\n",
      "  File \"<frozen importlib._bootstrap>\", line 680, in _load_unlocked\n",
      "  File \"<frozen importlib._bootstrap_external>\", line 846, in exec_module\n",
      "  File \"<frozen importlib._bootstrap_external>\", line 978, in get_code\n",
      "  File \"<frozen importlib._bootstrap_external>\", line 649, in _compile_bytecode\n",
      "  File \"<frozen importlib._bootstrap>\", line 233, in _verbose_message\n",
      "KeyboardInterrupt\n",
      "    from ssl import CertificateError, match_hostname\n",
      "  File \"<frozen importlib._bootstrap>\", line 1007, in _find_and_load\n",
      "  File \"<frozen importlib._bootstrap>\", line 982, in _find_and_load_unlocked\n",
      "  File \"<frozen importlib._bootstrap>\", line 925, in _find_spec\n",
      "  File \"<frozen importlib._bootstrap_external>\", line 1414, in find_spec\n",
      "  File \"<frozen importlib._bootstrap_external>\", line 1386, in _get_spec\n",
      "  File \"<frozen importlib._bootstrap_external>\", line 1513, in find_spec\n",
      "KeyboardInterrupt\n"
     ]
    },
    {
     "ename": "KeyboardInterrupt",
     "evalue": "",
     "output_type": "error",
     "traceback": [
      "\u001B[0;31m---------------------------------------------------------------------------\u001B[0m",
      "\u001B[0;31mKeyboardInterrupt\u001B[0m                         Traceback (most recent call last)",
      "\u001B[0;32m/var/folders/mz/c9vb3s9n2hn8zbzc6grlnzwc0000gn/T/ipykernel_4112/2735897034.py\u001B[0m in \u001B[0;36m<module>\u001B[0;34m\u001B[0m\n\u001B[1;32m     34\u001B[0m             \u001B[0;32mfor\u001B[0m \u001B[0mb\u001B[0m \u001B[0;32min\u001B[0m \u001B[0mbeta\u001B[0m\u001B[0;34m:\u001B[0m\u001B[0;34m\u001B[0m\u001B[0;34m\u001B[0m\u001B[0m\n\u001B[1;32m     35\u001B[0m                     \u001B[0;31m# get the coherence score for the given parameters\u001B[0m\u001B[0;34m\u001B[0m\u001B[0;34m\u001B[0m\u001B[0m\n\u001B[0;32m---> 36\u001B[0;31m                 cv = compute_coherence_values(corpus=corpusna, dictionary=d,\n\u001B[0m\u001B[1;32m     37\u001B[0m                                                   k=k, a=a, b=b)\n\u001B[1;32m     38\u001B[0m                     \u001B[0;31m# Save the model results\u001B[0m\u001B[0;34m\u001B[0m\u001B[0;34m\u001B[0m\u001B[0m\n",
      "\u001B[0;32m/var/folders/mz/c9vb3s9n2hn8zbzc6grlnzwc0000gn/T/ipykernel_4112/1429907684.py\u001B[0m in \u001B[0;36mcompute_coherence_values\u001B[0;34m(corpus, dictionary, k, a, b)\u001B[0m\n\u001B[1;32m      1\u001B[0m \u001B[0;31m# supporting function\u001B[0m\u001B[0;34m\u001B[0m\u001B[0;34m\u001B[0m\u001B[0m\n\u001B[1;32m      2\u001B[0m \u001B[0;32mdef\u001B[0m \u001B[0mcompute_coherence_values\u001B[0m\u001B[0;34m(\u001B[0m\u001B[0mcorpus\u001B[0m\u001B[0;34m,\u001B[0m \u001B[0mdictionary\u001B[0m\u001B[0;34m,\u001B[0m \u001B[0mk\u001B[0m\u001B[0;34m,\u001B[0m \u001B[0ma\u001B[0m\u001B[0;34m,\u001B[0m \u001B[0mb\u001B[0m\u001B[0;34m)\u001B[0m\u001B[0;34m:\u001B[0m\u001B[0;34m\u001B[0m\u001B[0;34m\u001B[0m\u001B[0m\n\u001B[0;32m----> 3\u001B[0;31m     lda_model = models.LdaMulticore(corpus=corpus, num_topics=k, id2word=dictionary, passes=10,alpha=a,\n\u001B[0m\u001B[1;32m      4\u001B[0m                                            eta=b)\n\u001B[1;32m      5\u001B[0m     \u001B[0mcoherence_model_lda\u001B[0m \u001B[0;34m=\u001B[0m \u001B[0mCoherenceModel\u001B[0m\u001B[0;34m(\u001B[0m\u001B[0mmodel\u001B[0m\u001B[0;34m=\u001B[0m\u001B[0mlda_model\u001B[0m\u001B[0;34m,\u001B[0m \u001B[0mcorpus\u001B[0m\u001B[0;34m=\u001B[0m\u001B[0mcorpus\u001B[0m\u001B[0;34m,\u001B[0m\u001B[0mdictionary\u001B[0m\u001B[0;34m=\u001B[0m\u001B[0mdictionary\u001B[0m\u001B[0;34m,\u001B[0m \u001B[0mcoherence\u001B[0m\u001B[0;34m=\u001B[0m\u001B[0;34m'u_mass'\u001B[0m\u001B[0;34m)\u001B[0m\u001B[0;34m\u001B[0m\u001B[0;34m\u001B[0m\u001B[0m\n",
      "\u001B[0;32m/usr/local/lib/python3.9/site-packages/gensim/models/ldamulticore.py\u001B[0m in \u001B[0;36m__init__\u001B[0;34m(self, corpus, num_topics, id2word, workers, chunksize, passes, batch, alpha, eta, decay, offset, eval_every, iterations, gamma_threshold, random_state, minimum_probability, minimum_phi_value, per_word_topics, dtype)\u001B[0m\n\u001B[1;32m    184\u001B[0m             \u001B[0;32mraise\u001B[0m \u001B[0mNotImplementedError\u001B[0m\u001B[0;34m(\u001B[0m\u001B[0;34m\"auto-tuning alpha not implemented in LdaMulticore; use plain LdaModel.\"\u001B[0m\u001B[0;34m)\u001B[0m\u001B[0;34m\u001B[0m\u001B[0;34m\u001B[0m\u001B[0m\n\u001B[1;32m    185\u001B[0m \u001B[0;34m\u001B[0m\u001B[0m\n\u001B[0;32m--> 186\u001B[0;31m         super(LdaMulticore, self).__init__(\n\u001B[0m\u001B[1;32m    187\u001B[0m             \u001B[0mcorpus\u001B[0m\u001B[0;34m=\u001B[0m\u001B[0mcorpus\u001B[0m\u001B[0;34m,\u001B[0m \u001B[0mnum_topics\u001B[0m\u001B[0;34m=\u001B[0m\u001B[0mnum_topics\u001B[0m\u001B[0;34m,\u001B[0m\u001B[0;34m\u001B[0m\u001B[0;34m\u001B[0m\u001B[0m\n\u001B[1;32m    188\u001B[0m             \u001B[0mid2word\u001B[0m\u001B[0;34m=\u001B[0m\u001B[0mid2word\u001B[0m\u001B[0;34m,\u001B[0m \u001B[0mchunksize\u001B[0m\u001B[0;34m=\u001B[0m\u001B[0mchunksize\u001B[0m\u001B[0;34m,\u001B[0m \u001B[0mpasses\u001B[0m\u001B[0;34m=\u001B[0m\u001B[0mpasses\u001B[0m\u001B[0;34m,\u001B[0m \u001B[0malpha\u001B[0m\u001B[0;34m=\u001B[0m\u001B[0malpha\u001B[0m\u001B[0;34m,\u001B[0m \u001B[0meta\u001B[0m\u001B[0;34m=\u001B[0m\u001B[0meta\u001B[0m\u001B[0;34m,\u001B[0m\u001B[0;34m\u001B[0m\u001B[0;34m\u001B[0m\u001B[0m\n",
      "\u001B[0;32m/usr/local/lib/python3.9/site-packages/gensim/models/ldamodel.py\u001B[0m in \u001B[0;36m__init__\u001B[0;34m(self, corpus, num_topics, id2word, distributed, chunksize, passes, update_every, alpha, eta, decay, offset, eval_every, iterations, gamma_threshold, minimum_probability, random_state, ns_conf, minimum_phi_value, per_word_topics, callbacks, dtype)\u001B[0m\n\u001B[1;32m    518\u001B[0m             \u001B[0muse_numpy\u001B[0m \u001B[0;34m=\u001B[0m \u001B[0mself\u001B[0m\u001B[0;34m.\u001B[0m\u001B[0mdispatcher\u001B[0m \u001B[0;32mis\u001B[0m \u001B[0;32mnot\u001B[0m \u001B[0;32mNone\u001B[0m\u001B[0;34m\u001B[0m\u001B[0;34m\u001B[0m\u001B[0m\n\u001B[1;32m    519\u001B[0m             \u001B[0mstart\u001B[0m \u001B[0;34m=\u001B[0m \u001B[0mtime\u001B[0m\u001B[0;34m.\u001B[0m\u001B[0mtime\u001B[0m\u001B[0;34m(\u001B[0m\u001B[0;34m)\u001B[0m\u001B[0;34m\u001B[0m\u001B[0;34m\u001B[0m\u001B[0m\n\u001B[0;32m--> 520\u001B[0;31m             \u001B[0mself\u001B[0m\u001B[0;34m.\u001B[0m\u001B[0mupdate\u001B[0m\u001B[0;34m(\u001B[0m\u001B[0mcorpus\u001B[0m\u001B[0;34m,\u001B[0m \u001B[0mchunks_as_numpy\u001B[0m\u001B[0;34m=\u001B[0m\u001B[0muse_numpy\u001B[0m\u001B[0;34m)\u001B[0m\u001B[0;34m\u001B[0m\u001B[0;34m\u001B[0m\u001B[0m\n\u001B[0m\u001B[1;32m    521\u001B[0m             self.add_lifecycle_event(\n\u001B[1;32m    522\u001B[0m                 \u001B[0;34m\"created\"\u001B[0m\u001B[0;34m,\u001B[0m\u001B[0;34m\u001B[0m\u001B[0;34m\u001B[0m\u001B[0m\n",
      "\u001B[0;32m/usr/local/lib/python3.9/site-packages/gensim/models/ldamulticore.py\u001B[0m in \u001B[0;36mupdate\u001B[0;34m(self, corpus, chunks_as_numpy)\u001B[0m\n\u001B[1;32m    314\u001B[0m             \u001B[0;31m# wait for all outstanding jobs to finish\u001B[0m\u001B[0;34m\u001B[0m\u001B[0;34m\u001B[0m\u001B[0m\n\u001B[1;32m    315\u001B[0m             \u001B[0;32mwhile\u001B[0m \u001B[0mqueue_size\u001B[0m\u001B[0;34m[\u001B[0m\u001B[0;36m0\u001B[0m\u001B[0;34m]\u001B[0m \u001B[0;34m>\u001B[0m \u001B[0;36m0\u001B[0m\u001B[0;34m:\u001B[0m\u001B[0;34m\u001B[0m\u001B[0;34m\u001B[0m\u001B[0m\n\u001B[0;32m--> 316\u001B[0;31m                 \u001B[0mprocess_result_queue\u001B[0m\u001B[0;34m(\u001B[0m\u001B[0mforce\u001B[0m\u001B[0;34m=\u001B[0m\u001B[0;32mTrue\u001B[0m\u001B[0;34m)\u001B[0m\u001B[0;34m\u001B[0m\u001B[0;34m\u001B[0m\u001B[0m\n\u001B[0m\u001B[1;32m    317\u001B[0m \u001B[0;34m\u001B[0m\u001B[0m\n\u001B[1;32m    318\u001B[0m             \u001B[0;32mif\u001B[0m \u001B[0mreallen\u001B[0m \u001B[0;34m!=\u001B[0m \u001B[0mlencorpus\u001B[0m\u001B[0;34m:\u001B[0m\u001B[0;34m\u001B[0m\u001B[0;34m\u001B[0m\u001B[0m\n",
      "\u001B[0;32m/usr/local/lib/python3.9/site-packages/gensim/models/ldamulticore.py\u001B[0m in \u001B[0;36mprocess_result_queue\u001B[0;34m(force)\u001B[0m\n\u001B[1;32m    272\u001B[0m             \"\"\"\n\u001B[1;32m    273\u001B[0m             \u001B[0mmerged_new\u001B[0m \u001B[0;34m=\u001B[0m \u001B[0;32mFalse\u001B[0m\u001B[0;34m\u001B[0m\u001B[0;34m\u001B[0m\u001B[0m\n\u001B[0;32m--> 274\u001B[0;31m             \u001B[0;32mwhile\u001B[0m \u001B[0;32mnot\u001B[0m \u001B[0mresult_queue\u001B[0m\u001B[0;34m.\u001B[0m\u001B[0mempty\u001B[0m\u001B[0;34m(\u001B[0m\u001B[0;34m)\u001B[0m\u001B[0;34m:\u001B[0m\u001B[0;34m\u001B[0m\u001B[0;34m\u001B[0m\u001B[0m\n\u001B[0m\u001B[1;32m    275\u001B[0m                 \u001B[0mother\u001B[0m\u001B[0;34m.\u001B[0m\u001B[0mmerge\u001B[0m\u001B[0;34m(\u001B[0m\u001B[0mresult_queue\u001B[0m\u001B[0;34m.\u001B[0m\u001B[0mget\u001B[0m\u001B[0;34m(\u001B[0m\u001B[0;34m)\u001B[0m\u001B[0;34m)\u001B[0m\u001B[0;34m\u001B[0m\u001B[0;34m\u001B[0m\u001B[0m\n\u001B[1;32m    276\u001B[0m                 \u001B[0mqueue_size\u001B[0m\u001B[0;34m[\u001B[0m\u001B[0;36m0\u001B[0m\u001B[0;34m]\u001B[0m \u001B[0;34m-=\u001B[0m \u001B[0;36m1\u001B[0m\u001B[0;34m\u001B[0m\u001B[0;34m\u001B[0m\u001B[0m\n",
      "\u001B[0;32m/usr/local/Cellar/python@3.9/3.9.7_1/Frameworks/Python.framework/Versions/3.9/lib/python3.9/multiprocessing/queues.py\u001B[0m in \u001B[0;36mempty\u001B[0;34m(self)\u001B[0m\n\u001B[1;32m    127\u001B[0m \u001B[0;34m\u001B[0m\u001B[0m\n\u001B[1;32m    128\u001B[0m     \u001B[0;32mdef\u001B[0m \u001B[0mempty\u001B[0m\u001B[0;34m(\u001B[0m\u001B[0mself\u001B[0m\u001B[0;34m)\u001B[0m\u001B[0;34m:\u001B[0m\u001B[0;34m\u001B[0m\u001B[0;34m\u001B[0m\u001B[0m\n\u001B[0;32m--> 129\u001B[0;31m         \u001B[0;32mreturn\u001B[0m \u001B[0;32mnot\u001B[0m \u001B[0mself\u001B[0m\u001B[0;34m.\u001B[0m\u001B[0m_poll\u001B[0m\u001B[0;34m(\u001B[0m\u001B[0;34m)\u001B[0m\u001B[0;34m\u001B[0m\u001B[0;34m\u001B[0m\u001B[0m\n\u001B[0m\u001B[1;32m    130\u001B[0m \u001B[0;34m\u001B[0m\u001B[0m\n\u001B[1;32m    131\u001B[0m     \u001B[0;32mdef\u001B[0m \u001B[0mfull\u001B[0m\u001B[0;34m(\u001B[0m\u001B[0mself\u001B[0m\u001B[0;34m)\u001B[0m\u001B[0;34m:\u001B[0m\u001B[0;34m\u001B[0m\u001B[0;34m\u001B[0m\u001B[0m\n",
      "\u001B[0;32m/usr/local/Cellar/python@3.9/3.9.7_1/Frameworks/Python.framework/Versions/3.9/lib/python3.9/multiprocessing/connection.py\u001B[0m in \u001B[0;36mpoll\u001B[0;34m(self, timeout)\u001B[0m\n\u001B[1;32m    260\u001B[0m         \u001B[0mself\u001B[0m\u001B[0;34m.\u001B[0m\u001B[0m_check_closed\u001B[0m\u001B[0;34m(\u001B[0m\u001B[0;34m)\u001B[0m\u001B[0;34m\u001B[0m\u001B[0;34m\u001B[0m\u001B[0m\n\u001B[1;32m    261\u001B[0m         \u001B[0mself\u001B[0m\u001B[0;34m.\u001B[0m\u001B[0m_check_readable\u001B[0m\u001B[0;34m(\u001B[0m\u001B[0;34m)\u001B[0m\u001B[0;34m\u001B[0m\u001B[0;34m\u001B[0m\u001B[0m\n\u001B[0;32m--> 262\u001B[0;31m         \u001B[0;32mreturn\u001B[0m \u001B[0mself\u001B[0m\u001B[0;34m.\u001B[0m\u001B[0m_poll\u001B[0m\u001B[0;34m(\u001B[0m\u001B[0mtimeout\u001B[0m\u001B[0;34m)\u001B[0m\u001B[0;34m\u001B[0m\u001B[0;34m\u001B[0m\u001B[0m\n\u001B[0m\u001B[1;32m    263\u001B[0m \u001B[0;34m\u001B[0m\u001B[0m\n\u001B[1;32m    264\u001B[0m     \u001B[0;32mdef\u001B[0m \u001B[0m__enter__\u001B[0m\u001B[0;34m(\u001B[0m\u001B[0mself\u001B[0m\u001B[0;34m)\u001B[0m\u001B[0;34m:\u001B[0m\u001B[0;34m\u001B[0m\u001B[0;34m\u001B[0m\u001B[0m\n",
      "\u001B[0;32m/usr/local/Cellar/python@3.9/3.9.7_1/Frameworks/Python.framework/Versions/3.9/lib/python3.9/multiprocessing/connection.py\u001B[0m in \u001B[0;36m_poll\u001B[0;34m(self, timeout)\u001B[0m\n\u001B[1;32m    427\u001B[0m \u001B[0;34m\u001B[0m\u001B[0m\n\u001B[1;32m    428\u001B[0m     \u001B[0;32mdef\u001B[0m \u001B[0m_poll\u001B[0m\u001B[0;34m(\u001B[0m\u001B[0mself\u001B[0m\u001B[0;34m,\u001B[0m \u001B[0mtimeout\u001B[0m\u001B[0;34m)\u001B[0m\u001B[0;34m:\u001B[0m\u001B[0;34m\u001B[0m\u001B[0;34m\u001B[0m\u001B[0m\n\u001B[0;32m--> 429\u001B[0;31m         \u001B[0mr\u001B[0m \u001B[0;34m=\u001B[0m \u001B[0mwait\u001B[0m\u001B[0;34m(\u001B[0m\u001B[0;34m[\u001B[0m\u001B[0mself\u001B[0m\u001B[0;34m]\u001B[0m\u001B[0;34m,\u001B[0m \u001B[0mtimeout\u001B[0m\u001B[0;34m)\u001B[0m\u001B[0;34m\u001B[0m\u001B[0;34m\u001B[0m\u001B[0m\n\u001B[0m\u001B[1;32m    430\u001B[0m         \u001B[0;32mreturn\u001B[0m \u001B[0mbool\u001B[0m\u001B[0;34m(\u001B[0m\u001B[0mr\u001B[0m\u001B[0;34m)\u001B[0m\u001B[0;34m\u001B[0m\u001B[0;34m\u001B[0m\u001B[0m\n\u001B[1;32m    431\u001B[0m \u001B[0;34m\u001B[0m\u001B[0m\n",
      "\u001B[0;32m/usr/local/Cellar/python@3.9/3.9.7_1/Frameworks/Python.framework/Versions/3.9/lib/python3.9/multiprocessing/connection.py\u001B[0m in \u001B[0;36mwait\u001B[0;34m(object_list, timeout)\u001B[0m\n\u001B[1;32m    934\u001B[0m \u001B[0;34m\u001B[0m\u001B[0m\n\u001B[1;32m    935\u001B[0m             \u001B[0;32mwhile\u001B[0m \u001B[0;32mTrue\u001B[0m\u001B[0;34m:\u001B[0m\u001B[0;34m\u001B[0m\u001B[0;34m\u001B[0m\u001B[0m\n\u001B[0;32m--> 936\u001B[0;31m                 \u001B[0mready\u001B[0m \u001B[0;34m=\u001B[0m \u001B[0mselector\u001B[0m\u001B[0;34m.\u001B[0m\u001B[0mselect\u001B[0m\u001B[0;34m(\u001B[0m\u001B[0mtimeout\u001B[0m\u001B[0;34m)\u001B[0m\u001B[0;34m\u001B[0m\u001B[0;34m\u001B[0m\u001B[0m\n\u001B[0m\u001B[1;32m    937\u001B[0m                 \u001B[0;32mif\u001B[0m \u001B[0mready\u001B[0m\u001B[0;34m:\u001B[0m\u001B[0;34m\u001B[0m\u001B[0;34m\u001B[0m\u001B[0m\n\u001B[1;32m    938\u001B[0m                     \u001B[0;32mreturn\u001B[0m \u001B[0;34m[\u001B[0m\u001B[0mkey\u001B[0m\u001B[0;34m.\u001B[0m\u001B[0mfileobj\u001B[0m \u001B[0;32mfor\u001B[0m \u001B[0;34m(\u001B[0m\u001B[0mkey\u001B[0m\u001B[0;34m,\u001B[0m \u001B[0mevents\u001B[0m\u001B[0;34m)\u001B[0m \u001B[0;32min\u001B[0m \u001B[0mready\u001B[0m\u001B[0;34m]\u001B[0m\u001B[0;34m\u001B[0m\u001B[0;34m\u001B[0m\u001B[0m\n",
      "\u001B[0;32m/usr/local/Cellar/python@3.9/3.9.7_1/Frameworks/Python.framework/Versions/3.9/lib/python3.9/selectors.py\u001B[0m in \u001B[0;36mselect\u001B[0;34m(self, timeout)\u001B[0m\n\u001B[1;32m    414\u001B[0m         \u001B[0mready\u001B[0m \u001B[0;34m=\u001B[0m \u001B[0;34m[\u001B[0m\u001B[0;34m]\u001B[0m\u001B[0;34m\u001B[0m\u001B[0;34m\u001B[0m\u001B[0m\n\u001B[1;32m    415\u001B[0m         \u001B[0;32mtry\u001B[0m\u001B[0;34m:\u001B[0m\u001B[0;34m\u001B[0m\u001B[0;34m\u001B[0m\u001B[0m\n\u001B[0;32m--> 416\u001B[0;31m             \u001B[0mfd_event_list\u001B[0m \u001B[0;34m=\u001B[0m \u001B[0mself\u001B[0m\u001B[0;34m.\u001B[0m\u001B[0m_selector\u001B[0m\u001B[0;34m.\u001B[0m\u001B[0mpoll\u001B[0m\u001B[0;34m(\u001B[0m\u001B[0mtimeout\u001B[0m\u001B[0;34m)\u001B[0m\u001B[0;34m\u001B[0m\u001B[0;34m\u001B[0m\u001B[0m\n\u001B[0m\u001B[1;32m    417\u001B[0m         \u001B[0;32mexcept\u001B[0m \u001B[0mInterruptedError\u001B[0m\u001B[0;34m:\u001B[0m\u001B[0;34m\u001B[0m\u001B[0;34m\u001B[0m\u001B[0m\n\u001B[1;32m    418\u001B[0m             \u001B[0;32mreturn\u001B[0m \u001B[0mready\u001B[0m\u001B[0;34m\u001B[0m\u001B[0;34m\u001B[0m\u001B[0m\n",
      "\u001B[0;31mKeyboardInterrupt\u001B[0m: "
     ]
    }
   ],
   "source": [
    "import numpy as np\n",
    "from gensim import models\n",
    "grid = {}\n",
    "grid['Validation_Set'] = {}\n",
    "# Topics range\n",
    "min_topics = 2\n",
    "max_topics = 3\n",
    "step_size = 1\n",
    "topics_range = range(min_topics, max_topics, step_size)\n",
    "# Alpha parameter\n",
    "alpha = list(np.arange(0.01, 1, 0.3))\n",
    "alpha.append('symmetric')\n",
    "alpha.append('asymmetric')\n",
    "# Beta parameter\n",
    "beta = list(np.arange(0.01, 1, 0.3))\n",
    "beta.append('symmetric')\n",
    "# Validation sets\n",
    "model_results = {\n",
    "                 'Topics': [],\n",
    "                 'Alpha': [],\n",
    "                 'Beta': [],\n",
    "                 'Coherence': []\n",
    "                }\n",
    "\n",
    "# Can take a long time to run\n",
    "if 1 == 1:\n",
    "        # iterate through number of topics\n",
    "    for k in topics_range:\n",
    "            # iterate through alpha values\n",
    "        for a in alpha:\n",
    "                # iterare through beta values\n",
    "            for b in beta:\n",
    "                    # get the coherence score for the given parameters\n",
    "                cv = compute_coherence_values(corpus=corpusna, dictionary=d,\n",
    "                                                  k=k, a=a, b=b)\n",
    "                    # Save the model results\n",
    "                model_results['Topics'].append(k)\n",
    "                model_results['Alpha'].append(a)\n",
    "                model_results['Beta'].append(b)\n",
    "                model_results['Coherence'].append(cv)"
   ],
   "metadata": {
    "collapsed": false,
    "pycharm": {
     "name": "#%%\n"
    }
   }
  },
  {
   "cell_type": "code",
   "execution_count": 127,
   "outputs": [
    {
     "data": {
      "text/plain": "{'Topics': [2,\n  2,\n  2,\n  2,\n  2,\n  2,\n  2,\n  2,\n  2,\n  2,\n  2,\n  2,\n  2,\n  2,\n  2,\n  2,\n  2,\n  2,\n  2,\n  2,\n  2,\n  2,\n  2,\n  2,\n  2,\n  2,\n  2,\n  2,\n  2,\n  2],\n 'Alpha': [0.01,\n  0.01,\n  0.01,\n  0.01,\n  0.01,\n  0.31,\n  0.31,\n  0.31,\n  0.31,\n  0.31,\n  0.61,\n  0.61,\n  0.61,\n  0.61,\n  0.61,\n  0.9099999999999999,\n  0.9099999999999999,\n  0.9099999999999999,\n  0.9099999999999999,\n  0.9099999999999999,\n  'symmetric',\n  'symmetric',\n  'symmetric',\n  'symmetric',\n  'symmetric',\n  'asymmetric',\n  'asymmetric',\n  'asymmetric',\n  'asymmetric',\n  'asymmetric'],\n 'Beta': [0.01,\n  0.31,\n  0.61,\n  0.9099999999999999,\n  'symmetric',\n  0.01,\n  0.31,\n  0.61,\n  0.9099999999999999,\n  'symmetric',\n  0.01,\n  0.31,\n  0.61,\n  0.9099999999999999,\n  'symmetric',\n  0.01,\n  0.31,\n  0.61,\n  0.9099999999999999,\n  'symmetric',\n  0.01,\n  0.31,\n  0.61,\n  0.9099999999999999,\n  'symmetric',\n  0.01,\n  0.31,\n  0.61,\n  0.9099999999999999,\n  'symmetric'],\n 'Coherence': [-12.577708567196947,\n  -13.485681601331065,\n  -12.936038049835734,\n  -12.89966047119802,\n  -15.26149096974532,\n  -13.266298151430936,\n  -13.073732637650593,\n  -13.191117962086118,\n  -13.629198067971364,\n  -15.30582652319262,\n  -13.199766871298163,\n  -13.976730915410197,\n  -14.289577943064167,\n  -13.36211468324551,\n  -12.32483024090314,\n  -14.820162900016307,\n  -12.768871419858938,\n  -14.225962380277227,\n  -14.245783420077661,\n  -14.192448130809577,\n  -13.155798392873239,\n  -12.733143715599688,\n  -13.759678221058035,\n  -13.725460725559802,\n  -13.270393744934724,\n  -13.545764839881873,\n  -14.40900737176485,\n  -14.430533378836042,\n  -13.272185639670157,\n  -12.692599755786972]}"
     },
     "execution_count": 127,
     "metadata": {},
     "output_type": "execute_result"
    }
   ],
   "source": [
    "model_results"
   ],
   "metadata": {
    "collapsed": false,
    "pycharm": {
     "name": "#%%\n"
    }
   }
  },
  {
   "cell_type": "code",
   "execution_count": null,
   "outputs": [],
   "source": [
    "#Plot multidimensionale?\n",
    " import matplotlib.pyplot as plt\n",
    " def plot_graph(model_results):\n",
    "    plt.plot(model_results['Topics'], model_results['Coherence'])\n",
    "    plt.xlabel(\"Number of Topics\")\n",
    "    plt.ylabel(\"Coherence score\")\n",
    "    plt.legend((\"coherence_values\"), loc='best')\n",
    "    plt.show()\n",
    "\n",
    "plot_graph(model_results)"
   ],
   "metadata": {
    "collapsed": false,
    "pycharm": {
     "name": "#%%\n"
    }
   }
  }
 ],
 "metadata": {
  "kernelspec": {
   "display_name": "Python 3",
   "language": "python",
   "name": "python3"
  },
  "language_info": {
   "codemirror_mode": {
    "name": "ipython",
    "version": 2
   },
   "file_extension": ".py",
   "mimetype": "text/x-python",
   "name": "python",
   "nbconvert_exporter": "python",
   "pygments_lexer": "ipython2",
   "version": "2.7.6"
  }
 },
 "nbformat": 4,
 "nbformat_minor": 0
}