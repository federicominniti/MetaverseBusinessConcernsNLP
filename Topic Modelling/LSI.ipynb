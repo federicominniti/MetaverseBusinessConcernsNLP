{
 "cells": [
  {
   "cell_type": "code",
   "execution_count": 42,
   "metadata": {
    "collapsed": true,
    "pycharm": {
     "name": "#%%\n"
    }
   },
   "outputs": [],
   "source": [
    "# Terminal / Anaconda Navigator: conda install -c conda-forge gensim\n",
    "import pickle\n",
    "from gensim import matutils, models, corpora\n",
    "import scipy.sparse\n",
    "import pandas as pd\n",
    "from gensim.models import LdaMulticore, CoherenceModel"
   ]
  },
  {
   "cell_type": "code",
   "execution_count": 64,
   "outputs": [
    {
     "data": {
      "text/plain": "                    Datetime             Tweet Id  \\\n0  2021-10-27 23:39:35+00:00  1453506696094142469   \n1  2021-10-27 23:32:41+00:00  1453504957991292933   \n2  2021-10-27 23:31:03+00:00  1453504546345455619   \n\n                                        OriginalText        Username  \\\n0  @1goonrich Buy Dogus and make it 700k mc #NFTG...          aacryp   \n1  💧 SupreSpace Metaverse 2nd Round Airdrop 💧\\n\\n...   AirdropStario   \n2  @Elite_Portraits is now LIVE hand-crafting the...  DeployStarShip   \n\n                                        Text_Cleaned  \\\n0  buy dogus and make it  mc kishu hoge froge dog...   \n1  suprespace metaverse  round airdrop task up to...   \n2  is now live hand crafting the artwork for the ...   \n\n                                              tokens  \\\n0  ['buy', 'dogus', 'make', 'kishu', 'hoge', 'fro...   \n1  ['suprespace', 'round', 'airdrop', 'task', 'sa...   \n2  ['live', 'hand', 'crafting', 'artwork', 'plane...   \n\n                                                Text  Subjectivity  Polarity  \\\n0  buy dogus make kishu hoge froge doge dogus thi...      0.427273 -0.131818   \n1  suprespace round airdrop task sapce referral s...      0.400000 -0.200000   \n2  live hand crafting artwork planet game claim p...      0.450000 -0.131818   \n\n   NumberOfWords  MeanWordLength P&SSentiment  SIA Positive Sentiment  \\\n0             29            5.69     Negative                0.000001   \n1             10            6.60     Negative                0.000001   \n2             14            5.93     Negative                0.198001   \n\n   SIA Neutral Sentiment  SIA Negative Sentiment  \n0               1.000001                0.000001  \n1               1.000001                0.000001  \n2               0.802001                0.000001  ",
      "text/html": "<div>\n<style scoped>\n    .dataframe tbody tr th:only-of-type {\n        vertical-align: middle;\n    }\n\n    .dataframe tbody tr th {\n        vertical-align: top;\n    }\n\n    .dataframe thead th {\n        text-align: right;\n    }\n</style>\n<table border=\"1\" class=\"dataframe\">\n  <thead>\n    <tr style=\"text-align: right;\">\n      <th></th>\n      <th>Datetime</th>\n      <th>Tweet Id</th>\n      <th>OriginalText</th>\n      <th>Username</th>\n      <th>Text_Cleaned</th>\n      <th>tokens</th>\n      <th>Text</th>\n      <th>Subjectivity</th>\n      <th>Polarity</th>\n      <th>NumberOfWords</th>\n      <th>MeanWordLength</th>\n      <th>P&amp;SSentiment</th>\n      <th>SIA Positive Sentiment</th>\n      <th>SIA Neutral Sentiment</th>\n      <th>SIA Negative Sentiment</th>\n    </tr>\n  </thead>\n  <tbody>\n    <tr>\n      <th>0</th>\n      <td>2021-10-27 23:39:35+00:00</td>\n      <td>1453506696094142469</td>\n      <td>@1goonrich Buy Dogus and make it 700k mc #NFTG...</td>\n      <td>aacryp</td>\n      <td>buy dogus and make it  mc kishu hoge froge dog...</td>\n      <td>['buy', 'dogus', 'make', 'kishu', 'hoge', 'fro...</td>\n      <td>buy dogus make kishu hoge froge doge dogus thi...</td>\n      <td>0.427273</td>\n      <td>-0.131818</td>\n      <td>29</td>\n      <td>5.69</td>\n      <td>Negative</td>\n      <td>0.000001</td>\n      <td>1.000001</td>\n      <td>0.000001</td>\n    </tr>\n    <tr>\n      <th>1</th>\n      <td>2021-10-27 23:32:41+00:00</td>\n      <td>1453504957991292933</td>\n      <td>💧 SupreSpace Metaverse 2nd Round Airdrop 💧\\n\\n...</td>\n      <td>AirdropStario</td>\n      <td>suprespace metaverse  round airdrop task up to...</td>\n      <td>['suprespace', 'round', 'airdrop', 'task', 'sa...</td>\n      <td>suprespace round airdrop task sapce referral s...</td>\n      <td>0.400000</td>\n      <td>-0.200000</td>\n      <td>10</td>\n      <td>6.60</td>\n      <td>Negative</td>\n      <td>0.000001</td>\n      <td>1.000001</td>\n      <td>0.000001</td>\n    </tr>\n    <tr>\n      <th>2</th>\n      <td>2021-10-27 23:31:03+00:00</td>\n      <td>1453504546345455619</td>\n      <td>@Elite_Portraits is now LIVE hand-crafting the...</td>\n      <td>DeployStarShip</td>\n      <td>is now live hand crafting the artwork for the ...</td>\n      <td>['live', 'hand', 'crafting', 'artwork', 'plane...</td>\n      <td>live hand crafting artwork planet game claim p...</td>\n      <td>0.450000</td>\n      <td>-0.131818</td>\n      <td>14</td>\n      <td>5.93</td>\n      <td>Negative</td>\n      <td>0.198001</td>\n      <td>0.802001</td>\n      <td>0.000001</td>\n    </tr>\n  </tbody>\n</table>\n</div>"
     },
     "execution_count": 64,
     "metadata": {},
     "output_type": "execute_result"
    }
   ],
   "source": [
    "f_data = pd.read_csv('../data/NegativeTweets.csv')\n",
    "f_data.head(3)"
   ],
   "metadata": {
    "collapsed": false,
    "pycharm": {
     "name": "#%%\n"
    }
   }
  },
  {
   "cell_type": "code",
   "execution_count": 65,
   "outputs": [],
   "source": [
    "f_data = f_data.loc[f_data['Datetime'] >= '2021-11-10']"
   ],
   "metadata": {
    "collapsed": false,
    "pycharm": {
     "name": "#%%\n"
    }
   }
  },
  {
   "cell_type": "code",
   "execution_count": 66,
   "outputs": [],
   "source": [
    "f_data = f_data.loc[f_data['Datetime'] <= '2021-11-12']"
   ],
   "metadata": {
    "collapsed": false,
    "pycharm": {
     "name": "#%%\n"
    }
   }
  },
  {
   "cell_type": "code",
   "execution_count": 67,
   "outputs": [
    {
     "data": {
      "text/plain": "                       Datetime             Tweet Id  \\\n1461  2021-11-10 23:58:36+00:00  1458584908943826949   \n1462  2021-11-10 23:50:42+00:00  1458582922794086403   \n1463  2021-11-10 23:43:51+00:00  1458581196850581511   \n1464  2021-11-10 23:39:51+00:00  1458580190347542528   \n1465  2021-11-10 23:39:24+00:00  1458580080519696388   \n...                         ...                  ...   \n1618  2021-11-11 22:15:39+00:00  1458921388643962897   \n1619  2021-11-11 22:15:39+00:00  1458921388010618880   \n1620  2021-11-11 22:15:27+00:00  1458921338459111428   \n1621  2021-11-11 22:13:11+00:00  1458920769254309890   \n1622  2021-11-11 22:12:07+00:00  1458920501653422085   \n\n                                           OriginalText         Username  \\\n1461  Clearly broke down :D I blame the markets and ...       ARedcrypto   \n1462  @SupreSpace Breaking News: The Earth version o...        garmavich   \n1463  All manipulation paper hands sold and now we b...       AyeeZeeeee   \n1464  #Meta the announcement video for the #Metavers...  GardnerConverse   \n1465  Are you following @Metaciple yet!? \\n\\nHe may ...     MakeupLoveer   \n...                                                 ...              ...   \n1618  @BenBuckwalter Why Choose #FLOKI Valhalla #Met...         PaInIaMs   \n1619  Verasity in Top 10 gaming Tokes by Market Capi...        kindasset   \n1620  Let's aim for more #EXP and #NFTs rewards , on...        flexy_ahs   \n1621  @ProTheDoge Why Choose #FLOKI Valhalla #Metave...         PaInIaMs   \n1622  $OWUV 0,0270$ damn someone sold in the last mi...        iwanooze1   \n\n                                           Text_Cleaned  \\\n1461  clearly broke downi blame the markets and btc ...   \n1462  breaking news the earth version of will be lau...   \n1463  all manipulation paper hands sold and now we b...   \n1464  the announcement video for the was so awkward ...   \n1465  are you following yet he may beterrible gamer ...   \n...                                                 ...   \n1618  why choose valhalla upgradeable valhalla scarc...   \n1619  verasity in top  gaming tokes by market capita...   \n1620  letaim for more and rewards once we start to p...   \n1621  why choose valhalla upgradeable valhalla scarc...   \n1622  owuv   damn someone sold in the last minute be...   \n\n                                                 tokens  \\\n1461  ['clearly', 'broke', 'downi', 'blame', 'market...   \n1462  ['breaking', 'news', 'earth', 'version', 'laun...   \n1463  ['manipulation', 'paper', 'hands', 'sold', 'bu...   \n1464  ['announcement', 'video', 'awkward', 'mark', '...   \n1465  ['following', 'yet', 'may', 'beterrible', 'gam...   \n...                                                 ...   \n1618  ['choose', 'valhalla', 'upgradeable', 'valhall...   \n1619  ['verasity', 'top', 'gaming', 'tokes', 'market...   \n1620  ['letaim', 'rewards', 'start', 'play', 'later'...   \n1621  ['choose', 'valhalla', 'upgradeable', 'valhall...   \n1622  ['owuv', 'damn', 'someone', 'sold', 'last', 'm...   \n\n                                                   Text  Subjectivity  \\\n1461  clearly broke downi blame markets hopium obser...      0.435714   \n1462  breaking news earth version launched december ...      0.500000   \n1463  manipulation paper hands sold buy dip back moo...      0.000000   \n1464  announcement video awkward mark zuckerburg som...      0.533333   \n1465  following yet may beterrible gamer worst aim a...      0.625000   \n...                                                 ...           ...   \n1618  choose valhalla upgradeable valhalla scarce ge...      0.525000   \n1619  verasity top gaming tokes market capitalizatio...      0.387500   \n1620  letaim rewards start play later donmissed laun...      0.200000   \n1621  choose valhalla upgradeable valhalla scarce ge...      0.525000   \n1622  owuv damn someone sold last minute closed anyw...      0.392857   \n\n      Polarity  NumberOfWords  MeanWordLength P&SSentiment  \\\n1461  0.121429             26            5.42     Positive   \n1462 -0.500000             15            5.93     Negative   \n1463  0.000000             10            5.00      Neutral   \n1464 -0.250000             13            7.31     Negative   \n1465 -0.065909             18            5.89     Negative   \n...        ...            ...             ...          ...   \n1618 -0.100000             23            6.83     Negative   \n1619  0.150000             22            6.32     Positive   \n1620 -0.200000             11            5.55     Negative   \n1621 -0.100000             23            6.83     Negative   \n1622  0.217857             22            5.73     Positive   \n\n      SIA Positive Sentiment  SIA Neutral Sentiment  SIA Negative Sentiment  \n1461                0.165001               0.619001                0.215001  \n1462                0.372001               0.628001                0.000001  \n1463                0.000001               0.804001                0.196001  \n1464                0.000001               0.882001                0.118001  \n1465                0.159001               0.669001                0.172001  \n...                      ...                    ...                     ...  \n1618                0.083001               0.917001                0.000001  \n1619                0.075001               0.833001                0.092001  \n1620                0.497001               0.503001                0.000001  \n1621                0.083001               0.917001                0.000001  \n1622                0.096001               0.797001                0.108001  \n\n[162 rows x 15 columns]",
      "text/html": "<div>\n<style scoped>\n    .dataframe tbody tr th:only-of-type {\n        vertical-align: middle;\n    }\n\n    .dataframe tbody tr th {\n        vertical-align: top;\n    }\n\n    .dataframe thead th {\n        text-align: right;\n    }\n</style>\n<table border=\"1\" class=\"dataframe\">\n  <thead>\n    <tr style=\"text-align: right;\">\n      <th></th>\n      <th>Datetime</th>\n      <th>Tweet Id</th>\n      <th>OriginalText</th>\n      <th>Username</th>\n      <th>Text_Cleaned</th>\n      <th>tokens</th>\n      <th>Text</th>\n      <th>Subjectivity</th>\n      <th>Polarity</th>\n      <th>NumberOfWords</th>\n      <th>MeanWordLength</th>\n      <th>P&amp;SSentiment</th>\n      <th>SIA Positive Sentiment</th>\n      <th>SIA Neutral Sentiment</th>\n      <th>SIA Negative Sentiment</th>\n    </tr>\n  </thead>\n  <tbody>\n    <tr>\n      <th>1461</th>\n      <td>2021-11-10 23:58:36+00:00</td>\n      <td>1458584908943826949</td>\n      <td>Clearly broke down :D I blame the markets and ...</td>\n      <td>ARedcrypto</td>\n      <td>clearly broke downi blame the markets and btc ...</td>\n      <td>['clearly', 'broke', 'downi', 'blame', 'market...</td>\n      <td>clearly broke downi blame markets hopium obser...</td>\n      <td>0.435714</td>\n      <td>0.121429</td>\n      <td>26</td>\n      <td>5.42</td>\n      <td>Positive</td>\n      <td>0.165001</td>\n      <td>0.619001</td>\n      <td>0.215001</td>\n    </tr>\n    <tr>\n      <th>1462</th>\n      <td>2021-11-10 23:50:42+00:00</td>\n      <td>1458582922794086403</td>\n      <td>@SupreSpace Breaking News: The Earth version o...</td>\n      <td>garmavich</td>\n      <td>breaking news the earth version of will be lau...</td>\n      <td>['breaking', 'news', 'earth', 'version', 'laun...</td>\n      <td>breaking news earth version launched december ...</td>\n      <td>0.500000</td>\n      <td>-0.500000</td>\n      <td>15</td>\n      <td>5.93</td>\n      <td>Negative</td>\n      <td>0.372001</td>\n      <td>0.628001</td>\n      <td>0.000001</td>\n    </tr>\n    <tr>\n      <th>1463</th>\n      <td>2021-11-10 23:43:51+00:00</td>\n      <td>1458581196850581511</td>\n      <td>All manipulation paper hands sold and now we b...</td>\n      <td>AyeeZeeeee</td>\n      <td>all manipulation paper hands sold and now we b...</td>\n      <td>['manipulation', 'paper', 'hands', 'sold', 'bu...</td>\n      <td>manipulation paper hands sold buy dip back moo...</td>\n      <td>0.000000</td>\n      <td>0.000000</td>\n      <td>10</td>\n      <td>5.00</td>\n      <td>Neutral</td>\n      <td>0.000001</td>\n      <td>0.804001</td>\n      <td>0.196001</td>\n    </tr>\n    <tr>\n      <th>1464</th>\n      <td>2021-11-10 23:39:51+00:00</td>\n      <td>1458580190347542528</td>\n      <td>#Meta the announcement video for the #Metavers...</td>\n      <td>GardnerConverse</td>\n      <td>the announcement video for the was so awkward ...</td>\n      <td>['announcement', 'video', 'awkward', 'mark', '...</td>\n      <td>announcement video awkward mark zuckerburg som...</td>\n      <td>0.533333</td>\n      <td>-0.250000</td>\n      <td>13</td>\n      <td>7.31</td>\n      <td>Negative</td>\n      <td>0.000001</td>\n      <td>0.882001</td>\n      <td>0.118001</td>\n    </tr>\n    <tr>\n      <th>1465</th>\n      <td>2021-11-10 23:39:24+00:00</td>\n      <td>1458580080519696388</td>\n      <td>Are you following @Metaciple yet!? \\n\\nHe may ...</td>\n      <td>MakeupLoveer</td>\n      <td>are you following yet he may beterrible gamer ...</td>\n      <td>['following', 'yet', 'may', 'beterrible', 'gam...</td>\n      <td>following yet may beterrible gamer worst aim a...</td>\n      <td>0.625000</td>\n      <td>-0.065909</td>\n      <td>18</td>\n      <td>5.89</td>\n      <td>Negative</td>\n      <td>0.159001</td>\n      <td>0.669001</td>\n      <td>0.172001</td>\n    </tr>\n    <tr>\n      <th>...</th>\n      <td>...</td>\n      <td>...</td>\n      <td>...</td>\n      <td>...</td>\n      <td>...</td>\n      <td>...</td>\n      <td>...</td>\n      <td>...</td>\n      <td>...</td>\n      <td>...</td>\n      <td>...</td>\n      <td>...</td>\n      <td>...</td>\n      <td>...</td>\n      <td>...</td>\n    </tr>\n    <tr>\n      <th>1618</th>\n      <td>2021-11-11 22:15:39+00:00</td>\n      <td>1458921388643962897</td>\n      <td>@BenBuckwalter Why Choose #FLOKI Valhalla #Met...</td>\n      <td>PaInIaMs</td>\n      <td>why choose valhalla upgradeable valhalla scarc...</td>\n      <td>['choose', 'valhalla', 'upgradeable', 'valhall...</td>\n      <td>choose valhalla upgradeable valhalla scarce ge...</td>\n      <td>0.525000</td>\n      <td>-0.100000</td>\n      <td>23</td>\n      <td>6.83</td>\n      <td>Negative</td>\n      <td>0.083001</td>\n      <td>0.917001</td>\n      <td>0.000001</td>\n    </tr>\n    <tr>\n      <th>1619</th>\n      <td>2021-11-11 22:15:39+00:00</td>\n      <td>1458921388010618880</td>\n      <td>Verasity in Top 10 gaming Tokes by Market Capi...</td>\n      <td>kindasset</td>\n      <td>verasity in top  gaming tokes by market capita...</td>\n      <td>['verasity', 'top', 'gaming', 'tokes', 'market...</td>\n      <td>verasity top gaming tokes market capitalizatio...</td>\n      <td>0.387500</td>\n      <td>0.150000</td>\n      <td>22</td>\n      <td>6.32</td>\n      <td>Positive</td>\n      <td>0.075001</td>\n      <td>0.833001</td>\n      <td>0.092001</td>\n    </tr>\n    <tr>\n      <th>1620</th>\n      <td>2021-11-11 22:15:27+00:00</td>\n      <td>1458921338459111428</td>\n      <td>Let's aim for more #EXP and #NFTs rewards , on...</td>\n      <td>flexy_ahs</td>\n      <td>letaim for more and rewards once we start to p...</td>\n      <td>['letaim', 'rewards', 'start', 'play', 'later'...</td>\n      <td>letaim rewards start play later donmissed laun...</td>\n      <td>0.200000</td>\n      <td>-0.200000</td>\n      <td>11</td>\n      <td>5.55</td>\n      <td>Negative</td>\n      <td>0.497001</td>\n      <td>0.503001</td>\n      <td>0.000001</td>\n    </tr>\n    <tr>\n      <th>1621</th>\n      <td>2021-11-11 22:13:11+00:00</td>\n      <td>1458920769254309890</td>\n      <td>@ProTheDoge Why Choose #FLOKI Valhalla #Metave...</td>\n      <td>PaInIaMs</td>\n      <td>why choose valhalla upgradeable valhalla scarc...</td>\n      <td>['choose', 'valhalla', 'upgradeable', 'valhall...</td>\n      <td>choose valhalla upgradeable valhalla scarce ge...</td>\n      <td>0.525000</td>\n      <td>-0.100000</td>\n      <td>23</td>\n      <td>6.83</td>\n      <td>Negative</td>\n      <td>0.083001</td>\n      <td>0.917001</td>\n      <td>0.000001</td>\n    </tr>\n    <tr>\n      <th>1622</th>\n      <td>2021-11-11 22:12:07+00:00</td>\n      <td>1458920501653422085</td>\n      <td>$OWUV 0,0270$ damn someone sold in the last mi...</td>\n      <td>iwanooze1</td>\n      <td>owuv   damn someone sold in the last minute be...</td>\n      <td>['owuv', 'damn', 'someone', 'sold', 'last', 'm...</td>\n      <td>owuv damn someone sold last minute closed anyw...</td>\n      <td>0.392857</td>\n      <td>0.217857</td>\n      <td>22</td>\n      <td>5.73</td>\n      <td>Positive</td>\n      <td>0.096001</td>\n      <td>0.797001</td>\n      <td>0.108001</td>\n    </tr>\n  </tbody>\n</table>\n<p>162 rows × 15 columns</p>\n</div>"
     },
     "execution_count": 67,
     "metadata": {},
     "output_type": "execute_result"
    }
   ],
   "source": [
    "f_data"
   ],
   "metadata": {
    "collapsed": false,
    "pycharm": {
     "name": "#%%\n"
    }
   }
  },
  {
   "cell_type": "code",
   "execution_count": 68,
   "outputs": [],
   "source": [
    "# We are going to create a document-term matrix using CountVectorizer, and exclude common English stop words\n",
    "from sklearn.feature_extraction.text import CountVectorizer\n",
    "\n",
    "# Vedi pickle\n",
    "cv = CountVectorizer(stop_words='english')\n",
    "data_cv = cv.fit_transform(f_data.Text)\n",
    "data_dtm = pd.DataFrame(data_cv.toarray(), columns=cv.get_feature_names())\n",
    "data_dtm.index = f_data.index"
   ],
   "metadata": {
    "collapsed": false,
    "pycharm": {
     "name": "#%%\n"
    }
   }
  },
  {
   "cell_type": "code",
   "execution_count": 69,
   "outputs": [
    {
     "data": {
      "text/plain": "           1461  1462  1463  1464  1465  1466  1467  1468  1469  1470  ...  \\\nabilities     0     0     0     0     0     0     0     0     0     0  ...   \naboutlive     0     0     0     0     0     0     0     0     0     0  ...   \naccepting     0     0     0     0     0     0     0     0     0     0  ...   \nacquire       0     0     0     0     0     0     0     0     0     0  ...   \naction        0     0     0     0     0     0     0     0     0     0  ...   \n\n           1613  1614  1615  1616  1617  1618  1619  1620  1621  1622  \nabilities     0     0     0     0     0     1     0     0     1     0  \naboutlive     0     0     0     0     0     0     0     0     0     0  \naccepting     0     0     0     0     0     0     0     0     0     0  \nacquire       0     0     0     0     0     0     0     0     0     0  \naction        0     0     0     0     0     0     0     0     0     0  \n\n[5 rows x 162 columns]",
      "text/html": "<div>\n<style scoped>\n    .dataframe tbody tr th:only-of-type {\n        vertical-align: middle;\n    }\n\n    .dataframe tbody tr th {\n        vertical-align: top;\n    }\n\n    .dataframe thead th {\n        text-align: right;\n    }\n</style>\n<table border=\"1\" class=\"dataframe\">\n  <thead>\n    <tr style=\"text-align: right;\">\n      <th></th>\n      <th>1461</th>\n      <th>1462</th>\n      <th>1463</th>\n      <th>1464</th>\n      <th>1465</th>\n      <th>1466</th>\n      <th>1467</th>\n      <th>1468</th>\n      <th>1469</th>\n      <th>1470</th>\n      <th>...</th>\n      <th>1613</th>\n      <th>1614</th>\n      <th>1615</th>\n      <th>1616</th>\n      <th>1617</th>\n      <th>1618</th>\n      <th>1619</th>\n      <th>1620</th>\n      <th>1621</th>\n      <th>1622</th>\n    </tr>\n  </thead>\n  <tbody>\n    <tr>\n      <th>abilities</th>\n      <td>0</td>\n      <td>0</td>\n      <td>0</td>\n      <td>0</td>\n      <td>0</td>\n      <td>0</td>\n      <td>0</td>\n      <td>0</td>\n      <td>0</td>\n      <td>0</td>\n      <td>...</td>\n      <td>0</td>\n      <td>0</td>\n      <td>0</td>\n      <td>0</td>\n      <td>0</td>\n      <td>1</td>\n      <td>0</td>\n      <td>0</td>\n      <td>1</td>\n      <td>0</td>\n    </tr>\n    <tr>\n      <th>aboutlive</th>\n      <td>0</td>\n      <td>0</td>\n      <td>0</td>\n      <td>0</td>\n      <td>0</td>\n      <td>0</td>\n      <td>0</td>\n      <td>0</td>\n      <td>0</td>\n      <td>0</td>\n      <td>...</td>\n      <td>0</td>\n      <td>0</td>\n      <td>0</td>\n      <td>0</td>\n      <td>0</td>\n      <td>0</td>\n      <td>0</td>\n      <td>0</td>\n      <td>0</td>\n      <td>0</td>\n    </tr>\n    <tr>\n      <th>accepting</th>\n      <td>0</td>\n      <td>0</td>\n      <td>0</td>\n      <td>0</td>\n      <td>0</td>\n      <td>0</td>\n      <td>0</td>\n      <td>0</td>\n      <td>0</td>\n      <td>0</td>\n      <td>...</td>\n      <td>0</td>\n      <td>0</td>\n      <td>0</td>\n      <td>0</td>\n      <td>0</td>\n      <td>0</td>\n      <td>0</td>\n      <td>0</td>\n      <td>0</td>\n      <td>0</td>\n    </tr>\n    <tr>\n      <th>acquire</th>\n      <td>0</td>\n      <td>0</td>\n      <td>0</td>\n      <td>0</td>\n      <td>0</td>\n      <td>0</td>\n      <td>0</td>\n      <td>0</td>\n      <td>0</td>\n      <td>0</td>\n      <td>...</td>\n      <td>0</td>\n      <td>0</td>\n      <td>0</td>\n      <td>0</td>\n      <td>0</td>\n      <td>0</td>\n      <td>0</td>\n      <td>0</td>\n      <td>0</td>\n      <td>0</td>\n    </tr>\n    <tr>\n      <th>action</th>\n      <td>0</td>\n      <td>0</td>\n      <td>0</td>\n      <td>0</td>\n      <td>0</td>\n      <td>0</td>\n      <td>0</td>\n      <td>0</td>\n      <td>0</td>\n      <td>0</td>\n      <td>...</td>\n      <td>0</td>\n      <td>0</td>\n      <td>0</td>\n      <td>0</td>\n      <td>0</td>\n      <td>0</td>\n      <td>0</td>\n      <td>0</td>\n      <td>0</td>\n      <td>0</td>\n    </tr>\n  </tbody>\n</table>\n<p>5 rows × 162 columns</p>\n</div>"
     },
     "execution_count": 69,
     "metadata": {},
     "output_type": "execute_result"
    }
   ],
   "source": [
    "# One of the required inputs is a term-document matrix\n",
    "tdm = data_dtm.transpose()\n",
    "tdm.head()"
   ],
   "metadata": {
    "collapsed": false,
    "pycharm": {
     "name": "#%%\n"
    }
   }
  },
  {
   "cell_type": "code",
   "execution_count": 70,
   "outputs": [],
   "source": [
    "# We're going to put the term-document matrix into a new gensim format, from df --> sparse matrix --> gensim corpus\n",
    "sparse_counts = scipy.sparse.csr_matrix(data_dtm)\n",
    "corpus = matutils.Sparse2Corpus(sparse_counts)"
   ],
   "metadata": {
    "collapsed": false,
    "pycharm": {
     "name": "#%%\n"
    }
   }
  },
  {
   "cell_type": "code",
   "execution_count": 71,
   "outputs": [
    {
     "name": "stderr",
     "output_type": "stream",
     "text": [
      "/usr/local/lib/python3.9/site-packages/sklearn/base.py:310: UserWarning: Trying to unpickle estimator CountVectorizer from version 0.18.2 when using version 0.24.2. This might lead to breaking code or invalid results. Use at your own risk.\n",
      "  warnings.warn(\n"
     ]
    }
   ],
   "source": [
    "# Gensim also requires dictionary of the all terms and their respective location in the term-document matrix\n",
    "cv = pickle.load(open(\"../data/cv_stop.pkl\", \"rb\"))\n",
    "id2word = dict((v, k) for k, v in cv.vocabulary_.items())"
   ],
   "metadata": {
    "collapsed": false,
    "pycharm": {
     "name": "#%%\n"
    }
   }
  },
  {
   "cell_type": "code",
   "execution_count": 72,
   "outputs": [
    {
     "data": {
      "text/plain": "[(0,\n  '-0.535*\"ali\" + -0.535*\"alienate\" + -0.322*\"agagagain\" + -0.232*\"absorbing\" + -0.200*\"affection\" + -0.194*\"agrees\" + -0.148*\"advantage\" + -0.116*\"alien\" + -0.113*\"african\" + -0.111*\"ah\"'),\n (1,\n  '0.509*\"abc\" + 0.509*\"abcs\" + 0.509*\"ability\" + 0.199*\"adopting\" + 0.149*\"actions\" + 0.149*\"acting\" + 0.149*\"acquisitions\" + 0.094*\"al\" + 0.087*\"aidsthat\" + 0.087*\"achieve\"'),\n (2,\n  '0.460*\"acquisitions\" + 0.460*\"acting\" + 0.460*\"actions\" + -0.366*\"advantage\" + 0.176*\"activate\" + -0.125*\"aisha\" + -0.125*\"albany\" + 0.115*\"ali\" + 0.115*\"alienate\" + -0.101*\"absofuckinglutely\"')]"
     },
     "execution_count": 72,
     "metadata": {},
     "output_type": "execute_result"
    }
   ],
   "source": [
    "# Now that we have the corpus (term-document matrix) and id2word (dictionary of location: term),\n",
    "# we need to specify two other parameters as well - the number of topics and the number of passes # Now that we have the corpus (term-document matrix) and id2word (dictionary of location: term),\n",
    "# we need to specify two other parameters as well - the number of topics and the number of passes\n",
    "lsi = models.LsiModel(corpus, 3, id2word = id2word)\n",
    "lsi.print_topics()"
   ],
   "metadata": {
    "collapsed": false,
    "pycharm": {
     "name": "#%%\n"
    }
   }
  },
  {
   "cell_type": "code",
   "execution_count": 73,
   "outputs": [],
   "source": [
    "# Let's create a function to pull out nouns from a string of text\n",
    "from nltk import word_tokenize, pos_tag\n",
    "\n",
    "def nouns(text):\n",
    "    '''Given a string of text, tokenize the text and pull out only the nouns.'''\n",
    "    is_noun = lambda pos: pos[:2] == 'NN'\n",
    "    tokenized = word_tokenize(text)\n",
    "    all_nouns = [word for (word, pos) in pos_tag(tokenized) if is_noun(pos)]\n",
    "    return ' '.join(all_nouns)"
   ],
   "metadata": {
    "collapsed": false,
    "pycharm": {
     "name": "#%%\n"
    }
   }
  },
  {
   "cell_type": "code",
   "execution_count": 74,
   "outputs": [
    {
     "data": {
      "text/plain": "                                                   Text\n1461  blame markets observation dip run tries retrac...\n1462  news earth version december retweet tag friend...\n1463          manipulation paper hands moon mission ufo\n1464  announcement video mark zuckerburg somehow peo...\n1465       gamer aim innovator creator boundaries space\n...                                                 ...\n1618  valhalla valhalla scarce genesis game power ab...\n1619  verasity gaming tokes market capitalization da...\n1620             letaim rewards launching game play dge\n1621  valhalla valhalla scarce genesis game power ab...\n1622  damn someone minute catalysts movie hollywood ...\n\n[162 rows x 1 columns]",
      "text/html": "<div>\n<style scoped>\n    .dataframe tbody tr th:only-of-type {\n        vertical-align: middle;\n    }\n\n    .dataframe tbody tr th {\n        vertical-align: top;\n    }\n\n    .dataframe thead th {\n        text-align: right;\n    }\n</style>\n<table border=\"1\" class=\"dataframe\">\n  <thead>\n    <tr style=\"text-align: right;\">\n      <th></th>\n      <th>Text</th>\n    </tr>\n  </thead>\n  <tbody>\n    <tr>\n      <th>1461</th>\n      <td>blame markets observation dip run tries retrac...</td>\n    </tr>\n    <tr>\n      <th>1462</th>\n      <td>news earth version december retweet tag friend...</td>\n    </tr>\n    <tr>\n      <th>1463</th>\n      <td>manipulation paper hands moon mission ufo</td>\n    </tr>\n    <tr>\n      <th>1464</th>\n      <td>announcement video mark zuckerburg somehow peo...</td>\n    </tr>\n    <tr>\n      <th>1465</th>\n      <td>gamer aim innovator creator boundaries space</td>\n    </tr>\n    <tr>\n      <th>...</th>\n      <td>...</td>\n    </tr>\n    <tr>\n      <th>1618</th>\n      <td>valhalla valhalla scarce genesis game power ab...</td>\n    </tr>\n    <tr>\n      <th>1619</th>\n      <td>verasity gaming tokes market capitalization da...</td>\n    </tr>\n    <tr>\n      <th>1620</th>\n      <td>letaim rewards launching game play dge</td>\n    </tr>\n    <tr>\n      <th>1621</th>\n      <td>valhalla valhalla scarce genesis game power ab...</td>\n    </tr>\n    <tr>\n      <th>1622</th>\n      <td>damn someone minute catalysts movie hollywood ...</td>\n    </tr>\n  </tbody>\n</table>\n<p>162 rows × 1 columns</p>\n</div>"
     },
     "execution_count": 74,
     "metadata": {},
     "output_type": "execute_result"
    }
   ],
   "source": [
    "# Apply the nouns function to the transcripts to filter only on nouns\n",
    "data_nouns = pd.DataFrame(f_data.Text.apply(nouns))\n",
    "data_nouns"
   ],
   "metadata": {
    "collapsed": false,
    "pycharm": {
     "name": "#%%\n"
    }
   }
  },
  {
   "cell_type": "code",
   "execution_count": 75,
   "outputs": [
    {
     "data": {
      "text/plain": "      abilities  action  advantage  advice  advisor  age  aim  airdrop  \\\n1461          0       0          0       0        0    0    0        0   \n1462          0       0          0       0        0    0    0        0   \n1463          0       0          0       0        0    0    0        0   \n1464          0       0          0       0        0    0    0        0   \n1465          0       0          0       0        0    0    1        0   \n...         ...     ...        ...     ...      ...  ...  ...      ...   \n1618          1       0          0       0        0    0    0        0   \n1619          0       0          0       0        0    0    0        0   \n1620          0       0          0       0        0    0    0        0   \n1621          1       0          0       0        0    0    0        0   \n1622          0       0          0       0        0    0    0        0   \n\n      alonegreat  alsobig  ...  yazin  year  years  yon  yukari  zil  zombie  \\\n1461           0        0  ...      0     0      0    0       0    0       0   \n1462           0        0  ...      0     0      0    0       0    0       0   \n1463           0        0  ...      0     0      0    0       0    0       0   \n1464           0        0  ...      0     0      0    0       0    0       0   \n1465           0        0  ...      0     0      0    0       0    0       0   \n...          ...      ...  ...    ...   ...    ...  ...     ...  ...     ...   \n1618           0        0  ...      0     0      0    0       0    0       0   \n1619           0        0  ...      0     0      0    0       0    0       0   \n1620           0        0  ...      0     0      0    0       0    0       0   \n1621           0        0  ...      0     0      0    0       0    0       0   \n1622           0        0  ...      0     0      0    0       0    0       0   \n\n      zuck  zuckerburg  zucks  \n1461     0           0      0  \n1462     0           0      0  \n1463     0           0      0  \n1464     0           1      0  \n1465     0           0      0  \n...    ...         ...    ...  \n1618     0           0      0  \n1619     0           0      0  \n1620     0           0      0  \n1621     0           0      0  \n1622     0           0      0  \n\n[162 rows x 681 columns]",
      "text/html": "<div>\n<style scoped>\n    .dataframe tbody tr th:only-of-type {\n        vertical-align: middle;\n    }\n\n    .dataframe tbody tr th {\n        vertical-align: top;\n    }\n\n    .dataframe thead th {\n        text-align: right;\n    }\n</style>\n<table border=\"1\" class=\"dataframe\">\n  <thead>\n    <tr style=\"text-align: right;\">\n      <th></th>\n      <th>abilities</th>\n      <th>action</th>\n      <th>advantage</th>\n      <th>advice</th>\n      <th>advisor</th>\n      <th>age</th>\n      <th>aim</th>\n      <th>airdrop</th>\n      <th>alonegreat</th>\n      <th>alsobig</th>\n      <th>...</th>\n      <th>yazin</th>\n      <th>year</th>\n      <th>years</th>\n      <th>yon</th>\n      <th>yukari</th>\n      <th>zil</th>\n      <th>zombie</th>\n      <th>zuck</th>\n      <th>zuckerburg</th>\n      <th>zucks</th>\n    </tr>\n  </thead>\n  <tbody>\n    <tr>\n      <th>1461</th>\n      <td>0</td>\n      <td>0</td>\n      <td>0</td>\n      <td>0</td>\n      <td>0</td>\n      <td>0</td>\n      <td>0</td>\n      <td>0</td>\n      <td>0</td>\n      <td>0</td>\n      <td>...</td>\n      <td>0</td>\n      <td>0</td>\n      <td>0</td>\n      <td>0</td>\n      <td>0</td>\n      <td>0</td>\n      <td>0</td>\n      <td>0</td>\n      <td>0</td>\n      <td>0</td>\n    </tr>\n    <tr>\n      <th>1462</th>\n      <td>0</td>\n      <td>0</td>\n      <td>0</td>\n      <td>0</td>\n      <td>0</td>\n      <td>0</td>\n      <td>0</td>\n      <td>0</td>\n      <td>0</td>\n      <td>0</td>\n      <td>...</td>\n      <td>0</td>\n      <td>0</td>\n      <td>0</td>\n      <td>0</td>\n      <td>0</td>\n      <td>0</td>\n      <td>0</td>\n      <td>0</td>\n      <td>0</td>\n      <td>0</td>\n    </tr>\n    <tr>\n      <th>1463</th>\n      <td>0</td>\n      <td>0</td>\n      <td>0</td>\n      <td>0</td>\n      <td>0</td>\n      <td>0</td>\n      <td>0</td>\n      <td>0</td>\n      <td>0</td>\n      <td>0</td>\n      <td>...</td>\n      <td>0</td>\n      <td>0</td>\n      <td>0</td>\n      <td>0</td>\n      <td>0</td>\n      <td>0</td>\n      <td>0</td>\n      <td>0</td>\n      <td>0</td>\n      <td>0</td>\n    </tr>\n    <tr>\n      <th>1464</th>\n      <td>0</td>\n      <td>0</td>\n      <td>0</td>\n      <td>0</td>\n      <td>0</td>\n      <td>0</td>\n      <td>0</td>\n      <td>0</td>\n      <td>0</td>\n      <td>0</td>\n      <td>...</td>\n      <td>0</td>\n      <td>0</td>\n      <td>0</td>\n      <td>0</td>\n      <td>0</td>\n      <td>0</td>\n      <td>0</td>\n      <td>0</td>\n      <td>1</td>\n      <td>0</td>\n    </tr>\n    <tr>\n      <th>1465</th>\n      <td>0</td>\n      <td>0</td>\n      <td>0</td>\n      <td>0</td>\n      <td>0</td>\n      <td>0</td>\n      <td>1</td>\n      <td>0</td>\n      <td>0</td>\n      <td>0</td>\n      <td>...</td>\n      <td>0</td>\n      <td>0</td>\n      <td>0</td>\n      <td>0</td>\n      <td>0</td>\n      <td>0</td>\n      <td>0</td>\n      <td>0</td>\n      <td>0</td>\n      <td>0</td>\n    </tr>\n    <tr>\n      <th>...</th>\n      <td>...</td>\n      <td>...</td>\n      <td>...</td>\n      <td>...</td>\n      <td>...</td>\n      <td>...</td>\n      <td>...</td>\n      <td>...</td>\n      <td>...</td>\n      <td>...</td>\n      <td>...</td>\n      <td>...</td>\n      <td>...</td>\n      <td>...</td>\n      <td>...</td>\n      <td>...</td>\n      <td>...</td>\n      <td>...</td>\n      <td>...</td>\n      <td>...</td>\n      <td>...</td>\n    </tr>\n    <tr>\n      <th>1618</th>\n      <td>1</td>\n      <td>0</td>\n      <td>0</td>\n      <td>0</td>\n      <td>0</td>\n      <td>0</td>\n      <td>0</td>\n      <td>0</td>\n      <td>0</td>\n      <td>0</td>\n      <td>...</td>\n      <td>0</td>\n      <td>0</td>\n      <td>0</td>\n      <td>0</td>\n      <td>0</td>\n      <td>0</td>\n      <td>0</td>\n      <td>0</td>\n      <td>0</td>\n      <td>0</td>\n    </tr>\n    <tr>\n      <th>1619</th>\n      <td>0</td>\n      <td>0</td>\n      <td>0</td>\n      <td>0</td>\n      <td>0</td>\n      <td>0</td>\n      <td>0</td>\n      <td>0</td>\n      <td>0</td>\n      <td>0</td>\n      <td>...</td>\n      <td>0</td>\n      <td>0</td>\n      <td>0</td>\n      <td>0</td>\n      <td>0</td>\n      <td>0</td>\n      <td>0</td>\n      <td>0</td>\n      <td>0</td>\n      <td>0</td>\n    </tr>\n    <tr>\n      <th>1620</th>\n      <td>0</td>\n      <td>0</td>\n      <td>0</td>\n      <td>0</td>\n      <td>0</td>\n      <td>0</td>\n      <td>0</td>\n      <td>0</td>\n      <td>0</td>\n      <td>0</td>\n      <td>...</td>\n      <td>0</td>\n      <td>0</td>\n      <td>0</td>\n      <td>0</td>\n      <td>0</td>\n      <td>0</td>\n      <td>0</td>\n      <td>0</td>\n      <td>0</td>\n      <td>0</td>\n    </tr>\n    <tr>\n      <th>1621</th>\n      <td>1</td>\n      <td>0</td>\n      <td>0</td>\n      <td>0</td>\n      <td>0</td>\n      <td>0</td>\n      <td>0</td>\n      <td>0</td>\n      <td>0</td>\n      <td>0</td>\n      <td>...</td>\n      <td>0</td>\n      <td>0</td>\n      <td>0</td>\n      <td>0</td>\n      <td>0</td>\n      <td>0</td>\n      <td>0</td>\n      <td>0</td>\n      <td>0</td>\n      <td>0</td>\n    </tr>\n    <tr>\n      <th>1622</th>\n      <td>0</td>\n      <td>0</td>\n      <td>0</td>\n      <td>0</td>\n      <td>0</td>\n      <td>0</td>\n      <td>0</td>\n      <td>0</td>\n      <td>0</td>\n      <td>0</td>\n      <td>...</td>\n      <td>0</td>\n      <td>0</td>\n      <td>0</td>\n      <td>0</td>\n      <td>0</td>\n      <td>0</td>\n      <td>0</td>\n      <td>0</td>\n      <td>0</td>\n      <td>0</td>\n    </tr>\n  </tbody>\n</table>\n<p>162 rows × 681 columns</p>\n</div>"
     },
     "execution_count": 75,
     "metadata": {},
     "output_type": "execute_result"
    }
   ],
   "source": [
    "# Create a new document-term matrix using only nouns\n",
    "from sklearn.feature_extraction import text\n",
    "from sklearn.feature_extraction.text import CountVectorizer\n",
    "\n",
    "# Re-add the additional stop words since we are recreating the document-term matrix\n",
    "add_stop_words = ['like', 'im', 'know', 'just', 'dont', 'thats', 'right', 'people',\n",
    "                  'youre', 'got', 'gonna', 'time', 'think', 'yeah', 'said']\n",
    "stop_words = text.ENGLISH_STOP_WORDS.union(add_stop_words)\n",
    "\n",
    "# Recreate a document-term matrix with only nouns\n",
    "cvn = CountVectorizer(stop_words=stop_words)\n",
    "data_cvn = cvn.fit_transform(data_nouns.Text)\n",
    "data_dtmn = pd.DataFrame(data_cvn.toarray(), columns=cvn.get_feature_names())\n",
    "data_dtmn.index = data_nouns.index\n",
    "data_dtmn"
   ],
   "metadata": {
    "collapsed": false,
    "pycharm": {
     "name": "#%%\n"
    }
   }
  },
  {
   "cell_type": "code",
   "execution_count": 76,
   "outputs": [],
   "source": [
    "# Create the gensim corpus\n",
    "corpusn = matutils.Sparse2Corpus(scipy.sparse.csr_matrix(data_dtmn.transpose()))\n",
    "\n",
    "# Create the vocabulary dictionary\n",
    "id2wordn = dict((v, k) for k, v in cvn.vocabulary_.items())"
   ],
   "metadata": {
    "collapsed": false,
    "pycharm": {
     "name": "#%%\n"
    }
   }
  },
  {
   "cell_type": "code",
   "execution_count": 77,
   "outputs": [
    {
     "data": {
      "text/plain": "[(0,\n  '-0.856*\"game\" + -0.240*\"valhalla\" + -0.146*\"developers\" + -0.126*\"team\" + -0.120*\"power\" + -0.120*\"items\" + -0.118*\"abilities\" + -0.118*\"marketing\" + -0.118*\"genesis\" + -0.118*\"scarce\"'),\n (1,\n  '-0.432*\"discord\" + -0.357*\"check\" + -0.321*\"twitter\" + -0.290*\"retweet\" + -0.273*\"look\" + -0.273*\"server\" + -0.273*\"computer\" + -0.273*\"apes\" + -0.273*\"letlet\" + -0.174*\"join\"'),\n (2,\n  '0.488*\"way\" + 0.389*\"join\" + 0.308*\"change\" + 0.213*\"ownership\" + 0.207*\"donbe\" + -0.168*\"valhalla\" + 0.165*\"today\" + 0.154*\"income\" + 0.154*\"creatingfuture\" + 0.154*\"view\"')]"
     },
     "execution_count": 77,
     "metadata": {},
     "output_type": "execute_result"
    }
   ],
   "source": [
    "# Let's try topics = 3\n",
    "lsin = models.LsiModel(corpusn, 3, id2word = id2wordn)\n",
    "lsin.print_topics()"
   ],
   "metadata": {
    "collapsed": false,
    "pycharm": {
     "name": "#%%\n"
    }
   }
  },
  {
   "cell_type": "code",
   "execution_count": 78,
   "outputs": [],
   "source": [
    "# Let's create a function to pull out nouns from a string of text\n",
    "def nouns_adj(text):\n",
    "    '''Given a string of text, tokenize the text and pull out only the nouns and adjectives.'''\n",
    "    is_noun_adj = lambda pos: pos[:2] == 'NN' or pos[:2] == 'JJ'\n",
    "    tokenized = word_tokenize(text)\n",
    "    nouns_adj = [word for (word, pos) in pos_tag(tokenized) if is_noun_adj(pos)]\n",
    "    return ' '.join(nouns_adj)"
   ],
   "metadata": {
    "collapsed": false,
    "pycharm": {
     "name": "#%%\n"
    }
   }
  },
  {
   "cell_type": "code",
   "execution_count": 79,
   "outputs": [
    {
     "data": {
      "text/plain": "                                                   Text\n1461  downi blame markets hopium observation dip set...\n1462  news earth version december retweet tag friend...\n1463      manipulation paper hands dip moon mission ufo\n1464  announcement video mark zuckerburg somehow rob...\n1465  gamer worst aim hean amazing innovator creator...\n...                                                 ...\n1618  choose valhalla upgradeable valhalla scarce ge...\n1619  verasity top gaming tokes market capitalizatio...\n1620             letaim rewards launching game play dge\n1621  choose valhalla upgradeable valhalla scarce ge...\n1622  damn someone last minute many catalysts mvp mo...\n\n[162 rows x 1 columns]",
      "text/html": "<div>\n<style scoped>\n    .dataframe tbody tr th:only-of-type {\n        vertical-align: middle;\n    }\n\n    .dataframe tbody tr th {\n        vertical-align: top;\n    }\n\n    .dataframe thead th {\n        text-align: right;\n    }\n</style>\n<table border=\"1\" class=\"dataframe\">\n  <thead>\n    <tr style=\"text-align: right;\">\n      <th></th>\n      <th>Text</th>\n    </tr>\n  </thead>\n  <tbody>\n    <tr>\n      <th>1461</th>\n      <td>downi blame markets hopium observation dip set...</td>\n    </tr>\n    <tr>\n      <th>1462</th>\n      <td>news earth version december retweet tag friend...</td>\n    </tr>\n    <tr>\n      <th>1463</th>\n      <td>manipulation paper hands dip moon mission ufo</td>\n    </tr>\n    <tr>\n      <th>1464</th>\n      <td>announcement video mark zuckerburg somehow rob...</td>\n    </tr>\n    <tr>\n      <th>1465</th>\n      <td>gamer worst aim hean amazing innovator creator...</td>\n    </tr>\n    <tr>\n      <th>...</th>\n      <td>...</td>\n    </tr>\n    <tr>\n      <th>1618</th>\n      <td>choose valhalla upgradeable valhalla scarce ge...</td>\n    </tr>\n    <tr>\n      <th>1619</th>\n      <td>verasity top gaming tokes market capitalizatio...</td>\n    </tr>\n    <tr>\n      <th>1620</th>\n      <td>letaim rewards launching game play dge</td>\n    </tr>\n    <tr>\n      <th>1621</th>\n      <td>choose valhalla upgradeable valhalla scarce ge...</td>\n    </tr>\n    <tr>\n      <th>1622</th>\n      <td>damn someone last minute many catalysts mvp mo...</td>\n    </tr>\n  </tbody>\n</table>\n<p>162 rows × 1 columns</p>\n</div>"
     },
     "execution_count": 79,
     "metadata": {},
     "output_type": "execute_result"
    }
   ],
   "source": [
    "# Apply the nouns function to the transcripts to filter only on nouns\n",
    "data_nouns_adj = pd.DataFrame(f_data.Text.apply(nouns_adj))\n",
    "data_nouns_adj"
   ],
   "metadata": {
    "collapsed": false,
    "pycharm": {
     "name": "#%%\n"
    }
   }
  },
  {
   "cell_type": "code",
   "execution_count": 80,
   "outputs": [
    {
     "data": {
      "text/plain": "      abilities  aboutlive  action  active  advantage  advice  advisor  \\\n1461          0          0       0       0          0       0        0   \n1462          0          0       0       0          0       0        0   \n1463          0          0       0       0          0       0        0   \n1464          0          0       0       0          0       0        0   \n1465          0          0       0       0          0       0        0   \n...         ...        ...     ...     ...        ...     ...      ...   \n1618          1          0       0       0          0       0        0   \n1619          0          0       0       0          0       0        0   \n1620          0          0       0       0          0       0        0   \n1621          1          0       0       0          0       0        0   \n1622          0          0       0       0          0       0        0   \n\n      afraid  age  aim  ...  yazin  year  years  yon  yukari  zil  zombie  \\\n1461       0    0    0  ...      0     0      0    0       0    0       0   \n1462       0    0    0  ...      0     0      0    0       0    0       0   \n1463       0    0    0  ...      0     0      0    0       0    0       0   \n1464       0    0    0  ...      0     0      0    0       0    0       0   \n1465       0    0    1  ...      0     0      0    0       0    0       0   \n...      ...  ...  ...  ...    ...   ...    ...  ...     ...  ...     ...   \n1618       0    0    0  ...      0     0      0    0       0    0       0   \n1619       0    0    0  ...      0     0      0    0       0    0       0   \n1620       0    0    0  ...      0     0      0    0       0    0       0   \n1621       0    0    0  ...      0     0      0    0       0    0       0   \n1622       0    0    0  ...      0     0      0    0       0    0       0   \n\n      zuck  zuckerburg  zucks  \n1461     0           0      0  \n1462     0           0      0  \n1463     0           0      0  \n1464     0           1      0  \n1465     0           0      0  \n...    ...         ...    ...  \n1618     0           0      0  \n1619     0           0      0  \n1620     0           0      0  \n1621     0           0      0  \n1622     0           0      0  \n\n[162 rows x 903 columns]",
      "text/html": "<div>\n<style scoped>\n    .dataframe tbody tr th:only-of-type {\n        vertical-align: middle;\n    }\n\n    .dataframe tbody tr th {\n        vertical-align: top;\n    }\n\n    .dataframe thead th {\n        text-align: right;\n    }\n</style>\n<table border=\"1\" class=\"dataframe\">\n  <thead>\n    <tr style=\"text-align: right;\">\n      <th></th>\n      <th>abilities</th>\n      <th>aboutlive</th>\n      <th>action</th>\n      <th>active</th>\n      <th>advantage</th>\n      <th>advice</th>\n      <th>advisor</th>\n      <th>afraid</th>\n      <th>age</th>\n      <th>aim</th>\n      <th>...</th>\n      <th>yazin</th>\n      <th>year</th>\n      <th>years</th>\n      <th>yon</th>\n      <th>yukari</th>\n      <th>zil</th>\n      <th>zombie</th>\n      <th>zuck</th>\n      <th>zuckerburg</th>\n      <th>zucks</th>\n    </tr>\n  </thead>\n  <tbody>\n    <tr>\n      <th>1461</th>\n      <td>0</td>\n      <td>0</td>\n      <td>0</td>\n      <td>0</td>\n      <td>0</td>\n      <td>0</td>\n      <td>0</td>\n      <td>0</td>\n      <td>0</td>\n      <td>0</td>\n      <td>...</td>\n      <td>0</td>\n      <td>0</td>\n      <td>0</td>\n      <td>0</td>\n      <td>0</td>\n      <td>0</td>\n      <td>0</td>\n      <td>0</td>\n      <td>0</td>\n      <td>0</td>\n    </tr>\n    <tr>\n      <th>1462</th>\n      <td>0</td>\n      <td>0</td>\n      <td>0</td>\n      <td>0</td>\n      <td>0</td>\n      <td>0</td>\n      <td>0</td>\n      <td>0</td>\n      <td>0</td>\n      <td>0</td>\n      <td>...</td>\n      <td>0</td>\n      <td>0</td>\n      <td>0</td>\n      <td>0</td>\n      <td>0</td>\n      <td>0</td>\n      <td>0</td>\n      <td>0</td>\n      <td>0</td>\n      <td>0</td>\n    </tr>\n    <tr>\n      <th>1463</th>\n      <td>0</td>\n      <td>0</td>\n      <td>0</td>\n      <td>0</td>\n      <td>0</td>\n      <td>0</td>\n      <td>0</td>\n      <td>0</td>\n      <td>0</td>\n      <td>0</td>\n      <td>...</td>\n      <td>0</td>\n      <td>0</td>\n      <td>0</td>\n      <td>0</td>\n      <td>0</td>\n      <td>0</td>\n      <td>0</td>\n      <td>0</td>\n      <td>0</td>\n      <td>0</td>\n    </tr>\n    <tr>\n      <th>1464</th>\n      <td>0</td>\n      <td>0</td>\n      <td>0</td>\n      <td>0</td>\n      <td>0</td>\n      <td>0</td>\n      <td>0</td>\n      <td>0</td>\n      <td>0</td>\n      <td>0</td>\n      <td>...</td>\n      <td>0</td>\n      <td>0</td>\n      <td>0</td>\n      <td>0</td>\n      <td>0</td>\n      <td>0</td>\n      <td>0</td>\n      <td>0</td>\n      <td>1</td>\n      <td>0</td>\n    </tr>\n    <tr>\n      <th>1465</th>\n      <td>0</td>\n      <td>0</td>\n      <td>0</td>\n      <td>0</td>\n      <td>0</td>\n      <td>0</td>\n      <td>0</td>\n      <td>0</td>\n      <td>0</td>\n      <td>1</td>\n      <td>...</td>\n      <td>0</td>\n      <td>0</td>\n      <td>0</td>\n      <td>0</td>\n      <td>0</td>\n      <td>0</td>\n      <td>0</td>\n      <td>0</td>\n      <td>0</td>\n      <td>0</td>\n    </tr>\n    <tr>\n      <th>...</th>\n      <td>...</td>\n      <td>...</td>\n      <td>...</td>\n      <td>...</td>\n      <td>...</td>\n      <td>...</td>\n      <td>...</td>\n      <td>...</td>\n      <td>...</td>\n      <td>...</td>\n      <td>...</td>\n      <td>...</td>\n      <td>...</td>\n      <td>...</td>\n      <td>...</td>\n      <td>...</td>\n      <td>...</td>\n      <td>...</td>\n      <td>...</td>\n      <td>...</td>\n      <td>...</td>\n    </tr>\n    <tr>\n      <th>1618</th>\n      <td>1</td>\n      <td>0</td>\n      <td>0</td>\n      <td>0</td>\n      <td>0</td>\n      <td>0</td>\n      <td>0</td>\n      <td>0</td>\n      <td>0</td>\n      <td>0</td>\n      <td>...</td>\n      <td>0</td>\n      <td>0</td>\n      <td>0</td>\n      <td>0</td>\n      <td>0</td>\n      <td>0</td>\n      <td>0</td>\n      <td>0</td>\n      <td>0</td>\n      <td>0</td>\n    </tr>\n    <tr>\n      <th>1619</th>\n      <td>0</td>\n      <td>0</td>\n      <td>0</td>\n      <td>0</td>\n      <td>0</td>\n      <td>0</td>\n      <td>0</td>\n      <td>0</td>\n      <td>0</td>\n      <td>0</td>\n      <td>...</td>\n      <td>0</td>\n      <td>0</td>\n      <td>0</td>\n      <td>0</td>\n      <td>0</td>\n      <td>0</td>\n      <td>0</td>\n      <td>0</td>\n      <td>0</td>\n      <td>0</td>\n    </tr>\n    <tr>\n      <th>1620</th>\n      <td>0</td>\n      <td>0</td>\n      <td>0</td>\n      <td>0</td>\n      <td>0</td>\n      <td>0</td>\n      <td>0</td>\n      <td>0</td>\n      <td>0</td>\n      <td>0</td>\n      <td>...</td>\n      <td>0</td>\n      <td>0</td>\n      <td>0</td>\n      <td>0</td>\n      <td>0</td>\n      <td>0</td>\n      <td>0</td>\n      <td>0</td>\n      <td>0</td>\n      <td>0</td>\n    </tr>\n    <tr>\n      <th>1621</th>\n      <td>1</td>\n      <td>0</td>\n      <td>0</td>\n      <td>0</td>\n      <td>0</td>\n      <td>0</td>\n      <td>0</td>\n      <td>0</td>\n      <td>0</td>\n      <td>0</td>\n      <td>...</td>\n      <td>0</td>\n      <td>0</td>\n      <td>0</td>\n      <td>0</td>\n      <td>0</td>\n      <td>0</td>\n      <td>0</td>\n      <td>0</td>\n      <td>0</td>\n      <td>0</td>\n    </tr>\n    <tr>\n      <th>1622</th>\n      <td>0</td>\n      <td>0</td>\n      <td>0</td>\n      <td>0</td>\n      <td>0</td>\n      <td>0</td>\n      <td>0</td>\n      <td>0</td>\n      <td>0</td>\n      <td>0</td>\n      <td>...</td>\n      <td>0</td>\n      <td>0</td>\n      <td>0</td>\n      <td>0</td>\n      <td>0</td>\n      <td>0</td>\n      <td>0</td>\n      <td>0</td>\n      <td>0</td>\n      <td>0</td>\n    </tr>\n  </tbody>\n</table>\n<p>162 rows × 903 columns</p>\n</div>"
     },
     "execution_count": 80,
     "metadata": {},
     "output_type": "execute_result"
    }
   ],
   "source": [
    "# Create a new document-term matrix using only nouns and adjectives, also remove common words with max_df\n",
    "cvna = CountVectorizer(stop_words=stop_words, max_df=.8)\n",
    "data_cvna = cvna.fit_transform(data_nouns_adj.Text)\n",
    "data_dtmna = pd.DataFrame(data_cvna.toarray(), columns=cvna.get_feature_names())\n",
    "data_dtmna.index = data_nouns_adj.index\n",
    "data_dtmna"
   ],
   "metadata": {
    "collapsed": false,
    "pycharm": {
     "name": "#%%\n"
    }
   }
  },
  {
   "cell_type": "code",
   "execution_count": 81,
   "outputs": [],
   "source": [
    "# Create the gensim corpus\n",
    "corpusna = matutils.Sparse2Corpus(scipy.sparse.csr_matrix(data_dtmna.transpose()))\n",
    "\n",
    "# Create the vocabulary dictionary\n",
    "id2wordna = dict((v, k) for k, v in cvna.vocabulary_.items())"
   ],
   "metadata": {
    "collapsed": false,
    "pycharm": {
     "name": "#%%\n"
    }
   }
  },
  {
   "cell_type": "code",
   "execution_count": 83,
   "outputs": [
    {
     "data": {
      "text/plain": "[(0,\n  '-0.806*\"game\" + -0.243*\"valhalla\" + -0.146*\"developers\" + -0.127*\"team\" + -0.122*\"power\" + -0.121*\"items\" + -0.120*\"scarce\" + -0.120*\"marketing\" + -0.120*\"burnable\" + -0.120*\"ups\"'),\n (1,\n  '0.414*\"real\" + 0.371*\"check\" + 0.275*\"discord\" + 0.229*\"twitter\" + 0.224*\"internet\" + 0.212*\"retweet\" + 0.204*\"server\" + 0.204*\"look\" + 0.204*\"letlet\" + 0.204*\"computer\"'),\n (2,\n  '-0.407*\"way\" + -0.311*\"join\" + -0.260*\"change\" + -0.260*\"perceive\" + -0.199*\"donbe\" + 0.185*\"valhalla\" + -0.179*\"ownership\" + -0.148*\"discord\" + -0.142*\"digital\" + -0.139*\"today\"'),\n (3,\n  '0.265*\"discord\" + -0.263*\"live\" + -0.260*\"tech\" + -0.229*\"williams\" + -0.206*\"minutes\" + -0.206*\"lead\" + -0.206*\"meet\" + -0.206*\"writer\" + -0.206*\"timecoo\" + 0.186*\"internet\"'),\n (4,\n  '0.242*\"virtual\" + -0.232*\"game\" + 0.202*\"valhalla\" + 0.185*\"way\" + 0.184*\"land\" + 0.181*\"join\" + 0.156*\"world\" + 0.141*\"location\" + 0.141*\"url\" + 0.141*\"avatar\"'),\n (5,\n  '0.280*\"world\" + 0.260*\"years\" + 0.260*\"life\" + 0.233*\"difficult\" + 0.177*\"ground\" + 0.159*\"future\" + 0.157*\"different\" + -0.157*\"way\" + 0.142*\"virtual\" + 0.141*\"entire\"'),\n (6,\n  '-0.282*\"virtual\" + -0.246*\"url\" + -0.246*\"avatar\" + -0.246*\"location\" + -0.242*\"land\" + 0.225*\"way\" + 0.193*\"years\" + 0.146*\"difficult\" + 0.142*\"perceive\" + 0.142*\"change\"'),\n (7,\n  '-0.383*\"sale\" + -0.277*\"date\" + -0.260*\"dictum\" + -0.260*\"utd\" + -0.260*\"drive\" + -0.260*\"mean\" + -0.260*\"buy\" + -0.260*\"domain\" + -0.260*\"ultimate\" + -0.260*\"united\"')]"
     },
     "execution_count": 83,
     "metadata": {},
     "output_type": "execute_result"
    }
   ],
   "source": [
    "# Let's try 3 topics\n",
    "ldana = models.LsiModel(corpus=corpusna, num_topics=8, id2word=id2wordna)\n",
    "ldana.print_topics()"
   ],
   "metadata": {
    "collapsed": false,
    "pycharm": {
     "name": "#%%\n"
    }
   }
  },
  {
   "cell_type": "code",
   "execution_count": 84,
   "outputs": [],
   "source": [
    "from gensim import corpora\n",
    "word2id = dict((k, v) for k, v in cvna.vocabulary_.items())\n",
    "d = corpora.Dictionary()\n",
    "d.id2token = id2word\n",
    "d.token2id = word2id"
   ],
   "metadata": {
    "collapsed": false,
    "pycharm": {
     "name": "#%%\n"
    }
   }
  },
  {
   "cell_type": "code",
   "execution_count": 250,
   "outputs": [],
   "source": [
    "# supporting function\n",
    "def compute_coherence_values(corpus, dictionary, k):\n",
    "    lsi_model = models.LsiModel(corpus=corpus, num_topics=k, id2word=dictionary)\n",
    "    coherence_model_lda = CoherenceModel(model=lsi_model, corpus=corpus,dictionary=dictionary, coherence='u_mass')\n",
    "    return coherence_model_lda.get_coherence()"
   ],
   "metadata": {
    "collapsed": false,
    "pycharm": {
     "name": "#%%\n"
    }
   }
  },
  {
   "cell_type": "code",
   "execution_count": 251,
   "outputs": [
    {
     "data": {
      "text/plain": "-11.868115201124464"
     },
     "execution_count": 251,
     "metadata": {},
     "output_type": "execute_result"
    }
   ],
   "source": [
    "compute_coherence_values(corpusna,d,2)"
   ],
   "metadata": {
    "collapsed": false,
    "pycharm": {
     "name": "#%%\n"
    }
   }
  },
  {
   "cell_type": "code",
   "execution_count": 252,
   "outputs": [],
   "source": [
    "import numpy as np\n",
    "from gensim import models\n",
    "# Topics range\n",
    "min_topics = 2\n",
    "max_topics = 10\n",
    "step_size = 1\n",
    "topics_range = range(min_topics, max_topics, step_size)\n",
    "# Alpha parameter\n",
    "# Validation sets\n",
    "model_results = {\n",
    "                 'Topics': [],\n",
    "                 'Coherence': []\n",
    "                }\n",
    "\n",
    "# Can take a long time to run\n",
    "if 1 == 1:\n",
    "        # iterate through number of topics\n",
    "    for k in topics_range:\n",
    "\n",
    "                    # get the coherence score for the given parameters\n",
    "        cv = compute_coherence_values(corpus=corpusna, dictionary=d,\n",
    "                                                  k=k)\n",
    "                    # Save the model results\n",
    "        model_results['Topics'].append(k)\n",
    "        model_results['Coherence'].append(cv)"
   ],
   "metadata": {
    "collapsed": false,
    "pycharm": {
     "name": "#%%\n"
    }
   }
  },
  {
   "cell_type": "code",
   "execution_count": 253,
   "outputs": [
    {
     "data": {
      "text/plain": "{'Topics': [2, 3, 4, 5, 6, 7, 8, 9],\n 'Coherence': [-11.921655520225741,\n  -12.220053865115704,\n  -14.015426242012786,\n  -14.33420610647114,\n  -13.921296728846398,\n  -14.452054908598395,\n  -12.806295910708108,\n  -14.234763733714901]}"
     },
     "execution_count": 253,
     "metadata": {},
     "output_type": "execute_result"
    }
   ],
   "source": [
    "model_results"
   ],
   "metadata": {
    "collapsed": false,
    "pycharm": {
     "name": "#%%\n"
    }
   }
  },
  {
   "cell_type": "code",
   "execution_count": 254,
   "outputs": [
    {
     "data": {
      "text/plain": "<Figure size 432x288 with 1 Axes>",
      "image/png": "[encoded data removed]"
     },
     "metadata": {
      "needs_background": "light"
     },
     "output_type": "display_data"
    }
   ],
   "source": [
    "import matplotlib.pyplot as plt\n",
    "def plot_graph(model_results):\n",
    "    plt.plot(model_results['Topics'], model_results['Coherence'])\n",
    "    plt.xlabel(\"Number of Topics\")\n",
    "    plt.ylabel(\"Coherence score\")\n",
    "    plt.legend(\"coherence_values\", loc='best')\n",
    "    plt.show()\n",
    "\n",
    "plot_graph(model_results)"
   ],
   "metadata": {
    "collapsed": false,
    "pycharm": {
     "name": "#%%\n"
    }
   }
  },
  {
   "cell_type": "code",
   "execution_count": 255,
   "outputs": [],
   "source": [
    "results = pd.DataFrame(model_results)"
   ],
   "metadata": {
    "collapsed": false,
    "pycharm": {
     "name": "#%%\n"
    }
   }
  },
  {
   "cell_type": "code",
   "execution_count": 256,
   "outputs": [],
   "source": [
    "results.to_csv(\"../data/resultsLSI062022.csv\",index=False)"
   ],
   "metadata": {
    "collapsed": false,
    "pycharm": {
     "name": "#%%\n"
    }
   }
  },
  {
   "cell_type": "code",
   "execution_count": 121,
   "outputs": [],
   "source": [],
   "metadata": {
    "collapsed": false,
    "pycharm": {
     "name": "#%%\n"
    }
   }
  },
  {
   "cell_type": "code",
   "execution_count": null,
   "outputs": [],
   "source": [],
   "metadata": {
    "collapsed": false,
    "pycharm": {
     "name": "#%%\n"
    }
   }
  }
 ],
 "metadata": {
  "kernelspec": {
   "display_name": "Python 3",
   "language": "python",
   "name": "python3"
  },
  "language_info": {
   "codemirror_mode": {
    "name": "ipython",
    "version": 2
   },
   "file_extension": ".py",
   "mimetype": "text/x-python",
   "name": "python",
   "nbconvert_exporter": "python",
   "pygments_lexer": "ipython2",
   "version": "2.7.6"
  }
 },
 "nbformat": 4,
 "nbformat_minor": 0
}