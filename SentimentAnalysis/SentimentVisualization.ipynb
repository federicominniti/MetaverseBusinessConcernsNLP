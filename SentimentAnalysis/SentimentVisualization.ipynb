{
 "cells": [
  {
   "cell_type": "code",
   "execution_count": null,
   "outputs": [],
   "source": [
    "import pandas as pd # data processing, CSV file I/O (e.g. pd.read_csv)\n",
    "import nltk\n",
    "import matplotlib.pyplot as plt\n",
    "import seaborn as sns\n",
    "sns.set_style('darkgrid')\n",
    "import plotly.express as ex\n",
    "import plotly.graph_objs as go\n",
    "import plotly.offline as pyo\n",
    "from plotly.subplots import make_subplots\n",
    "pyo.init_notebook_mode()\n",
    "nltk.download('vader_lexicon')\n",
    "from wordcloud import WordCloud,STOPWORDS"
   ],
   "metadata": {
    "collapsed": false,
    "pycharm": {
     "name": "#%%\n"
    }
   }
  },
  {
   "cell_type": "code",
   "execution_count": null,
   "outputs": [],
   "source": [
    "f_data = pd.read_csv('../data/tweets_final_PS.csv')\n",
    "# Or SIA\n",
    "f_data.head(3)"
   ],
   "metadata": {
    "collapsed": false,
    "pycharm": {
     "name": "#%%\n"
    }
   }
  },
  {
   "cell_type": "code",
   "execution_count": null,
   "outputs": [],
   "source": [
    "f_data['Sentiment'].value_counts()\n",
    "plt.title('Sentiment Analysis')\n",
    "plt.xlabel('Polarity')\n",
    "plt.ylabel('Subjectivity')\n",
    "f_data['Sentiment'].value_counts().plot(kind='bar')\n",
    "plt.show()"
   ],
   "metadata": {
    "collapsed": false,
    "pycharm": {
     "name": "#%%\n"
    }
   }
  },
  {
   "cell_type": "code",
   "execution_count": null,
   "outputs": [],
   "source": [
    "plt.title('Distribution Of Sentiments Across Our Tweets',fontsize=19,fontweight='bold')\n",
    "sns.kdeplot(f_data.iloc[f_data['Sentiment'] == 'Negative',:])\n",
    "sns.kdeplot(f_data.iloc[f_data['Sentiment'] == 'Positive',:])\n",
    "sns.kdeplot(f_data.iloc[f_data['Sentiment'] == 'Neutral',:])\n",
    "plt.legend(title='Sentiment', loc='upper left', labels=['Negative', 'Positive', 'Neutral'])\n",
    "plt.show()"
   ],
   "metadata": {
    "collapsed": false,
    "pycharm": {
     "name": "#%%\n"
    }
   }
  },
  {
   "cell_type": "code",
   "execution_count": null,
   "outputs": [],
   "source": [
    "#Sorting And Feature Engineering\n",
    "f_data = f_data.sort_values(by='Datetime')\n",
    "ft_data=f_data.copy()\n",
    "ft_data['date'] = pd.to_datetime(f_data['Datetime']).dt.date\n",
    "ft_data['year']         = pd.DatetimeIndex(ft_data['date']).year\n",
    "ft_data['month']        = pd.DatetimeIndex(ft_data['date']).month\n",
    "ft_data['day']          = pd.DatetimeIndex(ft_data['date']).day\n",
    "ft_data['day_of_year']  = pd.DatetimeIndex(ft_data['date']).dayofyear\n",
    "ft_data['quarter']      = pd.DatetimeIndex(ft_data['date']).quarter\n",
    "ft_data['season']       = ft_data.month % 12 // 3 + 1"
   ],
   "metadata": {
    "collapsed": false,
    "pycharm": {
     "name": "#%%\n"
    }
   }
  },
  {
   "cell_type": "code",
   "execution_count": null,
   "outputs": [],
   "source": [
    "fig = make_subplots(rows=1, cols=2)\n",
    "fig.add_trace(go.Scatter(x=ft_data['date'], y=ft_data['Positive Sentiment'],name='Positive Sentiments'),row=1, col=1)\n",
    "fig.add_trace(go.Scatter(x=ft_data['date'], y=ft_data['Negative Sentiment'],name='Negative Sentiments'),row=1, col=2)\n",
    "fig.update_layout(height=600, width=900, title_text=\"Distribution Of Daily Sentiments\")\n",
    "fig.show()"
   ],
   "metadata": {
    "collapsed": false,
    "pycharm": {
     "name": "#%%\n"
    }
   }
  },
  {
   "cell_type": "code",
   "execution_count": null,
   "outputs": [],
   "source": [
    "b_date_mean = ft_data.groupby(by='date').mean().reset_index()\n",
    "b_date_std = ft_data.groupby(by='date').std().reset_index()\n",
    "\n",
    "\n",
    "fig = make_subplots(rows=2, cols=1,shared_xaxes=True,subplot_titles=('Daily Average Positive Sentiment',  'Daily Average Negative Sentiment'))\n",
    "\n",
    "fig.add_trace(\n",
    "    go.Scatter(x=b_date_mean['date'], y=b_date_mean['Positive Sentiment'],name='Positive Sentiment Mean'),\n",
    "    row=1, col=1\n",
    ")\n",
    "\n",
    "\n",
    "#positive mean\n",
    "fig.add_shape(type=\"line\",\n",
    "    x0=b_date_mean['date'].values[0], y0=b_date_mean['Positive Sentiment'].mean(), x1=b_date_mean['date'].values[-1], y1=b_date_mean['Positive Sentiment'].mean(),\n",
    "    line=dict(\n",
    "        color=\"Red\",\n",
    "        width=2,\n",
    "        dash=\"dashdot\",\n",
    "    ),\n",
    "        name='Mean'\n",
    ")\n",
    "fig.add_trace(\n",
    "    go.Scatter(x=b_date_mean['date'], y=b_date_mean['Negative Sentiment'],name='Negative Sentiment Mean'),\n",
    "    row=2, col=1\n",
    ")\n",
    "\n",
    "#negative mean\n",
    "fig.add_shape(type=\"line\",\n",
    "    x0=b_date_mean['date'].values[0], y0=b_date_mean['Negative Sentiment'].mean(), x1=b_date_mean['date'].values[-1], y1=b_date_mean['Negative Sentiment'].mean(),\n",
    "    line=dict(\n",
    "        color=\"Red\",\n",
    "        width=2,\n",
    "        dash=\"dashdot\",\n",
    "    ),\n",
    "        name='Mean',\n",
    "        xref='x2',\n",
    "        yref='y2'\n",
    ")\n",
    "\n",
    "\n",
    "fig['layout']['xaxis2']['title'] = 'Date'\n",
    "fig.update_layout(height=700, width=900, title_text=\"Sentiment Average Change With Time\")\n",
    "fig.show()"
   ],
   "metadata": {
    "collapsed": false,
    "pycharm": {
     "name": "#%%\n"
    }
   }
  },
  {
   "cell_type": "code",
   "execution_count": null,
   "outputs": [],
   "source": [
    "fig = make_subplots(rows=2, cols=1,shared_xaxes=True,subplot_titles=('Daily Deviation in Positive Sentiment',  'Daily Deviation in Negative Sentiment'))\n",
    "\n",
    "fig.add_trace(\n",
    "    go.Scatter(x=b_date_std['date'], y=b_date_std['Positive Sentiment'],name='Positive Sentiment SD'),\n",
    "    row=1, col=1\n",
    ")\n",
    "\n",
    "#negative mean\n",
    "fig.add_shape(type=\"line\",\n",
    "    x0=b_date_std['date'].values[0], y0=b_date_std['Negative Sentiment'].mean(), x1=b_date_std['date'].values[-1], y1=b_date_std['Negative Sentiment'].mean(),\n",
    "    line=dict(\n",
    "        color=\"Red\",\n",
    "        width=2,\n",
    "        dash=\"dashdot\",\n",
    "    ),\n",
    "        name='Mean',\n",
    "        xref='x2',\n",
    "        yref='y2'\n",
    ")\n",
    "\n",
    "#negative mean\n",
    "fig.add_shape(type=\"line\",\n",
    "    x0=b_date_std['date'].values[0], y0=b_date_std['Positive Sentiment'].mean(), x1=b_date_std['date'].values[-1], y1=b_date_std['Positive Sentiment'].mean(),\n",
    "    line=dict(\n",
    "        color=\"Red\",\n",
    "        width=2,\n",
    "        dash=\"dashdot\",\n",
    "    ),\n",
    "        name='Mean',\n",
    "        xref='x1',\n",
    "        yref='y1'\n",
    ")\n",
    "\n",
    "\n",
    "fig.add_trace(\n",
    "    go.Scatter(x=b_date_std['date'], y=b_date_std['Negative Sentiment'],name='Negative Sentiment SD'),\n",
    "    row=2, col=1\n",
    ")\n",
    "\n",
    "fig['layout']['xaxis2']['title'] = 'Date'\n",
    "fig.update_layout(height=700, width=900, title_text=\"Sentiment Deviation Change With Time\")\n",
    "fig.show()\n"
   ],
   "metadata": {
    "collapsed": false,
    "pycharm": {
     "name": "#%%\n"
    }
   }
  },
  {
   "cell_type": "code",
   "execution_count": null,
   "outputs": [],
   "source": [
    "#Da aggiornare con notizie metaverso\n",
    "import datetime\n",
    "b_date_count = ft_data.groupby(by='date').count().reset_index()\n",
    "b_date_count = b_date_count.rename(columns={'id':'Tweets Per Day'})\n",
    "fig = ex.line(b_date_count,x='date',y='Tweets Per Day')\n",
    "\n",
    "fig.add_shape(type=\"line\",\n",
    "    x0=b_date_count['date'].values[0], y0=b_date_count['Negative Sentiment'].mean(), x1=b_date_count['date'].values[-1], y1=b_date_count['Negative Sentiment'].mean(),\n",
    "    line=dict(\n",
    "        color=\"Red\",\n",
    "        width=2,\n",
    "        dash=\"dashdot\",\n",
    "    ),\n",
    "        name='Mean',\n",
    ")\n",
    "\n",
    "fig.update_traces(mode=\"markers+lines\")\n",
    "fig.update_layout(hovermode=\"x unified\")\n",
    "\n",
    "\n",
    "###annots\n",
    "b_date_count.date = pd.to_datetime(b_date_count.date)\n",
    "b_date_count_dt = b_date_count.set_index('date')\n",
    "fig.add_annotation(x=datetime.datetime(2021,2,19), y=b_date_count_dt.loc[pd.Timestamp('2021-02-19'),'year'],\n",
    "            text=r\"Israeli study finds Pfizer vaccine 85% effective after first shot\",\n",
    "            showarrow=True,\n",
    "            arrowhead=3,\n",
    "            yshift=5,bordercolor=\"#c7c7c7\")\n",
    "\n",
    "fig.add_annotation(x=datetime.datetime(2021,1,29), y=b_date_count_dt.loc[pd.Timestamp('2021-01-29'),'year'],\n",
    "            text=r\"vaccine found to be effective against variant discovered in U.K.\",\n",
    "            showarrow=True,\n",
    "            arrowhead=3,\n",
    "            yshift=5,ay=-160,bordercolor=\"#c7c7c7\")\n",
    "fig.add_annotation(x=datetime.datetime(2021,1,8), y=b_date_count_dt.loc[pd.Timestamp('2021-01-8'),'year'],\n",
    "            text=r\"Commission proposes to purchase up to 300 million additional doses of BioNTech-Pfizer vaccine\",\n",
    "            showarrow=True,\n",
    "            arrowhead=3,\n",
    "            yshift=5,ay=-30,bordercolor=\"#c7c7c7\")\n",
    "\n",
    "fig.add_annotation(x=datetime.datetime(2021,1,20), y=b_date_count_dt.loc[pd.Timestamp('2021-01-20'),'year'],\n",
    "            text=r\"The presidency of Joe Biden began\",\n",
    "            showarrow=True,\n",
    "            arrowhead=3,\n",
    "            yshift=3,ay=120,bordercolor=\"#c7c7c7\")\n",
    "\n",
    "fig.update_layout(title='<b>Daily Tweet Count<b>',width=1200)\n",
    "fig.show()"
   ],
   "metadata": {
    "collapsed": false,
    "pycharm": {
     "name": "#%%\n"
    }
   }
  },
  {
   "cell_type": "code",
   "execution_count": null,
   "outputs": [],
   "source": [
    "plt.subplot(2,1,1)\n",
    "plt.title('Selecting A Cut-Off For Most Positive/Negative Tweets',fontsize=19,fontweight='bold')\n",
    "\n",
    "ax0 = sns.kdeplot(f_data['Negative Sentiment'],bw=0.1)\n",
    "\n",
    "kde_x, kde_y = ax0.lines[0].get_data()\n",
    "ax0.fill_between(kde_x, kde_y, where=(kde_x>0.25) ,\n",
    "                interpolate=True, color='tab:blue',alpha=0.6)\n",
    "\n",
    "plt.annotate('Cut-Off For Most Negative Tweets', xy=(0.25, 0.5), xytext=(0.4, 2),\n",
    "            arrowprops=dict(facecolor='red', shrink=0.05),fontsize=16,fontweight='bold')\n",
    "\n",
    "ax0.axvline(f_data['Negative Sentiment'].mean(), color='r', linestyle='--')\n",
    "ax0.axvline(f_data['Negative Sentiment'].median(), color='tab:orange', linestyle='-')\n",
    "plt.legend({'PDF':f_data['Negative Sentiment'],r'Mean: {:.2f}'.format(f_data['Negative Sentiment'].mean()):f_data['Negative Sentiment'].mean(),\n",
    "            r'Median: {:.2f}'.format(f_data['Negative Sentiment'].median()):f_data['Negative Sentiment'].median()})\n",
    "\n",
    "plt.subplot(2,1,2)\n",
    "\n",
    "ax1 = sns.kdeplot(f_data['Positive Sentiment'],bw=0.1,color='green')\n",
    "\n",
    "plt.annotate('Cut-Off For Most Positive Tweets', xy=(0.4, 0.43), xytext=(0.4, 2),\n",
    "            arrowprops=dict(facecolor='red', shrink=0.05),fontsize=16,fontweight='bold')\n",
    "kde_x, kde_y = ax1.lines[0].get_data()\n",
    "ax1.fill_between(kde_x, kde_y, where=(kde_x>0.4) ,\n",
    "                interpolate=True, color='tab:green',alpha=0.6)\n",
    "ax1.set_xlabel('Sentiment Strength',fontsize=18)\n",
    "\n",
    "\n",
    "ax1.axvline(f_data['Positive Sentiment'].mean(), color='r', linestyle='--')\n",
    "ax1.axvline(f_data['Positive Sentiment'].median(), color='tab:orange', linestyle='-')\n",
    "plt.legend({'PDF':f_data['Positive Sentiment'],r'Mean: {:.2f}'.format(f_data['Positive Sentiment'].mean()):f_data['Positive Sentiment'].mean(),\n",
    "            r'Median: {:.2f}'.format(f_data['Positive Sentiment'].median()):f_data['Positive Sentiment'].median()})\n",
    "\n",
    "plt.show()"
   ],
   "metadata": {
    "collapsed": false,
    "pycharm": {
     "name": "#%%\n"
    }
   }
  },
  {
   "cell_type": "code",
   "execution_count": null,
   "outputs": [],
   "source": [
    "#Or polarity\n",
    "Most_Positive = f_data[f_data['Positive Sentiment'].between(0.4,1)]\n",
    "Most_Negative = f_data[f_data['Negative Sentiment'].between(0.25,1)]"
   ],
   "metadata": {
    "collapsed": false,
    "pycharm": {
     "name": "#%%\n"
    }
   }
  },
  {
   "cell_type": "code",
   "execution_count": null,
   "outputs": [],
   "source": [
    "Most_Positive_text = ' '.join(Most_Positive.text)\n",
    "Most_Negative_text = ' '.join(Most_Negative.text)\n",
    "\n",
    "\n",
    "pwc = WordCloud(width=600,height=400,collocations = False,background_color='white').generate(Most_Positive_text)\n",
    "nwc = WordCloud(width=600,height=400,collocations = False,background_color='white').generate(Most_Negative_text)\n",
    "\n",
    "plt.subplot(1,2,1)\n",
    "plt.title('Common Words Among Most Positive Tweets',fontsize=16,fontweight='bold')\n",
    "plt.imshow(pwc)\n",
    "plt.axis('off')\n",
    "plt.subplot(1,2,2)\n",
    "plt.title('Common Words Among Most Negative Tweets',fontsize=16,fontweight='bold')\n",
    "plt.imshow(nwc)\n",
    "plt.axis('off')\n",
    "\n",
    "plt.show()"
   ],
   "metadata": {
    "collapsed": false,
    "pycharm": {
     "name": "#%%\n"
    }
   }
  },
  {
   "cell_type": "code",
   "execution_count": null,
   "outputs": [],
   "source": [
    "l_t = Most_Positive_text\n",
    "\n",
    "w1_dict = dict()\n",
    "for word in l_t.split():\n",
    "    w= word.strip()\n",
    "    if w in STOPWORDS:\n",
    "        continue\n",
    "    else:\n",
    "        w1_dict[w] = w1_dict.get(w,0)+1\n",
    "w1_dict = {k: v for k, v in sorted(w1_dict.items(), key=lambda item: item[1],reverse=True)}\n",
    "\n",
    "l_t = Most_Negative_text\n",
    "w2_dict = dict()\n",
    "for word in l_t.split():\n",
    "    w= word.strip()\n",
    "    if w in STOPWORDS:\n",
    "        continue\n",
    "    else:\n",
    "        w2_dict[w] = w2_dict.get(w,0)+1\n",
    "w2_dict = {k: v for k, v in sorted(w2_dict.items(), key=lambda item: item[1],reverse=True)}\n",
    "\n",
    "top_10_pos = list(w1_dict.keys())[:10]\n",
    "top_10_neg = list(w2_dict.keys())[:10]\n",
    "\n",
    "plt.subplot(1,2,1)\n",
    "w_c = WordCloud(width=600,height=400,collocations = False,colormap='nipy_spectral',background_color='white').generate(' '.join(top_10_pos))\n",
    "plt.title('Top 10 Words In Most Positive Tweets',fontsize=19,fontweight='bold')\n",
    "plt.imshow(w_c)\n",
    "plt.axis('off')\n",
    "plt.subplot(1,2,2)\n",
    "w_c = WordCloud(width=600,height=400,collocations = False,colormap='nipy_spectral',background_color='white').generate(' '.join(top_10_neg))\n",
    "plt.title('Top 10 Words In Most Negative Tweets',fontsize=19,fontweight='bold')\n",
    "plt.imshow(w_c)\n",
    "plt.axis('off')\n",
    "plt.show()"
   ],
   "metadata": {
    "collapsed": false,
    "pycharm": {
     "name": "#%%\n"
    }
   }
  }
 ],
 "metadata": {
  "kernelspec": {
   "display_name": "Python 3",
   "language": "python",
   "name": "python3"
  },
  "language_info": {
   "codemirror_mode": {
    "name": "ipython",
    "version": 2
   },
   "file_extension": ".py",
   "mimetype": "text/x-python",
   "name": "python",
   "nbconvert_exporter": "python",
   "pygments_lexer": "ipython2",
   "version": "2.7.6"
  }
 },
 "nbformat": 4,
 "nbformat_minor": 0
}