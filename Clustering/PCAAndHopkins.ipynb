{
 "cells": [
  {
   "cell_type": "code",
   "execution_count": 91,
   "metadata": {
    "collapsed": false,
    "pycharm": {
     "name": "#%%\n"
    }
   },
   "outputs": [],
   "source": [
    "import pandas as pd"
   ]
  },
  {
   "cell_type": "code",
   "execution_count": 92,
   "outputs": [],
   "source": [
    "df_model = pd.read_csv(\"../data/cleaned_tweets.csv\")"
   ],
   "metadata": {
    "collapsed": false,
    "pycharm": {
     "name": "#%%\n"
    }
   }
  },
  {
   "cell_type": "code",
   "execution_count": 93,
   "outputs": [],
   "source": [
    "df_model = df_model.loc[df_model['Datetime'] >= '2022-06-01']"
   ],
   "metadata": {
    "collapsed": false,
    "pycharm": {
     "name": "#%%\n"
    }
   }
  },
  {
   "cell_type": "code",
   "execution_count": 94,
   "outputs": [],
   "source": [
    "df_model = df_model.loc[df_model['Datetime'] <= '2022-06-31']"
   ],
   "metadata": {
    "collapsed": false,
    "pycharm": {
     "name": "#%%\n"
    }
   }
  },
  {
   "cell_type": "code",
   "execution_count": 95,
   "outputs": [
    {
     "data": {
      "text/plain": "                         Datetime             Tweet Id  \\\n177398  2022-06-01 23:59:34+00:00  1532149889194336256   \n177399  2022-06-01 23:59:03+00:00  1532149760890753024   \n177400  2022-06-01 23:58:45+00:00  1532149682842963968   \n177401  2022-06-01 23:58:39+00:00  1532149657958158336   \n177402  2022-06-01 23:58:12+00:00  1532149548491149312   \n...                           ...                  ...   \n192695  2022-06-18 18:42:42+00:00  1538230743733780480   \n192696  2022-06-18 18:42:13+00:00  1538230618542133251   \n192697  2022-06-18 18:41:23+00:00  1538230412010348544   \n192698  2022-06-18 18:41:22+00:00  1538230408214904832   \n192699  2022-06-18 18:40:52+00:00  1538230279512686593   \n\n                                                     Text        Username  \\\n177398  Nyx Cosmetics enters metaverse - The Coin Repu...   Cryptoprenure   \n177399  Recuerdan este iceberg? Lo subí a Twitter en m...  MaximilianLex4   \n177400  .wow it's magical project\\n\\nMetaWEAR | The Bi...  Sameer88876465   \n177401  Today Running. 4KM \\n#SNKRZ #Metaverse #MoveTo...   guptamonu9128   \n177402  Remember this iceberg? I posted it on Twitter ...  MaximilianLex4   \n...                                                   ...             ...   \n192695  🔔Did u read acticles about PicVerse?\\nClick th...       pic_verse   \n192696  What a great promising project, iam sure you g...  katils_sablenk   \n192697  I goofed on the schedule, oops! Here's the cor...     RavenfallSL   \n192698  Protocol offering 2FA on the blockchain unveil...     thisisanhle   \n192699  [ めも ] SL19B Shop&amp;Hop \\nWhat Next\\nhttps:/...    Milky_Little   \n\n                                             Text_Cleaned  \\\n177398   nyx cosmetics enters metaverse the coin republic   \n177399  recuerdan este iceberg lo subítwitter en mis c...   \n177400  wow itmagical project metawear the biggest met...   \n177401                                     today running    \n177402  remember this icebergposted it on twitter in m...   \n...                                                   ...   \n192695     didread acticles about picverse click the link   \n192696  whatgreat promising project iam sure you guys ...   \n192697  i goofed on the schedule oops herethe correct ...   \n192698  protocol offering  on the blockchain unveils e...   \n192699                         めも  shop amp hop what next   \n\n                                                   tokens  \\\n177398  ['nyx', 'cosmetics', 'enters', 'coin', 'republ...   \n177399  ['recuerdan', 'este', 'iceberg', 'subitwitter'...   \n177400  ['wow', 'itmagical', 'metawear', 'biggest', 'f...   \n177401                               ['today', 'running']   \n177402  ['remember', 'icebergposted', 'twitter', 'comm...   \n...                                                   ...   \n192695  ['didread', 'acticles', 'picverse', 'click', '...   \n192696  ['whatgreat', 'promising', 'iam', 'sure', 'guy...   \n192697  ['goofed', 'schedule', 'oops', 'herethe', 'cor...   \n192698  ['protocol', 'offering', 'unveils', 'even', 'f...   \n192699                    ['memo', 'shop', 'hop', 'next']   \n\n                                              tokens_text  \n177398                 nyx cosmetics enters coin republic  \n177399  recuerdan este iceberg subitwitter mis comenta...  \n177400  wow itmagical metawear biggest fashion creator...  \n177401                                      today running  \n177402  remember icebergposted twitter commentsfew wee...  \n...                                                   ...  \n192695               didread acticles picverse click link  \n192696  whatgreat promising iam sure guys dont wanna m...  \n192697  goofed schedule oops herethe correct week land...  \n192698  protocol offering unveils even features flagsh...  \n192699                                 memo shop hop next  \n\n[15302 rows x 7 columns]",
      "text/html": "<div>\n<style scoped>\n    .dataframe tbody tr th:only-of-type {\n        vertical-align: middle;\n    }\n\n    .dataframe tbody tr th {\n        vertical-align: top;\n    }\n\n    .dataframe thead th {\n        text-align: right;\n    }\n</style>\n<table border=\"1\" class=\"dataframe\">\n  <thead>\n    <tr style=\"text-align: right;\">\n      <th></th>\n      <th>Datetime</th>\n      <th>Tweet Id</th>\n      <th>Text</th>\n      <th>Username</th>\n      <th>Text_Cleaned</th>\n      <th>tokens</th>\n      <th>tokens_text</th>\n    </tr>\n  </thead>\n  <tbody>\n    <tr>\n      <th>177398</th>\n      <td>2022-06-01 23:59:34+00:00</td>\n      <td>1532149889194336256</td>\n      <td>Nyx Cosmetics enters metaverse - The Coin Repu...</td>\n      <td>Cryptoprenure</td>\n      <td>nyx cosmetics enters metaverse the coin republic</td>\n      <td>['nyx', 'cosmetics', 'enters', 'coin', 'republ...</td>\n      <td>nyx cosmetics enters coin republic</td>\n    </tr>\n    <tr>\n      <th>177399</th>\n      <td>2022-06-01 23:59:03+00:00</td>\n      <td>1532149760890753024</td>\n      <td>Recuerdan este iceberg? Lo subí a Twitter en m...</td>\n      <td>MaximilianLex4</td>\n      <td>recuerdan este iceberg lo subítwitter en mis c...</td>\n      <td>['recuerdan', 'este', 'iceberg', 'subitwitter'...</td>\n      <td>recuerdan este iceberg subitwitter mis comenta...</td>\n    </tr>\n    <tr>\n      <th>177400</th>\n      <td>2022-06-01 23:58:45+00:00</td>\n      <td>1532149682842963968</td>\n      <td>.wow it's magical project\\n\\nMetaWEAR | The Bi...</td>\n      <td>Sameer88876465</td>\n      <td>wow itmagical project metawear the biggest met...</td>\n      <td>['wow', 'itmagical', 'metawear', 'biggest', 'f...</td>\n      <td>wow itmagical metawear biggest fashion creator...</td>\n    </tr>\n    <tr>\n      <th>177401</th>\n      <td>2022-06-01 23:58:39+00:00</td>\n      <td>1532149657958158336</td>\n      <td>Today Running. 4KM \\n#SNKRZ #Metaverse #MoveTo...</td>\n      <td>guptamonu9128</td>\n      <td>today running</td>\n      <td>['today', 'running']</td>\n      <td>today running</td>\n    </tr>\n    <tr>\n      <th>177402</th>\n      <td>2022-06-01 23:58:12+00:00</td>\n      <td>1532149548491149312</td>\n      <td>Remember this iceberg? I posted it on Twitter ...</td>\n      <td>MaximilianLex4</td>\n      <td>remember this icebergposted it on twitter in m...</td>\n      <td>['remember', 'icebergposted', 'twitter', 'comm...</td>\n      <td>remember icebergposted twitter commentsfew wee...</td>\n    </tr>\n    <tr>\n      <th>...</th>\n      <td>...</td>\n      <td>...</td>\n      <td>...</td>\n      <td>...</td>\n      <td>...</td>\n      <td>...</td>\n      <td>...</td>\n    </tr>\n    <tr>\n      <th>192695</th>\n      <td>2022-06-18 18:42:42+00:00</td>\n      <td>1538230743733780480</td>\n      <td>🔔Did u read acticles about PicVerse?\\nClick th...</td>\n      <td>pic_verse</td>\n      <td>didread acticles about picverse click the link</td>\n      <td>['didread', 'acticles', 'picverse', 'click', '...</td>\n      <td>didread acticles picverse click link</td>\n    </tr>\n    <tr>\n      <th>192696</th>\n      <td>2022-06-18 18:42:13+00:00</td>\n      <td>1538230618542133251</td>\n      <td>What a great promising project, iam sure you g...</td>\n      <td>katils_sablenk</td>\n      <td>whatgreat promising project iam sure you guys ...</td>\n      <td>['whatgreat', 'promising', 'iam', 'sure', 'guy...</td>\n      <td>whatgreat promising iam sure guys dont wanna m...</td>\n    </tr>\n    <tr>\n      <th>192697</th>\n      <td>2022-06-18 18:41:23+00:00</td>\n      <td>1538230412010348544</td>\n      <td>I goofed on the schedule, oops! Here's the cor...</td>\n      <td>RavenfallSL</td>\n      <td>i goofed on the schedule oops herethe correct ...</td>\n      <td>['goofed', 'schedule', 'oops', 'herethe', 'cor...</td>\n      <td>goofed schedule oops herethe correct week land...</td>\n    </tr>\n    <tr>\n      <th>192698</th>\n      <td>2022-06-18 18:41:22+00:00</td>\n      <td>1538230408214904832</td>\n      <td>Protocol offering 2FA on the blockchain unveil...</td>\n      <td>thisisanhle</td>\n      <td>protocol offering  on the blockchain unveils e...</td>\n      <td>['protocol', 'offering', 'unveils', 'even', 'f...</td>\n      <td>protocol offering unveils even features flagsh...</td>\n    </tr>\n    <tr>\n      <th>192699</th>\n      <td>2022-06-18 18:40:52+00:00</td>\n      <td>1538230279512686593</td>\n      <td>[ めも ] SL19B Shop&amp;amp;Hop \\nWhat Next\\nhttps:/...</td>\n      <td>Milky_Little</td>\n      <td>めも  shop amp hop what next</td>\n      <td>['memo', 'shop', 'hop', 'next']</td>\n      <td>memo shop hop next</td>\n    </tr>\n  </tbody>\n</table>\n<p>15302 rows × 7 columns</p>\n</div>"
     },
     "execution_count": 95,
     "metadata": {},
     "output_type": "execute_result"
    }
   ],
   "source": [
    "df_model"
   ],
   "metadata": {
    "collapsed": false,
    "pycharm": {
     "name": "#%%\n"
    }
   }
  },
  {
   "cell_type": "code",
   "execution_count": 96,
   "outputs": [],
   "source": [
    "df_model.to_csv(\"../data/data_original_06.csv\",index=False)"
   ],
   "metadata": {
    "collapsed": false,
    "pycharm": {
     "name": "#%%\n"
    }
   }
  },
  {
   "cell_type": "code",
   "execution_count": 97,
   "outputs": [],
   "source": [
    "import pandas as pd\n",
    "from sklearn.feature_extraction import text\n",
    "from sklearn.feature_extraction.text import TfidfVectorizer\n",
    "%matplotlib inline\n",
    "punc = ['.', ',', '\"', \"'\", '?', '!', ':', ';', '(', ')', '[', ']', '{', '}',\"%\"]\n",
    "stop_words = text.ENGLISH_STOP_WORDS.union(punc)\n",
    "desc = df_model.tokens_text.values\n",
    "vectorizer = TfidfVectorizer(stop_words = stop_words,max_features = 1000)\n",
    "X = vectorizer.fit_transform(desc)\n",
    "words = vectorizer.get_feature_names()"
   ],
   "metadata": {
    "collapsed": false,
    "pycharm": {
     "name": "#%%\n"
    }
   }
  },
  {
   "cell_type": "code",
   "execution_count": 98,
   "outputs": [],
   "source": [
    "df_model = pd.DataFrame(X.toarray(),columns=words)"
   ],
   "metadata": {
    "collapsed": false,
    "pycharm": {
     "name": "#%%\n"
    }
   }
  },
  {
   "cell_type": "code",
   "execution_count": 27,
   "outputs": [
    {
     "data": {
      "text/plain": "       aaa  able  absolutely  access  according  account  achieve  achieving  \\\n0      0.0   0.0         0.0     0.0        0.0      0.0      0.0        0.0   \n1      0.0   0.0         0.0     0.0        0.0      0.0      0.0        0.0   \n2      0.0   0.0         0.0     0.0        0.0      0.0      0.0        0.0   \n3      0.0   0.0         0.0     0.0        0.0      0.0      0.0        0.0   \n4      0.0   0.0         0.0     0.0        0.0      0.0      0.0        0.0   \n...    ...   ...         ...     ...        ...      ...      ...        ...   \n24146  0.0   0.0         0.0     0.0        0.0      0.0      0.0        0.0   \n24147  0.0   0.0         0.0     0.0        0.0      0.0      0.0        0.0   \n24148  0.0   0.0         0.0     0.0        0.0      0.0      0.0        0.0   \n24149  0.0   0.0         0.0     0.0        0.0      0.0      0.0        0.0   \n24150  0.0   0.0         0.0     0.0        0.0      0.0      0.0        0.0   \n\n       ack  action  ...  yok  youtube   yu  yuan  zaman  zhao  zhi   zi  zil  \\\n0      0.0     0.0  ...  0.0      0.0  0.0   0.0    0.0   0.0  0.0  0.0  0.0   \n1      0.0     0.0  ...  0.0      0.0  0.0   0.0    0.0   0.0  0.0  0.0  0.0   \n2      0.0     0.0  ...  0.0      0.0  0.0   0.0    0.0   0.0  0.0  0.0  0.0   \n3      0.0     0.0  ...  0.0      0.0  0.0   0.0    0.0   0.0  0.0  0.0  0.0   \n4      0.0     0.0  ...  0.0      0.0  0.0   0.0    0.0   0.0  0.0  0.0  0.0   \n...    ...     ...  ...  ...      ...  ...   ...    ...   ...  ...  ...  ...   \n24146  0.0     0.0  ...  0.0      0.0  0.0   0.0    0.0   0.0  0.0  0.0  0.0   \n24147  0.0     0.0  ...  0.0      0.0  0.0   0.0    0.0   0.0  0.0  0.0  0.0   \n24148  0.0     0.0  ...  0.0      0.0  0.0   0.0    0.0   0.0  0.0  0.0  0.0   \n24149  0.0     0.0  ...  0.0      0.0  0.0   0.0    0.0   0.0  0.0  0.0  0.0   \n24150  0.0     0.0  ...  0.0      0.0  0.0   0.0    0.0   0.0  0.0  0.0  0.0   \n\n       zuckerberg  \n0             0.0  \n1             0.0  \n2             0.0  \n3             0.0  \n4             0.0  \n...           ...  \n24146         0.0  \n24147         0.0  \n24148         0.0  \n24149         0.0  \n24150         0.0  \n\n[24151 rows x 1000 columns]",
      "text/html": "<div>\n<style scoped>\n    .dataframe tbody tr th:only-of-type {\n        vertical-align: middle;\n    }\n\n    .dataframe tbody tr th {\n        vertical-align: top;\n    }\n\n    .dataframe thead th {\n        text-align: right;\n    }\n</style>\n<table border=\"1\" class=\"dataframe\">\n  <thead>\n    <tr style=\"text-align: right;\">\n      <th></th>\n      <th>aaa</th>\n      <th>able</th>\n      <th>absolutely</th>\n      <th>access</th>\n      <th>according</th>\n      <th>account</th>\n      <th>achieve</th>\n      <th>achieving</th>\n      <th>ack</th>\n      <th>action</th>\n      <th>...</th>\n      <th>yok</th>\n      <th>youtube</th>\n      <th>yu</th>\n      <th>yuan</th>\n      <th>zaman</th>\n      <th>zhao</th>\n      <th>zhi</th>\n      <th>zi</th>\n      <th>zil</th>\n      <th>zuckerberg</th>\n    </tr>\n  </thead>\n  <tbody>\n    <tr>\n      <th>0</th>\n      <td>0.0</td>\n      <td>0.0</td>\n      <td>0.0</td>\n      <td>0.0</td>\n      <td>0.0</td>\n      <td>0.0</td>\n      <td>0.0</td>\n      <td>0.0</td>\n      <td>0.0</td>\n      <td>0.0</td>\n      <td>...</td>\n      <td>0.0</td>\n      <td>0.0</td>\n      <td>0.0</td>\n      <td>0.0</td>\n      <td>0.0</td>\n      <td>0.0</td>\n      <td>0.0</td>\n      <td>0.0</td>\n      <td>0.0</td>\n      <td>0.0</td>\n    </tr>\n    <tr>\n      <th>1</th>\n      <td>0.0</td>\n      <td>0.0</td>\n      <td>0.0</td>\n      <td>0.0</td>\n      <td>0.0</td>\n      <td>0.0</td>\n      <td>0.0</td>\n      <td>0.0</td>\n      <td>0.0</td>\n      <td>0.0</td>\n      <td>...</td>\n      <td>0.0</td>\n      <td>0.0</td>\n      <td>0.0</td>\n      <td>0.0</td>\n      <td>0.0</td>\n      <td>0.0</td>\n      <td>0.0</td>\n      <td>0.0</td>\n      <td>0.0</td>\n      <td>0.0</td>\n    </tr>\n    <tr>\n      <th>2</th>\n      <td>0.0</td>\n      <td>0.0</td>\n      <td>0.0</td>\n      <td>0.0</td>\n      <td>0.0</td>\n      <td>0.0</td>\n      <td>0.0</td>\n      <td>0.0</td>\n      <td>0.0</td>\n      <td>0.0</td>\n      <td>...</td>\n      <td>0.0</td>\n      <td>0.0</td>\n      <td>0.0</td>\n      <td>0.0</td>\n      <td>0.0</td>\n      <td>0.0</td>\n      <td>0.0</td>\n      <td>0.0</td>\n      <td>0.0</td>\n      <td>0.0</td>\n    </tr>\n    <tr>\n      <th>3</th>\n      <td>0.0</td>\n      <td>0.0</td>\n      <td>0.0</td>\n      <td>0.0</td>\n      <td>0.0</td>\n      <td>0.0</td>\n      <td>0.0</td>\n      <td>0.0</td>\n      <td>0.0</td>\n      <td>0.0</td>\n      <td>...</td>\n      <td>0.0</td>\n      <td>0.0</td>\n      <td>0.0</td>\n      <td>0.0</td>\n      <td>0.0</td>\n      <td>0.0</td>\n      <td>0.0</td>\n      <td>0.0</td>\n      <td>0.0</td>\n      <td>0.0</td>\n    </tr>\n    <tr>\n      <th>4</th>\n      <td>0.0</td>\n      <td>0.0</td>\n      <td>0.0</td>\n      <td>0.0</td>\n      <td>0.0</td>\n      <td>0.0</td>\n      <td>0.0</td>\n      <td>0.0</td>\n      <td>0.0</td>\n      <td>0.0</td>\n      <td>...</td>\n      <td>0.0</td>\n      <td>0.0</td>\n      <td>0.0</td>\n      <td>0.0</td>\n      <td>0.0</td>\n      <td>0.0</td>\n      <td>0.0</td>\n      <td>0.0</td>\n      <td>0.0</td>\n      <td>0.0</td>\n    </tr>\n    <tr>\n      <th>...</th>\n      <td>...</td>\n      <td>...</td>\n      <td>...</td>\n      <td>...</td>\n      <td>...</td>\n      <td>...</td>\n      <td>...</td>\n      <td>...</td>\n      <td>...</td>\n      <td>...</td>\n      <td>...</td>\n      <td>...</td>\n      <td>...</td>\n      <td>...</td>\n      <td>...</td>\n      <td>...</td>\n      <td>...</td>\n      <td>...</td>\n      <td>...</td>\n      <td>...</td>\n      <td>...</td>\n    </tr>\n    <tr>\n      <th>24146</th>\n      <td>0.0</td>\n      <td>0.0</td>\n      <td>0.0</td>\n      <td>0.0</td>\n      <td>0.0</td>\n      <td>0.0</td>\n      <td>0.0</td>\n      <td>0.0</td>\n      <td>0.0</td>\n      <td>0.0</td>\n      <td>...</td>\n      <td>0.0</td>\n      <td>0.0</td>\n      <td>0.0</td>\n      <td>0.0</td>\n      <td>0.0</td>\n      <td>0.0</td>\n      <td>0.0</td>\n      <td>0.0</td>\n      <td>0.0</td>\n      <td>0.0</td>\n    </tr>\n    <tr>\n      <th>24147</th>\n      <td>0.0</td>\n      <td>0.0</td>\n      <td>0.0</td>\n      <td>0.0</td>\n      <td>0.0</td>\n      <td>0.0</td>\n      <td>0.0</td>\n      <td>0.0</td>\n      <td>0.0</td>\n      <td>0.0</td>\n      <td>...</td>\n      <td>0.0</td>\n      <td>0.0</td>\n      <td>0.0</td>\n      <td>0.0</td>\n      <td>0.0</td>\n      <td>0.0</td>\n      <td>0.0</td>\n      <td>0.0</td>\n      <td>0.0</td>\n      <td>0.0</td>\n    </tr>\n    <tr>\n      <th>24148</th>\n      <td>0.0</td>\n      <td>0.0</td>\n      <td>0.0</td>\n      <td>0.0</td>\n      <td>0.0</td>\n      <td>0.0</td>\n      <td>0.0</td>\n      <td>0.0</td>\n      <td>0.0</td>\n      <td>0.0</td>\n      <td>...</td>\n      <td>0.0</td>\n      <td>0.0</td>\n      <td>0.0</td>\n      <td>0.0</td>\n      <td>0.0</td>\n      <td>0.0</td>\n      <td>0.0</td>\n      <td>0.0</td>\n      <td>0.0</td>\n      <td>0.0</td>\n    </tr>\n    <tr>\n      <th>24149</th>\n      <td>0.0</td>\n      <td>0.0</td>\n      <td>0.0</td>\n      <td>0.0</td>\n      <td>0.0</td>\n      <td>0.0</td>\n      <td>0.0</td>\n      <td>0.0</td>\n      <td>0.0</td>\n      <td>0.0</td>\n      <td>...</td>\n      <td>0.0</td>\n      <td>0.0</td>\n      <td>0.0</td>\n      <td>0.0</td>\n      <td>0.0</td>\n      <td>0.0</td>\n      <td>0.0</td>\n      <td>0.0</td>\n      <td>0.0</td>\n      <td>0.0</td>\n    </tr>\n    <tr>\n      <th>24150</th>\n      <td>0.0</td>\n      <td>0.0</td>\n      <td>0.0</td>\n      <td>0.0</td>\n      <td>0.0</td>\n      <td>0.0</td>\n      <td>0.0</td>\n      <td>0.0</td>\n      <td>0.0</td>\n      <td>0.0</td>\n      <td>...</td>\n      <td>0.0</td>\n      <td>0.0</td>\n      <td>0.0</td>\n      <td>0.0</td>\n      <td>0.0</td>\n      <td>0.0</td>\n      <td>0.0</td>\n      <td>0.0</td>\n      <td>0.0</td>\n      <td>0.0</td>\n    </tr>\n  </tbody>\n</table>\n<p>24151 rows × 1000 columns</p>\n</div>"
     },
     "execution_count": 27,
     "metadata": {},
     "output_type": "execute_result"
    }
   ],
   "source": [
    "df_model"
   ],
   "metadata": {
    "collapsed": false,
    "pycharm": {
     "name": "#%%\n"
    }
   }
  },
  {
   "cell_type": "code",
   "execution_count": 30,
   "metadata": {
    "collapsed": false,
    "pycharm": {
     "name": "#%%\n"
    }
   },
   "outputs": [
    {
     "name": "stdout",
     "output_type": "stream",
     "text": [
      "[0.0155492  0.0112951  0.01040616]\n",
      "[0.0155492  0.0268443  0.03725046]\n"
     ]
    }
   ],
   "source": [
    "#PCA\n",
    "from matplotlib import pyplot as plt\n",
    "from sklearn.decomposition import PCA\n",
    "import seaborn as sns\n",
    "pca = PCA(n_components=3)\n",
    "pca_fit = pca.fit_transform(df_model)\n",
    "df_pca = pd.DataFrame(data=pca_fit, columns=['PC1','PC2','PC3'])\n",
    "#df_pca.head()\n",
    "#fig, ax = plt.subplots(2, 2, figsize=(15,8))\n",
    "#sns.scatterplot(data=df_pca, x='PC1', y='PC2',ax=ax[0][0])\n",
    "#sns.scatterplot(data=df_pca, x='PC1', y='PC3',ax=ax[0][1])\n",
    "#sns.scatterplot(data=df_pca, x='PC2', y='PC3',ax=ax[1][0])\n",
    "print(pca.explained_variance_ratio_)\n",
    "print(pca.explained_variance_ratio_.cumsum())\n",
    "#fig.delaxes(ax[1][1])"
   ]
  },
  {
   "cell_type": "code",
   "execution_count": 19,
   "metadata": {
    "pycharm": {
     "name": "#%%\n"
    }
   },
   "outputs": [
    {
     "data": {
      "text/plain": "<matplotlib.legend.Legend at 0x12d269fa0>"
     },
     "execution_count": 19,
     "metadata": {},
     "output_type": "execute_result"
    },
    {
     "data": {
      "text/plain": "<Figure size 432x288 with 1 Axes>",
      "image/png": "[encoded data removed]"
     },
     "metadata": {
      "needs_background": "light"
     },
     "output_type": "display_data"
    }
   ],
   "source": [
    "# Cumulative explained variance\n",
    "import numpy as np\n",
    "\n",
    "plt.bar(range(1,len(pca.explained_variance_ratio_ )+1),pca.explained_variance_ratio_ )\n",
    "plt.ylabel('Explained variance')\n",
    "plt.xlabel('Components')\n",
    "plt.plot(range(1,len(pca.explained_variance_ratio_ )+1),\n",
    "         np.cumsum(pca.explained_variance_ratio_),\n",
    "         c='red',\n",
    "         label=\"Cumulative Explained Variance\")\n",
    "plt.legend(loc='upper left')"
   ]
  },
  {
   "cell_type": "code",
   "execution_count": 20,
   "metadata": {
    "pycharm": {
     "name": "#%%\n"
    }
   },
   "outputs": [
    {
     "data": {
      "text/plain": "<Figure size 432x288 with 1 Axes>",
      "image/png": "[encoded data removed]"
     },
     "metadata": {
      "needs_background": "light"
     },
     "output_type": "display_data"
    }
   ],
   "source": [
    "# Biplot\n",
    "\n",
    "def my_plot(score, coeff, labels=None):\n",
    "    xs = score[:,0]\n",
    "    ys = score[:,1]\n",
    "    n = coeff.shape[0]\n",
    "    scalex = 1.0/(xs.max() - xs.min())\n",
    "    scaley = 1.0/(ys.max() - ys.min())\n",
    "    plt.scatter(xs * scalex,ys * scaley,s=5)\n",
    "    for i in range(n):\n",
    "        plt.arrow(0, 0, coeff[i,0], coeff[i,1],color = 'r',alpha = 0.5)\n",
    "        if labels is None:\n",
    "            plt.text(coeff[i,0]* 1.15, coeff[i,1] * 1.15, \"Var\"+str(i+1), color = 'red', ha = 'center', va = 'center')\n",
    "        else:\n",
    "            plt.text(coeff[i,0]* 1.15, coeff[i,1] * 1.15, labels[i], color = 'r', ha = 'center', va = 'center')\n",
    "\n",
    "    plt.xlabel(\"PC{}\".format(1))\n",
    "    plt.ylabel(\"PC{}\".format(2))\n",
    "    plt.grid()\n",
    "\n",
    "my_plot(pca_fit[:, 0:2], np.transpose(pca.components_[0:2, :]), list(df_model.columns))\n",
    "plt.show()"
   ]
  },
  {
   "cell_type": "code",
   "execution_count": 21,
   "metadata": {
    "pycharm": {
     "name": "#%%\n"
    }
   },
   "outputs": [
    {
     "data": {
      "text/plain": "                 PC1       PC2       PC3\nvariable                                \naaa        -0.001037 -0.001531 -0.001054\nability    -0.000902 -0.001695 -0.001204\nable       -0.001166 -0.002828 -0.002272\nabsolutely -0.001492 -0.002614 -0.001098\naccess     -0.001769 -0.002903 -0.003738\n...              ...       ...       ...\nzhao       -0.001133 -0.001447 -0.000874\nzhi        -0.000646 -0.000821 -0.000493\nzhu        -0.000608 -0.000756 -0.000451\nzi          0.000729 -0.000359 -0.000350\nzil        -0.000591 -0.001312 -0.000970\n\n[1000 rows x 3 columns]",
      "text/html": "<div>\n<style scoped>\n    .dataframe tbody tr th:only-of-type {\n        vertical-align: middle;\n    }\n\n    .dataframe tbody tr th {\n        vertical-align: top;\n    }\n\n    .dataframe thead th {\n        text-align: right;\n    }\n</style>\n<table border=\"1\" class=\"dataframe\">\n  <thead>\n    <tr style=\"text-align: right;\">\n      <th></th>\n      <th>PC1</th>\n      <th>PC2</th>\n      <th>PC3</th>\n    </tr>\n    <tr>\n      <th>variable</th>\n      <th></th>\n      <th></th>\n      <th></th>\n    </tr>\n  </thead>\n  <tbody>\n    <tr>\n      <th>aaa</th>\n      <td>-0.001037</td>\n      <td>-0.001531</td>\n      <td>-0.001054</td>\n    </tr>\n    <tr>\n      <th>ability</th>\n      <td>-0.000902</td>\n      <td>-0.001695</td>\n      <td>-0.001204</td>\n    </tr>\n    <tr>\n      <th>able</th>\n      <td>-0.001166</td>\n      <td>-0.002828</td>\n      <td>-0.002272</td>\n    </tr>\n    <tr>\n      <th>absolutely</th>\n      <td>-0.001492</td>\n      <td>-0.002614</td>\n      <td>-0.001098</td>\n    </tr>\n    <tr>\n      <th>access</th>\n      <td>-0.001769</td>\n      <td>-0.002903</td>\n      <td>-0.003738</td>\n    </tr>\n    <tr>\n      <th>...</th>\n      <td>...</td>\n      <td>...</td>\n      <td>...</td>\n    </tr>\n    <tr>\n      <th>zhao</th>\n      <td>-0.001133</td>\n      <td>-0.001447</td>\n      <td>-0.000874</td>\n    </tr>\n    <tr>\n      <th>zhi</th>\n      <td>-0.000646</td>\n      <td>-0.000821</td>\n      <td>-0.000493</td>\n    </tr>\n    <tr>\n      <th>zhu</th>\n      <td>-0.000608</td>\n      <td>-0.000756</td>\n      <td>-0.000451</td>\n    </tr>\n    <tr>\n      <th>zi</th>\n      <td>0.000729</td>\n      <td>-0.000359</td>\n      <td>-0.000350</td>\n    </tr>\n    <tr>\n      <th>zil</th>\n      <td>-0.000591</td>\n      <td>-0.001312</td>\n      <td>-0.000970</td>\n    </tr>\n  </tbody>\n</table>\n<p>1000 rows × 3 columns</p>\n</div>"
     },
     "execution_count": 21,
     "metadata": {},
     "output_type": "execute_result"
    }
   ],
   "source": [
    "# Loadings matrix\n",
    "\n",
    "loadings = pca.components_\n",
    "num_pc = pca.n_features_\n",
    "pc_list = [\"PC\"+str(i) for i in list(range(1, num_pc+1))]\n",
    "loadings_df = pd.DataFrame.from_dict(dict(zip(pc_list, loadings)))\n",
    "loadings_df['variable'] = df_model.columns.values\n",
    "loadings_df = loadings_df.set_index('variable')\n",
    "loadings_df"
   ]
  },
  {
   "cell_type": "code",
   "execution_count": 22,
   "metadata": {
    "pycharm": {
     "name": "#%%\n"
    }
   },
   "outputs": [
    {
     "data": {
      "text/plain": "array([0.00580818, 0.01088558, 0.01593078])"
     },
     "execution_count": 22,
     "metadata": {},
     "output_type": "execute_result"
    }
   ],
   "source": [
    "# Varimax rotation\n",
    "from factor_analyzer import FactorAnalyzer\n",
    "fa = FactorAnalyzer(n_factors=3, method='principal', rotation=\"varimax\")\n",
    "fa_fit = fa.fit_transform(df_model)\n",
    "loadings = fa.loadings_\n",
    "fa.get_factor_variance()[2]"
   ]
  },
  {
   "cell_type": "code",
   "execution_count": 20,
   "metadata": {
    "pycharm": {
     "name": "#%%\n"
    }
   },
   "outputs": [
    {
     "data": {
      "text/plain": "            0         1         2\n0   -0.199071 -0.701390  0.665493\n1   -0.009222 -0.025661 -0.021952\n2   -0.004106 -0.002853 -0.019866\n3   -0.001275  0.000308 -0.017697\n4   -0.199071 -0.701390  0.665493\n..        ...       ...       ...\n966 -0.004328 -0.025481 -0.006142\n967  0.001719 -0.003605 -0.018564\n968  0.008166 -0.004922 -0.012599\n969  0.008107 -0.001614 -0.009369\n970  0.000911 -0.002073 -0.013379\n\n[971 rows x 3 columns]",
      "text/html": "<div>\n<style scoped>\n    .dataframe tbody tr th:only-of-type {\n        vertical-align: middle;\n    }\n\n    .dataframe tbody tr th {\n        vertical-align: top;\n    }\n\n    .dataframe thead th {\n        text-align: right;\n    }\n</style>\n<table border=\"1\" class=\"dataframe\">\n  <thead>\n    <tr style=\"text-align: right;\">\n      <th></th>\n      <th>0</th>\n      <th>1</th>\n      <th>2</th>\n    </tr>\n  </thead>\n  <tbody>\n    <tr>\n      <th>0</th>\n      <td>-0.199071</td>\n      <td>-0.701390</td>\n      <td>0.665493</td>\n    </tr>\n    <tr>\n      <th>1</th>\n      <td>-0.009222</td>\n      <td>-0.025661</td>\n      <td>-0.021952</td>\n    </tr>\n    <tr>\n      <th>2</th>\n      <td>-0.004106</td>\n      <td>-0.002853</td>\n      <td>-0.019866</td>\n    </tr>\n    <tr>\n      <th>3</th>\n      <td>-0.001275</td>\n      <td>0.000308</td>\n      <td>-0.017697</td>\n    </tr>\n    <tr>\n      <th>4</th>\n      <td>-0.199071</td>\n      <td>-0.701390</td>\n      <td>0.665493</td>\n    </tr>\n    <tr>\n      <th>...</th>\n      <td>...</td>\n      <td>...</td>\n      <td>...</td>\n    </tr>\n    <tr>\n      <th>966</th>\n      <td>-0.004328</td>\n      <td>-0.025481</td>\n      <td>-0.006142</td>\n    </tr>\n    <tr>\n      <th>967</th>\n      <td>0.001719</td>\n      <td>-0.003605</td>\n      <td>-0.018564</td>\n    </tr>\n    <tr>\n      <th>968</th>\n      <td>0.008166</td>\n      <td>-0.004922</td>\n      <td>-0.012599</td>\n    </tr>\n    <tr>\n      <th>969</th>\n      <td>0.008107</td>\n      <td>-0.001614</td>\n      <td>-0.009369</td>\n    </tr>\n    <tr>\n      <th>970</th>\n      <td>0.000911</td>\n      <td>-0.002073</td>\n      <td>-0.013379</td>\n    </tr>\n  </tbody>\n</table>\n<p>971 rows × 3 columns</p>\n</div>"
     },
     "execution_count": 20,
     "metadata": {},
     "output_type": "execute_result"
    }
   ],
   "source": [
    "# Varimax loadings matrix\n",
    "pd.DataFrame.from_records(loadings)"
   ]
  },
  {
   "cell_type": "code",
   "execution_count": 21,
   "metadata": {
    "pycharm": {
     "name": "#%%\n"
    }
   },
   "outputs": [
    {
     "data": {
      "text/plain": "<Figure size 1080x576 with 3 Axes>",
      "image/png": "[encoded data removed]"
     },
     "metadata": {
      "needs_background": "light"
     },
     "output_type": "display_data"
    }
   ],
   "source": [
    "# New Principal Components after varimax \n",
    "df_fa = pd.DataFrame(data=fa_fit, columns=['PCV1', 'PCV2','PCV3'])\n",
    "df_fa.head()\n",
    "fig, ax = plt.subplots(2, 2, figsize=(15,8))\n",
    "sns.scatterplot(data=df_fa, x='PCV1', y='PCV2',ax=ax[0][0])\n",
    "sns.scatterplot(data=df_fa, x='PCV1', y='PCV3',ax=ax[0][1])\n",
    "sns.scatterplot(data=df_fa, x='PCV2', y='PCV3',ax=ax[1][0])\n",
    "fig.delaxes(ax[1][1])"
   ]
  },
  {
   "cell_type": "code",
   "execution_count": null,
   "outputs": [],
   "source": [
    "from pyclustertend import hopkins\n",
    "1-hopkins(df_model, df_model.shape[0])"
   ],
   "metadata": {
    "collapsed": false,
    "pycharm": {
     "name": "#%%\n",
     "is_executing": true
    }
   }
  },
  {
   "cell_type": "code",
   "execution_count": 99,
   "outputs": [],
   "source": [
    "df_model.to_csv(\"../data/data_to_cluster06.csv\",header=words,index=False)"
   ],
   "metadata": {
    "collapsed": false,
    "pycharm": {
     "name": "#%%\n"
    }
   }
  },
  {
   "cell_type": "code",
   "execution_count": null,
   "outputs": [],
   "source": [],
   "metadata": {
    "collapsed": false,
    "pycharm": {
     "name": "#%%\n"
    }
   }
  }
 ],
 "metadata": {
  "kernelspec": {
   "display_name": "Python 3 (ipykernel)",
   "language": "python",
   "name": "python3"
  },
  "language_info": {
   "codemirror_mode": {
    "name": "ipython",
    "version": 3
   },
   "file_extension": ".py",
   "mimetype": "text/x-python",
   "name": "python",
   "nbconvert_exporter": "python",
   "pygments_lexer": "ipython3",
   "version": "3.9.7"
  }
 },
 "nbformat": 4,
 "nbformat_minor": 1
}