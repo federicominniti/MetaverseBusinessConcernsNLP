{
 "cells": [
  {
   "cell_type": "code",
   "execution_count": 400,
   "metadata": {
    "collapsed": true,
    "pycharm": {
     "name": "#%%\n"
    }
   },
   "outputs": [],
   "source": [
    "# Terminal / Anaconda Navigator: conda install -c conda-forge gensim\n",
    "import pickle\n",
    "from gensim import matutils, models\n",
    "import scipy.sparse\n",
    "import pandas as pd\n",
    "from gensim.models import CoherenceModel"
   ]
  },
  {
   "cell_type": "code",
   "execution_count": 470,
   "outputs": [
    {
     "data": {
      "text/plain": "                    Datetime             Tweet Id  \\\n0  2021-10-27 23:59:51+00:00  1453511793758797828   \n1  2021-10-27 23:57:13+00:00  1453511131331534853   \n2  2021-10-27 23:56:51+00:00  1453511038348009476   \n\n                                                Text     Username  \\\n0  @WuBlockchain #BlockchainNative #Metaverse #NF...   Cranehehe1   \n1  Get in on this before tomorrow, #NFT #NFTCommm...  VinceBernal   \n2  @metamonstersnft Get in on this before tomorro...  VinceBernal   \n\n                                        Text_Cleaned  \\\n0  because they donlearn the second law of hacker...   \n1                     get in on this before tomorrow   \n2                     get in on this before tomorrow   \n\n                                    tokens                 tokens_text  \n0  ['donlearn', 'second', 'law', 'hacker']  donlearn second law hacker  \n1                      ['get', 'tomorrow']                get tomorrow  \n2                      ['get', 'tomorrow']                get tomorrow  ",
      "text/html": "<div>\n<style scoped>\n    .dataframe tbody tr th:only-of-type {\n        vertical-align: middle;\n    }\n\n    .dataframe tbody tr th {\n        vertical-align: top;\n    }\n\n    .dataframe thead th {\n        text-align: right;\n    }\n</style>\n<table border=\"1\" class=\"dataframe\">\n  <thead>\n    <tr style=\"text-align: right;\">\n      <th></th>\n      <th>Datetime</th>\n      <th>Tweet Id</th>\n      <th>Text</th>\n      <th>Username</th>\n      <th>Text_Cleaned</th>\n      <th>tokens</th>\n      <th>tokens_text</th>\n    </tr>\n  </thead>\n  <tbody>\n    <tr>\n      <th>0</th>\n      <td>2021-10-27 23:59:51+00:00</td>\n      <td>1453511793758797828</td>\n      <td>@WuBlockchain #BlockchainNative #Metaverse #NF...</td>\n      <td>Cranehehe1</td>\n      <td>because they donlearn the second law of hacker...</td>\n      <td>['donlearn', 'second', 'law', 'hacker']</td>\n      <td>donlearn second law hacker</td>\n    </tr>\n    <tr>\n      <th>1</th>\n      <td>2021-10-27 23:57:13+00:00</td>\n      <td>1453511131331534853</td>\n      <td>Get in on this before tomorrow, #NFT #NFTCommm...</td>\n      <td>VinceBernal</td>\n      <td>get in on this before tomorrow</td>\n      <td>['get', 'tomorrow']</td>\n      <td>get tomorrow</td>\n    </tr>\n    <tr>\n      <th>2</th>\n      <td>2021-10-27 23:56:51+00:00</td>\n      <td>1453511038348009476</td>\n      <td>@metamonstersnft Get in on this before tomorro...</td>\n      <td>VinceBernal</td>\n      <td>get in on this before tomorrow</td>\n      <td>['get', 'tomorrow']</td>\n      <td>get tomorrow</td>\n    </tr>\n  </tbody>\n</table>\n</div>"
     },
     "execution_count": 470,
     "metadata": {},
     "output_type": "execute_result"
    }
   ],
   "source": [
    "f_data = pd.read_csv('../data/cleaned_tweets.csv')\n",
    "f_data.head(3)"
   ],
   "metadata": {
    "collapsed": false,
    "pycharm": {
     "name": "#%%\n"
    }
   }
  },
  {
   "cell_type": "code",
   "execution_count": 471,
   "outputs": [],
   "source": [
    "f_data.rename(columns = {'Text':'OriginalText', 'Text_Cleaned':'Text'}, inplace = True)"
   ],
   "metadata": {
    "collapsed": false,
    "pycharm": {
     "name": "#%%\n"
    }
   }
  },
  {
   "cell_type": "code",
   "execution_count": 472,
   "outputs": [],
   "source": [
    "f_data = f_data.loc[f_data['Datetime'] >= '2022-05-08']"
   ],
   "metadata": {
    "collapsed": false,
    "pycharm": {
     "name": "#%%\n"
    }
   }
  },
  {
   "cell_type": "code",
   "execution_count": 473,
   "outputs": [],
   "source": [
    "f_data = f_data.loc[f_data['Datetime'] <= '2022-05-11']"
   ],
   "metadata": {
    "collapsed": false,
    "pycharm": {
     "name": "#%%\n"
    }
   }
  },
  {
   "cell_type": "code",
   "execution_count": 474,
   "outputs": [
    {
     "data": {
      "text/plain": "                         Datetime             Tweet Id  \\\n157161  2022-05-08 23:59:39+00:00  1523452603904172032   \n157162  2022-05-08 23:59:33+00:00  1523452578452836354   \n157163  2022-05-08 23:59:24+00:00  1523452538401353728   \n157164  2022-05-08 23:59:16+00:00  1523452505622913024   \n157165  2022-05-08 23:59:03+00:00  1523452450908565505   \n...                           ...                  ...   \n159669  2022-05-10 20:35:43+00:00  1524126054859821056   \n159670  2022-05-10 20:35:41+00:00  1524126050334265345   \n159671  2022-05-10 20:35:33+00:00  1524126016473468928   \n159672  2022-05-10 20:35:33+00:00  1524126012824563713   \n159673  2022-05-10 20:35:16+00:00  1524125944725880832   \n\n                                             OriginalText         Username  \\\n157161  Destrucción creativa del capitalismo trabajand...   MaximilianLex4   \n157162  @ZssBecker That’s exactly what $Kainet is doin...          CKadatz   \n157163  @METAHORSEOFFIC1 It's is unique way to breed!!...   DensLikesDance   \n157164  🌍Eco Shiba Fighter´s  \\n\\n🏷 0.0025 $ETH (♻Poly...  ShibaAr28190159   \n157165  Creative destruction of capitalism working ful...   MaximilianLex4   \n...                                                   ...              ...   \n159669  Going to tell my grandkids that I was there th...    SpottingWaldo   \n159670  Some creators are asking about how they will g...           shayfu   \n159671  Yesterday's 10:10 TILTED TILT #2 (05-09-22) Th...  Tilted_Hawaiian   \n159672  @BTC_Archive . .game is developed on the unrea...    hayal_bohcasi   \n159673  I need a clone. One for irl and the other for ...    abigail_woolf   \n\n                                                     Text  \\\n157161  destrucción creativa del capitalismo trabajand...   \n157162  thatexactly what kainet is doing building thei...   \n157163                   itis unique way to breed amazing   \n157164  eco shiba   eth polygon no gas fee drop   coll...   \n157165  creative destruction of capitalism working ful...   \n...                                                   ...   \n159669  going to tell my grandkids thatwas there that ...   \n159670  some creators are asking about how they will g...   \n159671           tilted tilt    the tijuana street rapper   \n159672  game is developed on the unreal engine it is a...   \n159673  i needclone one for irl and the other for web ...   \n\n                                                   tokens  \\\n157161  ['destruccion', 'creativa', 'del', 'capitalism...   \n157162  ['thatexactly', 'kainet', 'building', 'land', ...   \n157163      ['itis', 'unique', 'way', 'breed', 'amazing']   \n157164  ['eco', 'shiba', 'polygon', 'gas', 'fee', 'dro...   \n157165  ['creative', 'destruction', 'capitalism', 'wor...   \n...                                                   ...   \n159669  ['going', 'tell', 'grandkids', 'thatwas', 'day...   \n159670  ['creators', 'asking', 'get', 'paid', 'check',...   \n159671  ['tilted', 'tilted', 'tijuana', 'street', 'rap...   \n159672  ['game', 'developed', 'unreal', 'anticipated',...   \n159673  ['needclone', 'irl', 'web', 'shit', 'got', 're...   \n\n                                              tokens_text  \n157161  destruccion creativa del capitalismo trabajand...  \n157162  thatexactly kainet building land kai community...  \n157163                      itis unique way breed amazing  \n157164  eco shiba polygon gas fee drop collection letc...  \n157165  creative destruction capitalism working full f...  \n...                                                   ...  \n159669  going tell grandkids thatwas day took first steps  \n159670          creators asking get paid check video zuck  \n159671                tilted tilted tijuana street rapper  \n159672   game developed unreal anticipated launch mid may  \n159673                    needclone irl web shit got real  \n\n[2513 rows x 7 columns]",
      "text/html": "<div>\n<style scoped>\n    .dataframe tbody tr th:only-of-type {\n        vertical-align: middle;\n    }\n\n    .dataframe tbody tr th {\n        vertical-align: top;\n    }\n\n    .dataframe thead th {\n        text-align: right;\n    }\n</style>\n<table border=\"1\" class=\"dataframe\">\n  <thead>\n    <tr style=\"text-align: right;\">\n      <th></th>\n      <th>Datetime</th>\n      <th>Tweet Id</th>\n      <th>OriginalText</th>\n      <th>Username</th>\n      <th>Text</th>\n      <th>tokens</th>\n      <th>tokens_text</th>\n    </tr>\n  </thead>\n  <tbody>\n    <tr>\n      <th>157161</th>\n      <td>2022-05-08 23:59:39+00:00</td>\n      <td>1523452603904172032</td>\n      <td>Destrucción creativa del capitalismo trabajand...</td>\n      <td>MaximilianLex4</td>\n      <td>destrucción creativa del capitalismo trabajand...</td>\n      <td>['destruccion', 'creativa', 'del', 'capitalism...</td>\n      <td>destruccion creativa del capitalismo trabajand...</td>\n    </tr>\n    <tr>\n      <th>157162</th>\n      <td>2022-05-08 23:59:33+00:00</td>\n      <td>1523452578452836354</td>\n      <td>@ZssBecker That’s exactly what $Kainet is doin...</td>\n      <td>CKadatz</td>\n      <td>thatexactly what kainet is doing building thei...</td>\n      <td>['thatexactly', 'kainet', 'building', 'land', ...</td>\n      <td>thatexactly kainet building land kai community...</td>\n    </tr>\n    <tr>\n      <th>157163</th>\n      <td>2022-05-08 23:59:24+00:00</td>\n      <td>1523452538401353728</td>\n      <td>@METAHORSEOFFIC1 It's is unique way to breed!!...</td>\n      <td>DensLikesDance</td>\n      <td>itis unique way to breed amazing</td>\n      <td>['itis', 'unique', 'way', 'breed', 'amazing']</td>\n      <td>itis unique way breed amazing</td>\n    </tr>\n    <tr>\n      <th>157164</th>\n      <td>2022-05-08 23:59:16+00:00</td>\n      <td>1523452505622913024</td>\n      <td>🌍Eco Shiba Fighter´s  \\n\\n🏷 0.0025 $ETH (♻Poly...</td>\n      <td>ShibaAr28190159</td>\n      <td>eco shiba   eth polygon no gas fee drop   coll...</td>\n      <td>['eco', 'shiba', 'polygon', 'gas', 'fee', 'dro...</td>\n      <td>eco shiba polygon gas fee drop collection letc...</td>\n    </tr>\n    <tr>\n      <th>157165</th>\n      <td>2022-05-08 23:59:03+00:00</td>\n      <td>1523452450908565505</td>\n      <td>Creative destruction of capitalism working ful...</td>\n      <td>MaximilianLex4</td>\n      <td>creative destruction of capitalism working ful...</td>\n      <td>['creative', 'destruction', 'capitalism', 'wor...</td>\n      <td>creative destruction capitalism working full f...</td>\n    </tr>\n    <tr>\n      <th>...</th>\n      <td>...</td>\n      <td>...</td>\n      <td>...</td>\n      <td>...</td>\n      <td>...</td>\n      <td>...</td>\n      <td>...</td>\n    </tr>\n    <tr>\n      <th>159669</th>\n      <td>2022-05-10 20:35:43+00:00</td>\n      <td>1524126054859821056</td>\n      <td>Going to tell my grandkids that I was there th...</td>\n      <td>SpottingWaldo</td>\n      <td>going to tell my grandkids thatwas there that ...</td>\n      <td>['going', 'tell', 'grandkids', 'thatwas', 'day...</td>\n      <td>going tell grandkids thatwas day took first steps</td>\n    </tr>\n    <tr>\n      <th>159670</th>\n      <td>2022-05-10 20:35:41+00:00</td>\n      <td>1524126050334265345</td>\n      <td>Some creators are asking about how they will g...</td>\n      <td>shayfu</td>\n      <td>some creators are asking about how they will g...</td>\n      <td>['creators', 'asking', 'get', 'paid', 'check',...</td>\n      <td>creators asking get paid check video zuck</td>\n    </tr>\n    <tr>\n      <th>159671</th>\n      <td>2022-05-10 20:35:33+00:00</td>\n      <td>1524126016473468928</td>\n      <td>Yesterday's 10:10 TILTED TILT #2 (05-09-22) Th...</td>\n      <td>Tilted_Hawaiian</td>\n      <td>tilted tilt    the tijuana street rapper</td>\n      <td>['tilted', 'tilted', 'tijuana', 'street', 'rap...</td>\n      <td>tilted tilted tijuana street rapper</td>\n    </tr>\n    <tr>\n      <th>159672</th>\n      <td>2022-05-10 20:35:33+00:00</td>\n      <td>1524126012824563713</td>\n      <td>@BTC_Archive . .game is developed on the unrea...</td>\n      <td>hayal_bohcasi</td>\n      <td>game is developed on the unreal engine it is a...</td>\n      <td>['game', 'developed', 'unreal', 'anticipated',...</td>\n      <td>game developed unreal anticipated launch mid may</td>\n    </tr>\n    <tr>\n      <th>159673</th>\n      <td>2022-05-10 20:35:16+00:00</td>\n      <td>1524125944725880832</td>\n      <td>I need a clone. One for irl and the other for ...</td>\n      <td>abigail_woolf</td>\n      <td>i needclone one for irl and the other for web ...</td>\n      <td>['needclone', 'irl', 'web', 'shit', 'got', 're...</td>\n      <td>needclone irl web shit got real</td>\n    </tr>\n  </tbody>\n</table>\n<p>2513 rows × 7 columns</p>\n</div>"
     },
     "execution_count": 474,
     "metadata": {},
     "output_type": "execute_result"
    }
   ],
   "source": [
    "f_data"
   ],
   "metadata": {
    "collapsed": false,
    "pycharm": {
     "name": "#%%\n"
    }
   }
  },
  {
   "cell_type": "code",
   "execution_count": 475,
   "outputs": [],
   "source": [
    "# We are going to create a document-term matrix using CountVectorizer, and exclude common English stop words\n",
    "from sklearn.feature_extraction.text import CountVectorizer\n",
    "\n",
    "# Vedi pickle\n",
    "cv = CountVectorizer(stop_words='english')\n",
    "data_cv = cv.fit_transform(f_data.Text)\n",
    "data_dtm = pd.DataFrame(data_cv.toarray(), columns=cv.get_feature_names())\n",
    "data_dtm.index = f_data.index"
   ],
   "metadata": {
    "collapsed": false,
    "pycharm": {
     "name": "#%%\n"
    }
   }
  },
  {
   "cell_type": "code",
   "execution_count": 476,
   "outputs": [
    {
     "data": {
      "text/plain": "           157161  157162  157163  157164  157165  157166  157167  157168  \\\naaa             0       0       0       0       0       0       0       0   \naaamanın        0       0       0       0       0       0       0       0   \nabcof           0       0       0       0       0       0       0       0   \nabd             0       0       0       0       0       0       0       0   \nabilities       0       0       0       0       0       0       0       0   \n\n           157169  157170  ...  159664  159665  159666  159667  159668  \\\naaa             0       0  ...       0       0       0       0       0   \naaamanın        0       0  ...       0       0       0       0       0   \nabcof           0       0  ...       0       0       0       0       0   \nabd             0       0  ...       0       0       0       0       0   \nabilities       0       0  ...       0       0       0       0       0   \n\n           159669  159670  159671  159672  159673  \naaa             0       0       0       0       0  \naaamanın        0       0       0       0       0  \nabcof           0       0       0       0       0  \nabd             0       0       0       0       0  \nabilities       0       0       0       0       0  \n\n[5 rows x 2513 columns]",
      "text/html": "<div>\n<style scoped>\n    .dataframe tbody tr th:only-of-type {\n        vertical-align: middle;\n    }\n\n    .dataframe tbody tr th {\n        vertical-align: top;\n    }\n\n    .dataframe thead th {\n        text-align: right;\n    }\n</style>\n<table border=\"1\" class=\"dataframe\">\n  <thead>\n    <tr style=\"text-align: right;\">\n      <th></th>\n      <th>157161</th>\n      <th>157162</th>\n      <th>157163</th>\n      <th>157164</th>\n      <th>157165</th>\n      <th>157166</th>\n      <th>157167</th>\n      <th>157168</th>\n      <th>157169</th>\n      <th>157170</th>\n      <th>...</th>\n      <th>159664</th>\n      <th>159665</th>\n      <th>159666</th>\n      <th>159667</th>\n      <th>159668</th>\n      <th>159669</th>\n      <th>159670</th>\n      <th>159671</th>\n      <th>159672</th>\n      <th>159673</th>\n    </tr>\n  </thead>\n  <tbody>\n    <tr>\n      <th>aaa</th>\n      <td>0</td>\n      <td>0</td>\n      <td>0</td>\n      <td>0</td>\n      <td>0</td>\n      <td>0</td>\n      <td>0</td>\n      <td>0</td>\n      <td>0</td>\n      <td>0</td>\n      <td>...</td>\n      <td>0</td>\n      <td>0</td>\n      <td>0</td>\n      <td>0</td>\n      <td>0</td>\n      <td>0</td>\n      <td>0</td>\n      <td>0</td>\n      <td>0</td>\n      <td>0</td>\n    </tr>\n    <tr>\n      <th>aaamanın</th>\n      <td>0</td>\n      <td>0</td>\n      <td>0</td>\n      <td>0</td>\n      <td>0</td>\n      <td>0</td>\n      <td>0</td>\n      <td>0</td>\n      <td>0</td>\n      <td>0</td>\n      <td>...</td>\n      <td>0</td>\n      <td>0</td>\n      <td>0</td>\n      <td>0</td>\n      <td>0</td>\n      <td>0</td>\n      <td>0</td>\n      <td>0</td>\n      <td>0</td>\n      <td>0</td>\n    </tr>\n    <tr>\n      <th>abcof</th>\n      <td>0</td>\n      <td>0</td>\n      <td>0</td>\n      <td>0</td>\n      <td>0</td>\n      <td>0</td>\n      <td>0</td>\n      <td>0</td>\n      <td>0</td>\n      <td>0</td>\n      <td>...</td>\n      <td>0</td>\n      <td>0</td>\n      <td>0</td>\n      <td>0</td>\n      <td>0</td>\n      <td>0</td>\n      <td>0</td>\n      <td>0</td>\n      <td>0</td>\n      <td>0</td>\n    </tr>\n    <tr>\n      <th>abd</th>\n      <td>0</td>\n      <td>0</td>\n      <td>0</td>\n      <td>0</td>\n      <td>0</td>\n      <td>0</td>\n      <td>0</td>\n      <td>0</td>\n      <td>0</td>\n      <td>0</td>\n      <td>...</td>\n      <td>0</td>\n      <td>0</td>\n      <td>0</td>\n      <td>0</td>\n      <td>0</td>\n      <td>0</td>\n      <td>0</td>\n      <td>0</td>\n      <td>0</td>\n      <td>0</td>\n    </tr>\n    <tr>\n      <th>abilities</th>\n      <td>0</td>\n      <td>0</td>\n      <td>0</td>\n      <td>0</td>\n      <td>0</td>\n      <td>0</td>\n      <td>0</td>\n      <td>0</td>\n      <td>0</td>\n      <td>0</td>\n      <td>...</td>\n      <td>0</td>\n      <td>0</td>\n      <td>0</td>\n      <td>0</td>\n      <td>0</td>\n      <td>0</td>\n      <td>0</td>\n      <td>0</td>\n      <td>0</td>\n      <td>0</td>\n    </tr>\n  </tbody>\n</table>\n<p>5 rows × 2513 columns</p>\n</div>"
     },
     "execution_count": 476,
     "metadata": {},
     "output_type": "execute_result"
    }
   ],
   "source": [
    "# One of the required inputs is a term-document matrix\n",
    "tdm = data_dtm.transpose()\n",
    "tdm.head()"
   ],
   "metadata": {
    "collapsed": false,
    "pycharm": {
     "name": "#%%\n"
    }
   }
  },
  {
   "cell_type": "code",
   "execution_count": 477,
   "outputs": [],
   "source": [
    "# We're going to put the term-document matrix into a new gensim format, from df --> sparse matrix --> gensim corpus\n",
    "sparse_counts = scipy.sparse.csr_matrix(data_dtm)\n",
    "corpus = matutils.Sparse2Corpus(sparse_counts)"
   ],
   "metadata": {
    "collapsed": false,
    "pycharm": {
     "name": "#%%\n"
    }
   }
  },
  {
   "cell_type": "code",
   "execution_count": 478,
   "outputs": [
    {
     "name": "stderr",
     "output_type": "stream",
     "text": [
      "/usr/local/lib/python3.9/site-packages/sklearn/base.py:310: UserWarning: Trying to unpickle estimator CountVectorizer from version 0.18.2 when using version 0.24.2. This might lead to breaking code or invalid results. Use at your own risk.\n",
      "  warnings.warn(\n"
     ]
    }
   ],
   "source": [
    "# Gensim also requires dictionary of the all terms and their respective location in the term-document matrix\n",
    "cv = pickle.load(open(\"../data/cv_stop.pkl\", \"rb\"))\n",
    "id2word = dict((v, k) for k, v in cv.vocabulary_.items())"
   ],
   "metadata": {
    "collapsed": false,
    "pycharm": {
     "name": "#%%\n"
    }
   }
  },
  {
   "cell_type": "code",
   "execution_count": 479,
   "outputs": [
    {
     "data": {
      "text/plain": "[(0,\n  '0.002*\"bent\" + 0.002*\"cowardly\" + 0.002*\"conscious\" + 0.002*\"eww\" + 0.002*\"arri\" + 0.002*\"conventions\" + 0.002*\"cricket\" + 0.002*\"birth\" + 0.002*\"bamboozled\" + 0.002*\"boba\"'),\n (1,\n  '0.004*\"feminists\" + 0.003*\"dear\" + 0.002*\"electric\" + 0.002*\"discouraging\" + 0.002*\"act\" + 0.002*\"beef\" + 0.002*\"bones\" + 0.002*\"dissolve\" + 0.002*\"apple\" + 0.002*\"dinner\"')]"
     },
     "execution_count": 479,
     "metadata": {},
     "output_type": "execute_result"
    }
   ],
   "source": [
    "# Now that we have the corpus (term-document matrix) and id2word (dictionary of location: term),\n",
    "# we need to specify two other parameters as well - the number of topics and the number of passes\n",
    "lda = models.LdaModel(corpus=corpus, id2word=id2word, num_topics=2, passes=1)\n",
    "lda.print_topics()"
   ],
   "metadata": {
    "collapsed": false,
    "pycharm": {
     "name": "#%%\n"
    }
   }
  },
  {
   "cell_type": "code",
   "execution_count": 480,
   "outputs": [],
   "source": [
    "# Let's create a function to pull out nouns from a string of text\n",
    "from nltk import word_tokenize, pos_tag\n",
    "\n",
    "def nouns(text):\n",
    "    '''Given a string of text, tokenize the text and pull out only the nouns.'''\n",
    "    is_noun = lambda pos: pos[:2] == 'NN'\n",
    "    tokenized = word_tokenize(text)\n",
    "    all_nouns = [word for (word, pos) in pos_tag(tokenized) if is_noun(pos)]\n",
    "    return ' '.join(all_nouns)"
   ],
   "metadata": {
    "collapsed": false,
    "pycharm": {
     "name": "#%%\n"
    }
   }
  },
  {
   "cell_type": "code",
   "execution_count": 481,
   "outputs": [
    {
     "data": {
      "text/plain": "                                                     Text\n157161  destrucción creativa del capitalismo trabajand...\n157162  kainet metaverse land kai community build bear...\n157163                                           itis way\n157164      eco shiba gas fee drop collection eco friends\n157165  destruction capitalism force fronts world fasc...\n...                                                   ...\n159669                                grandkids day steps\n159670                          creators check video zuck\n159671                                      street rapper\n159672                                    game engine mid\n159673                                     i irl web shit\n\n[2513 rows x 1 columns]",
      "text/html": "<div>\n<style scoped>\n    .dataframe tbody tr th:only-of-type {\n        vertical-align: middle;\n    }\n\n    .dataframe tbody tr th {\n        vertical-align: top;\n    }\n\n    .dataframe thead th {\n        text-align: right;\n    }\n</style>\n<table border=\"1\" class=\"dataframe\">\n  <thead>\n    <tr style=\"text-align: right;\">\n      <th></th>\n      <th>Text</th>\n    </tr>\n  </thead>\n  <tbody>\n    <tr>\n      <th>157161</th>\n      <td>destrucción creativa del capitalismo trabajand...</td>\n    </tr>\n    <tr>\n      <th>157162</th>\n      <td>kainet metaverse land kai community build bear...</td>\n    </tr>\n    <tr>\n      <th>157163</th>\n      <td>itis way</td>\n    </tr>\n    <tr>\n      <th>157164</th>\n      <td>eco shiba gas fee drop collection eco friends</td>\n    </tr>\n    <tr>\n      <th>157165</th>\n      <td>destruction capitalism force fronts world fasc...</td>\n    </tr>\n    <tr>\n      <th>...</th>\n      <td>...</td>\n    </tr>\n    <tr>\n      <th>159669</th>\n      <td>grandkids day steps</td>\n    </tr>\n    <tr>\n      <th>159670</th>\n      <td>creators check video zuck</td>\n    </tr>\n    <tr>\n      <th>159671</th>\n      <td>street rapper</td>\n    </tr>\n    <tr>\n      <th>159672</th>\n      <td>game engine mid</td>\n    </tr>\n    <tr>\n      <th>159673</th>\n      <td>i irl web shit</td>\n    </tr>\n  </tbody>\n</table>\n<p>2513 rows × 1 columns</p>\n</div>"
     },
     "execution_count": 481,
     "metadata": {},
     "output_type": "execute_result"
    }
   ],
   "source": [
    "# Apply the nouns function to the transcripts to filter only on nouns\n",
    "data_nouns = pd.DataFrame(f_data.Text.apply(nouns))\n",
    "data_nouns"
   ],
   "metadata": {
    "collapsed": false,
    "pycharm": {
     "name": "#%%\n"
    }
   }
  },
  {
   "cell_type": "code",
   "execution_count": 482,
   "outputs": [
    {
     "data": {
      "text/plain": "        aaa  aaamanın  abcof  abd  ability  ablity  abouthost  abrash  \\\n157161    0         0      0    0        0       0          0       0   \n157162    0         0      0    0        0       0          0       0   \n157163    0         0      0    0        0       0          0       0   \n157164    0         0      0    0        0       0          0       0   \n157165    0         0      0    0        0       0          0       0   \n...     ...       ...    ...  ...      ...     ...        ...     ...   \n159669    0         0      0    0        0       0          0       0   \n159670    0         0      0    0        0       0          0       0   \n159671    0         0      0    0        0       0          0       0   \n159672    0         0      0    0        0       0          0       0   \n159673    0         0      0    0        0       0          0       0   \n\n        absolute  abstract  ...  𝗠𝗲𝘁𝗮𝗛𝗤  𝗦𝗮𝗻𝗱𝗯𝗼𝘅  𝗧𝗵𝗲  𝗩𝗶𝗿𝘁𝘂𝗮𝗹  𝗯𝗲𝗰𝗼𝗺𝗶𝗻𝗴  𝗶𝘀  \\\n157161         0         0  ...       0        0    0        0         0   0   \n157162         0         0  ...       0        0    0        0         0   0   \n157163         0         0  ...       0        0    0        0         0   0   \n157164         0         0  ...       0        0    0        0         0   0   \n157165         0         0  ...       0        0    0        0         0   0   \n...          ...       ...  ...     ...      ...  ...      ...       ...  ..   \n159669         0         0  ...       0        0    0        0         0   0   \n159670         0         0  ...       0        0    0        0         0   0   \n159671         0         0  ...       0        0    0        0         0   0   \n159672         0         0  ...       0        0    0        0         0   0   \n159673         0         0  ...       0        0    0        0         0   0   \n\n        𝗶𝘁𝘀  𝗼𝗻  𝘁𝗵𝗲  𝘄𝗶𝘁𝗵  \n157161    0   0    0     0  \n157162    0   0    0     0  \n157163    0   0    0     0  \n157164    0   0    0     0  \n157165    0   0    0     0  \n...     ...  ..  ...   ...  \n159669    0   0    0     0  \n159670    0   0    0     0  \n159671    0   0    0     0  \n159672    0   0    0     0  \n159673    0   0    0     0  \n\n[2513 rows x 5127 columns]",
      "text/html": "<div>\n<style scoped>\n    .dataframe tbody tr th:only-of-type {\n        vertical-align: middle;\n    }\n\n    .dataframe tbody tr th {\n        vertical-align: top;\n    }\n\n    .dataframe thead th {\n        text-align: right;\n    }\n</style>\n<table border=\"1\" class=\"dataframe\">\n  <thead>\n    <tr style=\"text-align: right;\">\n      <th></th>\n      <th>aaa</th>\n      <th>aaamanın</th>\n      <th>abcof</th>\n      <th>abd</th>\n      <th>ability</th>\n      <th>ablity</th>\n      <th>abouthost</th>\n      <th>abrash</th>\n      <th>absolute</th>\n      <th>abstract</th>\n      <th>...</th>\n      <th>𝗠𝗲𝘁𝗮𝗛𝗤</th>\n      <th>𝗦𝗮𝗻𝗱𝗯𝗼𝘅</th>\n      <th>𝗧𝗵𝗲</th>\n      <th>𝗩𝗶𝗿𝘁𝘂𝗮𝗹</th>\n      <th>𝗯𝗲𝗰𝗼𝗺𝗶𝗻𝗴</th>\n      <th>𝗶𝘀</th>\n      <th>𝗶𝘁𝘀</th>\n      <th>𝗼𝗻</th>\n      <th>𝘁𝗵𝗲</th>\n      <th>𝘄𝗶𝘁𝗵</th>\n    </tr>\n  </thead>\n  <tbody>\n    <tr>\n      <th>157161</th>\n      <td>0</td>\n      <td>0</td>\n      <td>0</td>\n      <td>0</td>\n      <td>0</td>\n      <td>0</td>\n      <td>0</td>\n      <td>0</td>\n      <td>0</td>\n      <td>0</td>\n      <td>...</td>\n      <td>0</td>\n      <td>0</td>\n      <td>0</td>\n      <td>0</td>\n      <td>0</td>\n      <td>0</td>\n      <td>0</td>\n      <td>0</td>\n      <td>0</td>\n      <td>0</td>\n    </tr>\n    <tr>\n      <th>157162</th>\n      <td>0</td>\n      <td>0</td>\n      <td>0</td>\n      <td>0</td>\n      <td>0</td>\n      <td>0</td>\n      <td>0</td>\n      <td>0</td>\n      <td>0</td>\n      <td>0</td>\n      <td>...</td>\n      <td>0</td>\n      <td>0</td>\n      <td>0</td>\n      <td>0</td>\n      <td>0</td>\n      <td>0</td>\n      <td>0</td>\n      <td>0</td>\n      <td>0</td>\n      <td>0</td>\n    </tr>\n    <tr>\n      <th>157163</th>\n      <td>0</td>\n      <td>0</td>\n      <td>0</td>\n      <td>0</td>\n      <td>0</td>\n      <td>0</td>\n      <td>0</td>\n      <td>0</td>\n      <td>0</td>\n      <td>0</td>\n      <td>...</td>\n      <td>0</td>\n      <td>0</td>\n      <td>0</td>\n      <td>0</td>\n      <td>0</td>\n      <td>0</td>\n      <td>0</td>\n      <td>0</td>\n      <td>0</td>\n      <td>0</td>\n    </tr>\n    <tr>\n      <th>157164</th>\n      <td>0</td>\n      <td>0</td>\n      <td>0</td>\n      <td>0</td>\n      <td>0</td>\n      <td>0</td>\n      <td>0</td>\n      <td>0</td>\n      <td>0</td>\n      <td>0</td>\n      <td>...</td>\n      <td>0</td>\n      <td>0</td>\n      <td>0</td>\n      <td>0</td>\n      <td>0</td>\n      <td>0</td>\n      <td>0</td>\n      <td>0</td>\n      <td>0</td>\n      <td>0</td>\n    </tr>\n    <tr>\n      <th>157165</th>\n      <td>0</td>\n      <td>0</td>\n      <td>0</td>\n      <td>0</td>\n      <td>0</td>\n      <td>0</td>\n      <td>0</td>\n      <td>0</td>\n      <td>0</td>\n      <td>0</td>\n      <td>...</td>\n      <td>0</td>\n      <td>0</td>\n      <td>0</td>\n      <td>0</td>\n      <td>0</td>\n      <td>0</td>\n      <td>0</td>\n      <td>0</td>\n      <td>0</td>\n      <td>0</td>\n    </tr>\n    <tr>\n      <th>...</th>\n      <td>...</td>\n      <td>...</td>\n      <td>...</td>\n      <td>...</td>\n      <td>...</td>\n      <td>...</td>\n      <td>...</td>\n      <td>...</td>\n      <td>...</td>\n      <td>...</td>\n      <td>...</td>\n      <td>...</td>\n      <td>...</td>\n      <td>...</td>\n      <td>...</td>\n      <td>...</td>\n      <td>...</td>\n      <td>...</td>\n      <td>...</td>\n      <td>...</td>\n      <td>...</td>\n    </tr>\n    <tr>\n      <th>159669</th>\n      <td>0</td>\n      <td>0</td>\n      <td>0</td>\n      <td>0</td>\n      <td>0</td>\n      <td>0</td>\n      <td>0</td>\n      <td>0</td>\n      <td>0</td>\n      <td>0</td>\n      <td>...</td>\n      <td>0</td>\n      <td>0</td>\n      <td>0</td>\n      <td>0</td>\n      <td>0</td>\n      <td>0</td>\n      <td>0</td>\n      <td>0</td>\n      <td>0</td>\n      <td>0</td>\n    </tr>\n    <tr>\n      <th>159670</th>\n      <td>0</td>\n      <td>0</td>\n      <td>0</td>\n      <td>0</td>\n      <td>0</td>\n      <td>0</td>\n      <td>0</td>\n      <td>0</td>\n      <td>0</td>\n      <td>0</td>\n      <td>...</td>\n      <td>0</td>\n      <td>0</td>\n      <td>0</td>\n      <td>0</td>\n      <td>0</td>\n      <td>0</td>\n      <td>0</td>\n      <td>0</td>\n      <td>0</td>\n      <td>0</td>\n    </tr>\n    <tr>\n      <th>159671</th>\n      <td>0</td>\n      <td>0</td>\n      <td>0</td>\n      <td>0</td>\n      <td>0</td>\n      <td>0</td>\n      <td>0</td>\n      <td>0</td>\n      <td>0</td>\n      <td>0</td>\n      <td>...</td>\n      <td>0</td>\n      <td>0</td>\n      <td>0</td>\n      <td>0</td>\n      <td>0</td>\n      <td>0</td>\n      <td>0</td>\n      <td>0</td>\n      <td>0</td>\n      <td>0</td>\n    </tr>\n    <tr>\n      <th>159672</th>\n      <td>0</td>\n      <td>0</td>\n      <td>0</td>\n      <td>0</td>\n      <td>0</td>\n      <td>0</td>\n      <td>0</td>\n      <td>0</td>\n      <td>0</td>\n      <td>0</td>\n      <td>...</td>\n      <td>0</td>\n      <td>0</td>\n      <td>0</td>\n      <td>0</td>\n      <td>0</td>\n      <td>0</td>\n      <td>0</td>\n      <td>0</td>\n      <td>0</td>\n      <td>0</td>\n    </tr>\n    <tr>\n      <th>159673</th>\n      <td>0</td>\n      <td>0</td>\n      <td>0</td>\n      <td>0</td>\n      <td>0</td>\n      <td>0</td>\n      <td>0</td>\n      <td>0</td>\n      <td>0</td>\n      <td>0</td>\n      <td>...</td>\n      <td>0</td>\n      <td>0</td>\n      <td>0</td>\n      <td>0</td>\n      <td>0</td>\n      <td>0</td>\n      <td>0</td>\n      <td>0</td>\n      <td>0</td>\n      <td>0</td>\n    </tr>\n  </tbody>\n</table>\n<p>2513 rows × 5127 columns</p>\n</div>"
     },
     "execution_count": 482,
     "metadata": {},
     "output_type": "execute_result"
    }
   ],
   "source": [
    "# Create a new document-term matrix using only nouns\n",
    "from sklearn.feature_extraction import text\n",
    "from sklearn.feature_extraction.text import CountVectorizer\n",
    "\n",
    "# Re-add the additional stop words since we are recreating the document-term matrix\n",
    "add_stop_words = ['like', 'im', 'know', 'just', 'dont', 'thats', 'right', 'people',\n",
    "                  'youre', 'got', 'gonna', 'time', 'think', 'yeah', 'said','game','discord','tweet','twitter'\n",
    "                  'retweet','check','play','join','world','thing','coinnews']\n",
    "stop_words = text.ENGLISH_STOP_WORDS.union(add_stop_words)\n",
    "\n",
    "# Recreate a document-term matrix with only nouns\n",
    "cvn = CountVectorizer(stop_words=stop_words)\n",
    "data_cvn = cvn.fit_transform(data_nouns.Text)\n",
    "data_dtmn = pd.DataFrame(data_cvn.toarray(), columns=cvn.get_feature_names())\n",
    "data_dtmn.index = data_nouns.index\n",
    "data_dtmn"
   ],
   "metadata": {
    "collapsed": false,
    "pycharm": {
     "name": "#%%\n"
    }
   }
  },
  {
   "cell_type": "code",
   "execution_count": 483,
   "outputs": [],
   "source": [
    "# Create the gensim corpus\n",
    "corpusn = matutils.Sparse2Corpus(scipy.sparse.csr_matrix(data_dtmn.transpose()))\n",
    "\n",
    "# Create the vocabulary dictionary\n",
    "id2wordn = dict((v, k) for k, v in cvn.vocabulary_.items())"
   ],
   "metadata": {
    "collapsed": false,
    "pycharm": {
     "name": "#%%\n"
    }
   }
  },
  {
   "cell_type": "code",
   "execution_count": 484,
   "outputs": [
    {
     "data": {
      "text/plain": "[(0,\n  '0.010*\"metaverse\" + 0.008*\"project\" + 0.008*\"tfuel\" + 0.007*\"collection\" + 0.007*\"nft\" + 0.006*\"today\" + 0.005*\"amp\" + 0.005*\"theta\" + 0.004*\"opensea\" + 0.004*\"future\"'),\n (1,\n  '0.013*\"metaverse\" + 0.006*\"amp\" + 0.006*\"nfts\" + 0.005*\"crypto\" + 0.004*\"day\" + 0.004*\"future\" + 0.004*\"avatar\" + 0.004*\"answers\" + 0.004*\"market\" + 0.004*\"games\"')]"
     },
     "execution_count": 484,
     "metadata": {},
     "output_type": "execute_result"
    }
   ],
   "source": [
    "# Let's try topics = 3\n",
    "ldan = models.LdaModel(corpus=corpusn, num_topics=2, id2word=id2wordn, passes=1)\n",
    "ldan.print_topics()"
   ],
   "metadata": {
    "collapsed": false,
    "pycharm": {
     "name": "#%%\n"
    }
   }
  },
  {
   "cell_type": "code",
   "execution_count": 485,
   "outputs": [],
   "source": [
    "# Let's create a function to pull out nouns from a string of text\n",
    "def nouns_adj(text):\n",
    "    '''Given a string of text, tokenize the text and pull out only the nouns and adjectives.'''\n",
    "    is_noun_adj = lambda pos: pos[:2] == 'NN' or pos[:2] == 'JJ'\n",
    "    tokenized = word_tokenize(text)\n",
    "    nouns_adj = [word for (word, pos) in pos_tag(tokenized) if is_noun_adj(pos)]\n",
    "    return ' '.join(nouns_adj)"
   ],
   "metadata": {
    "collapsed": false,
    "pycharm": {
     "name": "#%%\n"
    }
   }
  },
  {
   "cell_type": "code",
   "execution_count": 486,
   "outputs": [
    {
     "data": {
      "text/plain": "                                                     Text\n157161  destrucción creativa del capitalismo trabajand...\n157162  kainet metaverse land kai community stronger b...\n157163                                    itis unique way\n157164  eco shiba gas fee drop collection letcollect e...\n157165  creative destruction capitalism full force fro...\n...                                                   ...\n159669                          grandkids day first steps\n159670                          creators check video zuck\n159671                              tijuana street rapper\n159672                             game unreal engine mid\n159673                          i irl other web shit real\n\n[2513 rows x 1 columns]",
      "text/html": "<div>\n<style scoped>\n    .dataframe tbody tr th:only-of-type {\n        vertical-align: middle;\n    }\n\n    .dataframe tbody tr th {\n        vertical-align: top;\n    }\n\n    .dataframe thead th {\n        text-align: right;\n    }\n</style>\n<table border=\"1\" class=\"dataframe\">\n  <thead>\n    <tr style=\"text-align: right;\">\n      <th></th>\n      <th>Text</th>\n    </tr>\n  </thead>\n  <tbody>\n    <tr>\n      <th>157161</th>\n      <td>destrucción creativa del capitalismo trabajand...</td>\n    </tr>\n    <tr>\n      <th>157162</th>\n      <td>kainet metaverse land kai community stronger b...</td>\n    </tr>\n    <tr>\n      <th>157163</th>\n      <td>itis unique way</td>\n    </tr>\n    <tr>\n      <th>157164</th>\n      <td>eco shiba gas fee drop collection letcollect e...</td>\n    </tr>\n    <tr>\n      <th>157165</th>\n      <td>creative destruction capitalism full force fro...</td>\n    </tr>\n    <tr>\n      <th>...</th>\n      <td>...</td>\n    </tr>\n    <tr>\n      <th>159669</th>\n      <td>grandkids day first steps</td>\n    </tr>\n    <tr>\n      <th>159670</th>\n      <td>creators check video zuck</td>\n    </tr>\n    <tr>\n      <th>159671</th>\n      <td>tijuana street rapper</td>\n    </tr>\n    <tr>\n      <th>159672</th>\n      <td>game unreal engine mid</td>\n    </tr>\n    <tr>\n      <th>159673</th>\n      <td>i irl other web shit real</td>\n    </tr>\n  </tbody>\n</table>\n<p>2513 rows × 1 columns</p>\n</div>"
     },
     "execution_count": 486,
     "metadata": {},
     "output_type": "execute_result"
    }
   ],
   "source": [
    "# Apply the nouns function to the transcripts to filter only on nouns\n",
    "data_nouns_adj = pd.DataFrame(f_data.Text.apply(nouns_adj))\n",
    "data_nouns_adj"
   ],
   "metadata": {
    "collapsed": false,
    "pycharm": {
     "name": "#%%\n"
    }
   }
  },
  {
   "cell_type": "code",
   "execution_count": 487,
   "outputs": [
    {
     "data": {
      "text/plain": "        aaa  aaamanın  abcof  abd  ability  able  ablity  abouthost  \\\n157161    0         0      0    0        0     0       0          0   \n157162    0         0      0    0        0     0       0          0   \n157163    0         0      0    0        0     0       0          0   \n157164    0         0      0    0        0     0       0          0   \n157165    0         0      0    0        0     0       0          0   \n...     ...       ...    ...  ...      ...   ...     ...        ...   \n159669    0         0      0    0        0     0       0          0   \n159670    0         0      0    0        0     0       0          0   \n159671    0         0      0    0        0     0       0          0   \n159672    0         0      0    0        0     0       0          0   \n159673    0         0      0    0        0     0       0          0   \n\n        aboutuhut  abrash  ...  𝗠𝗲𝘁𝗮𝗛𝗤  𝗦𝗮𝗻𝗱𝗯𝗼𝘅  𝗧𝗵𝗲  𝗩𝗶𝗿𝘁𝘂𝗮𝗹  𝗯𝗲𝗰𝗼𝗺𝗶𝗻𝗴  𝗶𝘀  \\\n157161          0       0  ...       0        0    0        0         0   0   \n157162          0       0  ...       0        0    0        0         0   0   \n157163          0       0  ...       0        0    0        0         0   0   \n157164          0       0  ...       0        0    0        0         0   0   \n157165          0       0  ...       0        0    0        0         0   0   \n...           ...     ...  ...     ...      ...  ...      ...       ...  ..   \n159669          0       0  ...       0        0    0        0         0   0   \n159670          0       0  ...       0        0    0        0         0   0   \n159671          0       0  ...       0        0    0        0         0   0   \n159672          0       0  ...       0        0    0        0         0   0   \n159673          0       0  ...       0        0    0        0         0   0   \n\n        𝗶𝘁𝘀  𝗼𝗻  𝘁𝗵𝗲  𝘄𝗶𝘁𝗵  \n157161    0   0    0     0  \n157162    0   0    0     0  \n157163    0   0    0     0  \n157164    0   0    0     0  \n157165    0   0    0     0  \n...     ...  ..  ...   ...  \n159669    0   0    0     0  \n159670    0   0    0     0  \n159671    0   0    0     0  \n159672    0   0    0     0  \n159673    0   0    0     0  \n\n[2513 rows x 6227 columns]",
      "text/html": "<div>\n<style scoped>\n    .dataframe tbody tr th:only-of-type {\n        vertical-align: middle;\n    }\n\n    .dataframe tbody tr th {\n        vertical-align: top;\n    }\n\n    .dataframe thead th {\n        text-align: right;\n    }\n</style>\n<table border=\"1\" class=\"dataframe\">\n  <thead>\n    <tr style=\"text-align: right;\">\n      <th></th>\n      <th>aaa</th>\n      <th>aaamanın</th>\n      <th>abcof</th>\n      <th>abd</th>\n      <th>ability</th>\n      <th>able</th>\n      <th>ablity</th>\n      <th>abouthost</th>\n      <th>aboutuhut</th>\n      <th>abrash</th>\n      <th>...</th>\n      <th>𝗠𝗲𝘁𝗮𝗛𝗤</th>\n      <th>𝗦𝗮𝗻𝗱𝗯𝗼𝘅</th>\n      <th>𝗧𝗵𝗲</th>\n      <th>𝗩𝗶𝗿𝘁𝘂𝗮𝗹</th>\n      <th>𝗯𝗲𝗰𝗼𝗺𝗶𝗻𝗴</th>\n      <th>𝗶𝘀</th>\n      <th>𝗶𝘁𝘀</th>\n      <th>𝗼𝗻</th>\n      <th>𝘁𝗵𝗲</th>\n      <th>𝘄𝗶𝘁𝗵</th>\n    </tr>\n  </thead>\n  <tbody>\n    <tr>\n      <th>157161</th>\n      <td>0</td>\n      <td>0</td>\n      <td>0</td>\n      <td>0</td>\n      <td>0</td>\n      <td>0</td>\n      <td>0</td>\n      <td>0</td>\n      <td>0</td>\n      <td>0</td>\n      <td>...</td>\n      <td>0</td>\n      <td>0</td>\n      <td>0</td>\n      <td>0</td>\n      <td>0</td>\n      <td>0</td>\n      <td>0</td>\n      <td>0</td>\n      <td>0</td>\n      <td>0</td>\n    </tr>\n    <tr>\n      <th>157162</th>\n      <td>0</td>\n      <td>0</td>\n      <td>0</td>\n      <td>0</td>\n      <td>0</td>\n      <td>0</td>\n      <td>0</td>\n      <td>0</td>\n      <td>0</td>\n      <td>0</td>\n      <td>...</td>\n      <td>0</td>\n      <td>0</td>\n      <td>0</td>\n      <td>0</td>\n      <td>0</td>\n      <td>0</td>\n      <td>0</td>\n      <td>0</td>\n      <td>0</td>\n      <td>0</td>\n    </tr>\n    <tr>\n      <th>157163</th>\n      <td>0</td>\n      <td>0</td>\n      <td>0</td>\n      <td>0</td>\n      <td>0</td>\n      <td>0</td>\n      <td>0</td>\n      <td>0</td>\n      <td>0</td>\n      <td>0</td>\n      <td>...</td>\n      <td>0</td>\n      <td>0</td>\n      <td>0</td>\n      <td>0</td>\n      <td>0</td>\n      <td>0</td>\n      <td>0</td>\n      <td>0</td>\n      <td>0</td>\n      <td>0</td>\n    </tr>\n    <tr>\n      <th>157164</th>\n      <td>0</td>\n      <td>0</td>\n      <td>0</td>\n      <td>0</td>\n      <td>0</td>\n      <td>0</td>\n      <td>0</td>\n      <td>0</td>\n      <td>0</td>\n      <td>0</td>\n      <td>...</td>\n      <td>0</td>\n      <td>0</td>\n      <td>0</td>\n      <td>0</td>\n      <td>0</td>\n      <td>0</td>\n      <td>0</td>\n      <td>0</td>\n      <td>0</td>\n      <td>0</td>\n    </tr>\n    <tr>\n      <th>157165</th>\n      <td>0</td>\n      <td>0</td>\n      <td>0</td>\n      <td>0</td>\n      <td>0</td>\n      <td>0</td>\n      <td>0</td>\n      <td>0</td>\n      <td>0</td>\n      <td>0</td>\n      <td>...</td>\n      <td>0</td>\n      <td>0</td>\n      <td>0</td>\n      <td>0</td>\n      <td>0</td>\n      <td>0</td>\n      <td>0</td>\n      <td>0</td>\n      <td>0</td>\n      <td>0</td>\n    </tr>\n    <tr>\n      <th>...</th>\n      <td>...</td>\n      <td>...</td>\n      <td>...</td>\n      <td>...</td>\n      <td>...</td>\n      <td>...</td>\n      <td>...</td>\n      <td>...</td>\n      <td>...</td>\n      <td>...</td>\n      <td>...</td>\n      <td>...</td>\n      <td>...</td>\n      <td>...</td>\n      <td>...</td>\n      <td>...</td>\n      <td>...</td>\n      <td>...</td>\n      <td>...</td>\n      <td>...</td>\n      <td>...</td>\n    </tr>\n    <tr>\n      <th>159669</th>\n      <td>0</td>\n      <td>0</td>\n      <td>0</td>\n      <td>0</td>\n      <td>0</td>\n      <td>0</td>\n      <td>0</td>\n      <td>0</td>\n      <td>0</td>\n      <td>0</td>\n      <td>...</td>\n      <td>0</td>\n      <td>0</td>\n      <td>0</td>\n      <td>0</td>\n      <td>0</td>\n      <td>0</td>\n      <td>0</td>\n      <td>0</td>\n      <td>0</td>\n      <td>0</td>\n    </tr>\n    <tr>\n      <th>159670</th>\n      <td>0</td>\n      <td>0</td>\n      <td>0</td>\n      <td>0</td>\n      <td>0</td>\n      <td>0</td>\n      <td>0</td>\n      <td>0</td>\n      <td>0</td>\n      <td>0</td>\n      <td>...</td>\n      <td>0</td>\n      <td>0</td>\n      <td>0</td>\n      <td>0</td>\n      <td>0</td>\n      <td>0</td>\n      <td>0</td>\n      <td>0</td>\n      <td>0</td>\n      <td>0</td>\n    </tr>\n    <tr>\n      <th>159671</th>\n      <td>0</td>\n      <td>0</td>\n      <td>0</td>\n      <td>0</td>\n      <td>0</td>\n      <td>0</td>\n      <td>0</td>\n      <td>0</td>\n      <td>0</td>\n      <td>0</td>\n      <td>...</td>\n      <td>0</td>\n      <td>0</td>\n      <td>0</td>\n      <td>0</td>\n      <td>0</td>\n      <td>0</td>\n      <td>0</td>\n      <td>0</td>\n      <td>0</td>\n      <td>0</td>\n    </tr>\n    <tr>\n      <th>159672</th>\n      <td>0</td>\n      <td>0</td>\n      <td>0</td>\n      <td>0</td>\n      <td>0</td>\n      <td>0</td>\n      <td>0</td>\n      <td>0</td>\n      <td>0</td>\n      <td>0</td>\n      <td>...</td>\n      <td>0</td>\n      <td>0</td>\n      <td>0</td>\n      <td>0</td>\n      <td>0</td>\n      <td>0</td>\n      <td>0</td>\n      <td>0</td>\n      <td>0</td>\n      <td>0</td>\n    </tr>\n    <tr>\n      <th>159673</th>\n      <td>0</td>\n      <td>0</td>\n      <td>0</td>\n      <td>0</td>\n      <td>0</td>\n      <td>0</td>\n      <td>0</td>\n      <td>0</td>\n      <td>0</td>\n      <td>0</td>\n      <td>...</td>\n      <td>0</td>\n      <td>0</td>\n      <td>0</td>\n      <td>0</td>\n      <td>0</td>\n      <td>0</td>\n      <td>0</td>\n      <td>0</td>\n      <td>0</td>\n      <td>0</td>\n    </tr>\n  </tbody>\n</table>\n<p>2513 rows × 6227 columns</p>\n</div>"
     },
     "execution_count": 487,
     "metadata": {},
     "output_type": "execute_result"
    }
   ],
   "source": [
    "# Create a new document-term matrix using only nouns and adjectives, also remove common words with max_df\n",
    "cvna = CountVectorizer(stop_words=stop_words, max_df=.8)\n",
    "data_cvna = cvna.fit_transform(data_nouns_adj.Text)\n",
    "data_dtmna = pd.DataFrame(data_cvna.toarray(), columns=cvna.get_feature_names())\n",
    "data_dtmna.index = data_nouns_adj.index\n",
    "data_dtmna"
   ],
   "metadata": {
    "collapsed": false,
    "pycharm": {
     "name": "#%%\n"
    }
   }
  },
  {
   "cell_type": "code",
   "execution_count": 488,
   "outputs": [],
   "source": [
    "# Create the gensim corpus\n",
    "corpusna = matutils.Sparse2Corpus(scipy.sparse.csr_matrix(data_dtmna.transpose()))\n",
    "\n",
    "# Create the vocabulary dictionary\n",
    "id2wordna = dict((v, k) for k, v in cvna.vocabulary_.items())"
   ],
   "metadata": {
    "collapsed": false,
    "pycharm": {
     "name": "#%%\n"
    }
   }
  },
  {
   "cell_type": "code",
   "execution_count": 489,
   "outputs": [
    {
     "data": {
      "text/plain": "[(0,\n  '0.017*\"metaverse\" + 0.014*\"amp\" + 0.006*\"que\" + 0.006*\"great\" + 0.005*\"answers\" + 0.005*\"stocks\" + 0.005*\"catboy\" + 0.005*\"hashtag\" + 0.005*\"future\" + 0.004*\"crypto\"'),\n (1,\n  '0.019*\"metaverse\" + 0.009*\"nfts\" + 0.008*\"cool\" + 0.008*\"avatar\" + 0.007*\"platform\" + 0.007*\"life\" + 0.007*\"crypto\" + 0.005*\"digital\" + 0.005*\"community\" + 0.005*\"second\"'),\n (2,\n  '0.025*\"nft\" + 0.016*\"project\" + 0.009*\"team\" + 0.008*\"opensea\" + 0.007*\"new\" + 0.007*\"future\" + 0.006*\"opportunity\" + 0.006*\"บาท\" + 0.005*\"hey\" + 0.005*\"welcome\"'),\n (3,\n  '0.015*\"tfuel\" + 0.011*\"ubxs\" + 0.009*\"theta\" + 0.009*\"token\" + 0.008*\"nft\" + 0.008*\"tdrop\" + 0.007*\"metaverse\" + 0.007*\"collection\" + 0.006*\"real\" + 0.006*\"sticker\"')]"
     },
     "execution_count": 489,
     "metadata": {},
     "output_type": "execute_result"
    }
   ],
   "source": [
    "# Let's try 3 topics\n",
    "ldana = models.LdaModel(corpus=corpusna, num_topics=4, id2word=id2wordna, passes=10)\n",
    "ldana.print_topics()"
   ],
   "metadata": {
    "collapsed": false,
    "pycharm": {
     "name": "#%%\n"
    }
   }
  },
  {
   "cell_type": "code",
   "execution_count": 443,
   "outputs": [
    {
     "data": {
      "text/plain": "<Figure size 432x288 with 1 Axes>",
      "image/png": "[encoded data removed]"
     },
     "metadata": {
      "needs_background": "light"
     },
     "output_type": "display_data"
    }
   ],
   "source": [
    "import matplotlib.pyplot as plt\n",
    "from wordcloud import WordCloud\n",
    "def create_wordcloud(model, topic):\n",
    "    text = {word: value for word, value in model.show_topic(topic)}\n",
    "    wc = WordCloud(background_color=\"white\", max_words=1000)\n",
    "    wc.generate_from_frequencies(text)\n",
    "    plt.imshow(wc, interpolation=\"bilinear\")\n",
    "    plt.axis(\"off\")\n",
    "    plt.title(\"Topic\" + \" \"+ str(topic))\n",
    "    plt.show()\n",
    "create_wordcloud(ldana,1)"
   ],
   "metadata": {
    "collapsed": false,
    "pycharm": {
     "name": "#%%\n"
    }
   }
  },
  {
   "cell_type": "code",
   "execution_count": 186,
   "outputs": [],
   "source": [
    "from gensim import corpora\n",
    "word2id = dict((k, v) for k, v in cvna.vocabulary_.items())\n",
    "d = corpora.Dictionary()\n",
    "d.id2token = id2word\n",
    "d.token2id = word2id"
   ],
   "metadata": {
    "collapsed": false,
    "pycharm": {
     "name": "#%%\n"
    }
   }
  },
  {
   "cell_type": "code",
   "execution_count": 187,
   "outputs": [],
   "source": [
    "#import pyLDAvis\n",
    "# Visualize the topics\n",
    "#pyLDAvis.enable_notebook()\n",
    "#LDAvis_prepared = pyLDAvis..prepare(ldana, corpusna, d)\n",
    "#LDAvis_prepared"
   ],
   "metadata": {
    "collapsed": false,
    "pycharm": {
     "name": "#%%\n"
    }
   }
  },
  {
   "cell_type": "code",
   "execution_count": 188,
   "outputs": [],
   "source": [
    "# supporting function\n",
    "def compute_coherence_values(corpus, dictionary, k, a, b):\n",
    "    lda_model = models.LdaMulticore(corpus=corpus, num_topics=k, id2word=dictionary, passes=10,alpha=a,\n",
    "                                           eta=b)\n",
    "    coherence_model_lda = CoherenceModel(model=lda_model, corpus=corpus,dictionary=dictionary, coherence='u_mass')\n",
    "    return coherence_model_lda.get_coherence()"
   ],
   "metadata": {
    "collapsed": false,
    "pycharm": {
     "name": "#%%\n"
    }
   }
  },
  {
   "cell_type": "code",
   "execution_count": 189,
   "outputs": [],
   "source": [
    "#compute_coherence_values(corpusna,d,2,0.1,0.4)"
   ],
   "metadata": {
    "collapsed": false,
    "pycharm": {
     "name": "#%%\n"
    }
   }
  },
  {
   "cell_type": "code",
   "execution_count": 190,
   "outputs": [
    {
     "name": "stdout",
     "output_type": "stream",
     "text": [
      "2\n",
      "3\n",
      "4\n",
      "5\n",
      "6\n",
      "7\n",
      "8\n",
      "9\n"
     ]
    }
   ],
   "source": [
    "import numpy as np\n",
    "from gensim import models\n",
    "grid = {}\n",
    "grid['Validation_Set'] = {}\n",
    "# Topics range\n",
    "min_topics = 2\n",
    "max_topics = 10\n",
    "step_size = 1\n",
    "topics_range = range(min_topics, max_topics, step_size)\n",
    "model_results = {\n",
    "                 'Topics': [],\n",
    "                 'Coherence': []\n",
    "                }\n",
    "\n",
    "# Can take a long time to run\n",
    "if 1 == 1:\n",
    "        # iterate through number of topics\n",
    "    for k in topics_range:\n",
    "                    # get the coherence score for the given parameters\n",
    "            print(k)\n",
    "            cv = compute_coherence_values(corpus=corpusna, dictionary=d,\n",
    "                                                  k=k, a=0.5, b=0.5)\n",
    "                    # Save the model results\n",
    "            model_results['Topics'].append(k)\n",
    "            model_results['Coherence'].append(cv)"
   ],
   "metadata": {
    "collapsed": false,
    "pycharm": {
     "name": "#%%\n"
    }
   }
  },
  {
   "cell_type": "code",
   "execution_count": 191,
   "outputs": [
    {
     "data": {
      "text/plain": "{'Topics': [2, 3, 4, 5, 6, 7, 8, 9],\n 'Coherence': [-13.71043589463403,\n  -15.260806662577536,\n  -14.777933657484777,\n  -15.442436240375816,\n  -15.809451086260772,\n  -16.550888553900727,\n  -16.24732307039631,\n  -16.312461579270646]}"
     },
     "execution_count": 191,
     "metadata": {},
     "output_type": "execute_result"
    }
   ],
   "source": [
    "model_results"
   ],
   "metadata": {
    "collapsed": false,
    "pycharm": {
     "name": "#%%\n"
    }
   }
  },
  {
   "cell_type": "code",
   "execution_count": 192,
   "outputs": [],
   "source": [
    "results = pd.DataFrame(model_results)"
   ],
   "metadata": {
    "collapsed": false,
    "pycharm": {
     "name": "#%%\n"
    }
   }
  },
  {
   "cell_type": "code",
   "execution_count": 193,
   "outputs": [],
   "source": [
    "grouped = (results.groupby(['Topics'], as_index=False)).mean()"
   ],
   "metadata": {
    "collapsed": false,
    "pycharm": {
     "name": "#%%\n"
    }
   }
  },
  {
   "cell_type": "code",
   "execution_count": 194,
   "outputs": [
    {
     "data": {
      "text/plain": "<Figure size 432x288 with 1 Axes>",
      "image/png": "[encoded data removed]"
     },
     "metadata": {
      "needs_background": "light"
     },
     "output_type": "display_data"
    }
   ],
   "source": [
    "#Plot multidimensionale?\n",
    "Limport matplotlib.pyplot as plt\n",
    "def plot_graph(model_results):\n",
    "    plt.plot(grouped['Topics'], grouped['Coherence'])\n",
    "    plt.xlabel(\"Number of Topics\")\n",
    "    plt.ylabel(\"Coherence score\")\n",
    "    plt.legend((\"coherence_values\"), loc='best')\n",
    "    plt.show()\n",
    "\n",
    "plot_graph(model_results)"
   ],
   "metadata": {
    "collapsed": false,
    "pycharm": {
     "name": "#%%\n"
    }
   }
  },
  {
   "cell_type": "code",
   "execution_count": 195,
   "outputs": [],
   "source": [
    "results.to_csv(\"../data/resultsLDA062022.csv\",index=False)"
   ],
   "metadata": {
    "collapsed": false,
    "pycharm": {
     "name": "#%%\n"
    }
   }
  },
  {
   "cell_type": "code",
   "execution_count": null,
   "outputs": [],
   "source": [],
   "metadata": {
    "collapsed": false,
    "pycharm": {
     "name": "#%%\n"
    }
   }
  }
 ],
 "metadata": {
  "kernelspec": {
   "display_name": "Python 3",
   "language": "python",
   "name": "python3"
  },
  "language_info": {
   "codemirror_mode": {
    "name": "ipython",
    "version": 2
   },
   "file_extension": ".py",
   "mimetype": "text/x-python",
   "name": "python",
   "nbconvert_exporter": "python",
   "pygments_lexer": "ipython2",
   "version": "2.7.6"
  }
 },
 "nbformat": 4,
 "nbformat_minor": 0
}