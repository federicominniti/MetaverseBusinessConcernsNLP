{
 "cells": [
  {
   "cell_type": "code",
   "execution_count": 2,
   "metadata": {
    "collapsed": true,
    "pycharm": {
     "name": "#%%\n"
    }
   },
   "outputs": [],
   "source": [
    "# Terminal / Anaconda Navigator: conda install -c conda-forge gensim\n",
    "import pickle\n",
    "from gensim import matutils, models\n",
    "import scipy.sparse\n",
    "import pandas as pd\n",
    "from gensim.models import CoherenceModel"
   ]
  },
  {
   "cell_type": "code",
   "execution_count": 9,
   "outputs": [
    {
     "data": {
      "text/plain": "                        Datetime             Tweet Id  \\\n0      2021-10-27 23:39:35+00:00  1453506696094142469   \n1      2021-10-27 23:32:41+00:00  1453504957991292933   \n2      2021-10-27 23:31:03+00:00  1453504546345455619   \n3      2021-10-27 23:21:00+00:00  1453502019176734729   \n4      2021-10-27 23:13:01+00:00  1453500008506937345   \n...                          ...                  ...   \n25357  2022-06-18 18:59:23+00:00  1538234939715780608   \n25358  2022-06-18 18:57:31+00:00  1538234472080060416   \n25359  2022-06-18 18:56:33+00:00  1538234226109255683   \n25360  2022-06-18 18:55:09+00:00  1538233875704745984   \n25361  2022-06-18 18:53:23+00:00  1538233429975871489   \n\n                                            OriginalText         Username  \\\n0      @1goonrich Buy Dogus and make it 700k mc #NFTG...           aacryp   \n1      💧 SupreSpace Metaverse 2nd Round Airdrop 💧\\n\\n...    AirdropStario   \n2      @Elite_Portraits is now LIVE hand-crafting the...   DeployStarShip   \n3      Gas sucks, but you know what's worse?? One day...         warcrnft   \n4      @jemimajoanna @JanetMurray Brilliant article @...      uninhabited   \n...                                                  ...              ...   \n25357  @digitalman789 @XANAMetaverse 子供の頃、鉄道模型のジオラマに憧...       ClawnToppi   \n25358  Crazy girl crazy hair 🤪👧🤪👩‍🦰\\n\\n#NFTCommunity ...  UnicornsMutants   \n25359  Yeni Haber CoinNews:\\nBillionaire Lee Cooperma...       sosyalilgi   \n25360  🌟 @RichQuack  💎 No Doubt!\\n🥇New #Metaverse  co...   QuackCollector   \n25361  @YaraKoro #Metaverse wie Second Life oder VR C...         nocberry   \n\n                                            Text_Cleaned  \\\n0      buy dogus and make it  mc kishu hoge froge dog...   \n1      suprespace metaverse  round airdrop task up to...   \n2      is now live hand crafting the artwork for the ...   \n3      gas sucks but you know whatworse one day knowi...   \n4      brilliant article amp global headless ponzi sc...   \n...                                                  ...   \n25357  子供の頃 鉄道模型のジオラマに憧れたのを思い出しちゃいました xana 内を 一般に人気のあ...   \n25358                              crazy girl crazy hair   \n25359  yeni haber coinnews billionaire lee cooperman ...   \n25360  no doubt new coming are building their own wor...   \n25361  wie second life oder vr chat nur statt cooler ...   \n\n                                                  tokens  \\\n0      ['buy', 'dogus', 'make', 'kishu', 'hoge', 'fro...   \n1      ['suprespace', 'round', 'airdrop', 'task', 'sa...   \n2      ['live', 'hand', 'crafting', 'artwork', 'plane...   \n3      ['gas', 'sucks', 'know', 'whatworse', 'day', '...   \n4      ['brilliant', 'article', 'global', 'headless',...   \n...                                                  ...   \n25357  ['Zi Gong noQing ', 'Tie Dao Mo Xing noziorama...   \n25358                 ['crazy', 'girl', 'crazy', 'hair']   \n25359  ['yeni', 'haber', 'coinnews', 'billionaire', '...   \n25360  ['doubt', 'new', 'coming', 'building', 'world'...   \n25361  ['wie', 'second', 'life', 'oder', 'chat', 'nur...   \n\n                                                    Text  Subjectivity  \\\n0      buy dogus make kishu hoge froge doge dogus thi...      0.427273   \n1      suprespace round airdrop task sapce referral s...      0.400000   \n2      live hand crafting artwork planet game claim p...      0.450000   \n3      gas sucks know whatworse day know wow collecti...      0.650000   \n4      brilliant article global headless ponzi scheme...      0.491667   \n...                                                  ...           ...   \n25357  Zi Gong noQing  Tie Dao Mo Xing nozioramaniCho...      0.000000   \n25358                              crazy girl crazy hair      0.900000   \n25359  yeni haber coinnews billionaire lee cooperman ...      0.550000   \n25360  doubt new coming building world world already ...      0.477273   \n25361  wie second life oder chat nur statt cooler ava...      0.000000   \n\n       Polarity  NumberOfWords  MeanWordLength P&SSentiment  \\\n0     -0.131818             29            5.69     Negative   \n1     -0.200000             10            6.60     Negative   \n2     -0.131818             14            5.93     Negative   \n3     -0.100000             12            5.83     Negative   \n4     -0.033333             19            6.21     Negative   \n...         ...            ...             ...          ...   \n25357  0.000000             45            5.96      Neutral   \n25358 -0.600000              4            4.50     Negative   \n25359 -0.650000             16            5.75     Negative   \n25360  0.136364             10            5.80     Positive   \n25361  0.000000             25            5.20      Neutral   \n\n       SIA Positive Sentiment  SIA Neutral Sentiment  SIA Negative Sentiment  \\\n0                    0.000001               1.000001                0.000001   \n1                    0.000001               1.000001                0.000001   \n2                    0.198001               0.802001                0.000001   \n3                    0.340001               0.426001                0.234001   \n4                    0.230001               0.547001                0.223001   \n...                       ...                    ...                     ...   \n25357                0.000001               0.881001                0.119001   \n25358                0.000001               0.294001                0.706001   \n25359                0.000001               0.722001                0.278001   \n25360                0.000001               0.783001                0.217001   \n25361                0.000001               0.747001                0.253001   \n\n       Class  \n0          1  \n1          1  \n2          0  \n3          1  \n4          1  \n...      ...  \n25357      1  \n25358      1  \n25359      1  \n25360      1  \n25361      1  \n\n[25362 rows x 16 columns]",
      "text/html": "<div>\n<style scoped>\n    .dataframe tbody tr th:only-of-type {\n        vertical-align: middle;\n    }\n\n    .dataframe tbody tr th {\n        vertical-align: top;\n    }\n\n    .dataframe thead th {\n        text-align: right;\n    }\n</style>\n<table border=\"1\" class=\"dataframe\">\n  <thead>\n    <tr style=\"text-align: right;\">\n      <th></th>\n      <th>Datetime</th>\n      <th>Tweet Id</th>\n      <th>OriginalText</th>\n      <th>Username</th>\n      <th>Text_Cleaned</th>\n      <th>tokens</th>\n      <th>Text</th>\n      <th>Subjectivity</th>\n      <th>Polarity</th>\n      <th>NumberOfWords</th>\n      <th>MeanWordLength</th>\n      <th>P&amp;SSentiment</th>\n      <th>SIA Positive Sentiment</th>\n      <th>SIA Neutral Sentiment</th>\n      <th>SIA Negative Sentiment</th>\n      <th>Class</th>\n    </tr>\n  </thead>\n  <tbody>\n    <tr>\n      <th>0</th>\n      <td>2021-10-27 23:39:35+00:00</td>\n      <td>1453506696094142469</td>\n      <td>@1goonrich Buy Dogus and make it 700k mc #NFTG...</td>\n      <td>aacryp</td>\n      <td>buy dogus and make it  mc kishu hoge froge dog...</td>\n      <td>['buy', 'dogus', 'make', 'kishu', 'hoge', 'fro...</td>\n      <td>buy dogus make kishu hoge froge doge dogus thi...</td>\n      <td>0.427273</td>\n      <td>-0.131818</td>\n      <td>29</td>\n      <td>5.69</td>\n      <td>Negative</td>\n      <td>0.000001</td>\n      <td>1.000001</td>\n      <td>0.000001</td>\n      <td>1</td>\n    </tr>\n    <tr>\n      <th>1</th>\n      <td>2021-10-27 23:32:41+00:00</td>\n      <td>1453504957991292933</td>\n      <td>💧 SupreSpace Metaverse 2nd Round Airdrop 💧\\n\\n...</td>\n      <td>AirdropStario</td>\n      <td>suprespace metaverse  round airdrop task up to...</td>\n      <td>['suprespace', 'round', 'airdrop', 'task', 'sa...</td>\n      <td>suprespace round airdrop task sapce referral s...</td>\n      <td>0.400000</td>\n      <td>-0.200000</td>\n      <td>10</td>\n      <td>6.60</td>\n      <td>Negative</td>\n      <td>0.000001</td>\n      <td>1.000001</td>\n      <td>0.000001</td>\n      <td>1</td>\n    </tr>\n    <tr>\n      <th>2</th>\n      <td>2021-10-27 23:31:03+00:00</td>\n      <td>1453504546345455619</td>\n      <td>@Elite_Portraits is now LIVE hand-crafting the...</td>\n      <td>DeployStarShip</td>\n      <td>is now live hand crafting the artwork for the ...</td>\n      <td>['live', 'hand', 'crafting', 'artwork', 'plane...</td>\n      <td>live hand crafting artwork planet game claim p...</td>\n      <td>0.450000</td>\n      <td>-0.131818</td>\n      <td>14</td>\n      <td>5.93</td>\n      <td>Negative</td>\n      <td>0.198001</td>\n      <td>0.802001</td>\n      <td>0.000001</td>\n      <td>0</td>\n    </tr>\n    <tr>\n      <th>3</th>\n      <td>2021-10-27 23:21:00+00:00</td>\n      <td>1453502019176734729</td>\n      <td>Gas sucks, but you know what's worse?? One day...</td>\n      <td>warcrnft</td>\n      <td>gas sucks but you know whatworse one day knowi...</td>\n      <td>['gas', 'sucks', 'know', 'whatworse', 'day', '...</td>\n      <td>gas sucks know whatworse day know wow collecti...</td>\n      <td>0.650000</td>\n      <td>-0.100000</td>\n      <td>12</td>\n      <td>5.83</td>\n      <td>Negative</td>\n      <td>0.340001</td>\n      <td>0.426001</td>\n      <td>0.234001</td>\n      <td>1</td>\n    </tr>\n    <tr>\n      <th>4</th>\n      <td>2021-10-27 23:13:01+00:00</td>\n      <td>1453500008506937345</td>\n      <td>@jemimajoanna @JanetMurray Brilliant article @...</td>\n      <td>uninhabited</td>\n      <td>brilliant article amp global headless ponzi sc...</td>\n      <td>['brilliant', 'article', 'global', 'headless',...</td>\n      <td>brilliant article global headless ponzi scheme...</td>\n      <td>0.491667</td>\n      <td>-0.033333</td>\n      <td>19</td>\n      <td>6.21</td>\n      <td>Negative</td>\n      <td>0.230001</td>\n      <td>0.547001</td>\n      <td>0.223001</td>\n      <td>1</td>\n    </tr>\n    <tr>\n      <th>...</th>\n      <td>...</td>\n      <td>...</td>\n      <td>...</td>\n      <td>...</td>\n      <td>...</td>\n      <td>...</td>\n      <td>...</td>\n      <td>...</td>\n      <td>...</td>\n      <td>...</td>\n      <td>...</td>\n      <td>...</td>\n      <td>...</td>\n      <td>...</td>\n      <td>...</td>\n      <td>...</td>\n    </tr>\n    <tr>\n      <th>25357</th>\n      <td>2022-06-18 18:59:23+00:00</td>\n      <td>1538234939715780608</td>\n      <td>@digitalman789 @XANAMetaverse 子供の頃、鉄道模型のジオラマに憧...</td>\n      <td>ClawnToppi</td>\n      <td>子供の頃 鉄道模型のジオラマに憧れたのを思い出しちゃいました xana 内を 一般に人気のあ...</td>\n      <td>['Zi Gong noQing ', 'Tie Dao Mo Xing noziorama...</td>\n      <td>Zi Gong noQing  Tie Dao Mo Xing nozioramaniCho...</td>\n      <td>0.000000</td>\n      <td>0.000000</td>\n      <td>45</td>\n      <td>5.96</td>\n      <td>Neutral</td>\n      <td>0.000001</td>\n      <td>0.881001</td>\n      <td>0.119001</td>\n      <td>1</td>\n    </tr>\n    <tr>\n      <th>25358</th>\n      <td>2022-06-18 18:57:31+00:00</td>\n      <td>1538234472080060416</td>\n      <td>Crazy girl crazy hair 🤪👧🤪👩‍🦰\\n\\n#NFTCommunity ...</td>\n      <td>UnicornsMutants</td>\n      <td>crazy girl crazy hair</td>\n      <td>['crazy', 'girl', 'crazy', 'hair']</td>\n      <td>crazy girl crazy hair</td>\n      <td>0.900000</td>\n      <td>-0.600000</td>\n      <td>4</td>\n      <td>4.50</td>\n      <td>Negative</td>\n      <td>0.000001</td>\n      <td>0.294001</td>\n      <td>0.706001</td>\n      <td>1</td>\n    </tr>\n    <tr>\n      <th>25359</th>\n      <td>2022-06-18 18:56:33+00:00</td>\n      <td>1538234226109255683</td>\n      <td>Yeni Haber CoinNews:\\nBillionaire Lee Cooperma...</td>\n      <td>sosyalilgi</td>\n      <td>yeni haber coinnews billionaire lee cooperman ...</td>\n      <td>['yeni', 'haber', 'coinnews', 'billionaire', '...</td>\n      <td>yeni haber coinnews billionaire lee cooperman ...</td>\n      <td>0.550000</td>\n      <td>-0.650000</td>\n      <td>16</td>\n      <td>5.75</td>\n      <td>Negative</td>\n      <td>0.000001</td>\n      <td>0.722001</td>\n      <td>0.278001</td>\n      <td>1</td>\n    </tr>\n    <tr>\n      <th>25360</th>\n      <td>2022-06-18 18:55:09+00:00</td>\n      <td>1538233875704745984</td>\n      <td>🌟 @RichQuack  💎 No Doubt!\\n🥇New #Metaverse  co...</td>\n      <td>QuackCollector</td>\n      <td>no doubt new coming are building their own wor...</td>\n      <td>['doubt', 'new', 'coming', 'building', 'world'...</td>\n      <td>doubt new coming building world world already ...</td>\n      <td>0.477273</td>\n      <td>0.136364</td>\n      <td>10</td>\n      <td>5.80</td>\n      <td>Positive</td>\n      <td>0.000001</td>\n      <td>0.783001</td>\n      <td>0.217001</td>\n      <td>1</td>\n    </tr>\n    <tr>\n      <th>25361</th>\n      <td>2022-06-18 18:53:23+00:00</td>\n      <td>1538233429975871489</td>\n      <td>@YaraKoro #Metaverse wie Second Life oder VR C...</td>\n      <td>nocberry</td>\n      <td>wie second life oder vr chat nur statt cooler ...</td>\n      <td>['wie', 'second', 'life', 'oder', 'chat', 'nur...</td>\n      <td>wie second life oder chat nur statt cooler ava...</td>\n      <td>0.000000</td>\n      <td>0.000000</td>\n      <td>25</td>\n      <td>5.20</td>\n      <td>Neutral</td>\n      <td>0.000001</td>\n      <td>0.747001</td>\n      <td>0.253001</td>\n      <td>1</td>\n    </tr>\n  </tbody>\n</table>\n<p>25362 rows × 16 columns</p>\n</div>"
     },
     "execution_count": 9,
     "metadata": {},
     "output_type": "execute_result"
    }
   ],
   "source": [
    "f_data = pd.read_csv('../data/negativeTweets.csv')\n",
    "f_data"
   ],
   "metadata": {
    "collapsed": false,
    "pycharm": {
     "name": "#%%\n"
    }
   }
  },
  {
   "cell_type": "code",
   "execution_count": 10,
   "outputs": [],
   "source": [
    "#f_data.rename(columns = {'Text':'OriginalText', 'Text_Cleaned':'Text'}, inplace = True)"
   ],
   "metadata": {
    "collapsed": false,
    "pycharm": {
     "name": "#%%\n"
    }
   }
  },
  {
   "cell_type": "code",
   "execution_count": 11,
   "outputs": [],
   "source": [
    "f_data = f_data.loc[f_data['Datetime'] >= '2021-11-08']"
   ],
   "metadata": {
    "collapsed": false,
    "pycharm": {
     "name": "#%%\n"
    }
   }
  },
  {
   "cell_type": "code",
   "execution_count": 12,
   "outputs": [],
   "source": [
    "f_data = f_data.loc[f_data['Datetime'] <= '2021-11-12']"
   ],
   "metadata": {
    "collapsed": false,
    "pycharm": {
     "name": "#%%\n"
    }
   }
  },
  {
   "cell_type": "code",
   "execution_count": 13,
   "outputs": [
    {
     "data": {
      "text/plain": "                       Datetime             Tweet Id  \\\n1318  2021-11-08 23:57:51+00:00  1457859944007438336   \n1319  2021-11-08 23:53:42+00:00  1457858900124835843   \n1320  2021-11-08 23:53:18+00:00  1457858802833784833   \n1321  2021-11-08 23:51:42+00:00  1457858399970873346   \n1322  2021-11-08 23:51:05+00:00  1457858244861480969   \n...                         ...                  ...   \n1618  2021-11-11 22:15:39+00:00  1458921388643962897   \n1619  2021-11-11 22:15:39+00:00  1458921388010618880   \n1620  2021-11-11 22:15:27+00:00  1458921338459111428   \n1621  2021-11-11 22:13:11+00:00  1458920769254309890   \n1622  2021-11-11 22:12:07+00:00  1458920501653422085   \n\n                                           OriginalText       Username  \\\n1318  The project is implemented professionally and ...   Andi11112222   \n1319  💸Random #NFT drops are still happening in #Run...  RuneMetaverse   \n1320  Heii friend, every 10 pmask characters launch,...   Nolifegang51   \n1321  My only fear with the #Metaverse is that it wi...       Gino_flo   \n1322  The next coming years in crypto will be all ab...      PrrplFrog   \n...                                                 ...            ...   \n1618  @BenBuckwalter Why Choose #FLOKI Valhalla #Met...       PaInIaMs   \n1619  Verasity in Top 10 gaming Tokes by Market Capi...      kindasset   \n1620  Let's aim for more #EXP and #NFTs rewards , on...      flexy_ahs   \n1621  @ProTheDoge Why Choose #FLOKI Valhalla #Metave...       PaInIaMs   \n1622  $OWUV 0,0270$ damn someone sold in the last mi...      iwanooze1   \n\n                                           Text_Cleaned  \\\n1318  the project is implemented professionally and ...   \n1319  random drops are still happening in trinkets g...   \n1320  heii friend every  pmask characters launch the...   \n1321  my only fear with the is that it will be so go...   \n1322  the next coming years in crypto will be all ab...   \n...                                                 ...   \n1618  why choose valhalla upgradeable valhalla scarc...   \n1619  verasity in top  gaming tokes by market capita...   \n1620  letaim for more and rewards once we start to p...   \n1621  why choose valhalla upgradeable valhalla scarc...   \n1622  owuv   damn someone sold in the last minute be...   \n\n                                                 tokens  \\\n1318  ['implemented', 'professionally', 'hasclear', ...   \n1319  ['random', 'drops', 'still', 'happening', 'tri...   \n1320  ['heii', 'friend', 'every', 'pmask', 'characte...   \n1321  ['fear', 'good', 'normal', 'life', 'appear', '...   \n1322  ['next', 'coming', 'years', 'big', 'money', 'p...   \n...                                                 ...   \n1618  ['choose', 'valhalla', 'upgradeable', 'valhall...   \n1619  ['verasity', 'top', 'gaming', 'tokes', 'market...   \n1620  ['letaim', 'rewards', 'start', 'play', 'later'...   \n1621  ['choose', 'valhalla', 'upgradeable', 'valhall...   \n1622  ['owuv', 'damn', 'someone', 'sold', 'last', 'm...   \n\n                                                   Text  Subjectivity  \\\n1318  implemented professionally hasclear developmen...      0.433333   \n1319  random drops still happening trinkets guardian...      0.500000   \n1320  heii friend every pmask characters launch alwa...      0.142857   \n1321            fear good normal life appear depressing      0.716667   \n1322  next coming years big money preparing throwing...      0.133333   \n...                                                 ...           ...   \n1618  choose valhalla upgradeable valhalla scarce ge...      0.525000   \n1619  verasity top gaming tokes market capitalizatio...      0.387500   \n1620  letaim rewards start play later donmissed laun...      0.200000   \n1621  choose valhalla upgradeable valhalla scarce ge...      0.525000   \n1622  owuv damn someone sold last minute closed anyw...      0.392857   \n\n      Polarity  NumberOfWords  MeanWordLength P&SSentiment  \\\n1318  0.633333             13            7.92     Positive   \n1319 -0.500000             13            5.46     Negative   \n1320 -0.071429             12            6.75     Negative   \n1321  0.083333              6            5.67     Positive   \n1322 -0.166667             19            5.68     Negative   \n...        ...            ...             ...          ...   \n1618 -0.100000             23            6.83     Negative   \n1619  0.150000             22            6.32     Positive   \n1620 -0.200000             11            5.55     Negative   \n1621 -0.100000             23            6.83     Negative   \n1622  0.217857             22            5.73     Positive   \n\n      SIA Positive Sentiment  SIA Neutral Sentiment  SIA Negative Sentiment  \\\n1318                0.128001               0.668001                0.204001   \n1319                0.167001               0.833001                0.000001   \n1320                0.370001               0.520001                0.110001   \n1321                0.248001               0.256001                0.496001   \n1322                0.109001               0.739001                0.152001   \n...                      ...                    ...                     ...   \n1618                0.083001               0.917001                0.000001   \n1619                0.075001               0.833001                0.092001   \n1620                0.497001               0.503001                0.000001   \n1621                0.083001               0.917001                0.000001   \n1622                0.096001               0.797001                0.108001   \n\n      Class  \n1318      0  \n1319      0  \n1320      1  \n1321      0  \n1322      1  \n...     ...  \n1618      1  \n1619      1  \n1620      0  \n1621      1  \n1622      0  \n\n[305 rows x 16 columns]",
      "text/html": "<div>\n<style scoped>\n    .dataframe tbody tr th:only-of-type {\n        vertical-align: middle;\n    }\n\n    .dataframe tbody tr th {\n        vertical-align: top;\n    }\n\n    .dataframe thead th {\n        text-align: right;\n    }\n</style>\n<table border=\"1\" class=\"dataframe\">\n  <thead>\n    <tr style=\"text-align: right;\">\n      <th></th>\n      <th>Datetime</th>\n      <th>Tweet Id</th>\n      <th>OriginalText</th>\n      <th>Username</th>\n      <th>Text_Cleaned</th>\n      <th>tokens</th>\n      <th>Text</th>\n      <th>Subjectivity</th>\n      <th>Polarity</th>\n      <th>NumberOfWords</th>\n      <th>MeanWordLength</th>\n      <th>P&amp;SSentiment</th>\n      <th>SIA Positive Sentiment</th>\n      <th>SIA Neutral Sentiment</th>\n      <th>SIA Negative Sentiment</th>\n      <th>Class</th>\n    </tr>\n  </thead>\n  <tbody>\n    <tr>\n      <th>1318</th>\n      <td>2021-11-08 23:57:51+00:00</td>\n      <td>1457859944007438336</td>\n      <td>The project is implemented professionally and ...</td>\n      <td>Andi11112222</td>\n      <td>the project is implemented professionally and ...</td>\n      <td>['implemented', 'professionally', 'hasclear', ...</td>\n      <td>implemented professionally hasclear developmen...</td>\n      <td>0.433333</td>\n      <td>0.633333</td>\n      <td>13</td>\n      <td>7.92</td>\n      <td>Positive</td>\n      <td>0.128001</td>\n      <td>0.668001</td>\n      <td>0.204001</td>\n      <td>0</td>\n    </tr>\n    <tr>\n      <th>1319</th>\n      <td>2021-11-08 23:53:42+00:00</td>\n      <td>1457858900124835843</td>\n      <td>💸Random #NFT drops are still happening in #Run...</td>\n      <td>RuneMetaverse</td>\n      <td>random drops are still happening in trinkets g...</td>\n      <td>['random', 'drops', 'still', 'happening', 'tri...</td>\n      <td>random drops still happening trinkets guardian...</td>\n      <td>0.500000</td>\n      <td>-0.500000</td>\n      <td>13</td>\n      <td>5.46</td>\n      <td>Negative</td>\n      <td>0.167001</td>\n      <td>0.833001</td>\n      <td>0.000001</td>\n      <td>0</td>\n    </tr>\n    <tr>\n      <th>1320</th>\n      <td>2021-11-08 23:53:18+00:00</td>\n      <td>1457858802833784833</td>\n      <td>Heii friend, every 10 pmask characters launch,...</td>\n      <td>Nolifegang51</td>\n      <td>heii friend every  pmask characters launch the...</td>\n      <td>['heii', 'friend', 'every', 'pmask', 'characte...</td>\n      <td>heii friend every pmask characters launch alwa...</td>\n      <td>0.142857</td>\n      <td>-0.071429</td>\n      <td>12</td>\n      <td>6.75</td>\n      <td>Negative</td>\n      <td>0.370001</td>\n      <td>0.520001</td>\n      <td>0.110001</td>\n      <td>1</td>\n    </tr>\n    <tr>\n      <th>1321</th>\n      <td>2021-11-08 23:51:42+00:00</td>\n      <td>1457858399970873346</td>\n      <td>My only fear with the #Metaverse is that it wi...</td>\n      <td>Gino_flo</td>\n      <td>my only fear with the is that it will be so go...</td>\n      <td>['fear', 'good', 'normal', 'life', 'appear', '...</td>\n      <td>fear good normal life appear depressing</td>\n      <td>0.716667</td>\n      <td>0.083333</td>\n      <td>6</td>\n      <td>5.67</td>\n      <td>Positive</td>\n      <td>0.248001</td>\n      <td>0.256001</td>\n      <td>0.496001</td>\n      <td>0</td>\n    </tr>\n    <tr>\n      <th>1322</th>\n      <td>2021-11-08 23:51:05+00:00</td>\n      <td>1457858244861480969</td>\n      <td>The next coming years in crypto will be all ab...</td>\n      <td>PrrplFrog</td>\n      <td>the next coming years in crypto will be all ab...</td>\n      <td>['next', 'coming', 'years', 'big', 'money', 'p...</td>\n      <td>next coming years big money preparing throwing...</td>\n      <td>0.133333</td>\n      <td>-0.166667</td>\n      <td>19</td>\n      <td>5.68</td>\n      <td>Negative</td>\n      <td>0.109001</td>\n      <td>0.739001</td>\n      <td>0.152001</td>\n      <td>1</td>\n    </tr>\n    <tr>\n      <th>...</th>\n      <td>...</td>\n      <td>...</td>\n      <td>...</td>\n      <td>...</td>\n      <td>...</td>\n      <td>...</td>\n      <td>...</td>\n      <td>...</td>\n      <td>...</td>\n      <td>...</td>\n      <td>...</td>\n      <td>...</td>\n      <td>...</td>\n      <td>...</td>\n      <td>...</td>\n      <td>...</td>\n    </tr>\n    <tr>\n      <th>1618</th>\n      <td>2021-11-11 22:15:39+00:00</td>\n      <td>1458921388643962897</td>\n      <td>@BenBuckwalter Why Choose #FLOKI Valhalla #Met...</td>\n      <td>PaInIaMs</td>\n      <td>why choose valhalla upgradeable valhalla scarc...</td>\n      <td>['choose', 'valhalla', 'upgradeable', 'valhall...</td>\n      <td>choose valhalla upgradeable valhalla scarce ge...</td>\n      <td>0.525000</td>\n      <td>-0.100000</td>\n      <td>23</td>\n      <td>6.83</td>\n      <td>Negative</td>\n      <td>0.083001</td>\n      <td>0.917001</td>\n      <td>0.000001</td>\n      <td>1</td>\n    </tr>\n    <tr>\n      <th>1619</th>\n      <td>2021-11-11 22:15:39+00:00</td>\n      <td>1458921388010618880</td>\n      <td>Verasity in Top 10 gaming Tokes by Market Capi...</td>\n      <td>kindasset</td>\n      <td>verasity in top  gaming tokes by market capita...</td>\n      <td>['verasity', 'top', 'gaming', 'tokes', 'market...</td>\n      <td>verasity top gaming tokes market capitalizatio...</td>\n      <td>0.387500</td>\n      <td>0.150000</td>\n      <td>22</td>\n      <td>6.32</td>\n      <td>Positive</td>\n      <td>0.075001</td>\n      <td>0.833001</td>\n      <td>0.092001</td>\n      <td>1</td>\n    </tr>\n    <tr>\n      <th>1620</th>\n      <td>2021-11-11 22:15:27+00:00</td>\n      <td>1458921338459111428</td>\n      <td>Let's aim for more #EXP and #NFTs rewards , on...</td>\n      <td>flexy_ahs</td>\n      <td>letaim for more and rewards once we start to p...</td>\n      <td>['letaim', 'rewards', 'start', 'play', 'later'...</td>\n      <td>letaim rewards start play later donmissed laun...</td>\n      <td>0.200000</td>\n      <td>-0.200000</td>\n      <td>11</td>\n      <td>5.55</td>\n      <td>Negative</td>\n      <td>0.497001</td>\n      <td>0.503001</td>\n      <td>0.000001</td>\n      <td>0</td>\n    </tr>\n    <tr>\n      <th>1621</th>\n      <td>2021-11-11 22:13:11+00:00</td>\n      <td>1458920769254309890</td>\n      <td>@ProTheDoge Why Choose #FLOKI Valhalla #Metave...</td>\n      <td>PaInIaMs</td>\n      <td>why choose valhalla upgradeable valhalla scarc...</td>\n      <td>['choose', 'valhalla', 'upgradeable', 'valhall...</td>\n      <td>choose valhalla upgradeable valhalla scarce ge...</td>\n      <td>0.525000</td>\n      <td>-0.100000</td>\n      <td>23</td>\n      <td>6.83</td>\n      <td>Negative</td>\n      <td>0.083001</td>\n      <td>0.917001</td>\n      <td>0.000001</td>\n      <td>1</td>\n    </tr>\n    <tr>\n      <th>1622</th>\n      <td>2021-11-11 22:12:07+00:00</td>\n      <td>1458920501653422085</td>\n      <td>$OWUV 0,0270$ damn someone sold in the last mi...</td>\n      <td>iwanooze1</td>\n      <td>owuv   damn someone sold in the last minute be...</td>\n      <td>['owuv', 'damn', 'someone', 'sold', 'last', 'm...</td>\n      <td>owuv damn someone sold last minute closed anyw...</td>\n      <td>0.392857</td>\n      <td>0.217857</td>\n      <td>22</td>\n      <td>5.73</td>\n      <td>Positive</td>\n      <td>0.096001</td>\n      <td>0.797001</td>\n      <td>0.108001</td>\n      <td>0</td>\n    </tr>\n  </tbody>\n</table>\n<p>305 rows × 16 columns</p>\n</div>"
     },
     "execution_count": 13,
     "metadata": {},
     "output_type": "execute_result"
    }
   ],
   "source": [
    "f_data"
   ],
   "metadata": {
    "collapsed": false,
    "pycharm": {
     "name": "#%%\n"
    }
   }
  },
  {
   "cell_type": "code",
   "execution_count": 14,
   "outputs": [],
   "source": [
    "# We are going to create a document-term matrix using CountVectorizer, and exclude common English stop words\n",
    "from sklearn.feature_extraction.text import CountVectorizer\n",
    "\n",
    "cv = CountVectorizer(stop_words='english')\n",
    "data_cv = cv.fit_transform(f_data.Text)\n",
    "data_dtm = pd.DataFrame(data_cv.toarray(), columns=cv.get_feature_names())\n",
    "data_dtm.index = f_data.index"
   ],
   "metadata": {
    "collapsed": false,
    "pycharm": {
     "name": "#%%\n"
    }
   }
  },
  {
   "cell_type": "code",
   "execution_count": 15,
   "outputs": [
    {
     "data": {
      "text/plain": "           1318  1319  1320  1321  1322  1323  1324  1325  1326  1327  ...  \\\nabilities     0     0     0     0     0     0     0     0     0     0  ...   \nable          0     0     0     0     0     0     0     0     0     0  ...   \naboutlive     0     0     0     0     0     0     0     0     0     0  ...   \naccepting     0     0     0     0     0     0     0     0     0     0  ...   \naccounts      0     0     0     0     0     0     0     0     0     0  ...   \n\n           1613  1614  1615  1616  1617  1618  1619  1620  1621  1622  \nabilities     0     0     0     0     0     1     0     0     1     0  \nable          0     0     0     0     0     0     0     0     0     0  \naboutlive     0     0     0     0     0     0     0     0     0     0  \naccepting     0     0     0     0     0     0     0     0     0     0  \naccounts      0     0     0     0     0     0     0     0     0     0  \n\n[5 rows x 305 columns]",
      "text/html": "<div>\n<style scoped>\n    .dataframe tbody tr th:only-of-type {\n        vertical-align: middle;\n    }\n\n    .dataframe tbody tr th {\n        vertical-align: top;\n    }\n\n    .dataframe thead th {\n        text-align: right;\n    }\n</style>\n<table border=\"1\" class=\"dataframe\">\n  <thead>\n    <tr style=\"text-align: right;\">\n      <th></th>\n      <th>1318</th>\n      <th>1319</th>\n      <th>1320</th>\n      <th>1321</th>\n      <th>1322</th>\n      <th>1323</th>\n      <th>1324</th>\n      <th>1325</th>\n      <th>1326</th>\n      <th>1327</th>\n      <th>...</th>\n      <th>1613</th>\n      <th>1614</th>\n      <th>1615</th>\n      <th>1616</th>\n      <th>1617</th>\n      <th>1618</th>\n      <th>1619</th>\n      <th>1620</th>\n      <th>1621</th>\n      <th>1622</th>\n    </tr>\n  </thead>\n  <tbody>\n    <tr>\n      <th>abilities</th>\n      <td>0</td>\n      <td>0</td>\n      <td>0</td>\n      <td>0</td>\n      <td>0</td>\n      <td>0</td>\n      <td>0</td>\n      <td>0</td>\n      <td>0</td>\n      <td>0</td>\n      <td>...</td>\n      <td>0</td>\n      <td>0</td>\n      <td>0</td>\n      <td>0</td>\n      <td>0</td>\n      <td>1</td>\n      <td>0</td>\n      <td>0</td>\n      <td>1</td>\n      <td>0</td>\n    </tr>\n    <tr>\n      <th>able</th>\n      <td>0</td>\n      <td>0</td>\n      <td>0</td>\n      <td>0</td>\n      <td>0</td>\n      <td>0</td>\n      <td>0</td>\n      <td>0</td>\n      <td>0</td>\n      <td>0</td>\n      <td>...</td>\n      <td>0</td>\n      <td>0</td>\n      <td>0</td>\n      <td>0</td>\n      <td>0</td>\n      <td>0</td>\n      <td>0</td>\n      <td>0</td>\n      <td>0</td>\n      <td>0</td>\n    </tr>\n    <tr>\n      <th>aboutlive</th>\n      <td>0</td>\n      <td>0</td>\n      <td>0</td>\n      <td>0</td>\n      <td>0</td>\n      <td>0</td>\n      <td>0</td>\n      <td>0</td>\n      <td>0</td>\n      <td>0</td>\n      <td>...</td>\n      <td>0</td>\n      <td>0</td>\n      <td>0</td>\n      <td>0</td>\n      <td>0</td>\n      <td>0</td>\n      <td>0</td>\n      <td>0</td>\n      <td>0</td>\n      <td>0</td>\n    </tr>\n    <tr>\n      <th>accepting</th>\n      <td>0</td>\n      <td>0</td>\n      <td>0</td>\n      <td>0</td>\n      <td>0</td>\n      <td>0</td>\n      <td>0</td>\n      <td>0</td>\n      <td>0</td>\n      <td>0</td>\n      <td>...</td>\n      <td>0</td>\n      <td>0</td>\n      <td>0</td>\n      <td>0</td>\n      <td>0</td>\n      <td>0</td>\n      <td>0</td>\n      <td>0</td>\n      <td>0</td>\n      <td>0</td>\n    </tr>\n    <tr>\n      <th>accounts</th>\n      <td>0</td>\n      <td>0</td>\n      <td>0</td>\n      <td>0</td>\n      <td>0</td>\n      <td>0</td>\n      <td>0</td>\n      <td>0</td>\n      <td>0</td>\n      <td>0</td>\n      <td>...</td>\n      <td>0</td>\n      <td>0</td>\n      <td>0</td>\n      <td>0</td>\n      <td>0</td>\n      <td>0</td>\n      <td>0</td>\n      <td>0</td>\n      <td>0</td>\n      <td>0</td>\n    </tr>\n  </tbody>\n</table>\n<p>5 rows × 305 columns</p>\n</div>"
     },
     "execution_count": 15,
     "metadata": {},
     "output_type": "execute_result"
    }
   ],
   "source": [
    "# One of the required inputs is a term-document matrix\n",
    "tdm = data_dtm.transpose()\n",
    "tdm.head()"
   ],
   "metadata": {
    "collapsed": false,
    "pycharm": {
     "name": "#%%\n"
    }
   }
  },
  {
   "cell_type": "code",
   "execution_count": 16,
   "outputs": [],
   "source": [
    "# We're going to put the term-document matrix into a new gensim format, from df --> sparse matrix --> gensim corpus\n",
    "sparse_counts = scipy.sparse.csr_matrix(data_dtm)\n",
    "corpus = matutils.Sparse2Corpus(sparse_counts)"
   ],
   "metadata": {
    "collapsed": false,
    "pycharm": {
     "name": "#%%\n"
    }
   }
  },
  {
   "cell_type": "code",
   "execution_count": 18,
   "outputs": [
    {
     "name": "stderr",
     "output_type": "stream",
     "text": [
      "/usr/local/lib/python3.9/site-packages/sklearn/base.py:310: UserWarning: Trying to unpickle estimator CountVectorizer from version 0.18.2 when using version 0.24.2. This might lead to breaking code or invalid results. Use at your own risk.\n",
      "  warnings.warn(\n"
     ]
    }
   ],
   "source": [
    "# Gensim also requires dictionary of the all terms and their respective location in the term-document matrix\n",
    "cv = pickle.load(open(\"../data/cv_stop.pkl\", \"rb\"))\n",
    "id2word = dict((v, k) for k, v in cv.vocabulary_.items())"
   ],
   "metadata": {
    "collapsed": false,
    "pycharm": {
     "name": "#%%\n"
    }
   }
  },
  {
   "cell_type": "code",
   "execution_count": 19,
   "outputs": [
    {
     "data": {
      "text/plain": "[(0,\n  '0.004*\"appease\" + 0.003*\"adjectives\" + 0.003*\"airport\" + 0.003*\"analysis\" + 0.003*\"accomplished\" + 0.003*\"alienates\" + 0.003*\"anthony\" + 0.003*\"animals\" + 0.003*\"abcs\" + 0.003*\"antique\"'),\n (1,\n  '0.003*\"area\" + 0.003*\"argh\" + 0.003*\"absolutely\" + 0.003*\"anecdote\" + 0.003*\"aah\" + 0.003*\"americans\" + 0.003*\"absofuckinglutely\" + 0.003*\"accutane\" + 0.003*\"arches\" + 0.003*\"airways\"')]"
     },
     "execution_count": 19,
     "metadata": {},
     "output_type": "execute_result"
    }
   ],
   "source": [
    "# Now that we have the corpus (term-document matrix) and id2word (dictionary of location: term),\n",
    "# we need to specify two other parameters as well - the number of topics and the number of passes\n",
    "lda = models.LdaModel(corpus=corpus, id2word=id2word, num_topics=2, passes=1)\n",
    "lda.print_topics()"
   ],
   "metadata": {
    "collapsed": false,
    "pycharm": {
     "name": "#%%\n"
    }
   }
  },
  {
   "cell_type": "code",
   "execution_count": 20,
   "outputs": [],
   "source": [
    "# Let's create a function to pull out nouns from a string of text\n",
    "from nltk import word_tokenize, pos_tag\n",
    "\n",
    "def nouns(text):\n",
    "    '''Given a string of text, tokenize the text and pull out only the nouns.'''\n",
    "    is_noun = lambda pos: pos[:2] == 'NN'\n",
    "    tokenized = word_tokenize(text)\n",
    "    all_nouns = [word for (word, pos) in pos_tag(tokenized) if is_noun(pos)]\n",
    "    return ' '.join(all_nouns)"
   ],
   "metadata": {
    "collapsed": false,
    "pycharm": {
     "name": "#%%\n"
    }
   }
  },
  {
   "cell_type": "code",
   "execution_count": 21,
   "outputs": [
    {
     "data": {
      "text/plain": "                                                   Text\n1318                 development plan byvery team doubt\n1319               random drops trinkets eggs drops map\n1320     heii friend pmask characters characters figure\n1321                                               life\n1322   years money money everything plebs run rfox rndr\n...                                                 ...\n1618  valhalla valhalla scarce genesis game power ab...\n1619  verasity gaming tokes market capitalization da...\n1620             letaim rewards launching game play dge\n1621  valhalla valhalla scarce genesis game power ab...\n1622  damn someone minute catalysts movie hollywood ...\n\n[305 rows x 1 columns]",
      "text/html": "<div>\n<style scoped>\n    .dataframe tbody tr th:only-of-type {\n        vertical-align: middle;\n    }\n\n    .dataframe tbody tr th {\n        vertical-align: top;\n    }\n\n    .dataframe thead th {\n        text-align: right;\n    }\n</style>\n<table border=\"1\" class=\"dataframe\">\n  <thead>\n    <tr style=\"text-align: right;\">\n      <th></th>\n      <th>Text</th>\n    </tr>\n  </thead>\n  <tbody>\n    <tr>\n      <th>1318</th>\n      <td>development plan byvery team doubt</td>\n    </tr>\n    <tr>\n      <th>1319</th>\n      <td>random drops trinkets eggs drops map</td>\n    </tr>\n    <tr>\n      <th>1320</th>\n      <td>heii friend pmask characters characters figure</td>\n    </tr>\n    <tr>\n      <th>1321</th>\n      <td>life</td>\n    </tr>\n    <tr>\n      <th>1322</th>\n      <td>years money money everything plebs run rfox rndr</td>\n    </tr>\n    <tr>\n      <th>...</th>\n      <td>...</td>\n    </tr>\n    <tr>\n      <th>1618</th>\n      <td>valhalla valhalla scarce genesis game power ab...</td>\n    </tr>\n    <tr>\n      <th>1619</th>\n      <td>verasity gaming tokes market capitalization da...</td>\n    </tr>\n    <tr>\n      <th>1620</th>\n      <td>letaim rewards launching game play dge</td>\n    </tr>\n    <tr>\n      <th>1621</th>\n      <td>valhalla valhalla scarce genesis game power ab...</td>\n    </tr>\n    <tr>\n      <th>1622</th>\n      <td>damn someone minute catalysts movie hollywood ...</td>\n    </tr>\n  </tbody>\n</table>\n<p>305 rows × 1 columns</p>\n</div>"
     },
     "execution_count": 21,
     "metadata": {},
     "output_type": "execute_result"
    }
   ],
   "source": [
    "# Apply the nouns function to the transcripts to filter only on nouns\n",
    "data_nouns = pd.DataFrame(f_data.Text.apply(nouns))\n",
    "data_nouns"
   ],
   "metadata": {
    "collapsed": false,
    "pycharm": {
     "name": "#%%\n"
    }
   }
  },
  {
   "cell_type": "code",
   "execution_count": 22,
   "outputs": [
    {
     "data": {
      "text/plain": "      abilities  accounts  acin  action  address  advance  advantage  advice  \\\n1318          0         0     0       0        0        0          0       0   \n1319          0         0     0       0        0        0          0       0   \n1320          0         0     0       0        0        0          0       0   \n1321          0         0     0       0        0        0          0       0   \n1322          0         0     0       0        0        0          0       0   \n...         ...       ...   ...     ...      ...      ...        ...     ...   \n1618          1         0     0       0        0        0          0       0   \n1619          0         0     0       0        0        0          0       0   \n1620          0         0     0       0        0        0          0       0   \n1621          1         0     0       0        0        0          0       0   \n1622          0         0     0       0        0        0          0       0   \n\n      advisor  age  ...  yukari  yukselis  zhong  zil  zinu  zombie  zombies  \\\n1318        0    0  ...       0         0      0    0     0       0        0   \n1319        0    0  ...       0         0      0    0     0       0        0   \n1320        0    0  ...       0         0      0    0     0       0        0   \n1321        0    0  ...       0         0      0    0     0       0        0   \n1322        0    0  ...       0         0      0    0     0       0        0   \n...       ...  ...  ...     ...       ...    ...  ...   ...     ...      ...   \n1618        0    0  ...       0         0      0    0     0       0        0   \n1619        0    0  ...       0         0      0    0     0       0        0   \n1620        0    0  ...       0         0      0    0     0       0        0   \n1621        0    0  ...       0         0      0    0     0       0        0   \n1622        0    0  ...       0         0      0    0     0       0        0   \n\n      zuck  zuckerburg  zucks  \n1318     0           0      0  \n1319     0           0      0  \n1320     0           0      0  \n1321     0           0      0  \n1322     0           0      0  \n...    ...         ...    ...  \n1618     0           0      0  \n1619     0           0      0  \n1620     0           0      0  \n1621     0           0      0  \n1622     0           0      0  \n\n[305 rows x 1105 columns]",
      "text/html": "<div>\n<style scoped>\n    .dataframe tbody tr th:only-of-type {\n        vertical-align: middle;\n    }\n\n    .dataframe tbody tr th {\n        vertical-align: top;\n    }\n\n    .dataframe thead th {\n        text-align: right;\n    }\n</style>\n<table border=\"1\" class=\"dataframe\">\n  <thead>\n    <tr style=\"text-align: right;\">\n      <th></th>\n      <th>abilities</th>\n      <th>accounts</th>\n      <th>acin</th>\n      <th>action</th>\n      <th>address</th>\n      <th>advance</th>\n      <th>advantage</th>\n      <th>advice</th>\n      <th>advisor</th>\n      <th>age</th>\n      <th>...</th>\n      <th>yukari</th>\n      <th>yukselis</th>\n      <th>zhong</th>\n      <th>zil</th>\n      <th>zinu</th>\n      <th>zombie</th>\n      <th>zombies</th>\n      <th>zuck</th>\n      <th>zuckerburg</th>\n      <th>zucks</th>\n    </tr>\n  </thead>\n  <tbody>\n    <tr>\n      <th>1318</th>\n      <td>0</td>\n      <td>0</td>\n      <td>0</td>\n      <td>0</td>\n      <td>0</td>\n      <td>0</td>\n      <td>0</td>\n      <td>0</td>\n      <td>0</td>\n      <td>0</td>\n      <td>...</td>\n      <td>0</td>\n      <td>0</td>\n      <td>0</td>\n      <td>0</td>\n      <td>0</td>\n      <td>0</td>\n      <td>0</td>\n      <td>0</td>\n      <td>0</td>\n      <td>0</td>\n    </tr>\n    <tr>\n      <th>1319</th>\n      <td>0</td>\n      <td>0</td>\n      <td>0</td>\n      <td>0</td>\n      <td>0</td>\n      <td>0</td>\n      <td>0</td>\n      <td>0</td>\n      <td>0</td>\n      <td>0</td>\n      <td>...</td>\n      <td>0</td>\n      <td>0</td>\n      <td>0</td>\n      <td>0</td>\n      <td>0</td>\n      <td>0</td>\n      <td>0</td>\n      <td>0</td>\n      <td>0</td>\n      <td>0</td>\n    </tr>\n    <tr>\n      <th>1320</th>\n      <td>0</td>\n      <td>0</td>\n      <td>0</td>\n      <td>0</td>\n      <td>0</td>\n      <td>0</td>\n      <td>0</td>\n      <td>0</td>\n      <td>0</td>\n      <td>0</td>\n      <td>...</td>\n      <td>0</td>\n      <td>0</td>\n      <td>0</td>\n      <td>0</td>\n      <td>0</td>\n      <td>0</td>\n      <td>0</td>\n      <td>0</td>\n      <td>0</td>\n      <td>0</td>\n    </tr>\n    <tr>\n      <th>1321</th>\n      <td>0</td>\n      <td>0</td>\n      <td>0</td>\n      <td>0</td>\n      <td>0</td>\n      <td>0</td>\n      <td>0</td>\n      <td>0</td>\n      <td>0</td>\n      <td>0</td>\n      <td>...</td>\n      <td>0</td>\n      <td>0</td>\n      <td>0</td>\n      <td>0</td>\n      <td>0</td>\n      <td>0</td>\n      <td>0</td>\n      <td>0</td>\n      <td>0</td>\n      <td>0</td>\n    </tr>\n    <tr>\n      <th>1322</th>\n      <td>0</td>\n      <td>0</td>\n      <td>0</td>\n      <td>0</td>\n      <td>0</td>\n      <td>0</td>\n      <td>0</td>\n      <td>0</td>\n      <td>0</td>\n      <td>0</td>\n      <td>...</td>\n      <td>0</td>\n      <td>0</td>\n      <td>0</td>\n      <td>0</td>\n      <td>0</td>\n      <td>0</td>\n      <td>0</td>\n      <td>0</td>\n      <td>0</td>\n      <td>0</td>\n    </tr>\n    <tr>\n      <th>...</th>\n      <td>...</td>\n      <td>...</td>\n      <td>...</td>\n      <td>...</td>\n      <td>...</td>\n      <td>...</td>\n      <td>...</td>\n      <td>...</td>\n      <td>...</td>\n      <td>...</td>\n      <td>...</td>\n      <td>...</td>\n      <td>...</td>\n      <td>...</td>\n      <td>...</td>\n      <td>...</td>\n      <td>...</td>\n      <td>...</td>\n      <td>...</td>\n      <td>...</td>\n      <td>...</td>\n    </tr>\n    <tr>\n      <th>1618</th>\n      <td>1</td>\n      <td>0</td>\n      <td>0</td>\n      <td>0</td>\n      <td>0</td>\n      <td>0</td>\n      <td>0</td>\n      <td>0</td>\n      <td>0</td>\n      <td>0</td>\n      <td>...</td>\n      <td>0</td>\n      <td>0</td>\n      <td>0</td>\n      <td>0</td>\n      <td>0</td>\n      <td>0</td>\n      <td>0</td>\n      <td>0</td>\n      <td>0</td>\n      <td>0</td>\n    </tr>\n    <tr>\n      <th>1619</th>\n      <td>0</td>\n      <td>0</td>\n      <td>0</td>\n      <td>0</td>\n      <td>0</td>\n      <td>0</td>\n      <td>0</td>\n      <td>0</td>\n      <td>0</td>\n      <td>0</td>\n      <td>...</td>\n      <td>0</td>\n      <td>0</td>\n      <td>0</td>\n      <td>0</td>\n      <td>0</td>\n      <td>0</td>\n      <td>0</td>\n      <td>0</td>\n      <td>0</td>\n      <td>0</td>\n    </tr>\n    <tr>\n      <th>1620</th>\n      <td>0</td>\n      <td>0</td>\n      <td>0</td>\n      <td>0</td>\n      <td>0</td>\n      <td>0</td>\n      <td>0</td>\n      <td>0</td>\n      <td>0</td>\n      <td>0</td>\n      <td>...</td>\n      <td>0</td>\n      <td>0</td>\n      <td>0</td>\n      <td>0</td>\n      <td>0</td>\n      <td>0</td>\n      <td>0</td>\n      <td>0</td>\n      <td>0</td>\n      <td>0</td>\n    </tr>\n    <tr>\n      <th>1621</th>\n      <td>1</td>\n      <td>0</td>\n      <td>0</td>\n      <td>0</td>\n      <td>0</td>\n      <td>0</td>\n      <td>0</td>\n      <td>0</td>\n      <td>0</td>\n      <td>0</td>\n      <td>...</td>\n      <td>0</td>\n      <td>0</td>\n      <td>0</td>\n      <td>0</td>\n      <td>0</td>\n      <td>0</td>\n      <td>0</td>\n      <td>0</td>\n      <td>0</td>\n      <td>0</td>\n    </tr>\n    <tr>\n      <th>1622</th>\n      <td>0</td>\n      <td>0</td>\n      <td>0</td>\n      <td>0</td>\n      <td>0</td>\n      <td>0</td>\n      <td>0</td>\n      <td>0</td>\n      <td>0</td>\n      <td>0</td>\n      <td>...</td>\n      <td>0</td>\n      <td>0</td>\n      <td>0</td>\n      <td>0</td>\n      <td>0</td>\n      <td>0</td>\n      <td>0</td>\n      <td>0</td>\n      <td>0</td>\n      <td>0</td>\n    </tr>\n  </tbody>\n</table>\n<p>305 rows × 1105 columns</p>\n</div>"
     },
     "execution_count": 22,
     "metadata": {},
     "output_type": "execute_result"
    }
   ],
   "source": [
    "# Create a new document-term matrix using only nouns\n",
    "from sklearn.feature_extraction import text\n",
    "from sklearn.feature_extraction.text import CountVectorizer\n",
    "\n",
    "# Re-add the additional stop words since we are recreating the document-term matrix\n",
    "add_stop_words = ['like', 'im', 'know', 'just', 'dont', 'thats', 'right', 'people',\n",
    "                  'youre', 'got', 'gonna', 'time', 'think', 'yeah', 'said','game','discord','tweet','twitter'\n",
    "                  'retweet','check','play','join','world','thing','coinnews']\n",
    "stop_words = text.ENGLISH_STOP_WORDS.union(add_stop_words)\n",
    "\n",
    "# Recreate a document-term matrix with only nouns\n",
    "cvn = CountVectorizer(stop_words=stop_words)\n",
    "data_cvn = cvn.fit_transform(data_nouns.Text)\n",
    "data_dtmn = pd.DataFrame(data_cvn.toarray(), columns=cvn.get_feature_names())\n",
    "data_dtmn.index = data_nouns.index\n",
    "data_dtmn"
   ],
   "metadata": {
    "collapsed": false,
    "pycharm": {
     "name": "#%%\n"
    }
   }
  },
  {
   "cell_type": "code",
   "execution_count": 23,
   "outputs": [],
   "source": [
    "# Create the gensim corpus\n",
    "corpusn = matutils.Sparse2Corpus(scipy.sparse.csr_matrix(data_dtmn.transpose()))\n",
    "\n",
    "# Create the vocabulary dictionary\n",
    "id2wordn = dict((v, k) for k, v in cvn.vocabulary_.items())"
   ],
   "metadata": {
    "collapsed": false,
    "pycharm": {
     "name": "#%%\n"
    }
   }
  },
  {
   "cell_type": "code",
   "execution_count": 24,
   "outputs": [
    {
     "data": {
      "text/plain": "[(0,\n  '0.005*\"days\" + 0.004*\"gem\" + 0.004*\"reality\" + 0.004*\"life\" + 0.004*\"team\" + 0.004*\"day\" + 0.003*\"battle\" + 0.003*\"greed\" + 0.003*\"pay\" + 0.003*\"weeks\"'),\n (1,\n  '0.006*\"launch\" + 0.005*\"team\" + 0.005*\"doubt\" + 0.005*\"reality\" + 0.004*\"life\" + 0.004*\"space\" + 0.004*\"art\" + 0.004*\"wars\" + 0.004*\"drop\" + 0.004*\"valhalla\"')]"
     },
     "execution_count": 24,
     "metadata": {},
     "output_type": "execute_result"
    }
   ],
   "source": [
    "# Let's try topics = 3\n",
    "ldan = models.LdaModel(corpus=corpusn, num_topics=2, id2word=id2wordn, passes=1)\n",
    "ldan.print_topics()"
   ],
   "metadata": {
    "collapsed": false,
    "pycharm": {
     "name": "#%%\n"
    }
   }
  },
  {
   "cell_type": "code",
   "execution_count": 25,
   "outputs": [],
   "source": [
    "# Let's create a function to pull out nouns from a string of text\n",
    "def nouns_adj(text):\n",
    "    '''Given a string of text, tokenize the text and pull out only the nouns and adjectives.'''\n",
    "    is_noun_adj = lambda pos: pos[:2] == 'NN' or pos[:2] == 'JJ'\n",
    "    tokenized = word_tokenize(text)\n",
    "    nouns_adj = [word for (word, pos) in pos_tag(tokenized) if is_noun_adj(pos)]\n",
    "    return ' '.join(nouns_adj)"
   ],
   "metadata": {
    "collapsed": false,
    "pycharm": {
     "name": "#%%\n"
    }
   }
  },
  {
   "cell_type": "code",
   "execution_count": 26,
   "outputs": [
    {
     "data": {
      "text/plain": "                                                   Text\n1318   hasclear development plan byvery team doubt best\n1319      random drops trinkets guardian eggs drops map\n1320  heii friend pmask characters limited character...\n1321                                   good normal life\n1322  next years big money money everything fail ple...\n...                                                 ...\n1618  choose valhalla upgradeable valhalla scarce ge...\n1619  verasity top gaming tokes market capitalizatio...\n1620             letaim rewards launching game play dge\n1621  choose valhalla upgradeable valhalla scarce ge...\n1622  damn someone last minute many catalysts mvp mo...\n\n[305 rows x 1 columns]",
      "text/html": "<div>\n<style scoped>\n    .dataframe tbody tr th:only-of-type {\n        vertical-align: middle;\n    }\n\n    .dataframe tbody tr th {\n        vertical-align: top;\n    }\n\n    .dataframe thead th {\n        text-align: right;\n    }\n</style>\n<table border=\"1\" class=\"dataframe\">\n  <thead>\n    <tr style=\"text-align: right;\">\n      <th></th>\n      <th>Text</th>\n    </tr>\n  </thead>\n  <tbody>\n    <tr>\n      <th>1318</th>\n      <td>hasclear development plan byvery team doubt best</td>\n    </tr>\n    <tr>\n      <th>1319</th>\n      <td>random drops trinkets guardian eggs drops map</td>\n    </tr>\n    <tr>\n      <th>1320</th>\n      <td>heii friend pmask characters limited character...</td>\n    </tr>\n    <tr>\n      <th>1321</th>\n      <td>good normal life</td>\n    </tr>\n    <tr>\n      <th>1322</th>\n      <td>next years big money money everything fail ple...</td>\n    </tr>\n    <tr>\n      <th>...</th>\n      <td>...</td>\n    </tr>\n    <tr>\n      <th>1618</th>\n      <td>choose valhalla upgradeable valhalla scarce ge...</td>\n    </tr>\n    <tr>\n      <th>1619</th>\n      <td>verasity top gaming tokes market capitalizatio...</td>\n    </tr>\n    <tr>\n      <th>1620</th>\n      <td>letaim rewards launching game play dge</td>\n    </tr>\n    <tr>\n      <th>1621</th>\n      <td>choose valhalla upgradeable valhalla scarce ge...</td>\n    </tr>\n    <tr>\n      <th>1622</th>\n      <td>damn someone last minute many catalysts mvp mo...</td>\n    </tr>\n  </tbody>\n</table>\n<p>305 rows × 1 columns</p>\n</div>"
     },
     "execution_count": 26,
     "metadata": {},
     "output_type": "execute_result"
    }
   ],
   "source": [
    "# Apply the nouns function to the transcripts to filter only on nouns\n",
    "data_nouns_adj = pd.DataFrame(f_data.Text.apply(nouns_adj))\n",
    "data_nouns_adj"
   ],
   "metadata": {
    "collapsed": false,
    "pycharm": {
     "name": "#%%\n"
    }
   }
  },
  {
   "cell_type": "code",
   "execution_count": 27,
   "outputs": [
    {
     "data": {
      "text/plain": "      abilities  able  aboutlive  accounts  acin  action  active  address  \\\n1318          0     0          0         0     0       0       0        0   \n1319          0     0          0         0     0       0       0        0   \n1320          0     0          0         0     0       0       0        0   \n1321          0     0          0         0     0       0       0        0   \n1322          0     0          0         0     0       0       0        0   \n...         ...   ...        ...       ...   ...     ...     ...      ...   \n1618          1     0          0         0     0       0       0        0   \n1619          0     0          0         0     0       0       0        0   \n1620          0     0          0         0     0       0       0        0   \n1621          1     0          0         0     0       0       0        0   \n1622          0     0          0         0     0       0       0        0   \n\n      advance  advantage  ...  yukari  yukselis  zhong  zil  zinu  zombie  \\\n1318        0          0  ...       0         0      0    0     0       0   \n1319        0          0  ...       0         0      0    0     0       0   \n1320        0          0  ...       0         0      0    0     0       0   \n1321        0          0  ...       0         0      0    0     0       0   \n1322        0          0  ...       0         0      0    0     0       0   \n...       ...        ...  ...     ...       ...    ...  ...   ...     ...   \n1618        0          0  ...       0         0      0    0     0       0   \n1619        0          0  ...       0         0      0    0     0       0   \n1620        0          0  ...       0         0      0    0     0       0   \n1621        0          0  ...       0         0      0    0     0       0   \n1622        0          0  ...       0         0      0    0     0       0   \n\n      zombies  zuck  zuckerburg  zucks  \n1318        0     0           0      0  \n1319        0     0           0      0  \n1320        0     0           0      0  \n1321        0     0           0      0  \n1322        0     0           0      0  \n...       ...   ...         ...    ...  \n1618        0     0           0      0  \n1619        0     0           0      0  \n1620        0     0           0      0  \n1621        0     0           0      0  \n1622        0     0           0      0  \n\n[305 rows x 1464 columns]",
      "text/html": "<div>\n<style scoped>\n    .dataframe tbody tr th:only-of-type {\n        vertical-align: middle;\n    }\n\n    .dataframe tbody tr th {\n        vertical-align: top;\n    }\n\n    .dataframe thead th {\n        text-align: right;\n    }\n</style>\n<table border=\"1\" class=\"dataframe\">\n  <thead>\n    <tr style=\"text-align: right;\">\n      <th></th>\n      <th>abilities</th>\n      <th>able</th>\n      <th>aboutlive</th>\n      <th>accounts</th>\n      <th>acin</th>\n      <th>action</th>\n      <th>active</th>\n      <th>address</th>\n      <th>advance</th>\n      <th>advantage</th>\n      <th>...</th>\n      <th>yukari</th>\n      <th>yukselis</th>\n      <th>zhong</th>\n      <th>zil</th>\n      <th>zinu</th>\n      <th>zombie</th>\n      <th>zombies</th>\n      <th>zuck</th>\n      <th>zuckerburg</th>\n      <th>zucks</th>\n    </tr>\n  </thead>\n  <tbody>\n    <tr>\n      <th>1318</th>\n      <td>0</td>\n      <td>0</td>\n      <td>0</td>\n      <td>0</td>\n      <td>0</td>\n      <td>0</td>\n      <td>0</td>\n      <td>0</td>\n      <td>0</td>\n      <td>0</td>\n      <td>...</td>\n      <td>0</td>\n      <td>0</td>\n      <td>0</td>\n      <td>0</td>\n      <td>0</td>\n      <td>0</td>\n      <td>0</td>\n      <td>0</td>\n      <td>0</td>\n      <td>0</td>\n    </tr>\n    <tr>\n      <th>1319</th>\n      <td>0</td>\n      <td>0</td>\n      <td>0</td>\n      <td>0</td>\n      <td>0</td>\n      <td>0</td>\n      <td>0</td>\n      <td>0</td>\n      <td>0</td>\n      <td>0</td>\n      <td>...</td>\n      <td>0</td>\n      <td>0</td>\n      <td>0</td>\n      <td>0</td>\n      <td>0</td>\n      <td>0</td>\n      <td>0</td>\n      <td>0</td>\n      <td>0</td>\n      <td>0</td>\n    </tr>\n    <tr>\n      <th>1320</th>\n      <td>0</td>\n      <td>0</td>\n      <td>0</td>\n      <td>0</td>\n      <td>0</td>\n      <td>0</td>\n      <td>0</td>\n      <td>0</td>\n      <td>0</td>\n      <td>0</td>\n      <td>...</td>\n      <td>0</td>\n      <td>0</td>\n      <td>0</td>\n      <td>0</td>\n      <td>0</td>\n      <td>0</td>\n      <td>0</td>\n      <td>0</td>\n      <td>0</td>\n      <td>0</td>\n    </tr>\n    <tr>\n      <th>1321</th>\n      <td>0</td>\n      <td>0</td>\n      <td>0</td>\n      <td>0</td>\n      <td>0</td>\n      <td>0</td>\n      <td>0</td>\n      <td>0</td>\n      <td>0</td>\n      <td>0</td>\n      <td>...</td>\n      <td>0</td>\n      <td>0</td>\n      <td>0</td>\n      <td>0</td>\n      <td>0</td>\n      <td>0</td>\n      <td>0</td>\n      <td>0</td>\n      <td>0</td>\n      <td>0</td>\n    </tr>\n    <tr>\n      <th>1322</th>\n      <td>0</td>\n      <td>0</td>\n      <td>0</td>\n      <td>0</td>\n      <td>0</td>\n      <td>0</td>\n      <td>0</td>\n      <td>0</td>\n      <td>0</td>\n      <td>0</td>\n      <td>...</td>\n      <td>0</td>\n      <td>0</td>\n      <td>0</td>\n      <td>0</td>\n      <td>0</td>\n      <td>0</td>\n      <td>0</td>\n      <td>0</td>\n      <td>0</td>\n      <td>0</td>\n    </tr>\n    <tr>\n      <th>...</th>\n      <td>...</td>\n      <td>...</td>\n      <td>...</td>\n      <td>...</td>\n      <td>...</td>\n      <td>...</td>\n      <td>...</td>\n      <td>...</td>\n      <td>...</td>\n      <td>...</td>\n      <td>...</td>\n      <td>...</td>\n      <td>...</td>\n      <td>...</td>\n      <td>...</td>\n      <td>...</td>\n      <td>...</td>\n      <td>...</td>\n      <td>...</td>\n      <td>...</td>\n      <td>...</td>\n    </tr>\n    <tr>\n      <th>1618</th>\n      <td>1</td>\n      <td>0</td>\n      <td>0</td>\n      <td>0</td>\n      <td>0</td>\n      <td>0</td>\n      <td>0</td>\n      <td>0</td>\n      <td>0</td>\n      <td>0</td>\n      <td>...</td>\n      <td>0</td>\n      <td>0</td>\n      <td>0</td>\n      <td>0</td>\n      <td>0</td>\n      <td>0</td>\n      <td>0</td>\n      <td>0</td>\n      <td>0</td>\n      <td>0</td>\n    </tr>\n    <tr>\n      <th>1619</th>\n      <td>0</td>\n      <td>0</td>\n      <td>0</td>\n      <td>0</td>\n      <td>0</td>\n      <td>0</td>\n      <td>0</td>\n      <td>0</td>\n      <td>0</td>\n      <td>0</td>\n      <td>...</td>\n      <td>0</td>\n      <td>0</td>\n      <td>0</td>\n      <td>0</td>\n      <td>0</td>\n      <td>0</td>\n      <td>0</td>\n      <td>0</td>\n      <td>0</td>\n      <td>0</td>\n    </tr>\n    <tr>\n      <th>1620</th>\n      <td>0</td>\n      <td>0</td>\n      <td>0</td>\n      <td>0</td>\n      <td>0</td>\n      <td>0</td>\n      <td>0</td>\n      <td>0</td>\n      <td>0</td>\n      <td>0</td>\n      <td>...</td>\n      <td>0</td>\n      <td>0</td>\n      <td>0</td>\n      <td>0</td>\n      <td>0</td>\n      <td>0</td>\n      <td>0</td>\n      <td>0</td>\n      <td>0</td>\n      <td>0</td>\n    </tr>\n    <tr>\n      <th>1621</th>\n      <td>1</td>\n      <td>0</td>\n      <td>0</td>\n      <td>0</td>\n      <td>0</td>\n      <td>0</td>\n      <td>0</td>\n      <td>0</td>\n      <td>0</td>\n      <td>0</td>\n      <td>...</td>\n      <td>0</td>\n      <td>0</td>\n      <td>0</td>\n      <td>0</td>\n      <td>0</td>\n      <td>0</td>\n      <td>0</td>\n      <td>0</td>\n      <td>0</td>\n      <td>0</td>\n    </tr>\n    <tr>\n      <th>1622</th>\n      <td>0</td>\n      <td>0</td>\n      <td>0</td>\n      <td>0</td>\n      <td>0</td>\n      <td>0</td>\n      <td>0</td>\n      <td>0</td>\n      <td>0</td>\n      <td>0</td>\n      <td>...</td>\n      <td>0</td>\n      <td>0</td>\n      <td>0</td>\n      <td>0</td>\n      <td>0</td>\n      <td>0</td>\n      <td>0</td>\n      <td>0</td>\n      <td>0</td>\n      <td>0</td>\n    </tr>\n  </tbody>\n</table>\n<p>305 rows × 1464 columns</p>\n</div>"
     },
     "execution_count": 27,
     "metadata": {},
     "output_type": "execute_result"
    }
   ],
   "source": [
    "# Create a new document-term matrix using only nouns and adjectives, also remove common words with max_df\n",
    "cvna = CountVectorizer(stop_words=stop_words, max_df=.8)\n",
    "data_cvna = cvna.fit_transform(data_nouns_adj.Text)\n",
    "data_dtmna = pd.DataFrame(data_cvna.toarray(), columns=cvna.get_feature_names())\n",
    "data_dtmna.index = data_nouns_adj.index\n",
    "data_dtmna"
   ],
   "metadata": {
    "collapsed": false,
    "pycharm": {
     "name": "#%%\n"
    }
   }
  },
  {
   "cell_type": "code",
   "execution_count": 28,
   "outputs": [],
   "source": [
    "# Create the gensim corpus\n",
    "corpusna = matutils.Sparse2Corpus(scipy.sparse.csr_matrix(data_dtmna.transpose()))\n",
    "\n",
    "# Create the vocabulary dictionary\n",
    "id2wordna = dict((v, k) for k, v in cvna.vocabulary_.items())"
   ],
   "metadata": {
    "collapsed": false,
    "pycharm": {
     "name": "#%%\n"
    }
   }
  },
  {
   "cell_type": "code",
   "execution_count": 44,
   "outputs": [
    {
     "data": {
      "text/plain": "[(0,\n  '0.011*\"real\" + 0.008*\"life\" + 0.006*\"second\" + 0.005*\"wars\" + 0.005*\"use\" + 0.005*\"new\" + 0.005*\"live\" + 0.005*\"williams\" + 0.005*\"meet\" + 0.005*\"ceo\"'),\n (1,\n  '0.008*\"virtual\" + 0.008*\"way\" + 0.007*\"reality\" + 0.006*\"ownership\" + 0.005*\"days\" + 0.005*\"release\" + 0.005*\"earth\" + 0.005*\"launch\" + 0.005*\"events\" + 0.005*\"land\"'),\n (2,\n  '0.008*\"new\" + 0.008*\"drop\" + 0.006*\"real\" + 0.006*\"token\" + 0.006*\"collectible\" + 0.006*\"reality\" + 0.006*\"low\" + 0.006*\"cap\" + 0.006*\"money\" + 0.005*\"future\"'),\n (3,\n  '0.006*\"virtual\" + 0.006*\"active\" + 0.006*\"heavy\" + 0.006*\"launch\" + 0.005*\"new\" + 0.004*\"real\" + 0.004*\"low\" + 0.004*\"airdrop\" + 0.004*\"wars\" + 0.004*\"team\"'),\n (4,\n  '0.008*\"years\" + 0.006*\"quest\" + 0.006*\"space\" + 0.006*\"gem\" + 0.006*\"week\" + 0.006*\"paper\" + 0.006*\"friends\" + 0.006*\"future\" + 0.005*\"hot\" + 0.005*\"social\"'),\n (5,\n  '0.010*\"art\" + 0.010*\"isna\" + 0.008*\"league\" + 0.008*\"normal\" + 0.008*\"launch\" + 0.006*\"investment\" + 0.006*\"new\" + 0.006*\"big\" + 0.006*\"greed\" + 0.006*\"early\"'),\n (6,\n  '0.008*\"attention\" + 0.007*\"drop\" + 0.007*\"insane\" + 0.007*\"volume\" + 0.007*\"facebook\" + 0.007*\"launch\" + 0.007*\"pay\" + 0.006*\"stay\" + 0.005*\"poodl\" + 0.005*\"los\"'),\n (7,\n  '0.011*\"team\" + 0.008*\"community\" + 0.008*\"design\" + 0.005*\"reality\" + 0.005*\"valhalla\" + 0.005*\"service\" + 0.005*\"best\" + 0.005*\"post\" + 0.005*\"hasclear\" + 0.005*\"week\"')]"
     },
     "execution_count": 44,
     "metadata": {},
     "output_type": "execute_result"
    }
   ],
   "source": [
    "# Let's try 3 topics\n",
    "ldana = models.LdaModel(corpus=corpusna, num_topics=8, id2word=id2wordna, passes=1)\n",
    "ldana.print_topics()"
   ],
   "metadata": {
    "collapsed": false,
    "pycharm": {
     "name": "#%%\n"
    }
   }
  },
  {
   "cell_type": "code",
   "execution_count": 34,
   "outputs": [
    {
     "ename": "IndexError",
     "evalue": "index 2 is out of bounds for axis 0 with size 2",
     "output_type": "error",
     "traceback": [
      "\u001B[0;31m---------------------------------------------------------------------------\u001B[0m",
      "\u001B[0;31mIndexError\u001B[0m                                Traceback (most recent call last)",
      "\u001B[0;32m/var/folders/mz/c9vb3s9n2hn8zbzc6grlnzwc0000gn/T/ipykernel_69756/3255563677.py\u001B[0m in \u001B[0;36m<module>\u001B[0;34m\u001B[0m\n\u001B[1;32m      9\u001B[0m     \u001B[0mplt\u001B[0m\u001B[0;34m.\u001B[0m\u001B[0mtitle\u001B[0m\u001B[0;34m(\u001B[0m\u001B[0;34m\"Topic\"\u001B[0m \u001B[0;34m+\u001B[0m \u001B[0;34m\" \"\u001B[0m\u001B[0;34m+\u001B[0m \u001B[0mstr\u001B[0m\u001B[0;34m(\u001B[0m\u001B[0mtopic\u001B[0m\u001B[0;34m)\u001B[0m\u001B[0;34m)\u001B[0m\u001B[0;34m\u001B[0m\u001B[0;34m\u001B[0m\u001B[0m\n\u001B[1;32m     10\u001B[0m     \u001B[0mplt\u001B[0m\u001B[0;34m.\u001B[0m\u001B[0mshow\u001B[0m\u001B[0;34m(\u001B[0m\u001B[0;34m)\u001B[0m\u001B[0;34m\u001B[0m\u001B[0;34m\u001B[0m\u001B[0m\n\u001B[0;32m---> 11\u001B[0;31m \u001B[0mcreate_wordcloud\u001B[0m\u001B[0;34m(\u001B[0m\u001B[0mldana\u001B[0m\u001B[0;34m,\u001B[0m\u001B[0;36m2\u001B[0m\u001B[0;34m)\u001B[0m\u001B[0;34m\u001B[0m\u001B[0;34m\u001B[0m\u001B[0m\n\u001B[0m",
      "\u001B[0;32m/var/folders/mz/c9vb3s9n2hn8zbzc6grlnzwc0000gn/T/ipykernel_69756/3255563677.py\u001B[0m in \u001B[0;36mcreate_wordcloud\u001B[0;34m(model, topic)\u001B[0m\n\u001B[1;32m      2\u001B[0m \u001B[0;32mfrom\u001B[0m \u001B[0mwordcloud\u001B[0m \u001B[0;32mimport\u001B[0m \u001B[0mWordCloud\u001B[0m\u001B[0;34m\u001B[0m\u001B[0;34m\u001B[0m\u001B[0m\n\u001B[1;32m      3\u001B[0m \u001B[0;32mdef\u001B[0m \u001B[0mcreate_wordcloud\u001B[0m\u001B[0;34m(\u001B[0m\u001B[0mmodel\u001B[0m\u001B[0;34m,\u001B[0m \u001B[0mtopic\u001B[0m\u001B[0;34m)\u001B[0m\u001B[0;34m:\u001B[0m\u001B[0;34m\u001B[0m\u001B[0;34m\u001B[0m\u001B[0m\n\u001B[0;32m----> 4\u001B[0;31m     \u001B[0mtext\u001B[0m \u001B[0;34m=\u001B[0m \u001B[0;34m{\u001B[0m\u001B[0mword\u001B[0m\u001B[0;34m:\u001B[0m \u001B[0mvalue\u001B[0m \u001B[0;32mfor\u001B[0m \u001B[0mword\u001B[0m\u001B[0;34m,\u001B[0m \u001B[0mvalue\u001B[0m \u001B[0;32min\u001B[0m \u001B[0mmodel\u001B[0m\u001B[0;34m.\u001B[0m\u001B[0mshow_topic\u001B[0m\u001B[0;34m(\u001B[0m\u001B[0mtopic\u001B[0m\u001B[0;34m)\u001B[0m\u001B[0;34m}\u001B[0m\u001B[0;34m\u001B[0m\u001B[0;34m\u001B[0m\u001B[0m\n\u001B[0m\u001B[1;32m      5\u001B[0m     \u001B[0mwc\u001B[0m \u001B[0;34m=\u001B[0m \u001B[0mWordCloud\u001B[0m\u001B[0;34m(\u001B[0m\u001B[0mbackground_color\u001B[0m\u001B[0;34m=\u001B[0m\u001B[0;34m\"white\"\u001B[0m\u001B[0;34m,\u001B[0m \u001B[0mmax_words\u001B[0m\u001B[0;34m=\u001B[0m\u001B[0;36m1000\u001B[0m\u001B[0;34m)\u001B[0m\u001B[0;34m\u001B[0m\u001B[0;34m\u001B[0m\u001B[0m\n\u001B[1;32m      6\u001B[0m     \u001B[0mwc\u001B[0m\u001B[0;34m.\u001B[0m\u001B[0mgenerate_from_frequencies\u001B[0m\u001B[0;34m(\u001B[0m\u001B[0mtext\u001B[0m\u001B[0;34m)\u001B[0m\u001B[0;34m\u001B[0m\u001B[0;34m\u001B[0m\u001B[0m\n",
      "\u001B[0;32m/usr/local/lib/python3.9/site-packages/gensim/models/ldamodel.py\u001B[0m in \u001B[0;36mshow_topic\u001B[0;34m(self, topicid, topn)\u001B[0m\n\u001B[1;32m   1215\u001B[0m \u001B[0;34m\u001B[0m\u001B[0m\n\u001B[1;32m   1216\u001B[0m         \"\"\"\n\u001B[0;32m-> 1217\u001B[0;31m         \u001B[0;32mreturn\u001B[0m \u001B[0;34m[\u001B[0m\u001B[0;34m(\u001B[0m\u001B[0mself\u001B[0m\u001B[0;34m.\u001B[0m\u001B[0mid2word\u001B[0m\u001B[0;34m[\u001B[0m\u001B[0mid\u001B[0m\u001B[0;34m]\u001B[0m\u001B[0;34m,\u001B[0m \u001B[0mvalue\u001B[0m\u001B[0;34m)\u001B[0m \u001B[0;32mfor\u001B[0m \u001B[0mid\u001B[0m\u001B[0;34m,\u001B[0m \u001B[0mvalue\u001B[0m \u001B[0;32min\u001B[0m \u001B[0mself\u001B[0m\u001B[0;34m.\u001B[0m\u001B[0mget_topic_terms\u001B[0m\u001B[0;34m(\u001B[0m\u001B[0mtopicid\u001B[0m\u001B[0;34m,\u001B[0m \u001B[0mtopn\u001B[0m\u001B[0;34m)\u001B[0m\u001B[0;34m]\u001B[0m\u001B[0;34m\u001B[0m\u001B[0;34m\u001B[0m\u001B[0m\n\u001B[0m\u001B[1;32m   1218\u001B[0m \u001B[0;34m\u001B[0m\u001B[0m\n\u001B[1;32m   1219\u001B[0m     \u001B[0;32mdef\u001B[0m \u001B[0mget_topics\u001B[0m\u001B[0;34m(\u001B[0m\u001B[0mself\u001B[0m\u001B[0;34m)\u001B[0m\u001B[0;34m:\u001B[0m\u001B[0;34m\u001B[0m\u001B[0;34m\u001B[0m\u001B[0m\n",
      "\u001B[0;32m/usr/local/lib/python3.9/site-packages/gensim/models/ldamodel.py\u001B[0m in \u001B[0;36mget_topic_terms\u001B[0;34m(self, topicid, topn)\u001B[0m\n\u001B[1;32m   1246\u001B[0m \u001B[0;34m\u001B[0m\u001B[0m\n\u001B[1;32m   1247\u001B[0m         \"\"\"\n\u001B[0;32m-> 1248\u001B[0;31m         \u001B[0mtopic\u001B[0m \u001B[0;34m=\u001B[0m \u001B[0mself\u001B[0m\u001B[0;34m.\u001B[0m\u001B[0mget_topics\u001B[0m\u001B[0;34m(\u001B[0m\u001B[0;34m)\u001B[0m\u001B[0;34m[\u001B[0m\u001B[0mtopicid\u001B[0m\u001B[0;34m]\u001B[0m\u001B[0;34m\u001B[0m\u001B[0;34m\u001B[0m\u001B[0m\n\u001B[0m\u001B[1;32m   1249\u001B[0m         \u001B[0mtopic\u001B[0m \u001B[0;34m=\u001B[0m \u001B[0mtopic\u001B[0m \u001B[0;34m/\u001B[0m \u001B[0mtopic\u001B[0m\u001B[0;34m.\u001B[0m\u001B[0msum\u001B[0m\u001B[0;34m(\u001B[0m\u001B[0;34m)\u001B[0m  \u001B[0;31m# normalize to probability distribution\u001B[0m\u001B[0;34m\u001B[0m\u001B[0;34m\u001B[0m\u001B[0m\n\u001B[1;32m   1250\u001B[0m         \u001B[0mbestn\u001B[0m \u001B[0;34m=\u001B[0m \u001B[0mmatutils\u001B[0m\u001B[0;34m.\u001B[0m\u001B[0margsort\u001B[0m\u001B[0;34m(\u001B[0m\u001B[0mtopic\u001B[0m\u001B[0;34m,\u001B[0m \u001B[0mtopn\u001B[0m\u001B[0;34m,\u001B[0m \u001B[0mreverse\u001B[0m\u001B[0;34m=\u001B[0m\u001B[0;32mTrue\u001B[0m\u001B[0;34m)\u001B[0m\u001B[0;34m\u001B[0m\u001B[0;34m\u001B[0m\u001B[0m\n",
      "\u001B[0;31mIndexError\u001B[0m: index 2 is out of bounds for axis 0 with size 2"
     ]
    }
   ],
   "source": [
    "import matplotlib.pyplot as plt\n",
    "from wordcloud import WordCloud\n",
    "def create_wordcloud(model, topic):\n",
    "    text = {word: value for word, value in model.show_topic(topic)}\n",
    "    wc = WordCloud(background_color=\"white\", max_words=1000)\n",
    "    wc.generate_from_frequencies(text)\n",
    "    plt.imshow(wc, interpolation=\"bilinear\")\n",
    "    plt.axis(\"off\")\n",
    "    plt.title(\"Topic\" + \" \"+ str(topic))\n",
    "    plt.show()\n",
    "create_wordcloud(ldana,2)"
   ],
   "metadata": {
    "collapsed": false,
    "pycharm": {
     "name": "#%%\n"
    }
   }
  },
  {
   "cell_type": "code",
   "execution_count": 35,
   "outputs": [],
   "source": [
    "from gensim import corpora\n",
    "word2id = dict((k, v) for k, v in cvna.vocabulary_.items())\n",
    "d = corpora.Dictionary()\n",
    "d.id2token = id2word\n",
    "d.token2id = word2id"
   ],
   "metadata": {
    "collapsed": false,
    "pycharm": {
     "name": "#%%\n"
    }
   }
  },
  {
   "cell_type": "code",
   "execution_count": 36,
   "outputs": [],
   "source": [
    "#import pyLDAvis\n",
    "# Visualize the topics\n",
    "#pyLDAvis.enable_notebook()\n",
    "#LDAvis_prepared = pyLDAvis..prepare(ldana, corpusna, d)\n",
    "#LDAvis_prepared"
   ],
   "metadata": {
    "collapsed": false,
    "pycharm": {
     "name": "#%%\n"
    }
   }
  },
  {
   "cell_type": "code",
   "execution_count": 37,
   "outputs": [],
   "source": [
    "# supporting function\n",
    "def compute_coherence_values(corpus, dictionary, k, a, b):\n",
    "    lda_model = models.LdaMulticore(corpus=corpus, num_topics=k, id2word=dictionary, passes=10,alpha=a,\n",
    "                                           eta=b)\n",
    "    coherence_model_lda = CoherenceModel(model=lda_model, corpus=corpus,dictionary=dictionary, coherence='u_mass')\n",
    "    return coherence_model_lda.get_coherence()"
   ],
   "metadata": {
    "collapsed": false,
    "pycharm": {
     "name": "#%%\n"
    }
   }
  },
  {
   "cell_type": "code",
   "execution_count": 38,
   "outputs": [],
   "source": [
    "#compute_coherence_values(corpusna,d,2,0.1,0.4)"
   ],
   "metadata": {
    "collapsed": false,
    "pycharm": {
     "name": "#%%\n"
    }
   }
  },
  {
   "cell_type": "code",
   "execution_count": 39,
   "outputs": [
    {
     "name": "stdout",
     "output_type": "stream",
     "text": [
      "2\n",
      "3\n",
      "4\n",
      "5\n",
      "6\n",
      "7\n",
      "8\n",
      "9\n"
     ]
    }
   ],
   "source": [
    "import numpy as np\n",
    "from gensim import models\n",
    "grid = {}\n",
    "grid['Validation_Set'] = {}\n",
    "# Topics range\n",
    "min_topics = 2\n",
    "max_topics = 10\n",
    "step_size = 1\n",
    "topics_range = range(min_topics, max_topics, step_size)\n",
    "model_results = {\n",
    "                 'Topics': [],\n",
    "                 'Coherence': []\n",
    "                }\n",
    "\n",
    "# Can take a long time to run\n",
    "if 1 == 1:\n",
    "        # iterate through number of topics\n",
    "    for k in topics_range:\n",
    "                    # get the coherence score for the given parameters\n",
    "            print(k)\n",
    "            cv = compute_coherence_values(corpus=corpusna, dictionary=d,\n",
    "                                                  k=k, a=0.5, b=0.5)\n",
    "                    # Save the model results\n",
    "            model_results['Topics'].append(k)\n",
    "            model_results['Coherence'].append(cv)"
   ],
   "metadata": {
    "collapsed": false,
    "pycharm": {
     "name": "#%%\n"
    }
   }
  },
  {
   "cell_type": "code",
   "execution_count": 40,
   "outputs": [
    {
     "data": {
      "text/plain": "{'Topics': [2, 3, 4, 5, 6, 7, 8, 9],\n 'Coherence': [-20.653502117591607,\n  -20.234641812410207,\n  -20.02801212850409,\n  -19.533696374235674,\n  -19.62932243838804,\n  -19.064542364350768,\n  -19.500568974661135,\n  -18.973403520483913]}"
     },
     "execution_count": 40,
     "metadata": {},
     "output_type": "execute_result"
    }
   ],
   "source": [
    "model_results"
   ],
   "metadata": {
    "collapsed": false,
    "pycharm": {
     "name": "#%%\n"
    }
   }
  },
  {
   "cell_type": "code",
   "execution_count": 41,
   "outputs": [],
   "source": [
    "results = pd.DataFrame(model_results)"
   ],
   "metadata": {
    "collapsed": false,
    "pycharm": {
     "name": "#%%\n"
    }
   }
  },
  {
   "cell_type": "code",
   "execution_count": 42,
   "outputs": [],
   "source": [
    "grouped = (results.groupby(['Topics'], as_index=False)).mean()"
   ],
   "metadata": {
    "collapsed": false,
    "pycharm": {
     "name": "#%%\n"
    }
   }
  },
  {
   "cell_type": "code",
   "execution_count": 43,
   "outputs": [
    {
     "data": {
      "text/plain": "<Figure size 432x288 with 1 Axes>",
      "image/png": "[encoded data removed]"
     },
     "metadata": {
      "needs_background": "light"
     },
     "output_type": "display_data"
    }
   ],
   "source": [
    "#Plot multidimensionale?\n",
    "import matplotlib.pyplot as plt\n",
    "def plot_graph(model_results):\n",
    "    plt.plot(grouped['Topics'], grouped['Coherence'])\n",
    "    plt.xlabel(\"Number of Topics\")\n",
    "    plt.ylabel(\"Coherence score\")\n",
    "    plt.legend((\"coherence_values\"), loc='best')\n",
    "    plt.show()\n",
    "\n",
    "plot_graph(model_results)"
   ],
   "metadata": {
    "collapsed": false,
    "pycharm": {
     "name": "#%%\n"
    }
   }
  },
  {
   "cell_type": "code",
   "execution_count": 195,
   "outputs": [],
   "source": [
    "results.to_csv(\"../data/resultsLDA062022.csv\",index=False)"
   ],
   "metadata": {
    "collapsed": false,
    "pycharm": {
     "name": "#%%\n"
    }
   }
  },
  {
   "cell_type": "code",
   "execution_count": null,
   "outputs": [],
   "source": [],
   "metadata": {
    "collapsed": false,
    "pycharm": {
     "name": "#%%\n"
    }
   }
  }
 ],
 "metadata": {
  "kernelspec": {
   "display_name": "Python 3",
   "language": "python",
   "name": "python3"
  },
  "language_info": {
   "codemirror_mode": {
    "name": "ipython",
    "version": 2
   },
   "file_extension": ".py",
   "mimetype": "text/x-python",
   "name": "python",
   "nbconvert_exporter": "python",
   "pygments_lexer": "ipython2",
   "version": "2.7.6"
  }
 },
 "nbformat": 4,
 "nbformat_minor": 0
}