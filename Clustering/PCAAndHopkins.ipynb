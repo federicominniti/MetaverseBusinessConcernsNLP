{
 "cells": [
  {
   "cell_type": "code",
   "execution_count": 91,
   "metadata": {
    "collapsed": false,
    "pycharm": {
     "name": "#%%\n"
    }
   },
   "outputs": [],
   "source": [
    "import pandas as pd"
   ]
  },
  {
   "cell_type": "code",
   "execution_count": null,
   "outputs": [],
   "source": [
    "df_model = pd.read_csv(\"../data/cleaned_tweets.csv\")"
   ],
   "metadata": {
    "collapsed": false,
    "pycharm": {
     "name": "#%%\n"
    }
   }
  },
  {
   "cell_type": "code",
   "execution_count": null,
   "outputs": [],
   "source": [
    "df_model = df_model.loc[df_model['Datetime'] >= '2022-06-01']"
   ],
   "metadata": {
    "collapsed": false,
    "pycharm": {
     "name": "#%%\n"
    }
   }
  },
  {
   "cell_type": "code",
   "execution_count": null,
   "outputs": [],
   "source": [
    "df_model = df_model.loc[df_model['Datetime'] <= '2022-06-31']"
   ],
   "metadata": {
    "collapsed": false,
    "pycharm": {
     "name": "#%%\n"
    }
   }
  },
  {
   "cell_type": "code",
   "execution_count": null,
   "outputs": [],
   "source": [
    "df_model"
   ],
   "metadata": {
    "collapsed": false,
    "pycharm": {
     "name": "#%%\n"
    }
   }
  },
  {
   "cell_type": "code",
   "execution_count": null,
   "outputs": [],
   "source": [
    "df_model.to_csv(\"../data/data_original_06.csv\",index=False)"
   ],
   "metadata": {
    "collapsed": false,
    "pycharm": {
     "name": "#%%\n"
    }
   }
  },
  {
   "cell_type": "code",
   "execution_count": null,
   "outputs": [],
   "source": [
    "import pandas as pd\n",
    "from sklearn.feature_extraction import text\n",
    "from sklearn.feature_extraction.text import TfidfVectorizer\n",
    "%matplotlib inline\n",
    "punc = ['.', ',', '\"', \"'\", '?', '!', ':', ';', '(', ')', '[', ']', '{', '}',\"%\"]\n",
    "stop_words = text.ENGLISH_STOP_WORDS.union(punc)\n",
    "desc = df_model.tokens_text.values\n",
    "vectorizer = TfidfVectorizer(stop_words = stop_words,max_features = 1000)\n",
    "X = vectorizer.fit_transform(desc)\n",
    "words = vectorizer.get_feature_names()"
   ],
   "metadata": {
    "collapsed": false,
    "pycharm": {
     "name": "#%%\n"
    }
   }
  },
  {
   "cell_type": "code",
   "execution_count": null,
   "outputs": [],
   "source": [
    "df_model = pd.DataFrame(X.toarray(),columns=words)"
   ],
   "metadata": {
    "collapsed": false,
    "pycharm": {
     "name": "#%%\n"
    }
   }
  },
  {
   "cell_type": "code",
   "execution_count": null,
   "outputs": [],
   "source": [
    "df_model"
   ],
   "metadata": {
    "collapsed": false,
    "pycharm": {
     "name": "#%%\n"
    }
   }
  },
  {
   "cell_type": "code",
   "execution_count": null,
   "outputs": [],
   "source": [
    "#PCA\n",
    "from matplotlib import pyplot as plt\n",
    "from sklearn.decomposition import PCA\n",
    "import seaborn as sns\n",
    "pca = PCA(n_components=3)\n",
    "pca_fit = pca.fit_transform(df_model)\n",
    "df_pca = pd.DataFrame(data=pca_fit, columns=['PC1','PC2','PC3'])\n",
    "#df_pca.head()\n",
    "#fig, ax = plt.subplots(2, 2, figsize=(15,8))\n",
    "#sns.scatterplot(data=df_pca, x='PC1', y='PC2',ax=ax[0][0])\n",
    "#sns.scatterplot(data=df_pca, x='PC1', y='PC3',ax=ax[0][1])\n",
    "#sns.scatterplot(data=df_pca, x='PC2', y='PC3',ax=ax[1][0])\n",
    "print(pca.explained_variance_ratio_)\n",
    "print(pca.explained_variance_ratio_.cumsum())\n",
    "#fig.delaxes(ax[1][1])"
   ],
   "metadata": {
    "collapsed": false,
    "pycharm": {
     "name": "#%%\n"
    }
   }
  },
  {
   "cell_type": "code",
   "execution_count": 21,
   "metadata": {
    "pycharm": {
     "name": "#%%\n"
    }
   },
   "outputs": [
    {
     "data": {
      "text/plain": "                 PC1       PC2       PC3\nvariable                                \naaa        -0.001037 -0.001531 -0.001054\nability    -0.000902 -0.001695 -0.001204\nable       -0.001166 -0.002828 -0.002272\nabsolutely -0.001492 -0.002614 -0.001098\naccess     -0.001769 -0.002903 -0.003738\n...              ...       ...       ...\nzhao       -0.001133 -0.001447 -0.000874\nzhi        -0.000646 -0.000821 -0.000493\nzhu        -0.000608 -0.000756 -0.000451\nzi          0.000729 -0.000359 -0.000350\nzil        -0.000591 -0.001312 -0.000970\n\n[1000 rows x 3 columns]",
      "text/html": "<div>\n<style scoped>\n    .dataframe tbody tr th:only-of-type {\n        vertical-align: middle;\n    }\n\n    .dataframe tbody tr th {\n        vertical-align: top;\n    }\n\n    .dataframe thead th {\n        text-align: right;\n    }\n</style>\n<table border=\"1\" class=\"dataframe\">\n  <thead>\n    <tr style=\"text-align: right;\">\n      <th></th>\n      <th>PC1</th>\n      <th>PC2</th>\n      <th>PC3</th>\n    </tr>\n    <tr>\n      <th>variable</th>\n      <th></th>\n      <th></th>\n      <th></th>\n    </tr>\n  </thead>\n  <tbody>\n    <tr>\n      <th>aaa</th>\n      <td>-0.001037</td>\n      <td>-0.001531</td>\n      <td>-0.001054</td>\n    </tr>\n    <tr>\n      <th>ability</th>\n      <td>-0.000902</td>\n      <td>-0.001695</td>\n      <td>-0.001204</td>\n    </tr>\n    <tr>\n      <th>able</th>\n      <td>-0.001166</td>\n      <td>-0.002828</td>\n      <td>-0.002272</td>\n    </tr>\n    <tr>\n      <th>absolutely</th>\n      <td>-0.001492</td>\n      <td>-0.002614</td>\n      <td>-0.001098</td>\n    </tr>\n    <tr>\n      <th>access</th>\n      <td>-0.001769</td>\n      <td>-0.002903</td>\n      <td>-0.003738</td>\n    </tr>\n    <tr>\n      <th>...</th>\n      <td>...</td>\n      <td>...</td>\n      <td>...</td>\n    </tr>\n    <tr>\n      <th>zhao</th>\n      <td>-0.001133</td>\n      <td>-0.001447</td>\n      <td>-0.000874</td>\n    </tr>\n    <tr>\n      <th>zhi</th>\n      <td>-0.000646</td>\n      <td>-0.000821</td>\n      <td>-0.000493</td>\n    </tr>\n    <tr>\n      <th>zhu</th>\n      <td>-0.000608</td>\n      <td>-0.000756</td>\n      <td>-0.000451</td>\n    </tr>\n    <tr>\n      <th>zi</th>\n      <td>0.000729</td>\n      <td>-0.000359</td>\n      <td>-0.000350</td>\n    </tr>\n    <tr>\n      <th>zil</th>\n      <td>-0.000591</td>\n      <td>-0.001312</td>\n      <td>-0.000970</td>\n    </tr>\n  </tbody>\n</table>\n<p>1000 rows × 3 columns</p>\n</div>"
     },
     "execution_count": 21,
     "metadata": {},
     "output_type": "execute_result"
    }
   ],
   "source": [
    "# Loadings matrix\n",
    "\n",
    "loadings = pca.components_\n",
    "num_pc = pca.n_features_\n",
    "pc_list = [\"PC\"+str(i) for i in list(range(1, num_pc+1))]\n",
    "loadings_df = pd.DataFrame.from_dict(dict(zip(pc_list, loadings)))\n",
    "loadings_df['variable'] = df_model.columns.values\n",
    "loadings_df = loadings_df.set_index('variable')\n",
    "loadings_df"
   ]
  },
  {
   "cell_type": "code",
   "execution_count": 22,
   "metadata": {
    "pycharm": {
     "name": "#%%\n"
    }
   },
   "outputs": [
    {
     "data": {
      "text/plain": "array([0.00580818, 0.01088558, 0.01593078])"
     },
     "execution_count": 22,
     "metadata": {},
     "output_type": "execute_result"
    }
   ],
   "source": [
    "# Varimax rotation\n",
    "from factor_analyzer import FactorAnalyzer\n",
    "fa = FactorAnalyzer(n_factors=3, method='principal', rotation=\"varimax\")\n",
    "fa_fit = fa.fit_transform(df_model)\n",
    "loadings = fa.loadings_\n",
    "fa.get_factor_variance()[2]"
   ]
  },
  {
   "cell_type": "code",
   "execution_count": 20,
   "metadata": {
    "pycharm": {
     "name": "#%%\n"
    }
   },
   "outputs": [
    {
     "data": {
      "text/plain": "            0         1         2\n0   -0.199071 -0.701390  0.665493\n1   -0.009222 -0.025661 -0.021952\n2   -0.004106 -0.002853 -0.019866\n3   -0.001275  0.000308 -0.017697\n4   -0.199071 -0.701390  0.665493\n..        ...       ...       ...\n966 -0.004328 -0.025481 -0.006142\n967  0.001719 -0.003605 -0.018564\n968  0.008166 -0.004922 -0.012599\n969  0.008107 -0.001614 -0.009369\n970  0.000911 -0.002073 -0.013379\n\n[971 rows x 3 columns]",
      "text/html": "<div>\n<style scoped>\n    .dataframe tbody tr th:only-of-type {\n        vertical-align: middle;\n    }\n\n    .dataframe tbody tr th {\n        vertical-align: top;\n    }\n\n    .dataframe thead th {\n        text-align: right;\n    }\n</style>\n<table border=\"1\" class=\"dataframe\">\n  <thead>\n    <tr style=\"text-align: right;\">\n      <th></th>\n      <th>0</th>\n      <th>1</th>\n      <th>2</th>\n    </tr>\n  </thead>\n  <tbody>\n    <tr>\n      <th>0</th>\n      <td>-0.199071</td>\n      <td>-0.701390</td>\n      <td>0.665493</td>\n    </tr>\n    <tr>\n      <th>1</th>\n      <td>-0.009222</td>\n      <td>-0.025661</td>\n      <td>-0.021952</td>\n    </tr>\n    <tr>\n      <th>2</th>\n      <td>-0.004106</td>\n      <td>-0.002853</td>\n      <td>-0.019866</td>\n    </tr>\n    <tr>\n      <th>3</th>\n      <td>-0.001275</td>\n      <td>0.000308</td>\n      <td>-0.017697</td>\n    </tr>\n    <tr>\n      <th>4</th>\n      <td>-0.199071</td>\n      <td>-0.701390</td>\n      <td>0.665493</td>\n    </tr>\n    <tr>\n      <th>...</th>\n      <td>...</td>\n      <td>...</td>\n      <td>...</td>\n    </tr>\n    <tr>\n      <th>966</th>\n      <td>-0.004328</td>\n      <td>-0.025481</td>\n      <td>-0.006142</td>\n    </tr>\n    <tr>\n      <th>967</th>\n      <td>0.001719</td>\n      <td>-0.003605</td>\n      <td>-0.018564</td>\n    </tr>\n    <tr>\n      <th>968</th>\n      <td>0.008166</td>\n      <td>-0.004922</td>\n      <td>-0.012599</td>\n    </tr>\n    <tr>\n      <th>969</th>\n      <td>0.008107</td>\n      <td>-0.001614</td>\n      <td>-0.009369</td>\n    </tr>\n    <tr>\n      <th>970</th>\n      <td>0.000911</td>\n      <td>-0.002073</td>\n      <td>-0.013379</td>\n    </tr>\n  </tbody>\n</table>\n<p>971 rows × 3 columns</p>\n</div>"
     },
     "execution_count": 20,
     "metadata": {},
     "output_type": "execute_result"
    }
   ],
   "source": [
    "# Varimax loadings matrix\n",
    "pd.DataFrame.from_records(loadings)"
   ]
  },
  {
   "cell_type": "code",
   "execution_count": 21,
   "metadata": {
    "pycharm": {
     "name": "#%%\n"
    }
   },
   "outputs": [
    {
     "data": {
      "text/plain": "<Figure size 1080x576 with 3 Axes>",
      "image/png": "[encoded data removed]"
     },
     "metadata": {
      "needs_background": "light"
     },
     "output_type": "display_data"
    }
   ],
   "source": [
    "# New Principal Components after varimax \n",
    "df_fa = pd.DataFrame(data=fa_fit, columns=['PCV1', 'PCV2','PCV3'])\n",
    "df_fa.head()\n",
    "fig, ax = plt.subplots(2, 2, figsize=(15,8))\n",
    "sns.scatterplot(data=df_fa, x='PCV1', y='PCV2',ax=ax[0][0])\n",
    "sns.scatterplot(data=df_fa, x='PCV1', y='PCV3',ax=ax[0][1])\n",
    "sns.scatterplot(data=df_fa, x='PCV2', y='PCV3',ax=ax[1][0])\n",
    "fig.delaxes(ax[1][1])"
   ]
  },
  {
   "cell_type": "code",
   "execution_count": null,
   "outputs": [],
   "source": [
    "from pyclustertend import hopkins\n",
    "1-hopkins(df_model, df_model.shape[0])"
   ],
   "metadata": {
    "collapsed": false,
    "pycharm": {
     "name": "#%%\n",
     "is_executing": true
    }
   }
  },
  {
   "cell_type": "code",
   "execution_count": 99,
   "outputs": [],
   "source": [
    "df_model.to_csv(\"../data/data_to_cluster06.csv\",header=words,index=False)"
   ],
   "metadata": {
    "collapsed": false,
    "pycharm": {
     "name": "#%%\n"
    }
   }
  },
  {
   "cell_type": "code",
   "execution_count": null,
   "outputs": [],
   "source": [],
   "metadata": {
    "collapsed": false,
    "pycharm": {
     "name": "#%%\n"
    }
   }
  }
 ],
 "metadata": {
  "kernelspec": {
   "display_name": "Python 3 (ipykernel)",
   "language": "python",
   "name": "python3"
  },
  "language_info": {
   "codemirror_mode": {
    "name": "ipython",
    "version": 3
   },
   "file_extension": ".py",
   "mimetype": "text/x-python",
   "name": "python",
   "nbconvert_exporter": "python",
   "pygments_lexer": "ipython3",
   "version": "3.9.7"
  }
 },
 "nbformat": 4,
 "nbformat_minor": 1
}